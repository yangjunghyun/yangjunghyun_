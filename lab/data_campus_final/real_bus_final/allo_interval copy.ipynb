{
 "cells": [
  {
   "cell_type": "code",
   "execution_count": 1,
   "metadata": {},
   "outputs": [],
   "source": [
    "import pandas as pd\n",
    "import matplotlib.pyplot as plt\n",
    "\n",
    "pd.set_option('display.max_columns', 60)\n",
    "pd.set_option('display.max_rows', 60)\n",
    "pd.set_option('mode.chained_assignment',  None)\n",
    "\n",
    "plt.rc('font',family='malgun gothic')\n",
    "\n",
    "# 스마트카드 데이터\n",
    "SMART_CARD = pd.read_csv('./data/SMART_CARD.csv', header = None)\n",
    "\n",
    "# 공공데이터포털\n",
    "getrouteinfoall = pd.read_csv('./data/getRouteInfoAll.csv', encoding = 'cp949', index_col = 0) # 전체 노선 기본정보 조회\n",
    "getstationbyrouteall = pd.read_csv('./data/getStationByRouteAll.csv', encoding = 'cp949', index_col = 0) # 전체노선별경유정류소 정보 조회\n",
    "\n",
    "# 정류장 데이터\n",
    "bus_sttn = pd.read_csv('./data/bus_sttn.csv')"
   ]
  },
  {
   "cell_type": "code",
   "execution_count": 2,
   "metadata": {},
   "outputs": [],
   "source": [
    "def smart_card_data_preprocessing(exdata):\n",
    "    exdata.columns = ['SERIAL_NO', 'CARD_NO', 'GETON_YMD', 'GETON_TM', 'BUS_ROUTE_ID', 'BUS_CO_ID', 'BUS_CAR_ID', 'GETON_BUS_STTN_ID', 'GETOFF_BUS_STTN_ID',\n",
    "                        'DRVR_ID', 'TRANSACTION_ID', 'TR_MEANS_TYPE', 'USR_TYPE', 'DRVN_START_YMD', 'DRVN_START_TM', 'GETOFF_YMD', 'GETOFF_TM', 'GETON_CALC_YMD',\n",
    "                        'GETOFF_CALC_YMD', 'GETON_PAY', 'GETOFF_PAY', 'TRANSF_CNT', 'USR_CNT']\n",
    "    exdata.drop(labels = ['SERIAL_NO', 'DRVR_ID','TRANSACTION_ID','USR_TYPE','DRVN_START_YMD','BUS_CO_ID','DRVN_START_TM','GETOFF_YMD','GETOFF_TM','GETON_CALC_YMD','GETOFF_CALC_YMD', 'GETON_PAY','GETOFF_PAY','TRANSF_CNT','GETOFF_BUS_STTN_ID'], axis = 1, inplace = True)\n",
    "\n",
    "\n",
    "    exdata['GETON_TM'] = exdata['GETON_TM'].apply(lambda x: str(x).zfill(6)) # GETON_TM 컬럼 날짜형식으로 변환하기 위해 자릿수 맞춰주기\n",
    "\n",
    "    # datetime 형식으로 변환 및 새로운 column 생성\n",
    "    exdata['GETON_DATETIME'] = pd.to_datetime(exdata['GETON_YMD'].astype(str) + exdata['GETON_TM'].astype(str), format = '%Y%m%d%H%M%S')\n",
    "\n",
    "    exdata['DAY'] = exdata['GETON_DATETIME'].dt.day\n",
    "    exdata['WEEKDAY'] = exdata['GETON_DATETIME'].dt.weekday  \n",
    "\n",
    "    # 급행/지선/간선만 필터링\n",
    "    exdata = exdata[exdata['TR_MEANS_TYPE'].isin([675,676])]\n",
    "\n",
    "    # 도시 노선만 사용하기 위해\n",
    "    values_to_remove = [30300147, 30300148, 30300141, 30300137, 30300149, 30300103]\n",
    "    exdata = exdata[~exdata['BUS_ROUTE_ID'].isin(values_to_remove)]\n",
    "\n",
    "    # 평일만 추출\n",
    "    weekday_values = [0, 1, 2, 3, 4]\n",
    "    exdata = exdata[exdata['WEEKDAY'].isin(weekday_values)]\n",
    "\n",
    "    # 6/6일 제거 / 6/19일 제거[결측치]\n",
    "    exdata = exdata[exdata['DAY'] != 6]\n",
    "    exdata = exdata[exdata['DAY'] != 19]\n",
    "\n",
    "    # # 비가 온 날 제거\n",
    "    # exdata = exdata[~exdata['DAY'].isin([26,29])]\n",
    "\n",
    "    # 사용한 행 제거\n",
    "    exdata.drop(labels = ['GETON_YMD','GETON_TM','TR_MEANS_TYPE','USR_CNT','WEEKDAY'], axis = 1, inplace = True)\n",
    "    \n",
    "    return exdata"
   ]
  },
  {
   "cell_type": "code",
   "execution_count": 3,
   "metadata": {},
   "outputs": [
    {
     "data": {
      "text/html": [
       "<div>\n",
       "<style scoped>\n",
       "    .dataframe tbody tr th:only-of-type {\n",
       "        vertical-align: middle;\n",
       "    }\n",
       "\n",
       "    .dataframe tbody tr th {\n",
       "        vertical-align: top;\n",
       "    }\n",
       "\n",
       "    .dataframe thead th {\n",
       "        text-align: right;\n",
       "    }\n",
       "</style>\n",
       "<table border=\"1\" class=\"dataframe\">\n",
       "  <thead>\n",
       "    <tr style=\"text-align: right;\">\n",
       "      <th></th>\n",
       "      <th>CARD_NO</th>\n",
       "      <th>BUS_ROUTE_ID</th>\n",
       "      <th>BUS_CAR_ID</th>\n",
       "      <th>GETON_BUS_STTN_ID</th>\n",
       "      <th>GETON_DATETIME</th>\n",
       "      <th>DAY</th>\n",
       "    </tr>\n",
       "  </thead>\n",
       "  <tbody>\n",
       "    <tr>\n",
       "      <th>3</th>\n",
       "      <td>804099084</td>\n",
       "      <td>30300053</td>\n",
       "      <td>130752377</td>\n",
       "      <td>8005978</td>\n",
       "      <td>2023-06-01 05:20:33</td>\n",
       "      <td>1</td>\n",
       "    </tr>\n",
       "    <tr>\n",
       "      <th>35</th>\n",
       "      <td>929954937</td>\n",
       "      <td>30300043</td>\n",
       "      <td>130759616</td>\n",
       "      <td>8001243</td>\n",
       "      <td>2023-06-01 05:30:22</td>\n",
       "      <td>1</td>\n",
       "    </tr>\n",
       "  </tbody>\n",
       "</table>\n",
       "</div>"
      ],
      "text/plain": [
       "      CARD_NO  BUS_ROUTE_ID  BUS_CAR_ID  GETON_BUS_STTN_ID  \\\n",
       "3   804099084      30300053   130752377            8005978   \n",
       "35  929954937      30300043   130759616            8001243   \n",
       "\n",
       "        GETON_DATETIME  DAY  \n",
       "3  2023-06-01 05:20:33    1  \n",
       "35 2023-06-01 05:30:22    1  "
      ]
     },
     "execution_count": 3,
     "metadata": {},
     "output_type": "execute_result"
    }
   ],
   "source": [
    "SMART_CARD_DATA = smart_card_data_preprocessing(SMART_CARD)\n",
    "SMART_CARD_DATA.head(2)"
   ]
  },
  {
   "cell_type": "markdown",
   "metadata": {},
   "source": [
    "### 시각화"
   ]
  },
  {
   "cell_type": "code",
   "execution_count": 4,
   "metadata": {},
   "outputs": [
    {
     "data": {
      "text/html": [
       "<div>\n",
       "<style scoped>\n",
       "    .dataframe tbody tr th:only-of-type {\n",
       "        vertical-align: middle;\n",
       "    }\n",
       "\n",
       "    .dataframe tbody tr th {\n",
       "        vertical-align: top;\n",
       "    }\n",
       "\n",
       "    .dataframe thead th {\n",
       "        text-align: right;\n",
       "    }\n",
       "</style>\n",
       "<table border=\"1\" class=\"dataframe\">\n",
       "  <thead>\n",
       "    <tr style=\"text-align: right;\">\n",
       "      <th></th>\n",
       "      <th>CARD_NO</th>\n",
       "      <th>BUS_ROUTE_ID</th>\n",
       "      <th>BUS_CAR_ID</th>\n",
       "      <th>GETON_BUS_STTN_ID</th>\n",
       "      <th>GETON_DATETIME</th>\n",
       "      <th>DAY</th>\n",
       "      <th>GETON_HOUR</th>\n",
       "    </tr>\n",
       "  </thead>\n",
       "  <tbody>\n",
       "    <tr>\n",
       "      <th>16361</th>\n",
       "      <td>803929993</td>\n",
       "      <td>30300070</td>\n",
       "      <td>130752605</td>\n",
       "      <td>8002825</td>\n",
       "      <td>2023-06-01 07:00:00</td>\n",
       "      <td>1</td>\n",
       "      <td>7</td>\n",
       "    </tr>\n",
       "    <tr>\n",
       "      <th>16362</th>\n",
       "      <td>803166584</td>\n",
       "      <td>30300037</td>\n",
       "      <td>130759023</td>\n",
       "      <td>8005517</td>\n",
       "      <td>2023-06-01 07:00:00</td>\n",
       "      <td>1</td>\n",
       "      <td>7</td>\n",
       "    </tr>\n",
       "    <tr>\n",
       "      <th>16363</th>\n",
       "      <td>911563091</td>\n",
       "      <td>30300071</td>\n",
       "      <td>130759180</td>\n",
       "      <td>8002572</td>\n",
       "      <td>2023-06-01 07:00:00</td>\n",
       "      <td>1</td>\n",
       "      <td>7</td>\n",
       "    </tr>\n",
       "    <tr>\n",
       "      <th>16364</th>\n",
       "      <td>934924962</td>\n",
       "      <td>30300069</td>\n",
       "      <td>130759715</td>\n",
       "      <td>8003044</td>\n",
       "      <td>2023-06-01 07:00:00</td>\n",
       "      <td>1</td>\n",
       "      <td>7</td>\n",
       "    </tr>\n",
       "    <tr>\n",
       "      <th>16365</th>\n",
       "      <td>549151960</td>\n",
       "      <td>30300096</td>\n",
       "      <td>130752063</td>\n",
       "      <td>8002553</td>\n",
       "      <td>2023-06-01 07:00:00</td>\n",
       "      <td>1</td>\n",
       "      <td>7</td>\n",
       "    </tr>\n",
       "    <tr>\n",
       "      <th>...</th>\n",
       "      <td>...</td>\n",
       "      <td>...</td>\n",
       "      <td>...</td>\n",
       "      <td>...</td>\n",
       "      <td>...</td>\n",
       "      <td>...</td>\n",
       "      <td>...</td>\n",
       "    </tr>\n",
       "    <tr>\n",
       "      <th>10698195</th>\n",
       "      <td>745323770</td>\n",
       "      <td>30300077</td>\n",
       "      <td>130752010</td>\n",
       "      <td>8002434</td>\n",
       "      <td>2023-06-30 18:59:59</td>\n",
       "      <td>30</td>\n",
       "      <td>18</td>\n",
       "    </tr>\n",
       "    <tr>\n",
       "      <th>10698196</th>\n",
       "      <td>541380065</td>\n",
       "      <td>30300087</td>\n",
       "      <td>130759614</td>\n",
       "      <td>8002088</td>\n",
       "      <td>2023-06-30 18:59:59</td>\n",
       "      <td>30</td>\n",
       "      <td>18</td>\n",
       "    </tr>\n",
       "    <tr>\n",
       "      <th>10698198</th>\n",
       "      <td>918362716</td>\n",
       "      <td>30300054</td>\n",
       "      <td>130759382</td>\n",
       "      <td>8002452</td>\n",
       "      <td>2023-06-30 18:59:59</td>\n",
       "      <td>30</td>\n",
       "      <td>18</td>\n",
       "    </tr>\n",
       "    <tr>\n",
       "      <th>10698199</th>\n",
       "      <td>781295883</td>\n",
       "      <td>30300036</td>\n",
       "      <td>130759520</td>\n",
       "      <td>8002407</td>\n",
       "      <td>2023-06-30 18:59:59</td>\n",
       "      <td>30</td>\n",
       "      <td>18</td>\n",
       "    </tr>\n",
       "    <tr>\n",
       "      <th>10698200</th>\n",
       "      <td>903068313</td>\n",
       "      <td>30300040</td>\n",
       "      <td>130759818</td>\n",
       "      <td>8002759</td>\n",
       "      <td>2023-06-30 18:59:59</td>\n",
       "      <td>30</td>\n",
       "      <td>18</td>\n",
       "    </tr>\n",
       "  </tbody>\n",
       "</table>\n",
       "<p>2884248 rows × 7 columns</p>\n",
       "</div>"
      ],
      "text/plain": [
       "            CARD_NO  BUS_ROUTE_ID  BUS_CAR_ID  GETON_BUS_STTN_ID  \\\n",
       "16361     803929993      30300070   130752605            8002825   \n",
       "16362     803166584      30300037   130759023            8005517   \n",
       "16363     911563091      30300071   130759180            8002572   \n",
       "16364     934924962      30300069   130759715            8003044   \n",
       "16365     549151960      30300096   130752063            8002553   \n",
       "...             ...           ...         ...                ...   \n",
       "10698195  745323770      30300077   130752010            8002434   \n",
       "10698196  541380065      30300087   130759614            8002088   \n",
       "10698198  918362716      30300054   130759382            8002452   \n",
       "10698199  781295883      30300036   130759520            8002407   \n",
       "10698200  903068313      30300040   130759818            8002759   \n",
       "\n",
       "              GETON_DATETIME  DAY  GETON_HOUR  \n",
       "16361    2023-06-01 07:00:00    1           7  \n",
       "16362    2023-06-01 07:00:00    1           7  \n",
       "16363    2023-06-01 07:00:00    1           7  \n",
       "16364    2023-06-01 07:00:00    1           7  \n",
       "16365    2023-06-01 07:00:00    1           7  \n",
       "...                      ...  ...         ...  \n",
       "10698195 2023-06-30 18:59:59   30          18  \n",
       "10698196 2023-06-30 18:59:59   30          18  \n",
       "10698198 2023-06-30 18:59:59   30          18  \n",
       "10698199 2023-06-30 18:59:59   30          18  \n",
       "10698200 2023-06-30 18:59:59   30          18  \n",
       "\n",
       "[2884248 rows x 7 columns]"
      ]
     },
     "execution_count": 4,
     "metadata": {},
     "output_type": "execute_result"
    }
   ],
   "source": [
    "SMART_CARD_DATA['GETON_HOUR'] = SMART_CARD_DATA['GETON_DATETIME'].dt.hour\n",
    "\n",
    "# 출/퇴근 시간대만 필터링\n",
    "SMART_CARD_DATA_ = SMART_CARD_DATA[SMART_CARD_DATA['GETON_HOUR'].isin([7,8,16,17,18])]\n",
    "SMART_CARD_DATA_"
   ]
  },
  {
   "cell_type": "code",
   "execution_count": 5,
   "metadata": {},
   "outputs": [],
   "source": [
    "getrouteinfoall_merge_df = getrouteinfoall[['ALLO_INTERVAL','ROUTE_CD','ROUTE_NO']]"
   ]
  },
  {
   "cell_type": "code",
   "execution_count": 47,
   "metadata": {},
   "outputs": [],
   "source": [
    "allo_interval_merge = SMART_CARD_DATA_.merge(getrouteinfoall_merge_df, left_on = 'BUS_ROUTE_ID', right_on = 'ROUTE_CD')\n",
    "allo_interval_merge = allo_interval_merge[['ROUTE_NO','CARD_NO','ALLO_INTERVAL']]\n",
    "bus_usage = allo_interval_merge.groupby(\"ROUTE_NO\").size().reset_index(name=\"USAGE_COUNT\")\n",
    "bus_usage_merge = bus_usage.merge(getrouteinfoall_merge_df, left_on = 'ROUTE_NO', right_on = 'ROUTE_NO')\n",
    "bus_usage_merge = bus_usage_merge[['ROUTE_NO','USAGE_COUNT','ALLO_INTERVAL']]\n",
    "bus_usage_merge['ALLO_INTERVAL'] = bus_usage_merge['ALLO_INTERVAL'].astype(int)\n",
    "bus_usage_merge['USAGE_COUNT'] = (bus_usage_merge['USAGE_COUNT']/18).astype(int)\n",
    "bus_usage_merge_work = bus_usage_merge[bus_usage_merge['ROUTE_NO']!='2']"
   ]
  },
  {
   "cell_type": "code",
   "execution_count": 48,
   "metadata": {},
   "outputs": [],
   "source": [
    "allo_interval_merge = SMART_CARD_DATA.merge(getrouteinfoall_merge_df, left_on = 'BUS_ROUTE_ID', right_on = 'ROUTE_CD')\n",
    "allo_interval_merge = allo_interval_merge[['ROUTE_NO','CARD_NO','ALLO_INTERVAL']]\n",
    "bus_usage = allo_interval_merge.groupby(\"ROUTE_NO\").size().reset_index(name=\"USAGE_COUNT\")\n",
    "bus_usage_merge = bus_usage.merge(getrouteinfoall_merge_df, left_on = 'ROUTE_NO', right_on = 'ROUTE_NO')\n",
    "bus_usage_merge = bus_usage_merge[['ROUTE_NO','USAGE_COUNT','ALLO_INTERVAL']]\n",
    "bus_usage_merge['ALLO_INTERVAL'] = bus_usage_merge['ALLO_INTERVAL'].astype(int)\n",
    "bus_usage_merge['USAGE_COUNT'] = (bus_usage_merge['USAGE_COUNT']/18).astype(int)\n",
    "bus_usage_merge_all = bus_usage_merge[bus_usage_merge['ROUTE_NO']!='2']"
   ]
  },
  {
   "cell_type": "markdown",
   "metadata": {},
   "source": [
    "산점도 시각화"
   ]
  },
  {
   "cell_type": "code",
   "execution_count": 169,
   "metadata": {},
   "outputs": [],
   "source": [
    "# import plotly.express as px\n",
    "\n",
    "# # Plotly로 산점도 그래프 그리기\n",
    "# fig = px.scatter(\n",
    "#     bus_usage_merge,\n",
    "#     x=\"USAGE_COUNT\",\n",
    "#     y=\"ALLO_INTERVAL\",\n",
    "#     color=\"ROUTE_NO\",\n",
    "#     color_continuous_scale=\"viridis\",\n",
    "#     labels={\"USAGE_COUNT\": \"버스 이용량\", \"ALLO_INTERVAL\": \"배차간격 (분)\"},\n",
    "#     title=\"버스 노선별 이용량에 따른 배차간격\",\n",
    "#     trendline=\"ols\"  # 선형 회귀선 추가\n",
    "# )\n",
    "\n",
    "# fig.update_coloraxes(colorbar_title=\"버스 노선번호\")\n",
    "\n",
    "# # Customize x-axis tick labels to display numbers without abbreviation\n",
    "# fig.update_xaxes(tickformat=\"d\")\n",
    "\n",
    "# # Customize y-axis tick labels to display numbers without abbreviation\n",
    "# fig.update_yaxes(tickformat=\"d\")\n",
    "\n",
    "# fig.show()\n"
   ]
  },
  {
   "cell_type": "markdown",
   "metadata": {},
   "source": [
    "회귀선 시각화"
   ]
  },
  {
   "cell_type": "code",
   "execution_count": 170,
   "metadata": {},
   "outputs": [],
   "source": [
    "# import seaborn as sns\n",
    "# # seaborn을 사용하여 산점도 그래프와 선형 회귀선 그리기\n",
    "# plt.figure(figsize=(50, 30))\n",
    "# sns.scatterplot(data=bus_usage_merge, x=\"USAGE_COUNT\", y=\"ALLO_INTERVAL\", hue=\"ROUTE_NO\", palette=\"viridis\")\n",
    "# sns.regplot(data=bus_usage_merge, x=\"USAGE_COUNT\", y=\"ALLO_INTERVAL\", scatter=False, color='black', line_kws={\"color\": \"red\"})\n",
    "# plt.xlabel(\"이용량\")\n",
    "# plt.ylabel(\"배차간격 (분)\")\n",
    "# plt.title(\"이용량에 따른 배차간격\")\n",
    "\n",
    "# # 데이터 포인트에 레이블 달기\n",
    "# for route, usage, interval in zip(bus_usage_merge[\"ROUTE_NO\"], bus_usage_merge[\"USAGE_COUNT\"], bus_usage_merge[\"ALLO_INTERVAL\"]):\n",
    "#     plt.annotate(route,\n",
    "#                  xy=(usage, interval),\n",
    "#                  xytext=(-5, 0),\n",
    "#                  textcoords='offset points',\n",
    "#                  fontsize=10)  # 레이블 텍스트 크기 조정\n",
    "\n",
    "# # 범례 제거\n",
    "# plt.legend().remove()\n",
    "\n",
    "# plt.show()"
   ]
  },
  {
   "cell_type": "code",
   "execution_count": 49,
   "metadata": {},
   "outputs": [
    {
     "data": {
      "image/png": "[encoded data removed]",
      "text/plain": [
       "<Figure size 1200x800 with 1 Axes>"
      ]
     },
     "metadata": {},
     "output_type": "display_data"
    }
   ],
   "source": [
    "import numpy as np\n",
    "import pandas as pd\n",
    "import seaborn as sns\n",
    "import matplotlib.pyplot as plt\n",
    "\n",
    "# 그래프 크기 설정\n",
    "plt.figure(figsize=(12, 8))\n",
    "\n",
    "# 산점도 그래프 그리기\n",
    "sns.scatterplot(data=bus_usage_merge_all, x=\"USAGE_COUNT\", y=\"ALLO_INTERVAL\", hue=\"ROUTE_NO\", palette=\"viridis\")\n",
    "\n",
    "# 2차 곡선 회귀선 그리기\n",
    "sns.regplot(data=bus_usage_merge_all, x=\"USAGE_COUNT\", y=\"ALLO_INTERVAL\", scatter=False, order=2, color='black', line_kws={\"color\": \"red\"})\n",
    "\n",
    "# 데이터 포인트에 레이블 달기\n",
    "for route, usage, interval in zip(bus_usage_merge_all[\"ROUTE_NO\"], bus_usage_merge_all[\"USAGE_COUNT\"], bus_usage_merge_all[\"ALLO_INTERVAL\"]):\n",
    "    plt.annotate(route,\n",
    "                 xy=(usage, interval),\n",
    "                 xytext=(-5, 0),\n",
    "                 textcoords='offset points',\n",
    "                 fontsize=10)\n",
    "\n",
    "# X, Y 축 레이블 및 타이틀 설정\n",
    "plt.xlabel(\"이용량\", fontsize = 12)\n",
    "plt.ylabel(\"배차간격 (분)\", fontsize = 12)\n",
    "plt.title(\"이용량에 따른 배차간격\", fontsize = 12)\n",
    "\n",
    "# 범례 제거\n",
    "plt.legend().remove()\n",
    "\n",
    "plt.show()\n",
    "# output_line1\n"
   ]
  },
  {
   "cell_type": "code",
   "execution_count": 50,
   "metadata": {},
   "outputs": [
    {
     "data": {
      "image/png": "[encoded data removed]",
      "text/plain": [
       "<Figure size 1200x800 with 1 Axes>"
      ]
     },
     "metadata": {},
     "output_type": "display_data"
    }
   ],
   "source": [
    "# 그래프 크기 설정\n",
    "plt.figure(figsize=(12, 8))\n",
    "\n",
    "# 산점도 그래프 그리기\n",
    "sns.scatterplot(data=bus_usage_merge_work, x=\"USAGE_COUNT\", y=\"ALLO_INTERVAL\", hue=\"ROUTE_NO\", palette=\"viridis\")\n",
    "\n",
    "# 2차 곡선 회귀선 그리기\n",
    "sns.regplot(data=bus_usage_merge_work, x=\"USAGE_COUNT\", y=\"ALLO_INTERVAL\", scatter=False, order=2, color='black', line_kws={\"color\": \"red\"})\n",
    "\n",
    "# 데이터 포인트에 레이블 달기\n",
    "for route, usage, interval in zip(bus_usage_merge_work[\"ROUTE_NO\"], bus_usage_merge_work[\"USAGE_COUNT\"], bus_usage_merge_work[\"ALLO_INTERVAL\"]):\n",
    "    plt.annotate(route,\n",
    "                 xy=(usage, interval),\n",
    "                 xytext=(-5, 0),\n",
    "                 textcoords='offset points',\n",
    "                 fontsize=10)\n",
    "\n",
    "# X, Y 축 레이블 및 타이틀 설정\n",
    "plt.xlabel(\"이용량\", fontsize = 12)\n",
    "plt.ylabel(\"배차간격 (분)\", fontsize = 12)\n",
    "plt.title(\"이용량에 따른 배차간격\", fontsize = 12)\n",
    "\n",
    "# 범례 제거\n",
    "plt.legend().remove()\n",
    "\n",
    "plt.show()\n",
    "# output_line2"
   ]
  },
  {
   "cell_type": "code",
   "execution_count": 51,
   "metadata": {},
   "outputs": [
    {
     "data": {
      "image/png": "[encoded data removed]",
      "text/plain": [
       "<Figure size 1200x800 with 1 Axes>"
      ]
     },
     "metadata": {},
     "output_type": "display_data"
    }
   ],
   "source": [
    "import numpy as np\n",
    "import pandas as pd\n",
    "import seaborn as sns\n",
    "import matplotlib.pyplot as plt\n",
    "\n",
    "# 그래프 크기 설정\n",
    "plt.figure(figsize=(12, 8))\n",
    "\n",
    "# 산점도 그래프 그리기\n",
    "sns.scatterplot(data=bus_usage_merge_work, x=\"USAGE_COUNT\", y=\"ALLO_INTERVAL\", hue=\"ROUTE_NO\", palette=\"viridis\")\n",
    "\n",
    "# 2차 곡선 회귀선 그리기\n",
    "sns.regplot(data=bus_usage_merge_work, x=\"USAGE_COUNT\", y=\"ALLO_INTERVAL\", scatter=False, order=2, color='black', line_kws={\"color\": \"red\"})\n",
    "\n",
    "# 데이터 포인트에 레이블 달기\n",
    "for route, usage, interval in zip(bus_usage_merge_work[\"ROUTE_NO\"], bus_usage_merge_work[\"USAGE_COUNT\"], bus_usage_merge_work[\"ALLO_INTERVAL\"]):\n",
    "    plt.annotate(route,\n",
    "                 xy=(usage, interval),\n",
    "                 xytext=(-5, 0),\n",
    "                 textcoords='offset points',\n",
    "                 fontsize=10)\n",
    "\n",
    "# X, Y 축 레이블 및 타이틀 설정\n",
    "plt.xlabel(\"이용량\",fontsize = 12)\n",
    "plt.ylabel(\"배차간격 (분)\",fontsize = 12)\n",
    "plt.title(\"이용량에 따른 배차간격\",fontsize = 12)\n",
    "\n",
    "# 회귀선 계수 계산\n",
    "a, b, c = np.polyfit(bus_usage_merge_work[\"USAGE_COUNT\"], bus_usage_merge_work[\"ALLO_INTERVAL\"], 2)  # 2차 곡선이므로 2로 수정\n",
    "\n",
    "# 회귀선과의 거리 계산 및 데이터프레임에 추가\n",
    "distances = []\n",
    "for x, y in zip(bus_usage_merge_work[\"USAGE_COUNT\"], bus_usage_merge_work[\"ALLO_INTERVAL\"]):\n",
    "    y_pred = a * x**2 + b * x + c  # 2차 곡선 방정식\n",
    "    distance = y - y_pred\n",
    "    distances.append(distance)\n",
    "\n",
    "# 거리를 데이터프레임에 추가\n",
    "bus_usage_merge_work[\"Distance_WORK\"] = distances\n",
    "\n",
    "# 범례 제거\n",
    "plt.legend().remove()\n",
    "\n",
    "# 거리가 추가된 데이터프레임 출력\n",
    "plt.show()\n",
    "# output_line_work"
   ]
  },
  {
   "cell_type": "code",
   "execution_count": 52,
   "metadata": {},
   "outputs": [
    {
     "data": {
      "image/png": "[encoded data removed]",
      "text/plain": [
       "<Figure size 1200x800 with 1 Axes>"
      ]
     },
     "metadata": {},
     "output_type": "display_data"
    }
   ],
   "source": [
    "import numpy as np\n",
    "import pandas as pd\n",
    "import seaborn as sns\n",
    "import matplotlib.pyplot as plt\n",
    "\n",
    "# 그래프 크기 설정\n",
    "plt.figure(figsize=(12, 8))\n",
    "\n",
    "# 산점도 그래프 그리기\n",
    "sns.scatterplot(data=bus_usage_merge_all, x=\"USAGE_COUNT\", y=\"ALLO_INTERVAL\", hue=\"ROUTE_NO\", palette=\"viridis\")\n",
    "\n",
    "# 2차 곡선 회귀선 그리기\n",
    "sns.regplot(data=bus_usage_merge_all, x=\"USAGE_COUNT\", y=\"ALLO_INTERVAL\", scatter=False, order=2, color='black', line_kws={\"color\": \"red\"})\n",
    "\n",
    "# 데이터 포인트에 레이블 달기\n",
    "for route, usage, interval in zip(bus_usage_merge_all[\"ROUTE_NO\"], bus_usage_merge_all[\"USAGE_COUNT\"], bus_usage_merge_all[\"ALLO_INTERVAL\"]):\n",
    "    plt.annotate(route,\n",
    "                 xy=(usage, interval),\n",
    "                 xytext=(-5, 0),\n",
    "                 textcoords='offset points',\n",
    "                 fontsize=10)\n",
    "\n",
    "# X, Y 축 레이블 및 타이틀 설정\n",
    "plt.xlabel(\"이용량\", fontsize = 12)\n",
    "plt.ylabel(\"배차간격 (분)\", fontsize = 12)\n",
    "plt.title(\"이용량에 따른 배차간격\", fontsize = 12)\n",
    "\n",
    "# 회귀선의 방정식 계산\n",
    "a, b, c = np.polyfit(bus_usage_merge_all[\"USAGE_COUNT\"], bus_usage_merge_all[\"ALLO_INTERVAL\"], 2)  # 2차 곡선이므로 2로 수정\n",
    "\n",
    "# 회귀선과의 거리 계산 및 데이터프레임에 추가\n",
    "distances = []\n",
    "for x, y in zip(bus_usage_merge_all[\"USAGE_COUNT\"], bus_usage_merge_all[\"ALLO_INTERVAL\"]):\n",
    "    y_pred = a * x**2 + b * x + c  # 2차 곡선 방정식\n",
    "    distance = y - y_pred\n",
    "    distances.append(distance)\n",
    "\n",
    "# 거리를 데이터프레임에 추가\n",
    "bus_usage_merge_all[\"Distance\"] = distances\n",
    "\n",
    "# 범례 제거\n",
    "plt.legend().remove()\n",
    "\n",
    "plt.show()\n",
    "\n",
    "# 거리가 추가된 데이터프레임 출력\n",
    "# print(bus_usage_merge_all.head())\n"
   ]
  },
  {
   "cell_type": "code",
   "execution_count": 53,
   "metadata": {},
   "outputs": [
    {
     "data": {
      "text/html": [
       "<div>\n",
       "<style scoped>\n",
       "    .dataframe tbody tr th:only-of-type {\n",
       "        vertical-align: middle;\n",
       "    }\n",
       "\n",
       "    .dataframe tbody tr th {\n",
       "        vertical-align: top;\n",
       "    }\n",
       "\n",
       "    .dataframe thead th {\n",
       "        text-align: right;\n",
       "    }\n",
       "</style>\n",
       "<table border=\"1\" class=\"dataframe\">\n",
       "  <thead>\n",
       "    <tr style=\"text-align: right;\">\n",
       "      <th></th>\n",
       "      <th>ROUTE_NO</th>\n",
       "      <th>USAGE_COUNT</th>\n",
       "      <th>ALLO_INTERVAL</th>\n",
       "      <th>Distance_WORK</th>\n",
       "    </tr>\n",
       "  </thead>\n",
       "  <tbody>\n",
       "    <tr>\n",
       "      <th>0</th>\n",
       "      <td>101</td>\n",
       "      <td>1647</td>\n",
       "      <td>20</td>\n",
       "      <td>-0.547685</td>\n",
       "    </tr>\n",
       "    <tr>\n",
       "      <th>1</th>\n",
       "      <td>102</td>\n",
       "      <td>8342</td>\n",
       "      <td>7</td>\n",
       "      <td>-1.550974</td>\n",
       "    </tr>\n",
       "    <tr>\n",
       "      <th>2</th>\n",
       "      <td>103</td>\n",
       "      <td>4040</td>\n",
       "      <td>13</td>\n",
       "      <td>1.158978</td>\n",
       "    </tr>\n",
       "    <tr>\n",
       "      <th>3</th>\n",
       "      <td>104</td>\n",
       "      <td>1213</td>\n",
       "      <td>20</td>\n",
       "      <td>-2.653361</td>\n",
       "    </tr>\n",
       "    <tr>\n",
       "      <th>4</th>\n",
       "      <td>105</td>\n",
       "      <td>5177</td>\n",
       "      <td>9</td>\n",
       "      <td>-0.426890</td>\n",
       "    </tr>\n",
       "    <tr>\n",
       "      <th>...</th>\n",
       "      <td>...</td>\n",
       "      <td>...</td>\n",
       "      <td>...</td>\n",
       "      <td>...</td>\n",
       "    </tr>\n",
       "    <tr>\n",
       "      <th>60</th>\n",
       "      <td>802</td>\n",
       "      <td>2578</td>\n",
       "      <td>18</td>\n",
       "      <td>1.423873</td>\n",
       "    </tr>\n",
       "    <tr>\n",
       "      <th>61</th>\n",
       "      <td>911</td>\n",
       "      <td>772</td>\n",
       "      <td>25</td>\n",
       "      <td>0.041375</td>\n",
       "    </tr>\n",
       "    <tr>\n",
       "      <th>62</th>\n",
       "      <td>912</td>\n",
       "      <td>918</td>\n",
       "      <td>19</td>\n",
       "      <td>-5.176944</td>\n",
       "    </tr>\n",
       "    <tr>\n",
       "      <th>63</th>\n",
       "      <td>916</td>\n",
       "      <td>1283</td>\n",
       "      <td>22</td>\n",
       "      <td>-0.302800</td>\n",
       "    </tr>\n",
       "    <tr>\n",
       "      <th>64</th>\n",
       "      <td>918</td>\n",
       "      <td>1200</td>\n",
       "      <td>22</td>\n",
       "      <td>-0.718929</td>\n",
       "    </tr>\n",
       "  </tbody>\n",
       "</table>\n",
       "<p>63 rows × 4 columns</p>\n",
       "</div>"
      ],
      "text/plain": [
       "   ROUTE_NO  USAGE_COUNT  ALLO_INTERVAL  Distance_WORK\n",
       "0       101         1647             20      -0.547685\n",
       "1       102         8342              7      -1.550974\n",
       "2       103         4040             13       1.158978\n",
       "3       104         1213             20      -2.653361\n",
       "4       105         5177              9      -0.426890\n",
       "..      ...          ...            ...            ...\n",
       "60      802         2578             18       1.423873\n",
       "61      911          772             25       0.041375\n",
       "62      912          918             19      -5.176944\n",
       "63      916         1283             22      -0.302800\n",
       "64      918         1200             22      -0.718929\n",
       "\n",
       "[63 rows x 4 columns]"
      ]
     },
     "execution_count": 53,
     "metadata": {},
     "output_type": "execute_result"
    }
   ],
   "source": [
    "bus_usage_merge_work"
   ]
  },
  {
   "cell_type": "code",
   "execution_count": 59,
   "metadata": {},
   "outputs": [
    {
     "data": {
      "application/vnd.plotly.v1+json": {
       "config": {
        "plotlyServerURL": "https://plot.ly"
       },
       "data": [
        {
         "hovertemplate": "노선번호=101<br>이용량=%{x}<br>배차간격 (분)=%{y}<extra></extra>",
         "legendgroup": "101",
         "marker": {
          "color": "#636efa",
          "symbol": "circle"
         },
         "mode": "markers",
         "name": "101",
         "orientation": "v",
         "showlegend": true,
         "type": "scatter",
         "x": [
          4162
         ],
         "xaxis": "x",
         "y": [
          20
         ],
         "yaxis": "y"
        },
        {
         "hovertemplate": "노선번호=102<br>이용량=%{x}<br>배차간격 (분)=%{y}<extra></extra>",
         "legendgroup": "102",
         "marker": {
          "color": "#EF553B",
          "symbol": "circle"
         },
         "mode": "markers",
         "name": "102",
         "orientation": "v",
         "showlegend": true,
         "type": "scatter",
         "x": [
          20344
         ],
         "xaxis": "x",
         "y": [
          7
         ],
         "yaxis": "y"
        },
        {
         "hovertemplate": "노선번호=103<br>이용량=%{x}<br>배차간격 (분)=%{y}<extra></extra>",
         "legendgroup": "103",
         "marker": {
          "color": "#00cc96",
          "symbol": "circle"
         },
         "mode": "markers",
         "name": "103",
         "orientation": "v",
         "showlegend": true,
         "type": "scatter",
         "x": [
          9835
         ],
         "xaxis": "x",
         "y": [
          13
         ],
         "yaxis": "y"
        },
        {
         "hovertemplate": "노선번호=104<br>이용량=%{x}<br>배차간격 (분)=%{y}<extra></extra>",
         "legendgroup": "104",
         "marker": {
          "color": "#ab63fa",
          "symbol": "circle"
         },
         "mode": "markers",
         "name": "104",
         "orientation": "v",
         "showlegend": true,
         "type": "scatter",
         "x": [
          3000
         ],
         "xaxis": "x",
         "y": [
          20
         ],
         "yaxis": "y"
        },
        {
         "hovertemplate": "노선번호=105<br>이용량=%{x}<br>배차간격 (분)=%{y}<extra></extra>",
         "legendgroup": "105",
         "marker": {
          "color": "#FFA15A",
          "symbol": "circle"
         },
         "mode": "markers",
         "name": "105",
         "orientation": "v",
         "showlegend": true,
         "type": "scatter",
         "x": [
          13089
         ],
         "xaxis": "x",
         "y": [
          9
         ],
         "yaxis": "y"
        },
        {
         "hovertemplate": "노선번호=106<br>이용량=%{x}<br>배차간격 (분)=%{y}<extra></extra>",
         "legendgroup": "106",
         "marker": {
          "color": "#19d3f3",
          "symbol": "circle"
         },
         "mode": "markers",
         "name": "106",
         "orientation": "v",
         "showlegend": true,
         "type": "scatter",
         "x": [
          12520
         ],
         "xaxis": "x",
         "y": [
          11
         ],
         "yaxis": "y"
        },
        {
         "hovertemplate": "노선번호=108<br>이용량=%{x}<br>배차간격 (분)=%{y}<extra></extra>",
         "legendgroup": "108",
         "marker": {
          "color": "#FF6692",
          "symbol": "circle"
         },
         "mode": "markers",
         "name": "108",
         "orientation": "v",
         "showlegend": true,
         "type": "scatter",
         "x": [
          8561
         ],
         "xaxis": "x",
         "y": [
          12
         ],
         "yaxis": "y"
        },
        {
         "hovertemplate": "노선번호=113<br>이용량=%{x}<br>배차간격 (분)=%{y}<extra></extra>",
         "legendgroup": "113",
         "marker": {
          "color": "#B6E880",
          "symbol": "circle"
         },
         "mode": "markers",
         "name": "113",
         "orientation": "v",
         "showlegend": true,
         "type": "scatter",
         "x": [
          3673
         ],
         "xaxis": "x",
         "y": [
          22
         ],
         "yaxis": "y"
        },
        {
         "hovertemplate": "노선번호=114<br>이용량=%{x}<br>배차간격 (분)=%{y}<extra></extra>",
         "legendgroup": "114",
         "marker": {
          "color": "#FF97FF",
          "symbol": "circle"
         },
         "mode": "markers",
         "name": "114",
         "orientation": "v",
         "showlegend": true,
         "type": "scatter",
         "x": [
          5534
         ],
         "xaxis": "x",
         "y": [
          18
         ],
         "yaxis": "y"
        },
        {
         "hovertemplate": "노선번호=115<br>이용량=%{x}<br>배차간격 (분)=%{y}<extra></extra>",
         "legendgroup": "115",
         "marker": {
          "color": "#FECB52",
          "symbol": "circle"
         },
         "mode": "markers",
         "name": "115",
         "orientation": "v",
         "showlegend": true,
         "type": "scatter",
         "x": [
          6897
         ],
         "xaxis": "x",
         "y": [
          15
         ],
         "yaxis": "y"
        },
        {
         "hovertemplate": "노선번호=116<br>이용량=%{x}<br>배차간격 (분)=%{y}<extra></extra>",
         "legendgroup": "116",
         "marker": {
          "color": "#636efa",
          "symbol": "circle"
         },
         "mode": "markers",
         "name": "116",
         "orientation": "v",
         "showlegend": true,
         "type": "scatter",
         "x": [
          1845
         ],
         "xaxis": "x",
         "y": [
          24
         ],
         "yaxis": "y"
        },
        {
         "hovertemplate": "노선번호=117<br>이용량=%{x}<br>배차간격 (분)=%{y}<extra></extra>",
         "legendgroup": "117",
         "marker": {
          "color": "#EF553B",
          "symbol": "circle"
         },
         "mode": "markers",
         "name": "117",
         "orientation": "v",
         "showlegend": true,
         "type": "scatter",
         "x": [
          2800
         ],
         "xaxis": "x",
         "y": [
          20
         ],
         "yaxis": "y"
        },
        {
         "hovertemplate": "노선번호=119<br>이용량=%{x}<br>배차간격 (분)=%{y}<extra></extra>",
         "legendgroup": "119",
         "marker": {
          "color": "#00cc96",
          "symbol": "circle"
         },
         "mode": "markers",
         "name": "119",
         "orientation": "v",
         "showlegend": true,
         "type": "scatter",
         "x": [
          7148
         ],
         "xaxis": "x",
         "y": [
          16
         ],
         "yaxis": "y"
        },
        {
         "hovertemplate": "노선번호=121<br>이용량=%{x}<br>배차간격 (분)=%{y}<extra></extra>",
         "legendgroup": "121",
         "marker": {
          "color": "#ab63fa",
          "symbol": "circle"
         },
         "mode": "markers",
         "name": "121",
         "orientation": "v",
         "showlegend": true,
         "type": "scatter",
         "x": [
          3639
         ],
         "xaxis": "x",
         "y": [
          22
         ],
         "yaxis": "y"
        },
        {
         "hovertemplate": "노선번호=201<br>이용량=%{x}<br>배차간격 (분)=%{y}<extra></extra>",
         "legendgroup": "201",
         "marker": {
          "color": "#FFA15A",
          "symbol": "circle"
         },
         "mode": "markers",
         "name": "201",
         "orientation": "v",
         "showlegend": true,
         "type": "scatter",
         "x": [
          15790
         ],
         "xaxis": "x",
         "y": [
          8
         ],
         "yaxis": "y"
        },
        {
         "hovertemplate": "노선번호=203<br>이용량=%{x}<br>배차간격 (분)=%{y}<extra></extra>",
         "legendgroup": "203",
         "marker": {
          "color": "#19d3f3",
          "symbol": "circle"
         },
         "mode": "markers",
         "name": "203",
         "orientation": "v",
         "showlegend": true,
         "type": "scatter",
         "x": [
          4499
         ],
         "xaxis": "x",
         "y": [
          16
         ],
         "yaxis": "y"
        },
        {
         "hovertemplate": "노선번호=211<br>이용량=%{x}<br>배차간격 (분)=%{y}<extra></extra>",
         "legendgroup": "211",
         "marker": {
          "color": "#FF6692",
          "symbol": "circle"
         },
         "mode": "markers",
         "name": "211",
         "orientation": "v",
         "showlegend": true,
         "type": "scatter",
         "x": [
          8891
         ],
         "xaxis": "x",
         "y": [
          12
         ],
         "yaxis": "y"
        },
        {
         "hovertemplate": "노선번호=212<br>이용량=%{x}<br>배차간격 (분)=%{y}<extra></extra>",
         "legendgroup": "212",
         "marker": {
          "color": "#B6E880",
          "symbol": "circle"
         },
         "mode": "markers",
         "name": "212",
         "orientation": "v",
         "showlegend": true,
         "type": "scatter",
         "x": [
          924
         ],
         "xaxis": "x",
         "y": [
          24
         ],
         "yaxis": "y"
        },
        {
         "hovertemplate": "노선번호=213<br>이용량=%{x}<br>배차간격 (분)=%{y}<extra></extra>",
         "legendgroup": "213",
         "marker": {
          "color": "#FF97FF",
          "symbol": "circle"
         },
         "mode": "markers",
         "name": "213",
         "orientation": "v",
         "showlegend": true,
         "type": "scatter",
         "x": [
          559
         ],
         "xaxis": "x",
         "y": [
          34
         ],
         "yaxis": "y"
        },
        {
         "hovertemplate": "노선번호=216<br>이용량=%{x}<br>배차간격 (분)=%{y}<extra></extra>",
         "legendgroup": "216",
         "marker": {
          "color": "#FECB52",
          "symbol": "circle"
         },
         "mode": "markers",
         "name": "216",
         "orientation": "v",
         "showlegend": true,
         "type": "scatter",
         "x": [
          4941
         ],
         "xaxis": "x",
         "y": [
          17
         ],
         "yaxis": "y"
        },
        {
         "hovertemplate": "노선번호=301<br>이용량=%{x}<br>배차간격 (분)=%{y}<extra></extra>",
         "legendgroup": "301",
         "marker": {
          "color": "#636efa",
          "symbol": "circle"
         },
         "mode": "markers",
         "name": "301",
         "orientation": "v",
         "showlegend": true,
         "type": "scatter",
         "x": [
          16353
         ],
         "xaxis": "x",
         "y": [
          8
         ],
         "yaxis": "y"
        },
        {
         "hovertemplate": "노선번호=311<br>이용량=%{x}<br>배차간격 (분)=%{y}<extra></extra>",
         "legendgroup": "311",
         "marker": {
          "color": "#EF553B",
          "symbol": "circle"
         },
         "mode": "markers",
         "name": "311",
         "orientation": "v",
         "showlegend": true,
         "type": "scatter",
         "x": [
          18507
         ],
         "xaxis": "x",
         "y": [
          7
         ],
         "yaxis": "y"
        },
        {
         "hovertemplate": "노선번호=312<br>이용량=%{x}<br>배차간격 (분)=%{y}<extra></extra>",
         "legendgroup": "312",
         "marker": {
          "color": "#00cc96",
          "symbol": "circle"
         },
         "mode": "markers",
         "name": "312",
         "orientation": "v",
         "showlegend": true,
         "type": "scatter",
         "x": [
          5174
         ],
         "xaxis": "x",
         "y": [
          20
         ],
         "yaxis": "y"
        },
        {
         "hovertemplate": "노선번호=313<br>이용량=%{x}<br>배차간격 (분)=%{y}<extra></extra>",
         "legendgroup": "313",
         "marker": {
          "color": "#ab63fa",
          "symbol": "circle"
         },
         "mode": "markers",
         "name": "313",
         "orientation": "v",
         "showlegend": true,
         "type": "scatter",
         "x": [
          2148
         ],
         "xaxis": "x",
         "y": [
          25
         ],
         "yaxis": "y"
        },
        {
         "hovertemplate": "노선번호=314<br>이용량=%{x}<br>배차간격 (분)=%{y}<extra></extra>",
         "legendgroup": "314",
         "marker": {
          "color": "#FFA15A",
          "symbol": "circle"
         },
         "mode": "markers",
         "name": "314",
         "orientation": "v",
         "showlegend": true,
         "type": "scatter",
         "x": [
          11001
         ],
         "xaxis": "x",
         "y": [
          11
         ],
         "yaxis": "y"
        },
        {
         "hovertemplate": "노선번호=315<br>이용량=%{x}<br>배차간격 (분)=%{y}<extra></extra>",
         "legendgroup": "315",
         "marker": {
          "color": "#19d3f3",
          "symbol": "circle"
         },
         "mode": "markers",
         "name": "315",
         "orientation": "v",
         "showlegend": true,
         "type": "scatter",
         "x": [
          3442
         ],
         "xaxis": "x",
         "y": [
          20
         ],
         "yaxis": "y"
        },
        {
         "hovertemplate": "노선번호=316<br>이용량=%{x}<br>배차간격 (분)=%{y}<extra></extra>",
         "legendgroup": "316",
         "marker": {
          "color": "#FF6692",
          "symbol": "circle"
         },
         "mode": "markers",
         "name": "316",
         "orientation": "v",
         "showlegend": true,
         "type": "scatter",
         "x": [
          5022
         ],
         "xaxis": "x",
         "y": [
          21
         ],
         "yaxis": "y"
        },
        {
         "hovertemplate": "노선번호=317<br>이용량=%{x}<br>배차간격 (분)=%{y}<extra></extra>",
         "legendgroup": "317",
         "marker": {
          "color": "#B6E880",
          "symbol": "circle"
         },
         "mode": "markers",
         "name": "317",
         "orientation": "v",
         "showlegend": true,
         "type": "scatter",
         "x": [
          2255
         ],
         "xaxis": "x",
         "y": [
          27
         ],
         "yaxis": "y"
        },
        {
         "hovertemplate": "노선번호=318<br>이용량=%{x}<br>배차간격 (분)=%{y}<extra></extra>",
         "legendgroup": "318",
         "marker": {
          "color": "#FF97FF",
          "symbol": "circle"
         },
         "mode": "markers",
         "name": "318",
         "orientation": "v",
         "showlegend": true,
         "type": "scatter",
         "x": [
          4935
         ],
         "xaxis": "x",
         "y": [
          19
         ],
         "yaxis": "y"
        },
        {
         "hovertemplate": "노선번호=511<br>이용량=%{x}<br>배차간격 (분)=%{y}<extra></extra>",
         "legendgroup": "511",
         "marker": {
          "color": "#FECB52",
          "symbol": "circle"
         },
         "mode": "markers",
         "name": "511",
         "orientation": "v",
         "showlegend": true,
         "type": "scatter",
         "x": [
          7030
         ],
         "xaxis": "x",
         "y": [
          13
         ],
         "yaxis": "y"
        },
        {
         "hovertemplate": "노선번호=512<br>이용량=%{x}<br>배차간격 (분)=%{y}<extra></extra>",
         "legendgroup": "512",
         "marker": {
          "color": "#636efa",
          "symbol": "circle"
         },
         "mode": "markers",
         "name": "512",
         "orientation": "v",
         "showlegend": true,
         "type": "scatter",
         "x": [
          3820
         ],
         "xaxis": "x",
         "y": [
          22
         ],
         "yaxis": "y"
        },
        {
         "hovertemplate": "노선번호=513<br>이용량=%{x}<br>배차간격 (분)=%{y}<extra></extra>",
         "legendgroup": "513",
         "marker": {
          "color": "#EF553B",
          "symbol": "circle"
         },
         "mode": "markers",
         "name": "513",
         "orientation": "v",
         "showlegend": true,
         "type": "scatter",
         "x": [
          2884
         ],
         "xaxis": "x",
         "y": [
          23
         ],
         "yaxis": "y"
        },
        {
         "hovertemplate": "노선번호=514<br>이용량=%{x}<br>배차간격 (분)=%{y}<extra></extra>",
         "legendgroup": "514",
         "marker": {
          "color": "#00cc96",
          "symbol": "circle"
         },
         "mode": "markers",
         "name": "514",
         "orientation": "v",
         "showlegend": true,
         "type": "scatter",
         "x": [
          5945
         ],
         "xaxis": "x",
         "y": [
          17
         ],
         "yaxis": "y"
        },
        {
         "hovertemplate": "노선번호=601<br>이용량=%{x}<br>배차간격 (분)=%{y}<extra></extra>",
         "legendgroup": "601",
         "marker": {
          "color": "#ab63fa",
          "symbol": "circle"
         },
         "mode": "markers",
         "name": "601",
         "orientation": "v",
         "showlegend": true,
         "type": "scatter",
         "x": [
          4141
         ],
         "xaxis": "x",
         "y": [
          21
         ],
         "yaxis": "y"
        },
        {
         "hovertemplate": "노선번호=602<br>이용량=%{x}<br>배차간격 (분)=%{y}<extra></extra>",
         "legendgroup": "602",
         "marker": {
          "color": "#FFA15A",
          "symbol": "circle"
         },
         "mode": "markers",
         "name": "602",
         "orientation": "v",
         "showlegend": true,
         "type": "scatter",
         "x": [
          4119
         ],
         "xaxis": "x",
         "y": [
          18
         ],
         "yaxis": "y"
        },
        {
         "hovertemplate": "노선번호=603<br>이용량=%{x}<br>배차간격 (분)=%{y}<extra></extra>",
         "legendgroup": "603",
         "marker": {
          "color": "#19d3f3",
          "symbol": "circle"
         },
         "mode": "markers",
         "name": "603",
         "orientation": "v",
         "showlegend": true,
         "type": "scatter",
         "x": [
          8891
         ],
         "xaxis": "x",
         "y": [
          13
         ],
         "yaxis": "y"
        },
        {
         "hovertemplate": "노선번호=604<br>이용량=%{x}<br>배차간격 (분)=%{y}<extra></extra>",
         "legendgroup": "604",
         "marker": {
          "color": "#FF6692",
          "symbol": "circle"
         },
         "mode": "markers",
         "name": "604",
         "orientation": "v",
         "showlegend": true,
         "type": "scatter",
         "x": [
          9556
         ],
         "xaxis": "x",
         "y": [
          12
         ],
         "yaxis": "y"
        },
        {
         "hovertemplate": "노선번호=605<br>이용량=%{x}<br>배차간격 (분)=%{y}<extra></extra>",
         "legendgroup": "605",
         "marker": {
          "color": "#B6E880",
          "symbol": "circle"
         },
         "mode": "markers",
         "name": "605",
         "orientation": "v",
         "showlegend": true,
         "type": "scatter",
         "x": [
          10342
         ],
         "xaxis": "x",
         "y": [
          11
         ],
         "yaxis": "y"
        },
        {
         "hovertemplate": "노선번호=606<br>이용량=%{x}<br>배차간격 (분)=%{y}<extra></extra>",
         "legendgroup": "606",
         "marker": {
          "color": "#FF97FF",
          "symbol": "circle"
         },
         "mode": "markers",
         "name": "606",
         "orientation": "v",
         "showlegend": true,
         "type": "scatter",
         "x": [
          3345
         ],
         "xaxis": "x",
         "y": [
          22
         ],
         "yaxis": "y"
        },
        {
         "hovertemplate": "노선번호=608<br>이용량=%{x}<br>배차간격 (분)=%{y}<extra></extra>",
         "legendgroup": "608",
         "marker": {
          "color": "#FECB52",
          "symbol": "circle"
         },
         "mode": "markers",
         "name": "608",
         "orientation": "v",
         "showlegend": true,
         "type": "scatter",
         "x": [
          4037
         ],
         "xaxis": "x",
         "y": [
          20
         ],
         "yaxis": "y"
        },
        {
         "hovertemplate": "노선번호=611<br>이용량=%{x}<br>배차간격 (분)=%{y}<extra></extra>",
         "legendgroup": "611",
         "marker": {
          "color": "#636efa",
          "symbol": "circle"
         },
         "mode": "markers",
         "name": "611",
         "orientation": "v",
         "showlegend": true,
         "type": "scatter",
         "x": [
          4688
         ],
         "xaxis": "x",
         "y": [
          19
         ],
         "yaxis": "y"
        },
        {
         "hovertemplate": "노선번호=612<br>이용량=%{x}<br>배차간격 (분)=%{y}<extra></extra>",
         "legendgroup": "612",
         "marker": {
          "color": "#EF553B",
          "symbol": "circle"
         },
         "mode": "markers",
         "name": "612",
         "orientation": "v",
         "showlegend": true,
         "type": "scatter",
         "x": [
          3246
         ],
         "xaxis": "x",
         "y": [
          22
         ],
         "yaxis": "y"
        },
        {
         "hovertemplate": "노선번호=613<br>이용량=%{x}<br>배차간격 (분)=%{y}<extra></extra>",
         "legendgroup": "613",
         "marker": {
          "color": "#00cc96",
          "symbol": "circle"
         },
         "mode": "markers",
         "name": "613",
         "orientation": "v",
         "showlegend": true,
         "type": "scatter",
         "x": [
          6184
         ],
         "xaxis": "x",
         "y": [
          14
         ],
         "yaxis": "y"
        },
        {
         "hovertemplate": "노선번호=614<br>이용량=%{x}<br>배차간격 (분)=%{y}<extra></extra>",
         "legendgroup": "614",
         "marker": {
          "color": "#ab63fa",
          "symbol": "circle"
         },
         "mode": "markers",
         "name": "614",
         "orientation": "v",
         "showlegend": true,
         "type": "scatter",
         "x": [
          2964
         ],
         "xaxis": "x",
         "y": [
          20
         ],
         "yaxis": "y"
        },
        {
         "hovertemplate": "노선번호=615<br>이용량=%{x}<br>배차간격 (분)=%{y}<extra></extra>",
         "legendgroup": "615",
         "marker": {
          "color": "#FFA15A",
          "symbol": "circle"
         },
         "mode": "markers",
         "name": "615",
         "orientation": "v",
         "showlegend": true,
         "type": "scatter",
         "x": [
          6685
         ],
         "xaxis": "x",
         "y": [
          14
         ],
         "yaxis": "y"
        },
        {
         "hovertemplate": "노선번호=616<br>이용량=%{x}<br>배차간격 (분)=%{y}<extra></extra>",
         "legendgroup": "616",
         "marker": {
          "color": "#19d3f3",
          "symbol": "circle"
         },
         "mode": "markers",
         "name": "616",
         "orientation": "v",
         "showlegend": true,
         "type": "scatter",
         "x": [
          4053
         ],
         "xaxis": "x",
         "y": [
          20
         ],
         "yaxis": "y"
        },
        {
         "hovertemplate": "노선번호=617<br>이용량=%{x}<br>배차간격 (분)=%{y}<extra></extra>",
         "legendgroup": "617",
         "marker": {
          "color": "#FF6692",
          "symbol": "circle"
         },
         "mode": "markers",
         "name": "617",
         "orientation": "v",
         "showlegend": true,
         "type": "scatter",
         "x": [
          5826
         ],
         "xaxis": "x",
         "y": [
          17
         ],
         "yaxis": "y"
        },
        {
         "hovertemplate": "노선번호=618<br>이용량=%{x}<br>배차간격 (분)=%{y}<extra></extra>",
         "legendgroup": "618",
         "marker": {
          "color": "#B6E880",
          "symbol": "circle"
         },
         "mode": "markers",
         "name": "618",
         "orientation": "v",
         "showlegend": true,
         "type": "scatter",
         "x": [
          5090
         ],
         "xaxis": "x",
         "y": [
          18
         ],
         "yaxis": "y"
        },
        {
         "hovertemplate": "노선번호=619<br>이용량=%{x}<br>배차간격 (분)=%{y}<extra></extra>",
         "legendgroup": "619",
         "marker": {
          "color": "#FF97FF",
          "symbol": "circle"
         },
         "mode": "markers",
         "name": "619",
         "orientation": "v",
         "showlegend": true,
         "type": "scatter",
         "x": [
          3801
         ],
         "xaxis": "x",
         "y": [
          21
         ],
         "yaxis": "y"
        },
        {
         "hovertemplate": "노선번호=620<br>이용량=%{x}<br>배차간격 (분)=%{y}<extra></extra>",
         "legendgroup": "620",
         "marker": {
          "color": "#FECB52",
          "symbol": "circle"
         },
         "mode": "markers",
         "name": "620",
         "orientation": "v",
         "showlegend": true,
         "type": "scatter",
         "x": [
          1751
         ],
         "xaxis": "x",
         "y": [
          27
         ],
         "yaxis": "y"
        },
        {
         "hovertemplate": "노선번호=622<br>이용량=%{x}<br>배차간격 (분)=%{y}<extra></extra>",
         "legendgroup": "622",
         "marker": {
          "color": "#636efa",
          "symbol": "circle"
         },
         "mode": "markers",
         "name": "622",
         "orientation": "v",
         "showlegend": true,
         "type": "scatter",
         "x": [
          706
         ],
         "xaxis": "x",
         "y": [
          29
         ],
         "yaxis": "y"
        },
        {
         "hovertemplate": "노선번호=701<br>이용량=%{x}<br>배차간격 (분)=%{y}<extra></extra>",
         "legendgroup": "701",
         "marker": {
          "color": "#EF553B",
          "symbol": "circle"
         },
         "mode": "markers",
         "name": "701",
         "orientation": "v",
         "showlegend": true,
         "type": "scatter",
         "x": [
          3842
         ],
         "xaxis": "x",
         "y": [
          18
         ],
         "yaxis": "y"
        },
        {
         "hovertemplate": "노선번호=703<br>이용량=%{x}<br>배차간격 (분)=%{y}<extra></extra>",
         "legendgroup": "703",
         "marker": {
          "color": "#00cc96",
          "symbol": "circle"
         },
         "mode": "markers",
         "name": "703",
         "orientation": "v",
         "showlegend": true,
         "type": "scatter",
         "x": [
          12286
         ],
         "xaxis": "x",
         "y": [
          12
         ],
         "yaxis": "y"
        },
        {
         "hovertemplate": "노선번호=704<br>이용량=%{x}<br>배차간격 (분)=%{y}<extra></extra>",
         "legendgroup": "704",
         "marker": {
          "color": "#ab63fa",
          "symbol": "circle"
         },
         "mode": "markers",
         "name": "704",
         "orientation": "v",
         "showlegend": true,
         "type": "scatter",
         "x": [
          10828
         ],
         "xaxis": "x",
         "y": [
          14
         ],
         "yaxis": "y"
        },
        {
         "hovertemplate": "노선번호=705<br>이용량=%{x}<br>배차간격 (분)=%{y}<extra></extra>",
         "legendgroup": "705",
         "marker": {
          "color": "#FFA15A",
          "symbol": "circle"
         },
         "mode": "markers",
         "name": "705",
         "orientation": "v",
         "showlegend": true,
         "type": "scatter",
         "x": [
          10633
         ],
         "xaxis": "x",
         "y": [
          14
         ],
         "yaxis": "y"
        },
        {
         "hovertemplate": "노선번호=706<br>이용량=%{x}<br>배차간격 (분)=%{y}<extra></extra>",
         "legendgroup": "706",
         "marker": {
          "color": "#19d3f3",
          "symbol": "circle"
         },
         "mode": "markers",
         "name": "706",
         "orientation": "v",
         "showlegend": true,
         "type": "scatter",
         "x": [
          7577
         ],
         "xaxis": "x",
         "y": [
          15
         ],
         "yaxis": "y"
        },
        {
         "hovertemplate": "노선번호=711<br>이용량=%{x}<br>배차간격 (분)=%{y}<extra></extra>",
         "legendgroup": "711",
         "marker": {
          "color": "#FF6692",
          "symbol": "circle"
         },
         "mode": "markers",
         "name": "711",
         "orientation": "v",
         "showlegend": true,
         "type": "scatter",
         "x": [
          5537
         ],
         "xaxis": "x",
         "y": [
          17
         ],
         "yaxis": "y"
        },
        {
         "hovertemplate": "노선번호=712<br>이용량=%{x}<br>배차간격 (분)=%{y}<extra></extra>",
         "legendgroup": "712",
         "marker": {
          "color": "#B6E880",
          "symbol": "circle"
         },
         "mode": "markers",
         "name": "712",
         "orientation": "v",
         "showlegend": true,
         "type": "scatter",
         "x": [
          735
         ],
         "xaxis": "x",
         "y": [
          31
         ],
         "yaxis": "y"
        },
        {
         "hovertemplate": "노선번호=802<br>이용량=%{x}<br>배차간격 (분)=%{y}<extra></extra>",
         "legendgroup": "802",
         "marker": {
          "color": "#FF97FF",
          "symbol": "circle"
         },
         "mode": "markers",
         "name": "802",
         "orientation": "v",
         "showlegend": true,
         "type": "scatter",
         "x": [
          6247
         ],
         "xaxis": "x",
         "y": [
          18
         ],
         "yaxis": "y"
        },
        {
         "hovertemplate": "노선번호=911<br>이용량=%{x}<br>배차간격 (분)=%{y}<extra></extra>",
         "legendgroup": "911",
         "marker": {
          "color": "#FECB52",
          "symbol": "circle"
         },
         "mode": "markers",
         "name": "911",
         "orientation": "v",
         "showlegend": true,
         "type": "scatter",
         "x": [
          1814
         ],
         "xaxis": "x",
         "y": [
          25
         ],
         "yaxis": "y"
        },
        {
         "hovertemplate": "노선번호=912<br>이용량=%{x}<br>배차간격 (분)=%{y}<extra></extra>",
         "legendgroup": "912",
         "marker": {
          "color": "#636efa",
          "symbol": "circle"
         },
         "mode": "markers",
         "name": "912",
         "orientation": "v",
         "showlegend": true,
         "type": "scatter",
         "x": [
          1959
         ],
         "xaxis": "x",
         "y": [
          19
         ],
         "yaxis": "y"
        },
        {
         "hovertemplate": "노선번호=916<br>이용량=%{x}<br>배차간격 (분)=%{y}<extra></extra>",
         "legendgroup": "916",
         "marker": {
          "color": "#EF553B",
          "symbol": "circle"
         },
         "mode": "markers",
         "name": "916",
         "orientation": "v",
         "showlegend": true,
         "type": "scatter",
         "x": [
          2884
         ],
         "xaxis": "x",
         "y": [
          22
         ],
         "yaxis": "y"
        },
        {
         "hovertemplate": "노선번호=918<br>이용량=%{x}<br>배차간격 (분)=%{y}<extra></extra>",
         "legendgroup": "918",
         "marker": {
          "color": "#00cc96",
          "symbol": "circle"
         },
         "mode": "markers",
         "name": "918",
         "orientation": "v",
         "showlegend": true,
         "type": "scatter",
         "x": [
          2373
         ],
         "xaxis": "x",
         "y": [
          22
         ],
         "yaxis": "y"
        },
        {
         "line": {
          "color": "red"
         },
         "mode": "lines",
         "name": "2차 곡선 회귀선",
         "type": "scatter",
         "x": [
          559,
          758.8484848484849,
          958.6969696969697,
          1158.5454545454545,
          1358.3939393939395,
          1558.2424242424242,
          1758.090909090909,
          1957.939393939394,
          2157.787878787879,
          2357.6363636363635,
          2557.4848484848485,
          2757.3333333333335,
          2957.181818181818,
          3157.030303030303,
          3356.878787878788,
          3556.7272727272725,
          3756.5757575757575,
          3956.4242424242425,
          4156.272727272727,
          4356.121212121212,
          4555.969696969697,
          4755.818181818182,
          4955.666666666667,
          5155.515151515151,
          5355.363636363636,
          5555.212121212121,
          5755.060606060606,
          5954.909090909091,
          6154.757575757576,
          6354.60606060606,
          6554.454545454545,
          6754.30303030303,
          6954.151515151515,
          7154,
          7353.848484848485,
          7553.69696969697,
          7753.545454545454,
          7953.393939393939,
          8153.242424242424,
          8353.090909090908,
          8552.939393939394,
          8752.787878787878,
          8952.636363636364,
          9152.484848484848,
          9352.333333333334,
          9552.181818181818,
          9752.030303030302,
          9951.878787878788,
          10151.727272727272,
          10351.575757575758,
          10551.424242424242,
          10751.272727272728,
          10951.121212121212,
          11150.969696969696,
          11350.818181818182,
          11550.666666666666,
          11750.515151515152,
          11950.363636363636,
          12150.21212121212,
          12350.060606060606,
          12549.90909090909,
          12749.757575757576,
          12949.60606060606,
          13149.454545454546,
          13349.30303030303,
          13549.151515151514,
          13749,
          13948.848484848484,
          14148.69696969697,
          14348.545454545454,
          14548.39393939394,
          14748.242424242424,
          14948.090909090908,
          15147.939393939394,
          15347.787878787878,
          15547.636363636364,
          15747.484848484848,
          15947.333333333332,
          16147.181818181818,
          16347.030303030302,
          16546.878787878788,
          16746.727272727272,
          16946.575757575756,
          17146.424242424244,
          17346.272727272728,
          17546.121212121212,
          17745.969696969696,
          17945.81818181818,
          18145.666666666668,
          18345.515151515152,
          18545.363636363636,
          18745.21212121212,
          18945.060606060604,
          19144.909090909092,
          19344.757575757576,
          19544.60606060606,
          19744.454545454544,
          19944.30303030303,
          20144.151515151516,
          20344
         ],
         "y": [
          27.616270427159204,
          27.14788472308182,
          26.68512189887741,
          26.227981954545974,
          25.77646489008751,
          25.330570705502023,
          24.89029940078951,
          24.455650975949972,
          24.026625430983405,
          23.603222765889814,
          23.185442980669198,
          22.773286075321554,
          22.366752049846887,
          21.965840904245194,
          21.570552638516475,
          21.180887252660728,
          20.796844746677955,
          20.41842512056816,
          20.04562837433134,
          19.67845450796749,
          19.316903521476615,
          18.960975414858716,
          18.61067018811379,
          18.265987841241838,
          17.926928374242863,
          17.59349178711686,
          17.265678079863832,
          16.943487252483777,
          16.626919304976695,
          16.31597423734259,
          16.01065204958146,
          15.7109527416933,
          15.41687631367812,
          15.128422765535909,
          14.845592097266675,
          14.568384308870414,
          14.29679940034713,
          14.030837371696819,
          13.770498222919478,
          13.515781954015116,
          13.266688564983728,
          13.023218055825314,
          12.78537042653987,
          12.553145677127407,
          12.326543807587914,
          12.105564817921397,
          11.890208708127854,
          11.680475478207281,
          11.476365128159689,
          11.277877657985066,
          11.085013067683416,
          10.897771357254744,
          10.716152526699048,
          10.540156576016326,
          10.369783505206573,
          10.205033314269802,
          10.045906003206,
          9.89240157201517,
          9.744520020697319,
          9.60226134925244,
          9.465625557680536,
          9.334612645981611,
          9.209222614155653,
          9.089455462202672,
          8.975311190122664,
          8.866789797915633,
          8.763891285581575,
          8.666615653120484,
          8.574962900532373,
          8.488933027817243,
          8.408526034975083,
          8.333741922005892,
          8.264580688909685,
          8.201042335686445,
          8.143126862336178,
          8.090834268858888,
          8.044164555254575,
          8.003117721523228,
          7.967693767664862,
          7.937892693679469,
          7.913714499567053,
          7.8951591853276035,
          7.882226750961138,
          7.874917196467642,
          7.873230521847116,
          7.877166727099567,
          7.886725812224999,
          7.901907777223396,
          7.922712622094771,
          7.949140346839123,
          7.9811909514564405,
          8.018864435946742,
          8.06216080031001,
          8.111080044546263,
          8.165622168655482,
          8.225787172637677,
          8.291575056492842,
          8.362985820220985,
          8.440019463822104,
          8.5226759872962
         ]
        }
       ],
       "layout": {
        "font": {
         "family": "Malgun Gothic"
        },
        "hovermode": "closest",
        "legend": {
         "title": {
          "text": "노선번호"
         },
         "tracegroupgap": 0,
         "x": 9000,
         "y": 1.1
        },
        "margin": {
         "t": 60
        },
        "showlegend": true,
        "template": {
         "data": {
          "bar": [
           {
            "error_x": {
             "color": "#2a3f5f"
            },
            "error_y": {
             "color": "#2a3f5f"
            },
            "marker": {
             "line": {
              "color": "#E5ECF6",
              "width": 0.5
             },
             "pattern": {
              "fillmode": "overlay",
              "size": 10,
              "solidity": 0.2
             }
            },
            "type": "bar"
           }
          ],
          "barpolar": [
           {
            "marker": {
             "line": {
              "color": "#E5ECF6",
              "width": 0.5
             },
             "pattern": {
              "fillmode": "overlay",
              "size": 10,
              "solidity": 0.2
             }
            },
            "type": "barpolar"
           }
          ],
          "carpet": [
           {
            "aaxis": {
             "endlinecolor": "#2a3f5f",
             "gridcolor": "white",
             "linecolor": "white",
             "minorgridcolor": "white",
             "startlinecolor": "#2a3f5f"
            },
            "baxis": {
             "endlinecolor": "#2a3f5f",
             "gridcolor": "white",
             "linecolor": "white",
             "minorgridcolor": "white",
             "startlinecolor": "#2a3f5f"
            },
            "type": "carpet"
           }
          ],
          "choropleth": [
           {
            "colorbar": {
             "outlinewidth": 0,
             "ticks": ""
            },
            "type": "choropleth"
           }
          ],
          "contour": [
           {
            "colorbar": {
             "outlinewidth": 0,
             "ticks": ""
            },
            "colorscale": [
             [
              0,
              "#0d0887"
             ],
             [
              0.1111111111111111,
              "#46039f"
             ],
             [
              0.2222222222222222,
              "#7201a8"
             ],
             [
              0.3333333333333333,
              "#9c179e"
             ],
             [
              0.4444444444444444,
              "#bd3786"
             ],
             [
              0.5555555555555556,
              "#d8576b"
             ],
             [
              0.6666666666666666,
              "#ed7953"
             ],
             [
              0.7777777777777778,
              "#fb9f3a"
             ],
             [
              0.8888888888888888,
              "#fdca26"
             ],
             [
              1,
              "#f0f921"
             ]
            ],
            "type": "contour"
           }
          ],
          "contourcarpet": [
           {
            "colorbar": {
             "outlinewidth": 0,
             "ticks": ""
            },
            "type": "contourcarpet"
           }
          ],
          "heatmap": [
           {
            "colorbar": {
             "outlinewidth": 0,
             "ticks": ""
            },
            "colorscale": [
             [
              0,
              "#0d0887"
             ],
             [
              0.1111111111111111,
              "#46039f"
             ],
             [
              0.2222222222222222,
              "#7201a8"
             ],
             [
              0.3333333333333333,
              "#9c179e"
             ],
             [
              0.4444444444444444,
              "#bd3786"
             ],
             [
              0.5555555555555556,
              "#d8576b"
             ],
             [
              0.6666666666666666,
              "#ed7953"
             ],
             [
              0.7777777777777778,
              "#fb9f3a"
             ],
             [
              0.8888888888888888,
              "#fdca26"
             ],
             [
              1,
              "#f0f921"
             ]
            ],
            "type": "heatmap"
           }
          ],
          "heatmapgl": [
           {
            "colorbar": {
             "outlinewidth": 0,
             "ticks": ""
            },
            "colorscale": [
             [
              0,
              "#0d0887"
             ],
             [
              0.1111111111111111,
              "#46039f"
             ],
             [
              0.2222222222222222,
              "#7201a8"
             ],
             [
              0.3333333333333333,
              "#9c179e"
             ],
             [
              0.4444444444444444,
              "#bd3786"
             ],
             [
              0.5555555555555556,
              "#d8576b"
             ],
             [
              0.6666666666666666,
              "#ed7953"
             ],
             [
              0.7777777777777778,
              "#fb9f3a"
             ],
             [
              0.8888888888888888,
              "#fdca26"
             ],
             [
              1,
              "#f0f921"
             ]
            ],
            "type": "heatmapgl"
           }
          ],
          "histogram": [
           {
            "marker": {
             "pattern": {
              "fillmode": "overlay",
              "size": 10,
              "solidity": 0.2
             }
            },
            "type": "histogram"
           }
          ],
          "histogram2d": [
           {
            "colorbar": {
             "outlinewidth": 0,
             "ticks": ""
            },
            "colorscale": [
             [
              0,
              "#0d0887"
             ],
             [
              0.1111111111111111,
              "#46039f"
             ],
             [
              0.2222222222222222,
              "#7201a8"
             ],
             [
              0.3333333333333333,
              "#9c179e"
             ],
             [
              0.4444444444444444,
              "#bd3786"
             ],
             [
              0.5555555555555556,
              "#d8576b"
             ],
             [
              0.6666666666666666,
              "#ed7953"
             ],
             [
              0.7777777777777778,
              "#fb9f3a"
             ],
             [
              0.8888888888888888,
              "#fdca26"
             ],
             [
              1,
              "#f0f921"
             ]
            ],
            "type": "histogram2d"
           }
          ],
          "histogram2dcontour": [
           {
            "colorbar": {
             "outlinewidth": 0,
             "ticks": ""
            },
            "colorscale": [
             [
              0,
              "#0d0887"
             ],
             [
              0.1111111111111111,
              "#46039f"
             ],
             [
              0.2222222222222222,
              "#7201a8"
             ],
             [
              0.3333333333333333,
              "#9c179e"
             ],
             [
              0.4444444444444444,
              "#bd3786"
             ],
             [
              0.5555555555555556,
              "#d8576b"
             ],
             [
              0.6666666666666666,
              "#ed7953"
             ],
             [
              0.7777777777777778,
              "#fb9f3a"
             ],
             [
              0.8888888888888888,
              "#fdca26"
             ],
             [
              1,
              "#f0f921"
             ]
            ],
            "type": "histogram2dcontour"
           }
          ],
          "mesh3d": [
           {
            "colorbar": {
             "outlinewidth": 0,
             "ticks": ""
            },
            "type": "mesh3d"
           }
          ],
          "parcoords": [
           {
            "line": {
             "colorbar": {
              "outlinewidth": 0,
              "ticks": ""
             }
            },
            "type": "parcoords"
           }
          ],
          "pie": [
           {
            "automargin": true,
            "type": "pie"
           }
          ],
          "scatter": [
           {
            "fillpattern": {
             "fillmode": "overlay",
             "size": 10,
             "solidity": 0.2
            },
            "type": "scatter"
           }
          ],
          "scatter3d": [
           {
            "line": {
             "colorbar": {
              "outlinewidth": 0,
              "ticks": ""
             }
            },
            "marker": {
             "colorbar": {
              "outlinewidth": 0,
              "ticks": ""
             }
            },
            "type": "scatter3d"
           }
          ],
          "scattercarpet": [
           {
            "marker": {
             "colorbar": {
              "outlinewidth": 0,
              "ticks": ""
             }
            },
            "type": "scattercarpet"
           }
          ],
          "scattergeo": [
           {
            "marker": {
             "colorbar": {
              "outlinewidth": 0,
              "ticks": ""
             }
            },
            "type": "scattergeo"
           }
          ],
          "scattergl": [
           {
            "marker": {
             "colorbar": {
              "outlinewidth": 0,
              "ticks": ""
             }
            },
            "type": "scattergl"
           }
          ],
          "scattermapbox": [
           {
            "marker": {
             "colorbar": {
              "outlinewidth": 0,
              "ticks": ""
             }
            },
            "type": "scattermapbox"
           }
          ],
          "scatterpolar": [
           {
            "marker": {
             "colorbar": {
              "outlinewidth": 0,
              "ticks": ""
             }
            },
            "type": "scatterpolar"
           }
          ],
          "scatterpolargl": [
           {
            "marker": {
             "colorbar": {
              "outlinewidth": 0,
              "ticks": ""
             }
            },
            "type": "scatterpolargl"
           }
          ],
          "scatterternary": [
           {
            "marker": {
             "colorbar": {
              "outlinewidth": 0,
              "ticks": ""
             }
            },
            "type": "scatterternary"
           }
          ],
          "surface": [
           {
            "colorbar": {
             "outlinewidth": 0,
             "ticks": ""
            },
            "colorscale": [
             [
              0,
              "#0d0887"
             ],
             [
              0.1111111111111111,
              "#46039f"
             ],
             [
              0.2222222222222222,
              "#7201a8"
             ],
             [
              0.3333333333333333,
              "#9c179e"
             ],
             [
              0.4444444444444444,
              "#bd3786"
             ],
             [
              0.5555555555555556,
              "#d8576b"
             ],
             [
              0.6666666666666666,
              "#ed7953"
             ],
             [
              0.7777777777777778,
              "#fb9f3a"
             ],
             [
              0.8888888888888888,
              "#fdca26"
             ],
             [
              1,
              "#f0f921"
             ]
            ],
            "type": "surface"
           }
          ],
          "table": [
           {
            "cells": {
             "fill": {
              "color": "#EBF0F8"
             },
             "line": {
              "color": "white"
             }
            },
            "header": {
             "fill": {
              "color": "#C8D4E3"
             },
             "line": {
              "color": "white"
             }
            },
            "type": "table"
           }
          ]
         },
         "layout": {
          "annotationdefaults": {
           "arrowcolor": "#2a3f5f",
           "arrowhead": 0,
           "arrowwidth": 1
          },
          "autotypenumbers": "strict",
          "coloraxis": {
           "colorbar": {
            "outlinewidth": 0,
            "ticks": ""
           }
          },
          "colorscale": {
           "diverging": [
            [
             0,
             "#8e0152"
            ],
            [
             0.1,
             "#c51b7d"
            ],
            [
             0.2,
             "#de77ae"
            ],
            [
             0.3,
             "#f1b6da"
            ],
            [
             0.4,
             "#fde0ef"
            ],
            [
             0.5,
             "#f7f7f7"
            ],
            [
             0.6,
             "#e6f5d0"
            ],
            [
             0.7,
             "#b8e186"
            ],
            [
             0.8,
             "#7fbc41"
            ],
            [
             0.9,
             "#4d9221"
            ],
            [
             1,
             "#276419"
            ]
           ],
           "sequential": [
            [
             0,
             "#0d0887"
            ],
            [
             0.1111111111111111,
             "#46039f"
            ],
            [
             0.2222222222222222,
             "#7201a8"
            ],
            [
             0.3333333333333333,
             "#9c179e"
            ],
            [
             0.4444444444444444,
             "#bd3786"
            ],
            [
             0.5555555555555556,
             "#d8576b"
            ],
            [
             0.6666666666666666,
             "#ed7953"
            ],
            [
             0.7777777777777778,
             "#fb9f3a"
            ],
            [
             0.8888888888888888,
             "#fdca26"
            ],
            [
             1,
             "#f0f921"
            ]
           ],
           "sequentialminus": [
            [
             0,
             "#0d0887"
            ],
            [
             0.1111111111111111,
             "#46039f"
            ],
            [
             0.2222222222222222,
             "#7201a8"
            ],
            [
             0.3333333333333333,
             "#9c179e"
            ],
            [
             0.4444444444444444,
             "#bd3786"
            ],
            [
             0.5555555555555556,
             "#d8576b"
            ],
            [
             0.6666666666666666,
             "#ed7953"
            ],
            [
             0.7777777777777778,
             "#fb9f3a"
            ],
            [
             0.8888888888888888,
             "#fdca26"
            ],
            [
             1,
             "#f0f921"
            ]
           ]
          },
          "colorway": [
           "#636efa",
           "#EF553B",
           "#00cc96",
           "#ab63fa",
           "#FFA15A",
           "#19d3f3",
           "#FF6692",
           "#B6E880",
           "#FF97FF",
           "#FECB52"
          ],
          "font": {
           "color": "#2a3f5f"
          },
          "geo": {
           "bgcolor": "white",
           "lakecolor": "white",
           "landcolor": "#E5ECF6",
           "showlakes": true,
           "showland": true,
           "subunitcolor": "white"
          },
          "hoverlabel": {
           "align": "left"
          },
          "hovermode": "closest",
          "mapbox": {
           "style": "light"
          },
          "paper_bgcolor": "white",
          "plot_bgcolor": "#E5ECF6",
          "polar": {
           "angularaxis": {
            "gridcolor": "white",
            "linecolor": "white",
            "ticks": ""
           },
           "bgcolor": "#E5ECF6",
           "radialaxis": {
            "gridcolor": "white",
            "linecolor": "white",
            "ticks": ""
           }
          },
          "scene": {
           "xaxis": {
            "backgroundcolor": "#E5ECF6",
            "gridcolor": "white",
            "gridwidth": 2,
            "linecolor": "white",
            "showbackground": true,
            "ticks": "",
            "zerolinecolor": "white"
           },
           "yaxis": {
            "backgroundcolor": "#E5ECF6",
            "gridcolor": "white",
            "gridwidth": 2,
            "linecolor": "white",
            "showbackground": true,
            "ticks": "",
            "zerolinecolor": "white"
           },
           "zaxis": {
            "backgroundcolor": "#E5ECF6",
            "gridcolor": "white",
            "gridwidth": 2,
            "linecolor": "white",
            "showbackground": true,
            "ticks": "",
            "zerolinecolor": "white"
           }
          },
          "shapedefaults": {
           "line": {
            "color": "#2a3f5f"
           }
          },
          "ternary": {
           "aaxis": {
            "gridcolor": "white",
            "linecolor": "white",
            "ticks": ""
           },
           "baxis": {
            "gridcolor": "white",
            "linecolor": "white",
            "ticks": ""
           },
           "bgcolor": "#E5ECF6",
           "caxis": {
            "gridcolor": "white",
            "linecolor": "white",
            "ticks": ""
           }
          },
          "title": {
           "x": 0.05
          },
          "xaxis": {
           "automargin": true,
           "gridcolor": "white",
           "linecolor": "white",
           "ticks": "",
           "title": {
            "standoff": 15
           },
           "zerolinecolor": "white",
           "zerolinewidth": 2
          },
          "yaxis": {
           "automargin": true,
           "gridcolor": "white",
           "linecolor": "white",
           "ticks": "",
           "title": {
            "standoff": 15
           },
           "zerolinecolor": "white",
           "zerolinewidth": 2
          }
         }
        },
        "title": {
         "text": "이용량에 따른 배차간격"
        },
        "xaxis": {
         "anchor": "y",
         "domain": [
          0,
          1
         ],
         "ticktext": [
          "5000",
          "10000",
          "15000",
          "20000"
         ],
         "tickvals": [
          5000,
          10000,
          15000,
          20000
         ],
         "title": {
          "text": "이용량"
         }
        },
        "yaxis": {
         "anchor": "x",
         "domain": [
          0,
          1
         ],
         "title": {
          "text": "배차간격 (분)"
         }
        }
       }
      }
     },
     "metadata": {},
     "output_type": "display_data"
    },
    {
     "data": {
      "text/plain": [
       "'bus_usage_graph_all.html'"
      ]
     },
     "execution_count": 59,
     "metadata": {},
     "output_type": "execute_result"
    }
   ],
   "source": [
    "import plotly.express as px\n",
    "import plotly.graph_objects as go\n",
    "import plotly.offline as pyo\n",
    "\n",
    "# 2차 곡선 회귀선 계수 계산\n",
    "a, b, c = np.polyfit(bus_usage_merge_all[\"USAGE_COUNT\"], bus_usage_merge_all[\"ALLO_INTERVAL\"], 2)\n",
    "\n",
    "# 2차 곡선 회귀선 함수 정의\n",
    "def quadratic_regression(x):\n",
    "    return a * x**2 + b * x + c\n",
    "\n",
    "# 산점도 그래프 생성\n",
    "fig = px.scatter(bus_usage_merge_all, x=\"USAGE_COUNT\", y=\"ALLO_INTERVAL\", color=\"ROUTE_NO\", \n",
    "                 labels={\"USAGE_COUNT\": \"이용량\", \"ALLO_INTERVAL\": \"배차간격 (분)\", \"ROUTE_NO\": \"노선번호\"})\n",
    "\n",
    "# 회귀선 그리기\n",
    "x_range = np.linspace(bus_usage_merge_all[\"USAGE_COUNT\"].min(), bus_usage_merge_all[\"USAGE_COUNT\"].max(), 100)\n",
    "y_range = [quadratic_regression(x) for x in x_range]\n",
    "\n",
    "fig.add_trace(go.Scatter(x=x_range, y=y_range, mode=\"lines\", name=\"2차 곡선 회귀선\", line=dict(color='red')))\n",
    "\n",
    "# 그래프 레이아웃 설정\n",
    "fig.update_layout(\n",
    "    title=\"이용량에 따른 배차간격\",\n",
    "    xaxis_title=\"이용량\",\n",
    "    yaxis_title=\"배차간격 (분)\",\n",
    "    legend_title=\"노선번호\",\n",
    "    showlegend=True,\n",
    "    legend=dict(x=9000, y=1.1),\n",
    "    font=dict(family=\"Malgun Gothic\"),\n",
    "    hovermode=\"closest\"\n",
    ")\n",
    "\n",
    "# x축 레이블을 원하는 형식으로 설정 (5000과 같이)\n",
    "fig.update_xaxes(\n",
    "    tickvals=[5000, 10000, 15000, 20000],  # x축의 눈금 위치\n",
    "    ticktext=[\"5000\", \"10000\", \"15000\", \"20000\"]  # 눈금에 표시될 텍스트\n",
    ")\n",
    "\n",
    "# 그래프 표시\n",
    "fig.show()\n",
    "pyo.plot(fig, filename='bus_usage_graph_all.html')\n"
   ]
  },
  {
   "cell_type": "code",
   "execution_count": 58,
   "metadata": {},
   "outputs": [
    {
     "data": {
      "application/vnd.plotly.v1+json": {
       "config": {
        "plotlyServerURL": "https://plot.ly"
       },
       "data": [
        {
         "hovertemplate": "노선번호=101<br>이용량=%{x}<br>배차간격 (분)=%{y}<extra></extra>",
         "legendgroup": "101",
         "marker": {
          "color": "#636efa",
          "symbol": "circle"
         },
         "mode": "markers",
         "name": "101",
         "orientation": "v",
         "showlegend": true,
         "type": "scatter",
         "x": [
          1647
         ],
         "xaxis": "x",
         "y": [
          20
         ],
         "yaxis": "y"
        },
        {
         "hovertemplate": "노선번호=102<br>이용량=%{x}<br>배차간격 (분)=%{y}<extra></extra>",
         "legendgroup": "102",
         "marker": {
          "color": "#EF553B",
          "symbol": "circle"
         },
         "mode": "markers",
         "name": "102",
         "orientation": "v",
         "showlegend": true,
         "type": "scatter",
         "x": [
          8342
         ],
         "xaxis": "x",
         "y": [
          7
         ],
         "yaxis": "y"
        },
        {
         "hovertemplate": "노선번호=103<br>이용량=%{x}<br>배차간격 (분)=%{y}<extra></extra>",
         "legendgroup": "103",
         "marker": {
          "color": "#00cc96",
          "symbol": "circle"
         },
         "mode": "markers",
         "name": "103",
         "orientation": "v",
         "showlegend": true,
         "type": "scatter",
         "x": [
          4040
         ],
         "xaxis": "x",
         "y": [
          13
         ],
         "yaxis": "y"
        },
        {
         "hovertemplate": "노선번호=104<br>이용량=%{x}<br>배차간격 (분)=%{y}<extra></extra>",
         "legendgroup": "104",
         "marker": {
          "color": "#ab63fa",
          "symbol": "circle"
         },
         "mode": "markers",
         "name": "104",
         "orientation": "v",
         "showlegend": true,
         "type": "scatter",
         "x": [
          1213
         ],
         "xaxis": "x",
         "y": [
          20
         ],
         "yaxis": "y"
        },
        {
         "hovertemplate": "노선번호=105<br>이용량=%{x}<br>배차간격 (분)=%{y}<extra></extra>",
         "legendgroup": "105",
         "marker": {
          "color": "#FFA15A",
          "symbol": "circle"
         },
         "mode": "markers",
         "name": "105",
         "orientation": "v",
         "showlegend": true,
         "type": "scatter",
         "x": [
          5177
         ],
         "xaxis": "x",
         "y": [
          9
         ],
         "yaxis": "y"
        },
        {
         "hovertemplate": "노선번호=106<br>이용량=%{x}<br>배차간격 (분)=%{y}<extra></extra>",
         "legendgroup": "106",
         "marker": {
          "color": "#19d3f3",
          "symbol": "circle"
         },
         "mode": "markers",
         "name": "106",
         "orientation": "v",
         "showlegend": true,
         "type": "scatter",
         "x": [
          5084
         ],
         "xaxis": "x",
         "y": [
          11
         ],
         "yaxis": "y"
        },
        {
         "hovertemplate": "노선번호=108<br>이용량=%{x}<br>배차간격 (분)=%{y}<extra></extra>",
         "legendgroup": "108",
         "marker": {
          "color": "#FF6692",
          "symbol": "circle"
         },
         "mode": "markers",
         "name": "108",
         "orientation": "v",
         "showlegend": true,
         "type": "scatter",
         "x": [
          3656
         ],
         "xaxis": "x",
         "y": [
          12
         ],
         "yaxis": "y"
        },
        {
         "hovertemplate": "노선번호=113<br>이용량=%{x}<br>배차간격 (분)=%{y}<extra></extra>",
         "legendgroup": "113",
         "marker": {
          "color": "#B6E880",
          "symbol": "circle"
         },
         "mode": "markers",
         "name": "113",
         "orientation": "v",
         "showlegend": true,
         "type": "scatter",
         "x": [
          1444
         ],
         "xaxis": "x",
         "y": [
          22
         ],
         "yaxis": "y"
        },
        {
         "hovertemplate": "노선번호=114<br>이용량=%{x}<br>배차간격 (분)=%{y}<extra></extra>",
         "legendgroup": "114",
         "marker": {
          "color": "#FF97FF",
          "symbol": "circle"
         },
         "mode": "markers",
         "name": "114",
         "orientation": "v",
         "showlegend": true,
         "type": "scatter",
         "x": [
          2291
         ],
         "xaxis": "x",
         "y": [
          18
         ],
         "yaxis": "y"
        },
        {
         "hovertemplate": "노선번호=115<br>이용량=%{x}<br>배차간격 (분)=%{y}<extra></extra>",
         "legendgroup": "115",
         "marker": {
          "color": "#FECB52",
          "symbol": "circle"
         },
         "mode": "markers",
         "name": "115",
         "orientation": "v",
         "showlegend": true,
         "type": "scatter",
         "x": [
          2868
         ],
         "xaxis": "x",
         "y": [
          15
         ],
         "yaxis": "y"
        },
        {
         "hovertemplate": "노선번호=116<br>이용량=%{x}<br>배차간격 (분)=%{y}<extra></extra>",
         "legendgroup": "116",
         "marker": {
          "color": "#636efa",
          "symbol": "circle"
         },
         "mode": "markers",
         "name": "116",
         "orientation": "v",
         "showlegend": true,
         "type": "scatter",
         "x": [
          739
         ],
         "xaxis": "x",
         "y": [
          24
         ],
         "yaxis": "y"
        },
        {
         "hovertemplate": "노선번호=117<br>이용량=%{x}<br>배차간격 (분)=%{y}<extra></extra>",
         "legendgroup": "117",
         "marker": {
          "color": "#EF553B",
          "symbol": "circle"
         },
         "mode": "markers",
         "name": "117",
         "orientation": "v",
         "showlegend": true,
         "type": "scatter",
         "x": [
          1204
         ],
         "xaxis": "x",
         "y": [
          20
         ],
         "yaxis": "y"
        },
        {
         "hovertemplate": "노선번호=119<br>이용량=%{x}<br>배차간격 (분)=%{y}<extra></extra>",
         "legendgroup": "119",
         "marker": {
          "color": "#00cc96",
          "symbol": "circle"
         },
         "mode": "markers",
         "name": "119",
         "orientation": "v",
         "showlegend": true,
         "type": "scatter",
         "x": [
          2841
         ],
         "xaxis": "x",
         "y": [
          16
         ],
         "yaxis": "y"
        },
        {
         "hovertemplate": "노선번호=121<br>이용량=%{x}<br>배차간격 (분)=%{y}<extra></extra>",
         "legendgroup": "121",
         "marker": {
          "color": "#ab63fa",
          "symbol": "circle"
         },
         "mode": "markers",
         "name": "121",
         "orientation": "v",
         "showlegend": true,
         "type": "scatter",
         "x": [
          1543
         ],
         "xaxis": "x",
         "y": [
          22
         ],
         "yaxis": "y"
        },
        {
         "hovertemplate": "노선번호=201<br>이용량=%{x}<br>배차간격 (분)=%{y}<extra></extra>",
         "legendgroup": "201",
         "marker": {
          "color": "#FFA15A",
          "symbol": "circle"
         },
         "mode": "markers",
         "name": "201",
         "orientation": "v",
         "showlegend": true,
         "type": "scatter",
         "x": [
          6207
         ],
         "xaxis": "x",
         "y": [
          8
         ],
         "yaxis": "y"
        },
        {
         "hovertemplate": "노선번호=203<br>이용량=%{x}<br>배차간격 (분)=%{y}<extra></extra>",
         "legendgroup": "203",
         "marker": {
          "color": "#19d3f3",
          "symbol": "circle"
         },
         "mode": "markers",
         "name": "203",
         "orientation": "v",
         "showlegend": true,
         "type": "scatter",
         "x": [
          1959
         ],
         "xaxis": "x",
         "y": [
          16
         ],
         "yaxis": "y"
        },
        {
         "hovertemplate": "노선번호=211<br>이용량=%{x}<br>배차간격 (분)=%{y}<extra></extra>",
         "legendgroup": "211",
         "marker": {
          "color": "#FF6692",
          "symbol": "circle"
         },
         "mode": "markers",
         "name": "211",
         "orientation": "v",
         "showlegend": true,
         "type": "scatter",
         "x": [
          3660
         ],
         "xaxis": "x",
         "y": [
          12
         ],
         "yaxis": "y"
        },
        {
         "hovertemplate": "노선번호=212<br>이용량=%{x}<br>배차간격 (분)=%{y}<extra></extra>",
         "legendgroup": "212",
         "marker": {
          "color": "#B6E880",
          "symbol": "circle"
         },
         "mode": "markers",
         "name": "212",
         "orientation": "v",
         "showlegend": true,
         "type": "scatter",
         "x": [
          398
         ],
         "xaxis": "x",
         "y": [
          24
         ],
         "yaxis": "y"
        },
        {
         "hovertemplate": "노선번호=213<br>이용량=%{x}<br>배차간격 (분)=%{y}<extra></extra>",
         "legendgroup": "213",
         "marker": {
          "color": "#FF97FF",
          "symbol": "circle"
         },
         "mode": "markers",
         "name": "213",
         "orientation": "v",
         "showlegend": true,
         "type": "scatter",
         "x": [
          243
         ],
         "xaxis": "x",
         "y": [
          34
         ],
         "yaxis": "y"
        },
        {
         "hovertemplate": "노선번호=216<br>이용량=%{x}<br>배차간격 (분)=%{y}<extra></extra>",
         "legendgroup": "216",
         "marker": {
          "color": "#FECB52",
          "symbol": "circle"
         },
         "mode": "markers",
         "name": "216",
         "orientation": "v",
         "showlegend": true,
         "type": "scatter",
         "x": [
          2040
         ],
         "xaxis": "x",
         "y": [
          17
         ],
         "yaxis": "y"
        },
        {
         "hovertemplate": "노선번호=301<br>이용량=%{x}<br>배차간격 (분)=%{y}<extra></extra>",
         "legendgroup": "301",
         "marker": {
          "color": "#636efa",
          "symbol": "circle"
         },
         "mode": "markers",
         "name": "301",
         "orientation": "v",
         "showlegend": true,
         "type": "scatter",
         "x": [
          7023
         ],
         "xaxis": "x",
         "y": [
          8
         ],
         "yaxis": "y"
        },
        {
         "hovertemplate": "노선번호=311<br>이용량=%{x}<br>배차간격 (분)=%{y}<extra></extra>",
         "legendgroup": "311",
         "marker": {
          "color": "#EF553B",
          "symbol": "circle"
         },
         "mode": "markers",
         "name": "311",
         "orientation": "v",
         "showlegend": true,
         "type": "scatter",
         "x": [
          7549
         ],
         "xaxis": "x",
         "y": [
          7
         ],
         "yaxis": "y"
        },
        {
         "hovertemplate": "노선번호=312<br>이용량=%{x}<br>배차간격 (분)=%{y}<extra></extra>",
         "legendgroup": "312",
         "marker": {
          "color": "#00cc96",
          "symbol": "circle"
         },
         "mode": "markers",
         "name": "312",
         "orientation": "v",
         "showlegend": true,
         "type": "scatter",
         "x": [
          2120
         ],
         "xaxis": "x",
         "y": [
          20
         ],
         "yaxis": "y"
        },
        {
         "hovertemplate": "노선번호=313<br>이용량=%{x}<br>배차간격 (분)=%{y}<extra></extra>",
         "legendgroup": "313",
         "marker": {
          "color": "#ab63fa",
          "symbol": "circle"
         },
         "mode": "markers",
         "name": "313",
         "orientation": "v",
         "showlegend": true,
         "type": "scatter",
         "x": [
          866
         ],
         "xaxis": "x",
         "y": [
          25
         ],
         "yaxis": "y"
        },
        {
         "hovertemplate": "노선번호=314<br>이용량=%{x}<br>배차간격 (분)=%{y}<extra></extra>",
         "legendgroup": "314",
         "marker": {
          "color": "#FFA15A",
          "symbol": "circle"
         },
         "mode": "markers",
         "name": "314",
         "orientation": "v",
         "showlegend": true,
         "type": "scatter",
         "x": [
          4406
         ],
         "xaxis": "x",
         "y": [
          11
         ],
         "yaxis": "y"
        },
        {
         "hovertemplate": "노선번호=315<br>이용량=%{x}<br>배차간격 (분)=%{y}<extra></extra>",
         "legendgroup": "315",
         "marker": {
          "color": "#19d3f3",
          "symbol": "circle"
         },
         "mode": "markers",
         "name": "315",
         "orientation": "v",
         "showlegend": true,
         "type": "scatter",
         "x": [
          1496
         ],
         "xaxis": "x",
         "y": [
          20
         ],
         "yaxis": "y"
        },
        {
         "hovertemplate": "노선번호=316<br>이용량=%{x}<br>배차간격 (분)=%{y}<extra></extra>",
         "legendgroup": "316",
         "marker": {
          "color": "#FF6692",
          "symbol": "circle"
         },
         "mode": "markers",
         "name": "316",
         "orientation": "v",
         "showlegend": true,
         "type": "scatter",
         "x": [
          2106
         ],
         "xaxis": "x",
         "y": [
          21
         ],
         "yaxis": "y"
        },
        {
         "hovertemplate": "노선번호=317<br>이용량=%{x}<br>배차간격 (분)=%{y}<extra></extra>",
         "legendgroup": "317",
         "marker": {
          "color": "#B6E880",
          "symbol": "circle"
         },
         "mode": "markers",
         "name": "317",
         "orientation": "v",
         "showlegend": true,
         "type": "scatter",
         "x": [
          1031
         ],
         "xaxis": "x",
         "y": [
          27
         ],
         "yaxis": "y"
        },
        {
         "hovertemplate": "노선번호=318<br>이용량=%{x}<br>배차간격 (분)=%{y}<extra></extra>",
         "legendgroup": "318",
         "marker": {
          "color": "#FF97FF",
          "symbol": "circle"
         },
         "mode": "markers",
         "name": "318",
         "orientation": "v",
         "showlegend": true,
         "type": "scatter",
         "x": [
          2183
         ],
         "xaxis": "x",
         "y": [
          19
         ],
         "yaxis": "y"
        },
        {
         "hovertemplate": "노선번호=511<br>이용량=%{x}<br>배차간격 (분)=%{y}<extra></extra>",
         "legendgroup": "511",
         "marker": {
          "color": "#FECB52",
          "symbol": "circle"
         },
         "mode": "markers",
         "name": "511",
         "orientation": "v",
         "showlegend": true,
         "type": "scatter",
         "x": [
          2733
         ],
         "xaxis": "x",
         "y": [
          13
         ],
         "yaxis": "y"
        },
        {
         "hovertemplate": "노선번호=512<br>이용량=%{x}<br>배차간격 (분)=%{y}<extra></extra>",
         "legendgroup": "512",
         "marker": {
          "color": "#636efa",
          "symbol": "circle"
         },
         "mode": "markers",
         "name": "512",
         "orientation": "v",
         "showlegend": true,
         "type": "scatter",
         "x": [
          1681
         ],
         "xaxis": "x",
         "y": [
          22
         ],
         "yaxis": "y"
        },
        {
         "hovertemplate": "노선번호=513<br>이용량=%{x}<br>배차간격 (분)=%{y}<extra></extra>",
         "legendgroup": "513",
         "marker": {
          "color": "#EF553B",
          "symbol": "circle"
         },
         "mode": "markers",
         "name": "513",
         "orientation": "v",
         "showlegend": true,
         "type": "scatter",
         "x": [
          1280
         ],
         "xaxis": "x",
         "y": [
          23
         ],
         "yaxis": "y"
        },
        {
         "hovertemplate": "노선번호=514<br>이용량=%{x}<br>배차간격 (분)=%{y}<extra></extra>",
         "legendgroup": "514",
         "marker": {
          "color": "#00cc96",
          "symbol": "circle"
         },
         "mode": "markers",
         "name": "514",
         "orientation": "v",
         "showlegend": true,
         "type": "scatter",
         "x": [
          2403
         ],
         "xaxis": "x",
         "y": [
          17
         ],
         "yaxis": "y"
        },
        {
         "hovertemplate": "노선번호=601<br>이용량=%{x}<br>배차간격 (분)=%{y}<extra></extra>",
         "legendgroup": "601",
         "marker": {
          "color": "#ab63fa",
          "symbol": "circle"
         },
         "mode": "markers",
         "name": "601",
         "orientation": "v",
         "showlegend": true,
         "type": "scatter",
         "x": [
          1898
         ],
         "xaxis": "x",
         "y": [
          21
         ],
         "yaxis": "y"
        },
        {
         "hovertemplate": "노선번호=602<br>이용량=%{x}<br>배차간격 (분)=%{y}<extra></extra>",
         "legendgroup": "602",
         "marker": {
          "color": "#FFA15A",
          "symbol": "circle"
         },
         "mode": "markers",
         "name": "602",
         "orientation": "v",
         "showlegend": true,
         "type": "scatter",
         "x": [
          1748
         ],
         "xaxis": "x",
         "y": [
          18
         ],
         "yaxis": "y"
        },
        {
         "hovertemplate": "노선번호=603<br>이용량=%{x}<br>배차간격 (분)=%{y}<extra></extra>",
         "legendgroup": "603",
         "marker": {
          "color": "#19d3f3",
          "symbol": "circle"
         },
         "mode": "markers",
         "name": "603",
         "orientation": "v",
         "showlegend": true,
         "type": "scatter",
         "x": [
          3468
         ],
         "xaxis": "x",
         "y": [
          13
         ],
         "yaxis": "y"
        },
        {
         "hovertemplate": "노선번호=604<br>이용량=%{x}<br>배차간격 (분)=%{y}<extra></extra>",
         "legendgroup": "604",
         "marker": {
          "color": "#FF6692",
          "symbol": "circle"
         },
         "mode": "markers",
         "name": "604",
         "orientation": "v",
         "showlegend": true,
         "type": "scatter",
         "x": [
          4165
         ],
         "xaxis": "x",
         "y": [
          12
         ],
         "yaxis": "y"
        },
        {
         "hovertemplate": "노선번호=605<br>이용량=%{x}<br>배차간격 (분)=%{y}<extra></extra>",
         "legendgroup": "605",
         "marker": {
          "color": "#B6E880",
          "symbol": "circle"
         },
         "mode": "markers",
         "name": "605",
         "orientation": "v",
         "showlegend": true,
         "type": "scatter",
         "x": [
          4264
         ],
         "xaxis": "x",
         "y": [
          11
         ],
         "yaxis": "y"
        },
        {
         "hovertemplate": "노선번호=606<br>이용량=%{x}<br>배차간격 (분)=%{y}<extra></extra>",
         "legendgroup": "606",
         "marker": {
          "color": "#FF97FF",
          "symbol": "circle"
         },
         "mode": "markers",
         "name": "606",
         "orientation": "v",
         "showlegend": true,
         "type": "scatter",
         "x": [
          1449
         ],
         "xaxis": "x",
         "y": [
          22
         ],
         "yaxis": "y"
        },
        {
         "hovertemplate": "노선번호=608<br>이용량=%{x}<br>배차간격 (분)=%{y}<extra></extra>",
         "legendgroup": "608",
         "marker": {
          "color": "#FECB52",
          "symbol": "circle"
         },
         "mode": "markers",
         "name": "608",
         "orientation": "v",
         "showlegend": true,
         "type": "scatter",
         "x": [
          1642
         ],
         "xaxis": "x",
         "y": [
          20
         ],
         "yaxis": "y"
        },
        {
         "hovertemplate": "노선번호=611<br>이용량=%{x}<br>배차간격 (분)=%{y}<extra></extra>",
         "legendgroup": "611",
         "marker": {
          "color": "#636efa",
          "symbol": "circle"
         },
         "mode": "markers",
         "name": "611",
         "orientation": "v",
         "showlegend": true,
         "type": "scatter",
         "x": [
          1884
         ],
         "xaxis": "x",
         "y": [
          19
         ],
         "yaxis": "y"
        },
        {
         "hovertemplate": "노선번호=612<br>이용량=%{x}<br>배차간격 (분)=%{y}<extra></extra>",
         "legendgroup": "612",
         "marker": {
          "color": "#EF553B",
          "symbol": "circle"
         },
         "mode": "markers",
         "name": "612",
         "orientation": "v",
         "showlegend": true,
         "type": "scatter",
         "x": [
          1202
         ],
         "xaxis": "x",
         "y": [
          22
         ],
         "yaxis": "y"
        },
        {
         "hovertemplate": "노선번호=613<br>이용량=%{x}<br>배차간격 (분)=%{y}<extra></extra>",
         "legendgroup": "613",
         "marker": {
          "color": "#00cc96",
          "symbol": "circle"
         },
         "mode": "markers",
         "name": "613",
         "orientation": "v",
         "showlegend": true,
         "type": "scatter",
         "x": [
          2555
         ],
         "xaxis": "x",
         "y": [
          14
         ],
         "yaxis": "y"
        },
        {
         "hovertemplate": "노선번호=614<br>이용량=%{x}<br>배차간격 (분)=%{y}<extra></extra>",
         "legendgroup": "614",
         "marker": {
          "color": "#ab63fa",
          "symbol": "circle"
         },
         "mode": "markers",
         "name": "614",
         "orientation": "v",
         "showlegend": true,
         "type": "scatter",
         "x": [
          1360
         ],
         "xaxis": "x",
         "y": [
          20
         ],
         "yaxis": "y"
        },
        {
         "hovertemplate": "노선번호=615<br>이용량=%{x}<br>배차간격 (분)=%{y}<extra></extra>",
         "legendgroup": "615",
         "marker": {
          "color": "#FFA15A",
          "symbol": "circle"
         },
         "mode": "markers",
         "name": "615",
         "orientation": "v",
         "showlegend": true,
         "type": "scatter",
         "x": [
          2847
         ],
         "xaxis": "x",
         "y": [
          14
         ],
         "yaxis": "y"
        },
        {
         "hovertemplate": "노선번호=616<br>이용량=%{x}<br>배차간격 (분)=%{y}<extra></extra>",
         "legendgroup": "616",
         "marker": {
          "color": "#19d3f3",
          "symbol": "circle"
         },
         "mode": "markers",
         "name": "616",
         "orientation": "v",
         "showlegend": true,
         "type": "scatter",
         "x": [
          1892
         ],
         "xaxis": "x",
         "y": [
          20
         ],
         "yaxis": "y"
        },
        {
         "hovertemplate": "노선번호=617<br>이용량=%{x}<br>배차간격 (분)=%{y}<extra></extra>",
         "legendgroup": "617",
         "marker": {
          "color": "#FF6692",
          "symbol": "circle"
         },
         "mode": "markers",
         "name": "617",
         "orientation": "v",
         "showlegend": true,
         "type": "scatter",
         "x": [
          2419
         ],
         "xaxis": "x",
         "y": [
          17
         ],
         "yaxis": "y"
        },
        {
         "hovertemplate": "노선번호=618<br>이용량=%{x}<br>배차간격 (분)=%{y}<extra></extra>",
         "legendgroup": "618",
         "marker": {
          "color": "#B6E880",
          "symbol": "circle"
         },
         "mode": "markers",
         "name": "618",
         "orientation": "v",
         "showlegend": true,
         "type": "scatter",
         "x": [
          2139
         ],
         "xaxis": "x",
         "y": [
          18
         ],
         "yaxis": "y"
        },
        {
         "hovertemplate": "노선번호=619<br>이용량=%{x}<br>배차간격 (분)=%{y}<extra></extra>",
         "legendgroup": "619",
         "marker": {
          "color": "#FF97FF",
          "symbol": "circle"
         },
         "mode": "markers",
         "name": "619",
         "orientation": "v",
         "showlegend": true,
         "type": "scatter",
         "x": [
          1620
         ],
         "xaxis": "x",
         "y": [
          21
         ],
         "yaxis": "y"
        },
        {
         "hovertemplate": "노선번호=620<br>이용량=%{x}<br>배차간격 (분)=%{y}<extra></extra>",
         "legendgroup": "620",
         "marker": {
          "color": "#FECB52",
          "symbol": "circle"
         },
         "mode": "markers",
         "name": "620",
         "orientation": "v",
         "showlegend": true,
         "type": "scatter",
         "x": [
          822
         ],
         "xaxis": "x",
         "y": [
          27
         ],
         "yaxis": "y"
        },
        {
         "hovertemplate": "노선번호=622<br>이용량=%{x}<br>배차간격 (분)=%{y}<extra></extra>",
         "legendgroup": "622",
         "marker": {
          "color": "#636efa",
          "symbol": "circle"
         },
         "mode": "markers",
         "name": "622",
         "orientation": "v",
         "showlegend": true,
         "type": "scatter",
         "x": [
          312
         ],
         "xaxis": "x",
         "y": [
          29
         ],
         "yaxis": "y"
        },
        {
         "hovertemplate": "노선번호=701<br>이용량=%{x}<br>배차간격 (분)=%{y}<extra></extra>",
         "legendgroup": "701",
         "marker": {
          "color": "#EF553B",
          "symbol": "circle"
         },
         "mode": "markers",
         "name": "701",
         "orientation": "v",
         "showlegend": true,
         "type": "scatter",
         "x": [
          1814
         ],
         "xaxis": "x",
         "y": [
          18
         ],
         "yaxis": "y"
        },
        {
         "hovertemplate": "노선번호=703<br>이용량=%{x}<br>배차간격 (분)=%{y}<extra></extra>",
         "legendgroup": "703",
         "marker": {
          "color": "#00cc96",
          "symbol": "circle"
         },
         "mode": "markers",
         "name": "703",
         "orientation": "v",
         "showlegend": true,
         "type": "scatter",
         "x": [
          5146
         ],
         "xaxis": "x",
         "y": [
          12
         ],
         "yaxis": "y"
        },
        {
         "hovertemplate": "노선번호=704<br>이용량=%{x}<br>배차간격 (분)=%{y}<extra></extra>",
         "legendgroup": "704",
         "marker": {
          "color": "#ab63fa",
          "symbol": "circle"
         },
         "mode": "markers",
         "name": "704",
         "orientation": "v",
         "showlegend": true,
         "type": "scatter",
         "x": [
          4610
         ],
         "xaxis": "x",
         "y": [
          14
         ],
         "yaxis": "y"
        },
        {
         "hovertemplate": "노선번호=705<br>이용량=%{x}<br>배차간격 (분)=%{y}<extra></extra>",
         "legendgroup": "705",
         "marker": {
          "color": "#FFA15A",
          "symbol": "circle"
         },
         "mode": "markers",
         "name": "705",
         "orientation": "v",
         "showlegend": true,
         "type": "scatter",
         "x": [
          4382
         ],
         "xaxis": "x",
         "y": [
          14
         ],
         "yaxis": "y"
        },
        {
         "hovertemplate": "노선번호=706<br>이용량=%{x}<br>배차간격 (분)=%{y}<extra></extra>",
         "legendgroup": "706",
         "marker": {
          "color": "#19d3f3",
          "symbol": "circle"
         },
         "mode": "markers",
         "name": "706",
         "orientation": "v",
         "showlegend": true,
         "type": "scatter",
         "x": [
          3150
         ],
         "xaxis": "x",
         "y": [
          15
         ],
         "yaxis": "y"
        },
        {
         "hovertemplate": "노선번호=711<br>이용량=%{x}<br>배차간격 (분)=%{y}<extra></extra>",
         "legendgroup": "711",
         "marker": {
          "color": "#FF6692",
          "symbol": "circle"
         },
         "mode": "markers",
         "name": "711",
         "orientation": "v",
         "showlegend": true,
         "type": "scatter",
         "x": [
          2430
         ],
         "xaxis": "x",
         "y": [
          17
         ],
         "yaxis": "y"
        },
        {
         "hovertemplate": "노선번호=712<br>이용량=%{x}<br>배차간격 (분)=%{y}<extra></extra>",
         "legendgroup": "712",
         "marker": {
          "color": "#B6E880",
          "symbol": "circle"
         },
         "mode": "markers",
         "name": "712",
         "orientation": "v",
         "showlegend": true,
         "type": "scatter",
         "x": [
          409
         ],
         "xaxis": "x",
         "y": [
          31
         ],
         "yaxis": "y"
        },
        {
         "hovertemplate": "노선번호=802<br>이용량=%{x}<br>배차간격 (분)=%{y}<extra></extra>",
         "legendgroup": "802",
         "marker": {
          "color": "#FF97FF",
          "symbol": "circle"
         },
         "mode": "markers",
         "name": "802",
         "orientation": "v",
         "showlegend": true,
         "type": "scatter",
         "x": [
          2578
         ],
         "xaxis": "x",
         "y": [
          18
         ],
         "yaxis": "y"
        },
        {
         "hovertemplate": "노선번호=911<br>이용량=%{x}<br>배차간격 (분)=%{y}<extra></extra>",
         "legendgroup": "911",
         "marker": {
          "color": "#FECB52",
          "symbol": "circle"
         },
         "mode": "markers",
         "name": "911",
         "orientation": "v",
         "showlegend": true,
         "type": "scatter",
         "x": [
          772
         ],
         "xaxis": "x",
         "y": [
          25
         ],
         "yaxis": "y"
        },
        {
         "hovertemplate": "노선번호=912<br>이용량=%{x}<br>배차간격 (분)=%{y}<extra></extra>",
         "legendgroup": "912",
         "marker": {
          "color": "#636efa",
          "symbol": "circle"
         },
         "mode": "markers",
         "name": "912",
         "orientation": "v",
         "showlegend": true,
         "type": "scatter",
         "x": [
          918
         ],
         "xaxis": "x",
         "y": [
          19
         ],
         "yaxis": "y"
        },
        {
         "hovertemplate": "노선번호=916<br>이용량=%{x}<br>배차간격 (분)=%{y}<extra></extra>",
         "legendgroup": "916",
         "marker": {
          "color": "#EF553B",
          "symbol": "circle"
         },
         "mode": "markers",
         "name": "916",
         "orientation": "v",
         "showlegend": true,
         "type": "scatter",
         "x": [
          1283
         ],
         "xaxis": "x",
         "y": [
          22
         ],
         "yaxis": "y"
        },
        {
         "hovertemplate": "노선번호=918<br>이용량=%{x}<br>배차간격 (분)=%{y}<extra></extra>",
         "legendgroup": "918",
         "marker": {
          "color": "#00cc96",
          "symbol": "circle"
         },
         "mode": "markers",
         "name": "918",
         "orientation": "v",
         "showlegend": true,
         "type": "scatter",
         "x": [
          1200
         ],
         "xaxis": "x",
         "y": [
          22
         ],
         "yaxis": "y"
        },
        {
         "line": {
          "color": "red"
         },
         "mode": "lines",
         "name": "2차 곡선 회귀선",
         "type": "scatter",
         "x": [
          243,
          324.80808080808083,
          406.6161616161616,
          488.4242424242424,
          570.2323232323232,
          652.040404040404,
          733.8484848484848,
          815.6565656565656,
          897.4646464646464,
          979.2727272727273,
          1061.080808080808,
          1142.8888888888887,
          1224.6969696969695,
          1306.5050505050503,
          1388.3131313131312,
          1470.121212121212,
          1551.9292929292928,
          1633.7373737373737,
          1715.5454545454545,
          1797.3535353535353,
          1879.1616161616162,
          1960.9696969696968,
          2042.7777777777776,
          2124.5858585858587,
          2206.393939393939,
          2288.2020202020203,
          2370.0101010101007,
          2451.8181818181815,
          2533.6262626262624,
          2615.434343434343,
          2697.242424242424,
          2779.050505050505,
          2860.8585858585857,
          2942.6666666666665,
          3024.4747474747473,
          3106.282828282828,
          3188.090909090909,
          3269.89898989899,
          3351.7070707070707,
          3433.5151515151515,
          3515.3232323232323,
          3597.1313131313127,
          3678.9393939393935,
          3760.7474747474744,
          3842.555555555555,
          3924.363636363636,
          4006.171717171717,
          4087.9797979797977,
          4169.787878787878,
          4251.595959595959,
          4333.404040404041,
          4415.212121212121,
          4497.020202020201,
          4578.828282828283,
          4660.636363636363,
          4742.444444444444,
          4824.252525252525,
          4906.060606060606,
          4987.868686868686,
          5069.676767676768,
          5151.484848484848,
          5233.292929292929,
          5315.10101010101,
          5396.909090909091,
          5478.717171717171,
          5560.525252525252,
          5642.333333333333,
          5724.141414141413,
          5805.949494949495,
          5887.757575757575,
          5969.565656565656,
          6051.373737373737,
          6133.181818181818,
          6214.989898989898,
          6296.79797979798,
          6378.60606060606,
          6460.414141414141,
          6542.222222222222,
          6624.030303030303,
          6705.838383838383,
          6787.646464646465,
          6869.454545454545,
          6951.262626262625,
          7033.070707070707,
          7114.878787878787,
          7196.686868686868,
          7278.494949494949,
          7360.30303030303,
          7442.11111111111,
          7523.919191919192,
          7605.727272727272,
          7687.535353535353,
          7769.343434343434,
          7851.151515151515,
          7932.959595959595,
          8014.767676767677,
          8096.575757575757,
          8178.383838383837,
          8260.191919191919,
          8342
         ],
         "y": [
          27.94413971663401,
          27.466737301863446,
          26.99508002691234,
          26.529167891780695,
          26.069000896468502,
          25.614579040975766,
          25.165902325302486,
          24.722970749448663,
          24.285784313414297,
          23.854343017199387,
          23.42864686080393,
          23.008695844227937,
          22.594489967471393,
          22.18602923053431,
          21.78331363341668,
          21.38634317611851,
          20.99511785863979,
          20.60963768098053,
          20.229902643140726,
          19.85591274512038,
          19.48766798691949,
          19.125168368538056,
          18.76841388997608,
          18.417404551233556,
          18.07214035231049,
          17.732621293206883,
          17.39884737392273,
          17.070818594458036,
          16.748534954812794,
          16.43199645498701,
          16.121203094980682,
          15.816154874793813,
          15.516851794426398,
          15.223293853878442,
          14.935481053149939,
          14.653413392240894,
          14.377090871151307,
          14.106513489881173,
          13.841681248430493,
          13.582594146799275,
          13.32925218498751,
          13.081655362995207,
          12.839803680822357,
          12.603697138468963,
          12.373335735935026,
          12.148719473220538,
          11.929848350325514,
          11.716722367249947,
          11.509341523993836,
          11.307705820557178,
          11.111815256939977,
          10.921669833142232,
          10.737269549163948,
          10.558614405005113,
          10.385704400665741,
          10.21853953614582,
          10.05711981144536,
          9.901445226564356,
          9.751515781502807,
          9.607331476260711,
          9.468892310838076,
          9.336198285234897,
          9.209249399451174,
          9.088045653486908,
          8.972587047342095,
          8.86287358101674,
          8.758905254510843,
          8.660682067824396,
          8.568204020957417,
          8.481471113909883,
          8.400483346681817,
          8.325240719273197,
          8.25574323168404,
          8.191990883914332,
          8.133983675964078,
          8.081721607833291,
          8.035204679521957,
          7.994432891030083,
          7.959406242357655,
          7.930124733504687,
          7.90658836447118,
          7.888797135257125,
          7.876751045862534,
          7.870450096287392,
          7.869894286531711,
          7.875083616595479,
          7.886018086478703,
          7.9026976961813915,
          7.925122445703533,
          7.953292335045134,
          7.987207364206185,
          8.026867533186696,
          8.072272841986663,
          8.123423290606087,
          8.180318879044965,
          8.242959607303305,
          8.311345475381096,
          8.385476483278339,
          8.465352630995046,
          8.550973918531206
         ]
        }
       ],
       "layout": {
        "font": {
         "family": "Malgun Gothic"
        },
        "hovermode": "closest",
        "legend": {
         "title": {
          "text": "노선번호"
         },
         "tracegroupgap": 0,
         "x": 9000,
         "y": 1.1
        },
        "margin": {
         "t": 60
        },
        "showlegend": true,
        "template": {
         "data": {
          "bar": [
           {
            "error_x": {
             "color": "#2a3f5f"
            },
            "error_y": {
             "color": "#2a3f5f"
            },
            "marker": {
             "line": {
              "color": "#E5ECF6",
              "width": 0.5
             },
             "pattern": {
              "fillmode": "overlay",
              "size": 10,
              "solidity": 0.2
             }
            },
            "type": "bar"
           }
          ],
          "barpolar": [
           {
            "marker": {
             "line": {
              "color": "#E5ECF6",
              "width": 0.5
             },
             "pattern": {
              "fillmode": "overlay",
              "size": 10,
              "solidity": 0.2
             }
            },
            "type": "barpolar"
           }
          ],
          "carpet": [
           {
            "aaxis": {
             "endlinecolor": "#2a3f5f",
             "gridcolor": "white",
             "linecolor": "white",
             "minorgridcolor": "white",
             "startlinecolor": "#2a3f5f"
            },
            "baxis": {
             "endlinecolor": "#2a3f5f",
             "gridcolor": "white",
             "linecolor": "white",
             "minorgridcolor": "white",
             "startlinecolor": "#2a3f5f"
            },
            "type": "carpet"
           }
          ],
          "choropleth": [
           {
            "colorbar": {
             "outlinewidth": 0,
             "ticks": ""
            },
            "type": "choropleth"
           }
          ],
          "contour": [
           {
            "colorbar": {
             "outlinewidth": 0,
             "ticks": ""
            },
            "colorscale": [
             [
              0,
              "#0d0887"
             ],
             [
              0.1111111111111111,
              "#46039f"
             ],
             [
              0.2222222222222222,
              "#7201a8"
             ],
             [
              0.3333333333333333,
              "#9c179e"
             ],
             [
              0.4444444444444444,
              "#bd3786"
             ],
             [
              0.5555555555555556,
              "#d8576b"
             ],
             [
              0.6666666666666666,
              "#ed7953"
             ],
             [
              0.7777777777777778,
              "#fb9f3a"
             ],
             [
              0.8888888888888888,
              "#fdca26"
             ],
             [
              1,
              "#f0f921"
             ]
            ],
            "type": "contour"
           }
          ],
          "contourcarpet": [
           {
            "colorbar": {
             "outlinewidth": 0,
             "ticks": ""
            },
            "type": "contourcarpet"
           }
          ],
          "heatmap": [
           {
            "colorbar": {
             "outlinewidth": 0,
             "ticks": ""
            },
            "colorscale": [
             [
              0,
              "#0d0887"
             ],
             [
              0.1111111111111111,
              "#46039f"
             ],
             [
              0.2222222222222222,
              "#7201a8"
             ],
             [
              0.3333333333333333,
              "#9c179e"
             ],
             [
              0.4444444444444444,
              "#bd3786"
             ],
             [
              0.5555555555555556,
              "#d8576b"
             ],
             [
              0.6666666666666666,
              "#ed7953"
             ],
             [
              0.7777777777777778,
              "#fb9f3a"
             ],
             [
              0.8888888888888888,
              "#fdca26"
             ],
             [
              1,
              "#f0f921"
             ]
            ],
            "type": "heatmap"
           }
          ],
          "heatmapgl": [
           {
            "colorbar": {
             "outlinewidth": 0,
             "ticks": ""
            },
            "colorscale": [
             [
              0,
              "#0d0887"
             ],
             [
              0.1111111111111111,
              "#46039f"
             ],
             [
              0.2222222222222222,
              "#7201a8"
             ],
             [
              0.3333333333333333,
              "#9c179e"
             ],
             [
              0.4444444444444444,
              "#bd3786"
             ],
             [
              0.5555555555555556,
              "#d8576b"
             ],
             [
              0.6666666666666666,
              "#ed7953"
             ],
             [
              0.7777777777777778,
              "#fb9f3a"
             ],
             [
              0.8888888888888888,
              "#fdca26"
             ],
             [
              1,
              "#f0f921"
             ]
            ],
            "type": "heatmapgl"
           }
          ],
          "histogram": [
           {
            "marker": {
             "pattern": {
              "fillmode": "overlay",
              "size": 10,
              "solidity": 0.2
             }
            },
            "type": "histogram"
           }
          ],
          "histogram2d": [
           {
            "colorbar": {
             "outlinewidth": 0,
             "ticks": ""
            },
            "colorscale": [
             [
              0,
              "#0d0887"
             ],
             [
              0.1111111111111111,
              "#46039f"
             ],
             [
              0.2222222222222222,
              "#7201a8"
             ],
             [
              0.3333333333333333,
              "#9c179e"
             ],
             [
              0.4444444444444444,
              "#bd3786"
             ],
             [
              0.5555555555555556,
              "#d8576b"
             ],
             [
              0.6666666666666666,
              "#ed7953"
             ],
             [
              0.7777777777777778,
              "#fb9f3a"
             ],
             [
              0.8888888888888888,
              "#fdca26"
             ],
             [
              1,
              "#f0f921"
             ]
            ],
            "type": "histogram2d"
           }
          ],
          "histogram2dcontour": [
           {
            "colorbar": {
             "outlinewidth": 0,
             "ticks": ""
            },
            "colorscale": [
             [
              0,
              "#0d0887"
             ],
             [
              0.1111111111111111,
              "#46039f"
             ],
             [
              0.2222222222222222,
              "#7201a8"
             ],
             [
              0.3333333333333333,
              "#9c179e"
             ],
             [
              0.4444444444444444,
              "#bd3786"
             ],
             [
              0.5555555555555556,
              "#d8576b"
             ],
             [
              0.6666666666666666,
              "#ed7953"
             ],
             [
              0.7777777777777778,
              "#fb9f3a"
             ],
             [
              0.8888888888888888,
              "#fdca26"
             ],
             [
              1,
              "#f0f921"
             ]
            ],
            "type": "histogram2dcontour"
           }
          ],
          "mesh3d": [
           {
            "colorbar": {
             "outlinewidth": 0,
             "ticks": ""
            },
            "type": "mesh3d"
           }
          ],
          "parcoords": [
           {
            "line": {
             "colorbar": {
              "outlinewidth": 0,
              "ticks": ""
             }
            },
            "type": "parcoords"
           }
          ],
          "pie": [
           {
            "automargin": true,
            "type": "pie"
           }
          ],
          "scatter": [
           {
            "fillpattern": {
             "fillmode": "overlay",
             "size": 10,
             "solidity": 0.2
            },
            "type": "scatter"
           }
          ],
          "scatter3d": [
           {
            "line": {
             "colorbar": {
              "outlinewidth": 0,
              "ticks": ""
             }
            },
            "marker": {
             "colorbar": {
              "outlinewidth": 0,
              "ticks": ""
             }
            },
            "type": "scatter3d"
           }
          ],
          "scattercarpet": [
           {
            "marker": {
             "colorbar": {
              "outlinewidth": 0,
              "ticks": ""
             }
            },
            "type": "scattercarpet"
           }
          ],
          "scattergeo": [
           {
            "marker": {
             "colorbar": {
              "outlinewidth": 0,
              "ticks": ""
             }
            },
            "type": "scattergeo"
           }
          ],
          "scattergl": [
           {
            "marker": {
             "colorbar": {
              "outlinewidth": 0,
              "ticks": ""
             }
            },
            "type": "scattergl"
           }
          ],
          "scattermapbox": [
           {
            "marker": {
             "colorbar": {
              "outlinewidth": 0,
              "ticks": ""
             }
            },
            "type": "scattermapbox"
           }
          ],
          "scatterpolar": [
           {
            "marker": {
             "colorbar": {
              "outlinewidth": 0,
              "ticks": ""
             }
            },
            "type": "scatterpolar"
           }
          ],
          "scatterpolargl": [
           {
            "marker": {
             "colorbar": {
              "outlinewidth": 0,
              "ticks": ""
             }
            },
            "type": "scatterpolargl"
           }
          ],
          "scatterternary": [
           {
            "marker": {
             "colorbar": {
              "outlinewidth": 0,
              "ticks": ""
             }
            },
            "type": "scatterternary"
           }
          ],
          "surface": [
           {
            "colorbar": {
             "outlinewidth": 0,
             "ticks": ""
            },
            "colorscale": [
             [
              0,
              "#0d0887"
             ],
             [
              0.1111111111111111,
              "#46039f"
             ],
             [
              0.2222222222222222,
              "#7201a8"
             ],
             [
              0.3333333333333333,
              "#9c179e"
             ],
             [
              0.4444444444444444,
              "#bd3786"
             ],
             [
              0.5555555555555556,
              "#d8576b"
             ],
             [
              0.6666666666666666,
              "#ed7953"
             ],
             [
              0.7777777777777778,
              "#fb9f3a"
             ],
             [
              0.8888888888888888,
              "#fdca26"
             ],
             [
              1,
              "#f0f921"
             ]
            ],
            "type": "surface"
           }
          ],
          "table": [
           {
            "cells": {
             "fill": {
              "color": "#EBF0F8"
             },
             "line": {
              "color": "white"
             }
            },
            "header": {
             "fill": {
              "color": "#C8D4E3"
             },
             "line": {
              "color": "white"
             }
            },
            "type": "table"
           }
          ]
         },
         "layout": {
          "annotationdefaults": {
           "arrowcolor": "#2a3f5f",
           "arrowhead": 0,
           "arrowwidth": 1
          },
          "autotypenumbers": "strict",
          "coloraxis": {
           "colorbar": {
            "outlinewidth": 0,
            "ticks": ""
           }
          },
          "colorscale": {
           "diverging": [
            [
             0,
             "#8e0152"
            ],
            [
             0.1,
             "#c51b7d"
            ],
            [
             0.2,
             "#de77ae"
            ],
            [
             0.3,
             "#f1b6da"
            ],
            [
             0.4,
             "#fde0ef"
            ],
            [
             0.5,
             "#f7f7f7"
            ],
            [
             0.6,
             "#e6f5d0"
            ],
            [
             0.7,
             "#b8e186"
            ],
            [
             0.8,
             "#7fbc41"
            ],
            [
             0.9,
             "#4d9221"
            ],
            [
             1,
             "#276419"
            ]
           ],
           "sequential": [
            [
             0,
             "#0d0887"
            ],
            [
             0.1111111111111111,
             "#46039f"
            ],
            [
             0.2222222222222222,
             "#7201a8"
            ],
            [
             0.3333333333333333,
             "#9c179e"
            ],
            [
             0.4444444444444444,
             "#bd3786"
            ],
            [
             0.5555555555555556,
             "#d8576b"
            ],
            [
             0.6666666666666666,
             "#ed7953"
            ],
            [
             0.7777777777777778,
             "#fb9f3a"
            ],
            [
             0.8888888888888888,
             "#fdca26"
            ],
            [
             1,
             "#f0f921"
            ]
           ],
           "sequentialminus": [
            [
             0,
             "#0d0887"
            ],
            [
             0.1111111111111111,
             "#46039f"
            ],
            [
             0.2222222222222222,
             "#7201a8"
            ],
            [
             0.3333333333333333,
             "#9c179e"
            ],
            [
             0.4444444444444444,
             "#bd3786"
            ],
            [
             0.5555555555555556,
             "#d8576b"
            ],
            [
             0.6666666666666666,
             "#ed7953"
            ],
            [
             0.7777777777777778,
             "#fb9f3a"
            ],
            [
             0.8888888888888888,
             "#fdca26"
            ],
            [
             1,
             "#f0f921"
            ]
           ]
          },
          "colorway": [
           "#636efa",
           "#EF553B",
           "#00cc96",
           "#ab63fa",
           "#FFA15A",
           "#19d3f3",
           "#FF6692",
           "#B6E880",
           "#FF97FF",
           "#FECB52"
          ],
          "font": {
           "color": "#2a3f5f"
          },
          "geo": {
           "bgcolor": "white",
           "lakecolor": "white",
           "landcolor": "#E5ECF6",
           "showlakes": true,
           "showland": true,
           "subunitcolor": "white"
          },
          "hoverlabel": {
           "align": "left"
          },
          "hovermode": "closest",
          "mapbox": {
           "style": "light"
          },
          "paper_bgcolor": "white",
          "plot_bgcolor": "#E5ECF6",
          "polar": {
           "angularaxis": {
            "gridcolor": "white",
            "linecolor": "white",
            "ticks": ""
           },
           "bgcolor": "#E5ECF6",
           "radialaxis": {
            "gridcolor": "white",
            "linecolor": "white",
            "ticks": ""
           }
          },
          "scene": {
           "xaxis": {
            "backgroundcolor": "#E5ECF6",
            "gridcolor": "white",
            "gridwidth": 2,
            "linecolor": "white",
            "showbackground": true,
            "ticks": "",
            "zerolinecolor": "white"
           },
           "yaxis": {
            "backgroundcolor": "#E5ECF6",
            "gridcolor": "white",
            "gridwidth": 2,
            "linecolor": "white",
            "showbackground": true,
            "ticks": "",
            "zerolinecolor": "white"
           },
           "zaxis": {
            "backgroundcolor": "#E5ECF6",
            "gridcolor": "white",
            "gridwidth": 2,
            "linecolor": "white",
            "showbackground": true,
            "ticks": "",
            "zerolinecolor": "white"
           }
          },
          "shapedefaults": {
           "line": {
            "color": "#2a3f5f"
           }
          },
          "ternary": {
           "aaxis": {
            "gridcolor": "white",
            "linecolor": "white",
            "ticks": ""
           },
           "baxis": {
            "gridcolor": "white",
            "linecolor": "white",
            "ticks": ""
           },
           "bgcolor": "#E5ECF6",
           "caxis": {
            "gridcolor": "white",
            "linecolor": "white",
            "ticks": ""
           }
          },
          "title": {
           "x": 0.05
          },
          "xaxis": {
           "automargin": true,
           "gridcolor": "white",
           "linecolor": "white",
           "ticks": "",
           "title": {
            "standoff": 15
           },
           "zerolinecolor": "white",
           "zerolinewidth": 2
          },
          "yaxis": {
           "automargin": true,
           "gridcolor": "white",
           "linecolor": "white",
           "ticks": "",
           "title": {
            "standoff": 15
           },
           "zerolinecolor": "white",
           "zerolinewidth": 2
          }
         }
        },
        "title": {
         "text": "이용량에 따른 배차간격"
        },
        "xaxis": {
         "anchor": "y",
         "domain": [
          0,
          1
         ],
         "title": {
          "text": "이용량"
         }
        },
        "yaxis": {
         "anchor": "x",
         "domain": [
          0,
          1
         ],
         "title": {
          "text": "배차간격 (분)"
         }
        }
       }
      }
     },
     "metadata": {},
     "output_type": "display_data"
    },
    {
     "data": {
      "text/plain": [
       "'bus_usage_graph_work.html'"
      ]
     },
     "execution_count": 58,
     "metadata": {},
     "output_type": "execute_result"
    }
   ],
   "source": [
    "import plotly.express as px\n",
    "import plotly.graph_objects as go\n",
    "import plotly.offline as pyo\n",
    "\n",
    "# 2차 곡선 회귀선 계수 계산\n",
    "a, b, c = np.polyfit(bus_usage_merge_work[\"USAGE_COUNT\"], bus_usage_merge_work[\"ALLO_INTERVAL\"], 2)\n",
    "\n",
    "# 2차 곡선 회귀선 함수 정의\n",
    "def quadratic_regression(x):\n",
    "    return a * x**2 + b * x + c\n",
    "\n",
    "# 산점도 그래프 생성\n",
    "fig = px.scatter(bus_usage_merge_work, x=\"USAGE_COUNT\", y=\"ALLO_INTERVAL\", color=\"ROUTE_NO\", \n",
    "                 labels={\"USAGE_COUNT\": \"이용량\", \"ALLO_INTERVAL\": \"배차간격 (분)\", \"ROUTE_NO\": \"노선번호\"})\n",
    "\n",
    "# 회귀선 그리기\n",
    "x_range = np.linspace(bus_usage_merge_work[\"USAGE_COUNT\"].min(), bus_usage_merge_work[\"USAGE_COUNT\"].max(), 100)\n",
    "y_range = [quadratic_regression(x) for x in x_range]\n",
    "\n",
    "fig.add_trace(go.Scatter(x=x_range, y=y_range, mode=\"lines\", name=\"2차 곡선 회귀선\", line=dict(color='red')))\n",
    "\n",
    "# 그래프 레이아웃 설정\n",
    "fig.update_layout(\n",
    "    title=\"이용량에 따른 배차간격\",\n",
    "    xaxis_title=\"이용량\",\n",
    "    yaxis_title=\"배차간격 (분)\",\n",
    "    legend_title=\"노선번호\",\n",
    "    showlegend=True,\n",
    "    legend=dict(x=9000, y=1.1),\n",
    "    font=dict(family=\"Malgun Gothic\"),\n",
    "    hovermode=\"closest\"\n",
    ")\n",
    "\n",
    "# 그래프 표시\n",
    "fig.show()\n",
    "pyo.plot(fig, filename='bus_usage_graph_work.html')\n",
    "\n"
   ]
  },
  {
   "cell_type": "code",
   "execution_count": 99,
   "metadata": {},
   "outputs": [],
   "source": [
    "# 새로운 열 'coordinate'를 생성하여 좌표를 저장\n",
    "bus_usage_merge_all['coordinate'] = list(zip(bus_usage_merge_all['USAGE_COUNT'], bus_usage_merge_all['ALLO_INTERVAL']))\n",
    "\n",
    "# 'ROUTE_NO'를 기준으로 그룹화하여 각 노선별 좌표 리스트를 저장\n",
    "coordinates_by_route = bus_usage_merge_all.groupby('ROUTE_NO')['coordinate'].apply(list).reset_index()\n",
    "\n",
    "# 각 노선의 좌표 리스트를 출력\n",
    "for index, row in coordinates_by_route.iterrows():\n",
    "    route_no = row['ROUTE_NO']\n",
    "    coordinates = row['coordinate']\n"
   ]
  },
  {
   "cell_type": "code",
   "execution_count": 100,
   "metadata": {},
   "outputs": [],
   "source": [
    "close_to_the_regression_line = bus_usage_merge_all.sort_values('Distance').head(15)"
   ]
  },
  {
   "cell_type": "code",
   "execution_count": 105,
   "metadata": {},
   "outputs": [
    {
     "data": {
      "text/plain": [
       "4141"
      ]
     },
     "execution_count": 105,
     "metadata": {},
     "output_type": "execute_result"
    }
   ],
   "source": [
    "bus_601_usage_count"
   ]
  },
  {
   "cell_type": "code",
   "execution_count": 107,
   "metadata": {},
   "outputs": [
    {
     "data": {
      "text/html": [
       "<div>\n",
       "<style scoped>\n",
       "    .dataframe tbody tr th:only-of-type {\n",
       "        vertical-align: middle;\n",
       "    }\n",
       "\n",
       "    .dataframe tbody tr th {\n",
       "        vertical-align: top;\n",
       "    }\n",
       "\n",
       "    .dataframe thead th {\n",
       "        text-align: right;\n",
       "    }\n",
       "</style>\n",
       "<table border=\"1\" class=\"dataframe\">\n",
       "  <thead>\n",
       "    <tr style=\"text-align: right;\">\n",
       "      <th></th>\n",
       "      <th>ROUTE_NO</th>\n",
       "      <th>USAGE_COUNT</th>\n",
       "      <th>ALLO_INTERVAL</th>\n",
       "      <th>Distance</th>\n",
       "      <th>coordinate</th>\n",
       "      <th>Distance_601</th>\n",
       "      <th>Distance_704</th>\n",
       "    </tr>\n",
       "  </thead>\n",
       "  <tbody>\n",
       "    <tr>\n",
       "      <th>36</th>\n",
       "      <td>602</td>\n",
       "      <td>4119</td>\n",
       "      <td>18</td>\n",
       "      <td>-2.114730</td>\n",
       "      <td>(4119, 18)</td>\n",
       "      <td>22.203603</td>\n",
       "      <td>6709.001192</td>\n",
       "    </tr>\n",
       "    <tr>\n",
       "      <th>53</th>\n",
       "      <td>701</td>\n",
       "      <td>3842</td>\n",
       "      <td>18</td>\n",
       "      <td>-2.634403</td>\n",
       "      <td>(3842, 18)</td>\n",
       "      <td>299.015050</td>\n",
       "      <td>6986.001145</td>\n",
       "    </tr>\n",
       "    <tr>\n",
       "      <th>27</th>\n",
       "      <td>315</td>\n",
       "      <td>3442</td>\n",
       "      <td>20</td>\n",
       "      <td>-1.403896</td>\n",
       "      <td>(3442, 20)</td>\n",
       "      <td>699.000715</td>\n",
       "      <td>7386.002437</td>\n",
       "    </tr>\n",
       "  </tbody>\n",
       "</table>\n",
       "</div>"
      ],
      "text/plain": [
       "   ROUTE_NO  USAGE_COUNT  ALLO_INTERVAL  Distance  coordinate  Distance_601  \\\n",
       "36      602         4119             18 -2.114730  (4119, 18)     22.203603   \n",
       "53      701         3842             18 -2.634403  (3842, 18)    299.015050   \n",
       "27      315         3442             20 -1.403896  (3442, 20)    699.000715   \n",
       "\n",
       "    Distance_704  \n",
       "36   6709.001192  \n",
       "53   6986.001145  \n",
       "27   7386.002437  "
      ]
     },
     "execution_count": 107,
     "metadata": {},
     "output_type": "execute_result"
    }
   ],
   "source": [
    "closest_routes[closest_routes['USAGE_COUNT']<=4141]"
   ]
  },
  {
   "cell_type": "code",
   "execution_count": 110,
   "metadata": {},
   "outputs": [
    {
     "name": "stdout",
     "output_type": "stream",
     "text": [
      "가장 가까운 노선 정보 (상위 3개):\n"
     ]
    },
    {
     "data": {
      "text/html": [
       "<div>\n",
       "<style scoped>\n",
       "    .dataframe tbody tr th:only-of-type {\n",
       "        vertical-align: middle;\n",
       "    }\n",
       "\n",
       "    .dataframe tbody tr th {\n",
       "        vertical-align: top;\n",
       "    }\n",
       "\n",
       "    .dataframe thead th {\n",
       "        text-align: right;\n",
       "    }\n",
       "</style>\n",
       "<table border=\"1\" class=\"dataframe\">\n",
       "  <thead>\n",
       "    <tr style=\"text-align: right;\">\n",
       "      <th></th>\n",
       "      <th>ROUTE_NO</th>\n",
       "      <th>USAGE_COUNT</th>\n",
       "      <th>ALLO_INTERVAL</th>\n",
       "      <th>Distance</th>\n",
       "      <th>coordinate</th>\n",
       "      <th>Distance_601</th>\n",
       "      <th>Distance_704</th>\n",
       "    </tr>\n",
       "  </thead>\n",
       "  <tbody>\n",
       "    <tr>\n",
       "      <th>36</th>\n",
       "      <td>602</td>\n",
       "      <td>4119</td>\n",
       "      <td>18</td>\n",
       "      <td>-2.114730</td>\n",
       "      <td>(4119, 18)</td>\n",
       "      <td>22.203603</td>\n",
       "      <td>6709.001192</td>\n",
       "    </tr>\n",
       "    <tr>\n",
       "      <th>53</th>\n",
       "      <td>701</td>\n",
       "      <td>3842</td>\n",
       "      <td>18</td>\n",
       "      <td>-2.634403</td>\n",
       "      <td>(3842, 18)</td>\n",
       "      <td>299.015050</td>\n",
       "      <td>6986.001145</td>\n",
       "    </tr>\n",
       "    <tr>\n",
       "      <th>27</th>\n",
       "      <td>315</td>\n",
       "      <td>3442</td>\n",
       "      <td>20</td>\n",
       "      <td>-1.403896</td>\n",
       "      <td>(3442, 20)</td>\n",
       "      <td>699.000715</td>\n",
       "      <td>7386.002437</td>\n",
       "    </tr>\n",
       "  </tbody>\n",
       "</table>\n",
       "</div>"
      ],
      "text/plain": [
       "   ROUTE_NO  USAGE_COUNT  ALLO_INTERVAL  Distance  coordinate  Distance_601  \\\n",
       "36      602         4119             18 -2.114730  (4119, 18)     22.203603   \n",
       "53      701         3842             18 -2.634403  (3842, 18)    299.015050   \n",
       "27      315         3442             20 -1.403896  (3442, 20)    699.000715   \n",
       "\n",
       "    Distance_704  \n",
       "36   6709.001192  \n",
       "53   6986.001145  \n",
       "27   7386.002437  "
      ]
     },
     "execution_count": 110,
     "metadata": {},
     "output_type": "execute_result"
    }
   ],
   "source": [
    "# 601번 버스의 USAGE_COUNT와 ALLO_INTERVAL 값 가져오기\n",
    "bus_601_usage_count = bus_usage_merge_all[bus_usage_merge_all['ROUTE_NO'] == '601']['USAGE_COUNT'].values[0]\n",
    "bus_601_allo_interval = bus_usage_merge_all[bus_usage_merge_all['ROUTE_NO'] == '601']['ALLO_INTERVAL'].values[0]\n",
    "\n",
    "# 거리 계산 함수 정의\n",
    "def calculate_distance(row):\n",
    "    return np.sqrt((row['USAGE_COUNT'] - bus_601_usage_count)**2 + (row['ALLO_INTERVAL'] - bus_601_allo_interval)**2)\n",
    "\n",
    "# 거리 계산 및 데이터프레임에 추가\n",
    "bus_usage_merge_all['Distance_601'] = close_to_the_regression_line.apply(calculate_distance, axis=1)\n",
    "\n",
    "# 601번 버스와 가장 가까운 노선 3개 찾기\n",
    "closest_routes = bus_usage_merge_all[bus_usage_merge_all['ROUTE_NO'] != '601'].nsmallest(5, 'Distance_601')\n",
    "closest_routes = closest_routes[closest_routes['USAGE_COUNT']<=bus_601_usage_count]\n",
    "\n",
    "print(\"가장 가까운 노선 정보 (상위 3개):\")\n",
    "closest_routes"
   ]
  },
  {
   "cell_type": "code",
   "execution_count": 112,
   "metadata": {},
   "outputs": [
    {
     "name": "stdout",
     "output_type": "stream",
     "text": [
      "가장 가까운 노선 정보 (상위 3개):\n"
     ]
    },
    {
     "data": {
      "text/html": [
       "<div>\n",
       "<style scoped>\n",
       "    .dataframe tbody tr th:only-of-type {\n",
       "        vertical-align: middle;\n",
       "    }\n",
       "\n",
       "    .dataframe tbody tr th {\n",
       "        vertical-align: top;\n",
       "    }\n",
       "\n",
       "    .dataframe thead th {\n",
       "        text-align: right;\n",
       "    }\n",
       "</style>\n",
       "<table border=\"1\" class=\"dataframe\">\n",
       "  <thead>\n",
       "    <tr style=\"text-align: right;\">\n",
       "      <th></th>\n",
       "      <th>ROUTE_NO</th>\n",
       "      <th>USAGE_COUNT</th>\n",
       "      <th>ALLO_INTERVAL</th>\n",
       "      <th>Distance</th>\n",
       "      <th>coordinate</th>\n",
       "      <th>Distance_601</th>\n",
       "      <th>Distance_704</th>\n",
       "    </tr>\n",
       "  </thead>\n",
       "  <tbody>\n",
       "    <tr>\n",
       "      <th>31</th>\n",
       "      <td>511</td>\n",
       "      <td>7030</td>\n",
       "      <td>13</td>\n",
       "      <td>-2.306737</td>\n",
       "      <td>(7030, 13)</td>\n",
       "      <td>2889.011076</td>\n",
       "      <td>3798.000132</td>\n",
       "    </tr>\n",
       "    <tr>\n",
       "      <th>46</th>\n",
       "      <td>615</td>\n",
       "      <td>6685</td>\n",
       "      <td>14</td>\n",
       "      <td>-1.814245</td>\n",
       "      <td>(6685, 14)</td>\n",
       "      <td>2544.009630</td>\n",
       "      <td>4143.000000</td>\n",
       "    </tr>\n",
       "    <tr>\n",
       "      <th>44</th>\n",
       "      <td>613</td>\n",
       "      <td>6184</td>\n",
       "      <td>14</td>\n",
       "      <td>-2.581070</td>\n",
       "      <td>(6184, 14)</td>\n",
       "      <td>2043.011992</td>\n",
       "      <td>4644.000000</td>\n",
       "    </tr>\n",
       "  </tbody>\n",
       "</table>\n",
       "</div>"
      ],
      "text/plain": [
       "   ROUTE_NO  USAGE_COUNT  ALLO_INTERVAL  Distance  coordinate  Distance_601  \\\n",
       "31      511         7030             13 -2.306737  (7030, 13)   2889.011076   \n",
       "46      615         6685             14 -1.814245  (6685, 14)   2544.009630   \n",
       "44      613         6184             14 -2.581070  (6184, 14)   2043.011992   \n",
       "\n",
       "    Distance_704  \n",
       "31   3798.000132  \n",
       "46   4143.000000  \n",
       "44   4644.000000  "
      ]
     },
     "execution_count": 112,
     "metadata": {},
     "output_type": "execute_result"
    }
   ],
   "source": [
    "# 704번 버스의 USAGE_COUNT와 ALLO_INTERVAL 값 가져오기\n",
    "bus_704_usage_count = bus_usage_merge_all[bus_usage_merge_all['ROUTE_NO'] == '704']['USAGE_COUNT'].values[0]\n",
    "bus_704_allo_interval = bus_usage_merge_all[bus_usage_merge_all['ROUTE_NO'] == '704']['ALLO_INTERVAL'].values[0]\n",
    "\n",
    "# 거리 계산 함수 정의\n",
    "def calculate_distance(row):\n",
    "    return np.sqrt((row['USAGE_COUNT'] - bus_704_usage_count)**2 + (row['ALLO_INTERVAL'] - bus_704_allo_interval)**2)\n",
    "\n",
    "# 거리 계산 및 데이터프레임에 추가\n",
    "bus_usage_merge_all['Distance_704'] = close_to_the_regression_line.apply(calculate_distance, axis=1)\n",
    "\n",
    "# 704번 버스와 가장 가까운 노선 3개 찾기\n",
    "closest_routes = bus_usage_merge_all[bus_usage_merge_all['ROUTE_NO'] != '704'].nsmallest(3, 'Distance_704')\n",
    "closest_routes = closest_routes[closest_routes['USAGE_COUNT']<=bus_704_usage_count]\n",
    "\n",
    "print(\"가장 가까운 노선 정보 (상위 3개):\")\n",
    "closest_routes"
   ]
  },
  {
   "cell_type": "code",
   "execution_count": 75,
   "metadata": {},
   "outputs": [
    {
     "name": "stdout",
     "output_type": "stream",
     "text": [
      "   ROUTE_NO  USAGE_COUNT  ALLO_INTERVAL  Distance  coordinate\n",
      "53      701         3842             18 -2.634403  (3842, 18)\n",
      "36      602         4119             18 -2.114730  (4119, 18)\n"
     ]
    }
   ],
   "source": [
    "# 601번 버스의 USAGE_COUNT와 ALLO_INTERVAL\n",
    "bus_601_usage_count = 4141  # 예시 값, 실제로는 SMART_CARD_DATA에서 추출해야 합니다.\n",
    "bus_601_allo_interval = 21  # 예시 값, 실제로는 SMART_CARD_DATA에서 추출해야 합니다.\n",
    "\n",
    "# Distance 변수가 음수이면서, 601번 버스의 USAGE_COUNT 및 ALLO_INTERVAL보다 작은 노선 3개 선택\n",
    "close_to_the_regression_line = close_to_the_regression_line[\n",
    "    (close_to_the_regression_line['Distance'] < 0) &\n",
    "    (close_to_the_regression_line['USAGE_COUNT'] < bus_601_usage_count) &\n",
    "    (close_to_the_regression_line['ALLO_INTERVAL'] < bus_601_allo_interval)\n",
    "].nlargest(5, 'Distance')\n",
    "\n",
    "print(close_to_the_regression_line.sort_values('Distance'))\n"
   ]
  },
  {
   "cell_type": "code",
   "execution_count": 13,
   "metadata": {},
   "outputs": [],
   "source": [
    "# 601번 버스 좌표 추출\n",
    "bus_601_coordinates = bus_usage_merge_all[bus_usage_merge_all['ROUTE_NO'] == '601']['coordinate'].values[0]\n",
    "\n",
    "# 모든 노선과의 거리 계산\n",
    "bus_usage_merge_all['Distance_Diff'] = bus_usage_merge_all['coordinate'].apply(lambda x: np.sqrt((x[0] - bus_601_coordinates[0])**2 + (x[1] - bus_601_coordinates[1])**2))"
   ]
  },
  {
   "cell_type": "code",
   "execution_count": 14,
   "metadata": {},
   "outputs": [
    {
     "data": {
      "text/html": [
       "<div>\n",
       "<style scoped>\n",
       "    .dataframe tbody tr th:only-of-type {\n",
       "        vertical-align: middle;\n",
       "    }\n",
       "\n",
       "    .dataframe tbody tr th {\n",
       "        vertical-align: top;\n",
       "    }\n",
       "\n",
       "    .dataframe thead th {\n",
       "        text-align: right;\n",
       "    }\n",
       "</style>\n",
       "<table border=\"1\" class=\"dataframe\">\n",
       "  <thead>\n",
       "    <tr style=\"text-align: right;\">\n",
       "      <th></th>\n",
       "      <th>ROUTE_NO</th>\n",
       "      <th>USAGE_COUNT</th>\n",
       "      <th>ALLO_INTERVAL</th>\n",
       "      <th>Distance</th>\n",
       "      <th>coordinate</th>\n",
       "      <th>Distance_Diff</th>\n",
       "    </tr>\n",
       "  </thead>\n",
       "  <tbody>\n",
       "    <tr>\n",
       "      <th>0</th>\n",
       "      <td>101</td>\n",
       "      <td>3803</td>\n",
       "      <td>20</td>\n",
       "      <td>-0.004908</td>\n",
       "      <td>(3803, 20)</td>\n",
       "      <td>18.027756</td>\n",
       "    </tr>\n",
       "    <tr>\n",
       "      <th>1</th>\n",
       "      <td>102</td>\n",
       "      <td>18652</td>\n",
       "      <td>7</td>\n",
       "      <td>-1.523062</td>\n",
       "      <td>(18652, 7)</td>\n",
       "      <td>14867.006592</td>\n",
       "    </tr>\n",
       "    <tr>\n",
       "      <th>2</th>\n",
       "      <td>103</td>\n",
       "      <td>8991</td>\n",
       "      <td>13</td>\n",
       "      <td>1.223724</td>\n",
       "      <td>(8991, 13)</td>\n",
       "      <td>5206.006147</td>\n",
       "    </tr>\n",
       "    <tr>\n",
       "      <th>3</th>\n",
       "      <td>104</td>\n",
       "      <td>2722</td>\n",
       "      <td>20</td>\n",
       "      <td>-2.289651</td>\n",
       "      <td>(2722, 20)</td>\n",
       "      <td>1063.000470</td>\n",
       "    </tr>\n",
       "    <tr>\n",
       "      <th>4</th>\n",
       "      <td>105</td>\n",
       "      <td>11963</td>\n",
       "      <td>9</td>\n",
       "      <td>-0.102873</td>\n",
       "      <td>(11963, 9)</td>\n",
       "      <td>8178.008804</td>\n",
       "    </tr>\n",
       "    <tr>\n",
       "      <th>...</th>\n",
       "      <td>...</td>\n",
       "      <td>...</td>\n",
       "      <td>...</td>\n",
       "      <td>...</td>\n",
       "      <td>...</td>\n",
       "      <td>...</td>\n",
       "    </tr>\n",
       "    <tr>\n",
       "      <th>60</th>\n",
       "      <td>802</td>\n",
       "      <td>5697</td>\n",
       "      <td>18</td>\n",
       "      <td>1.524063</td>\n",
       "      <td>(5697, 18)</td>\n",
       "      <td>1912.002354</td>\n",
       "    </tr>\n",
       "    <tr>\n",
       "      <th>61</th>\n",
       "      <td>911</td>\n",
       "      <td>1637</td>\n",
       "      <td>25</td>\n",
       "      <td>0.219421</td>\n",
       "      <td>(1637, 25)</td>\n",
       "      <td>2148.003724</td>\n",
       "    </tr>\n",
       "    <tr>\n",
       "      <th>62</th>\n",
       "      <td>912</td>\n",
       "      <td>1772</td>\n",
       "      <td>19</td>\n",
       "      <td>-5.459857</td>\n",
       "      <td>(1772, 19)</td>\n",
       "      <td>2013.000994</td>\n",
       "    </tr>\n",
       "    <tr>\n",
       "      <th>63</th>\n",
       "      <td>916</td>\n",
       "      <td>2614</td>\n",
       "      <td>22</td>\n",
       "      <td>-0.528718</td>\n",
       "      <td>(2614, 22)</td>\n",
       "      <td>1171.000427</td>\n",
       "    </tr>\n",
       "    <tr>\n",
       "      <th>64</th>\n",
       "      <td>918</td>\n",
       "      <td>2142</td>\n",
       "      <td>22</td>\n",
       "      <td>-1.596563</td>\n",
       "      <td>(2142, 22)</td>\n",
       "      <td>1643.000304</td>\n",
       "    </tr>\n",
       "  </tbody>\n",
       "</table>\n",
       "<p>63 rows × 6 columns</p>\n",
       "</div>"
      ],
      "text/plain": [
       "   ROUTE_NO  USAGE_COUNT  ALLO_INTERVAL  Distance  coordinate  Distance_Diff\n",
       "0       101         3803             20 -0.004908  (3803, 20)      18.027756\n",
       "1       102        18652              7 -1.523062  (18652, 7)   14867.006592\n",
       "2       103         8991             13  1.223724  (8991, 13)    5206.006147\n",
       "3       104         2722             20 -2.289651  (2722, 20)    1063.000470\n",
       "4       105        11963              9 -0.102873  (11963, 9)    8178.008804\n",
       "..      ...          ...            ...       ...         ...            ...\n",
       "60      802         5697             18  1.524063  (5697, 18)    1912.002354\n",
       "61      911         1637             25  0.219421  (1637, 25)    2148.003724\n",
       "62      912         1772             19 -5.459857  (1772, 19)    2013.000994\n",
       "63      916         2614             22 -0.528718  (2614, 22)    1171.000427\n",
       "64      918         2142             22 -1.596563  (2142, 22)    1643.000304\n",
       "\n",
       "[63 rows x 6 columns]"
      ]
     },
     "execution_count": 14,
     "metadata": {},
     "output_type": "execute_result"
    }
   ],
   "source": [
    "bus_usage_merge_all"
   ]
  },
  {
   "cell_type": "code",
   "execution_count": 15,
   "metadata": {},
   "outputs": [
    {
     "name": "stdout",
     "output_type": "stream",
     "text": [
      "   ROUTE_NO  USAGE_COUNT  ALLO_INTERVAL  Distance  coordinate  Distance_Diff\n",
      "0       101         3803             20 -0.004908  (3803, 20)      18.027756\n",
      "1       102        18652              7 -1.523062  (18652, 7)   14867.006592\n",
      "2       103         8991             13  1.223724  (8991, 13)    5206.006147\n",
      "3       104         2722             20 -2.289651  (2722, 20)    1063.000470\n",
      "4       105        11963              9 -0.102873  (11963, 9)    8178.008804\n",
      "..      ...          ...            ...       ...         ...            ...\n",
      "60      802         5697             18  1.524063  (5697, 18)    1912.002354\n",
      "61      911         1637             25  0.219421  (1637, 25)    2148.003724\n",
      "62      912         1772             19 -5.459857  (1772, 19)    2013.000994\n",
      "63      916         2614             22 -0.528718  (2614, 22)    1171.000427\n",
      "64      918         2142             22 -1.596563  (2142, 22)    1643.000304\n",
      "\n",
      "[63 rows x 6 columns]\n"
     ]
    }
   ],
   "source": [
    "print(bus_usage_merge_all)"
   ]
  },
  {
   "cell_type": "code",
   "execution_count": 163,
   "metadata": {},
   "outputs": [
    {
     "data": {
      "text/html": [
       "<div>\n",
       "<style scoped>\n",
       "    .dataframe tbody tr th:only-of-type {\n",
       "        vertical-align: middle;\n",
       "    }\n",
       "\n",
       "    .dataframe tbody tr th {\n",
       "        vertical-align: top;\n",
       "    }\n",
       "\n",
       "    .dataframe thead th {\n",
       "        text-align: right;\n",
       "    }\n",
       "</style>\n",
       "<table border=\"1\" class=\"dataframe\">\n",
       "  <thead>\n",
       "    <tr style=\"text-align: right;\">\n",
       "      <th></th>\n",
       "      <th>ROUTE_NO</th>\n",
       "      <th>USAGE_COUNT</th>\n",
       "      <th>ALLO_INTERVAL</th>\n",
       "      <th>Distance</th>\n",
       "      <th>coordinate</th>\n",
       "      <th>Distance_Diff</th>\n",
       "    </tr>\n",
       "  </thead>\n",
       "  <tbody>\n",
       "    <tr>\n",
       "      <th>36</th>\n",
       "      <td>602</td>\n",
       "      <td>3733</td>\n",
       "      <td>18</td>\n",
       "      <td>-2.146902</td>\n",
       "      <td>(3733, 18)</td>\n",
       "      <td>52.086467</td>\n",
       "    </tr>\n",
       "    <tr>\n",
       "      <th>41</th>\n",
       "      <td>608</td>\n",
       "      <td>3700</td>\n",
       "      <td>20</td>\n",
       "      <td>-0.214128</td>\n",
       "      <td>(3700, 20)</td>\n",
       "      <td>85.005882</td>\n",
       "    </tr>\n",
       "    <tr>\n",
       "      <th>47</th>\n",
       "      <td>616</td>\n",
       "      <td>3674</td>\n",
       "      <td>20</td>\n",
       "      <td>-0.267223</td>\n",
       "      <td>(3674, 20)</td>\n",
       "      <td>111.004504</td>\n",
       "    </tr>\n",
       "    <tr>\n",
       "      <th>53</th>\n",
       "      <td>701</td>\n",
       "      <td>3476</td>\n",
       "      <td>18</td>\n",
       "      <td>-2.675293</td>\n",
       "      <td>(3476, 18)</td>\n",
       "      <td>309.014563</td>\n",
       "    </tr>\n",
       "  </tbody>\n",
       "</table>\n",
       "</div>"
      ],
      "text/plain": [
       "   ROUTE_NO  USAGE_COUNT  ALLO_INTERVAL  Distance  coordinate  Distance_Diff\n",
       "36      602         3733             18 -2.146902  (3733, 18)      52.086467\n",
       "41      608         3700             20 -0.214128  (3700, 20)      85.005882\n",
       "47      616         3674             20 -0.267223  (3674, 20)     111.004504\n",
       "53      701         3476             18 -2.675293  (3476, 18)     309.014563"
      ]
     },
     "execution_count": 163,
     "metadata": {},
     "output_type": "execute_result"
    }
   ],
   "source": [
    "selected_routes = nearest_routes[(nearest_routes['Distance'] < 0) & (nearest_routes['USAGE_COUNT'] < 3785) & (nearest_routes['ALLO_INTERVAL'] < 21)]\n",
    "selected_routes\n"
   ]
  },
  {
   "cell_type": "code",
   "execution_count": 126,
   "metadata": {},
   "outputs": [],
   "source": [
    "bus_usage_merge_work.columns = ['ROUTE_NO_WORK','USAGE_COUNT_WORK','ALLO_INTERVAL_WORK','Distance_WORK']"
   ]
  },
  {
   "cell_type": "code",
   "execution_count": 127,
   "metadata": {},
   "outputs": [
    {
     "data": {
      "text/html": [
       "<div>\n",
       "<style scoped>\n",
       "    .dataframe tbody tr th:only-of-type {\n",
       "        vertical-align: middle;\n",
       "    }\n",
       "\n",
       "    .dataframe tbody tr th {\n",
       "        vertical-align: top;\n",
       "    }\n",
       "\n",
       "    .dataframe thead th {\n",
       "        text-align: right;\n",
       "    }\n",
       "</style>\n",
       "<table border=\"1\" class=\"dataframe\">\n",
       "  <thead>\n",
       "    <tr style=\"text-align: right;\">\n",
       "      <th></th>\n",
       "      <th>ROUTE_NO_WORK</th>\n",
       "      <th>USAGE_COUNT_WORK</th>\n",
       "      <th>ALLO_INTERVAL_WORK</th>\n",
       "      <th>Distance_WORK</th>\n",
       "    </tr>\n",
       "  </thead>\n",
       "  <tbody>\n",
       "    <tr>\n",
       "      <th>0</th>\n",
       "      <td>101</td>\n",
       "      <td>1499</td>\n",
       "      <td>20</td>\n",
       "      <td>-0.536556</td>\n",
       "    </tr>\n",
       "    <tr>\n",
       "      <th>1</th>\n",
       "      <td>102</td>\n",
       "      <td>7616</td>\n",
       "      <td>7</td>\n",
       "      <td>-1.536805</td>\n",
       "    </tr>\n",
       "  </tbody>\n",
       "</table>\n",
       "</div>"
      ],
      "text/plain": [
       "  ROUTE_NO_WORK  USAGE_COUNT_WORK  ALLO_INTERVAL_WORK  Distance_WORK\n",
       "0           101              1499                  20      -0.536556\n",
       "1           102              7616                   7      -1.536805"
      ]
     },
     "metadata": {},
     "output_type": "display_data"
    },
    {
     "data": {
      "text/html": [
       "<div>\n",
       "<style scoped>\n",
       "    .dataframe tbody tr th:only-of-type {\n",
       "        vertical-align: middle;\n",
       "    }\n",
       "\n",
       "    .dataframe tbody tr th {\n",
       "        vertical-align: top;\n",
       "    }\n",
       "\n",
       "    .dataframe thead th {\n",
       "        text-align: right;\n",
       "    }\n",
       "</style>\n",
       "<table border=\"1\" class=\"dataframe\">\n",
       "  <thead>\n",
       "    <tr style=\"text-align: right;\">\n",
       "      <th></th>\n",
       "      <th>ROUTE_NO</th>\n",
       "      <th>USAGE_COUNT</th>\n",
       "      <th>ALLO_INTERVAL</th>\n",
       "      <th>Distance</th>\n",
       "    </tr>\n",
       "  </thead>\n",
       "  <tbody>\n",
       "    <tr>\n",
       "      <th>0</th>\n",
       "      <td>101</td>\n",
       "      <td>3803</td>\n",
       "      <td>20</td>\n",
       "      <td>-0.004908</td>\n",
       "    </tr>\n",
       "    <tr>\n",
       "      <th>1</th>\n",
       "      <td>102</td>\n",
       "      <td>18652</td>\n",
       "      <td>7</td>\n",
       "      <td>-1.523062</td>\n",
       "    </tr>\n",
       "  </tbody>\n",
       "</table>\n",
       "</div>"
      ],
      "text/plain": [
       "  ROUTE_NO  USAGE_COUNT  ALLO_INTERVAL  Distance\n",
       "0      101         3803             20 -0.004908\n",
       "1      102        18652              7 -1.523062"
      ]
     },
     "metadata": {},
     "output_type": "display_data"
    }
   ],
   "source": [
    "display(bus_usage_merge_work.head(2))\n",
    "display(bus_usage_merge_all.head(2))"
   ]
  },
  {
   "cell_type": "code",
   "execution_count": 128,
   "metadata": {},
   "outputs": [
    {
     "data": {
      "text/html": [
       "<div>\n",
       "<style scoped>\n",
       "    .dataframe tbody tr th:only-of-type {\n",
       "        vertical-align: middle;\n",
       "    }\n",
       "\n",
       "    .dataframe tbody tr th {\n",
       "        vertical-align: top;\n",
       "    }\n",
       "\n",
       "    .dataframe thead th {\n",
       "        text-align: right;\n",
       "    }\n",
       "</style>\n",
       "<table border=\"1\" class=\"dataframe\">\n",
       "  <thead>\n",
       "    <tr style=\"text-align: right;\">\n",
       "      <th></th>\n",
       "      <th>ROUTE_NO</th>\n",
       "      <th>ALLO_INTERVAL</th>\n",
       "      <th>Distance</th>\n",
       "      <th>Distance_WORK</th>\n",
       "      <th>DISTANCE</th>\n",
       "    </tr>\n",
       "  </thead>\n",
       "  <tbody>\n",
       "    <tr>\n",
       "      <th>0</th>\n",
       "      <td>101</td>\n",
       "      <td>20</td>\n",
       "      <td>-0.004908</td>\n",
       "      <td>-0.536556</td>\n",
       "      <td>0.531647</td>\n",
       "    </tr>\n",
       "    <tr>\n",
       "      <th>1</th>\n",
       "      <td>102</td>\n",
       "      <td>7</td>\n",
       "      <td>-1.523062</td>\n",
       "      <td>-1.536805</td>\n",
       "      <td>0.013742</td>\n",
       "    </tr>\n",
       "    <tr>\n",
       "      <th>2</th>\n",
       "      <td>103</td>\n",
       "      <td>13</td>\n",
       "      <td>1.223724</td>\n",
       "      <td>1.162152</td>\n",
       "      <td>0.061571</td>\n",
       "    </tr>\n",
       "    <tr>\n",
       "      <th>3</th>\n",
       "      <td>104</td>\n",
       "      <td>20</td>\n",
       "      <td>-2.289651</td>\n",
       "      <td>-2.686495</td>\n",
       "      <td>0.396844</td>\n",
       "    </tr>\n",
       "    <tr>\n",
       "      <th>4</th>\n",
       "      <td>105</td>\n",
       "      <td>9</td>\n",
       "      <td>-0.102873</td>\n",
       "      <td>-0.438700</td>\n",
       "      <td>0.335827</td>\n",
       "    </tr>\n",
       "    <tr>\n",
       "      <th>...</th>\n",
       "      <td>...</td>\n",
       "      <td>...</td>\n",
       "      <td>...</td>\n",
       "      <td>...</td>\n",
       "      <td>...</td>\n",
       "    </tr>\n",
       "    <tr>\n",
       "      <th>60</th>\n",
       "      <td>802</td>\n",
       "      <td>18</td>\n",
       "      <td>1.524063</td>\n",
       "      <td>1.458804</td>\n",
       "      <td>0.065259</td>\n",
       "    </tr>\n",
       "    <tr>\n",
       "      <th>61</th>\n",
       "      <td>911</td>\n",
       "      <td>25</td>\n",
       "      <td>0.219421</td>\n",
       "      <td>0.042909</td>\n",
       "      <td>0.176512</td>\n",
       "    </tr>\n",
       "    <tr>\n",
       "      <th>62</th>\n",
       "      <td>912</td>\n",
       "      <td>19</td>\n",
       "      <td>-5.459857</td>\n",
       "      <td>-5.188073</td>\n",
       "      <td>0.271784</td>\n",
       "    </tr>\n",
       "    <tr>\n",
       "      <th>63</th>\n",
       "      <td>916</td>\n",
       "      <td>22</td>\n",
       "      <td>-0.528718</td>\n",
       "      <td>-0.340163</td>\n",
       "      <td>0.188555</td>\n",
       "    </tr>\n",
       "    <tr>\n",
       "      <th>64</th>\n",
       "      <td>918</td>\n",
       "      <td>22</td>\n",
       "      <td>-1.596563</td>\n",
       "      <td>-0.775103</td>\n",
       "      <td>0.821460</td>\n",
       "    </tr>\n",
       "  </tbody>\n",
       "</table>\n",
       "<p>63 rows × 5 columns</p>\n",
       "</div>"
      ],
      "text/plain": [
       "   ROUTE_NO  ALLO_INTERVAL  Distance  Distance_WORK  DISTANCE\n",
       "0       101             20 -0.004908      -0.536556  0.531647\n",
       "1       102              7 -1.523062      -1.536805  0.013742\n",
       "2       103             13  1.223724       1.162152  0.061571\n",
       "3       104             20 -2.289651      -2.686495  0.396844\n",
       "4       105              9 -0.102873      -0.438700  0.335827\n",
       "..      ...            ...       ...            ...       ...\n",
       "60      802             18  1.524063       1.458804  0.065259\n",
       "61      911             25  0.219421       0.042909  0.176512\n",
       "62      912             19 -5.459857      -5.188073  0.271784\n",
       "63      916             22 -0.528718      -0.340163  0.188555\n",
       "64      918             22 -1.596563      -0.775103  0.821460\n",
       "\n",
       "[63 rows x 5 columns]"
      ]
     },
     "execution_count": 128,
     "metadata": {},
     "output_type": "execute_result"
    }
   ],
   "source": [
    "bus_linear_line = pd.concat([bus_usage_merge_all, bus_usage_merge_work], axis = 1)\n",
    "bus_linear_line = bus_linear_line[['ROUTE_NO','ALLO_INTERVAL','Distance','Distance_WORK']]\n",
    "bus_linear_line['DISTANCE'] = bus_linear_line['Distance'] - bus_linear_line['Distance_WORK']\n",
    "bus_linear_line['DISTANCE'] = bus_linear_line['DISTANCE'].abs()\n",
    "bus_linear_line"
   ]
  },
  {
   "cell_type": "code",
   "execution_count": 130,
   "metadata": {},
   "outputs": [
    {
     "data": {
      "text/html": [
       "<div>\n",
       "<style scoped>\n",
       "    .dataframe tbody tr th:only-of-type {\n",
       "        vertical-align: middle;\n",
       "    }\n",
       "\n",
       "    .dataframe tbody tr th {\n",
       "        vertical-align: top;\n",
       "    }\n",
       "\n",
       "    .dataframe thead th {\n",
       "        text-align: right;\n",
       "    }\n",
       "</style>\n",
       "<table border=\"1\" class=\"dataframe\">\n",
       "  <thead>\n",
       "    <tr style=\"text-align: right;\">\n",
       "      <th></th>\n",
       "      <th>ROUTE_NO</th>\n",
       "      <th>ALLO_INTERVAL</th>\n",
       "      <th>Distance</th>\n",
       "      <th>Distance_WORK</th>\n",
       "      <th>DISTANCE</th>\n",
       "    </tr>\n",
       "  </thead>\n",
       "  <tbody>\n",
       "    <tr>\n",
       "      <th>0</th>\n",
       "      <td>101</td>\n",
       "      <td>20</td>\n",
       "      <td>-0.004908</td>\n",
       "      <td>-0.536556</td>\n",
       "      <td>0.531647</td>\n",
       "    </tr>\n",
       "    <tr>\n",
       "      <th>1</th>\n",
       "      <td>102</td>\n",
       "      <td>7</td>\n",
       "      <td>-1.523062</td>\n",
       "      <td>-1.536805</td>\n",
       "      <td>0.013742</td>\n",
       "    </tr>\n",
       "    <tr>\n",
       "      <th>3</th>\n",
       "      <td>104</td>\n",
       "      <td>20</td>\n",
       "      <td>-2.289651</td>\n",
       "      <td>-2.686495</td>\n",
       "      <td>0.396844</td>\n",
       "    </tr>\n",
       "    <tr>\n",
       "      <th>4</th>\n",
       "      <td>105</td>\n",
       "      <td>9</td>\n",
       "      <td>-0.102873</td>\n",
       "      <td>-0.438700</td>\n",
       "      <td>0.335827</td>\n",
       "    </tr>\n",
       "    <tr>\n",
       "      <th>6</th>\n",
       "      <td>108</td>\n",
       "      <td>12</td>\n",
       "      <td>-1.244549</td>\n",
       "      <td>-0.901187</td>\n",
       "      <td>0.343363</td>\n",
       "    </tr>\n",
       "    <tr>\n",
       "      <th>9</th>\n",
       "      <td>115</td>\n",
       "      <td>15</td>\n",
       "      <td>-0.524023</td>\n",
       "      <td>-0.503380</td>\n",
       "      <td>0.020644</td>\n",
       "    </tr>\n",
       "    <tr>\n",
       "      <th>10</th>\n",
       "      <td>116</td>\n",
       "      <td>24</td>\n",
       "      <td>-0.706660</td>\n",
       "      <td>-1.135691</td>\n",
       "      <td>0.429030</td>\n",
       "    </tr>\n",
       "    <tr>\n",
       "      <th>11</th>\n",
       "      <td>117</td>\n",
       "      <td>20</td>\n",
       "      <td>-2.684717</td>\n",
       "      <td>-2.703089</td>\n",
       "      <td>0.018372</td>\n",
       "    </tr>\n",
       "    <tr>\n",
       "      <th>16</th>\n",
       "      <td>201</td>\n",
       "      <td>8</td>\n",
       "      <td>-0.022434</td>\n",
       "      <td>-0.190329</td>\n",
       "      <td>0.167894</td>\n",
       "    </tr>\n",
       "    <tr>\n",
       "      <th>17</th>\n",
       "      <td>203</td>\n",
       "      <td>16</td>\n",
       "      <td>-3.449130</td>\n",
       "      <td>-3.178979</td>\n",
       "      <td>0.270151</td>\n",
       "    </tr>\n",
       "    <tr>\n",
       "      <th>18</th>\n",
       "      <td>211</td>\n",
       "      <td>12</td>\n",
       "      <td>-0.881657</td>\n",
       "      <td>-0.910871</td>\n",
       "      <td>0.029214</td>\n",
       "    </tr>\n",
       "    <tr>\n",
       "      <th>19</th>\n",
       "      <td>212</td>\n",
       "      <td>24</td>\n",
       "      <td>-2.739044</td>\n",
       "      <td>-3.035528</td>\n",
       "      <td>0.296485</td>\n",
       "    </tr>\n",
       "    <tr>\n",
       "      <th>21</th>\n",
       "      <td>216</td>\n",
       "      <td>17</td>\n",
       "      <td>-1.592258</td>\n",
       "      <td>-1.748259</td>\n",
       "      <td>0.156001</td>\n",
       "    </tr>\n",
       "    <tr>\n",
       "      <th>23</th>\n",
       "      <td>311</td>\n",
       "      <td>7</td>\n",
       "      <td>-0.941106</td>\n",
       "      <td>-0.934085</td>\n",
       "      <td>0.007021</td>\n",
       "    </tr>\n",
       "    <tr>\n",
       "      <th>27</th>\n",
       "      <td>315</td>\n",
       "      <td>20</td>\n",
       "      <td>-1.436278</td>\n",
       "      <td>-1.304636</td>\n",
       "      <td>0.131643</td>\n",
       "    </tr>\n",
       "    <tr>\n",
       "      <th>31</th>\n",
       "      <td>511</td>\n",
       "      <td>13</td>\n",
       "      <td>-2.333967</td>\n",
       "      <td>-3.003791</td>\n",
       "      <td>0.669824</td>\n",
       "    </tr>\n",
       "    <tr>\n",
       "      <th>36</th>\n",
       "      <td>602</td>\n",
       "      <td>18</td>\n",
       "      <td>-2.146902</td>\n",
       "      <td>-2.110660</td>\n",
       "      <td>0.036242</td>\n",
       "    </tr>\n",
       "    <tr>\n",
       "      <th>38</th>\n",
       "      <td>604</td>\n",
       "      <td>12</td>\n",
       "      <td>-0.131125</td>\n",
       "      <td>0.471287</td>\n",
       "      <td>0.602412</td>\n",
       "    </tr>\n",
       "    <tr>\n",
       "      <th>39</th>\n",
       "      <td>605</td>\n",
       "      <td>11</td>\n",
       "      <td>-0.267415</td>\n",
       "      <td>-0.271767</td>\n",
       "      <td>0.004352</td>\n",
       "    </tr>\n",
       "    <tr>\n",
       "      <th>41</th>\n",
       "      <td>608</td>\n",
       "      <td>20</td>\n",
       "      <td>-0.214128</td>\n",
       "      <td>-0.541670</td>\n",
       "      <td>0.327542</td>\n",
       "    </tr>\n",
       "    <tr>\n",
       "      <th>42</th>\n",
       "      <td>611</td>\n",
       "      <td>19</td>\n",
       "      <td>-0.070932</td>\n",
       "      <td>-0.446306</td>\n",
       "      <td>0.375373</td>\n",
       "    </tr>\n",
       "    <tr>\n",
       "      <th>44</th>\n",
       "      <td>613</td>\n",
       "      <td>14</td>\n",
       "      <td>-2.569905</td>\n",
       "      <td>-2.664369</td>\n",
       "      <td>0.094464</td>\n",
       "    </tr>\n",
       "    <tr>\n",
       "      <th>45</th>\n",
       "      <td>614</td>\n",
       "      <td>20</td>\n",
       "      <td>-2.358071</td>\n",
       "      <td>-1.906271</td>\n",
       "      <td>0.451800</td>\n",
       "    </tr>\n",
       "    <tr>\n",
       "      <th>46</th>\n",
       "      <td>615</td>\n",
       "      <td>14</td>\n",
       "      <td>-1.853736</td>\n",
       "      <td>-1.602994</td>\n",
       "      <td>0.250743</td>\n",
       "    </tr>\n",
       "    <tr>\n",
       "      <th>47</th>\n",
       "      <td>616</td>\n",
       "      <td>20</td>\n",
       "      <td>-0.267223</td>\n",
       "      <td>0.529237</td>\n",
       "      <td>0.796460</td>\n",
       "    </tr>\n",
       "    <tr>\n",
       "      <th>48</th>\n",
       "      <td>617</td>\n",
       "      <td>17</td>\n",
       "      <td>-0.192218</td>\n",
       "      <td>-0.209597</td>\n",
       "      <td>0.017379</td>\n",
       "    </tr>\n",
       "    <tr>\n",
       "      <th>49</th>\n",
       "      <td>618</td>\n",
       "      <td>18</td>\n",
       "      <td>-0.393535</td>\n",
       "      <td>-0.335182</td>\n",
       "      <td>0.058353</td>\n",
       "    </tr>\n",
       "    <tr>\n",
       "      <th>53</th>\n",
       "      <td>701</td>\n",
       "      <td>18</td>\n",
       "      <td>-2.675293</td>\n",
       "      <td>-1.825800</td>\n",
       "      <td>0.849493</td>\n",
       "    </tr>\n",
       "    <tr>\n",
       "      <th>58</th>\n",
       "      <td>711</td>\n",
       "      <td>17</td>\n",
       "      <td>-0.604507</td>\n",
       "      <td>-0.130705</td>\n",
       "      <td>0.473802</td>\n",
       "    </tr>\n",
       "    <tr>\n",
       "      <th>62</th>\n",
       "      <td>912</td>\n",
       "      <td>19</td>\n",
       "      <td>-5.459857</td>\n",
       "      <td>-5.188073</td>\n",
       "      <td>0.271784</td>\n",
       "    </tr>\n",
       "    <tr>\n",
       "      <th>63</th>\n",
       "      <td>916</td>\n",
       "      <td>22</td>\n",
       "      <td>-0.528718</td>\n",
       "      <td>-0.340163</td>\n",
       "      <td>0.188555</td>\n",
       "    </tr>\n",
       "    <tr>\n",
       "      <th>64</th>\n",
       "      <td>918</td>\n",
       "      <td>22</td>\n",
       "      <td>-1.596563</td>\n",
       "      <td>-0.775103</td>\n",
       "      <td>0.821460</td>\n",
       "    </tr>\n",
       "  </tbody>\n",
       "</table>\n",
       "</div>"
      ],
      "text/plain": [
       "   ROUTE_NO  ALLO_INTERVAL  Distance  Distance_WORK  DISTANCE\n",
       "0       101             20 -0.004908      -0.536556  0.531647\n",
       "1       102              7 -1.523062      -1.536805  0.013742\n",
       "3       104             20 -2.289651      -2.686495  0.396844\n",
       "4       105              9 -0.102873      -0.438700  0.335827\n",
       "6       108             12 -1.244549      -0.901187  0.343363\n",
       "9       115             15 -0.524023      -0.503380  0.020644\n",
       "10      116             24 -0.706660      -1.135691  0.429030\n",
       "11      117             20 -2.684717      -2.703089  0.018372\n",
       "16      201              8 -0.022434      -0.190329  0.167894\n",
       "17      203             16 -3.449130      -3.178979  0.270151\n",
       "18      211             12 -0.881657      -0.910871  0.029214\n",
       "19      212             24 -2.739044      -3.035528  0.296485\n",
       "21      216             17 -1.592258      -1.748259  0.156001\n",
       "23      311              7 -0.941106      -0.934085  0.007021\n",
       "27      315             20 -1.436278      -1.304636  0.131643\n",
       "31      511             13 -2.333967      -3.003791  0.669824\n",
       "36      602             18 -2.146902      -2.110660  0.036242\n",
       "38      604             12 -0.131125       0.471287  0.602412\n",
       "39      605             11 -0.267415      -0.271767  0.004352\n",
       "41      608             20 -0.214128      -0.541670  0.327542\n",
       "42      611             19 -0.070932      -0.446306  0.375373\n",
       "44      613             14 -2.569905      -2.664369  0.094464\n",
       "45      614             20 -2.358071      -1.906271  0.451800\n",
       "46      615             14 -1.853736      -1.602994  0.250743\n",
       "47      616             20 -0.267223       0.529237  0.796460\n",
       "48      617             17 -0.192218      -0.209597  0.017379\n",
       "49      618             18 -0.393535      -0.335182  0.058353\n",
       "53      701             18 -2.675293      -1.825800  0.849493\n",
       "58      711             17 -0.604507      -0.130705  0.473802\n",
       "62      912             19 -5.459857      -5.188073  0.271784\n",
       "63      916             22 -0.528718      -0.340163  0.188555\n",
       "64      918             22 -1.596563      -0.775103  0.821460"
      ]
     },
     "execution_count": 130,
     "metadata": {},
     "output_type": "execute_result"
    }
   ],
   "source": [
    "bus_linear_line[bus_linear_line['Distance'] < 0]"
   ]
  },
  {
   "cell_type": "code",
   "execution_count": 84,
   "metadata": {},
   "outputs": [
    {
     "data": {
      "text/plain": [
       "0.9586577409854016"
      ]
     },
     "execution_count": 84,
     "metadata": {},
     "output_type": "execute_result"
    }
   ],
   "source": [
    "bus_linear_line.loc[bus_linear_line['ROUTE_NO'] == '601', 'Distance'].values[0]"
   ]
  },
  {
   "cell_type": "markdown",
   "metadata": {},
   "source": [
    "---\n",
    "확대그래프"
   ]
  },
  {
   "cell_type": "code",
   "execution_count": 63,
   "metadata": {},
   "outputs": [
    {
     "data": {
      "image/png": "[encoded data removed]",
      "text/plain": [
       "<Figure size 1200x800 with 1 Axes>"
      ]
     },
     "metadata": {},
     "output_type": "display_data"
    }
   ],
   "source": [
    "# 확대한 그래프\n",
    "import numpy as np\n",
    "import seaborn as sns\n",
    "import matplotlib.pyplot as plt\n",
    "\n",
    "# 그래프 크기 설정\n",
    "plt.figure(figsize=(12, 8))\n",
    "\n",
    "# 전체 데이터에 대한 산점도와 회귀선 그리기\n",
    "sns.scatterplot(data=bus_usage_merge_all, x=\"USAGE_COUNT\", y=\"ALLO_INTERVAL\", hue=\"ROUTE_NO\", palette=\"viridis\")\n",
    "sns.regplot(data=bus_usage_merge_all, x=\"USAGE_COUNT\", y=\"ALLO_INTERVAL\", scatter=False, color='black', line_kws={\"color\": \"red\"})\n",
    "\n",
    "# 데이터 포인트에 레이블 달기\n",
    "for route, usage, interval in zip(bus_usage_merge_all[\"ROUTE_NO\"], bus_usage_merge_all[\"USAGE_COUNT\"], bus_usage_merge_all[\"ALLO_INTERVAL\"]):\n",
    "    plt.annotate(route,\n",
    "                 xy=(usage, interval),\n",
    "                 xytext=(-5, 0),\n",
    "                 textcoords='offset points',\n",
    "                 fontsize=13)\n",
    "\n",
    "# X, Y 축 레이블 및 타이틀 설정\n",
    "plt.xlabel(\"이용량\")\n",
    "plt.ylabel(\"배차간격 (분)\")\n",
    "plt.title(\"이용량에 따른 배차간격\")\n",
    "\n",
    "# 이용량이 6000에서 14000 사이인 데이터만 추출\n",
    "filtered_data = bus_usage_merge_all[(bus_usage_merge_all[\"USAGE_COUNT\"] >= 6000) & (bus_usage_merge_all[\"USAGE_COUNT\"] <= 14000)]\n",
    "\n",
    "# # 이용량이 6000에서 14000 사이인 데이터 중에서 노선 번호만 추출하여 범례 표시\n",
    "# legend_labels = filtered_data[\"ROUTE_NO\"].unique()\n",
    "# plt.legend(labels=legend_labels)\n",
    "plt.legend().set_visible(False)\n",
    "\n",
    "# 이용량이 6000에서 14000 사이인 부분만 확대해서 보여주기\n",
    "plt.xlim(6000, 14000)\n",
    "plt.ylim(8, 20)  # 배차간격에 따라 범위 조절\n",
    "\n",
    "# Y 축 눈금 설정 (1분 간격)\n",
    "plt.yticks(np.arange(10, 30, 1))\n",
    "plt.rc('font', size = 15)\n",
    "plt.show()\n"
   ]
  },
  {
   "cell_type": "code",
   "execution_count": 38,
   "metadata": {},
   "outputs": [],
   "source": [
    "# # 확대한 그래프\n",
    "# import numpy as np\n",
    "# import seaborn as sns\n",
    "# import matplotlib.pyplot as plt\n",
    "\n",
    "# # 그래프 크기 설정\n",
    "# plt.figure(figsize=(12, 8))\n",
    "\n",
    "# # 전체 데이터에 대한 산점도와 회귀선 그리기\n",
    "# sns.scatterplot(data=bus_usage_merge, x=\"USAGE_COUNT\", y=\"ALLO_INTERVAL\", hue=\"ROUTE_NO\", palette=\"viridis\")\n",
    "# sns.regplot(data=bus_usage_merge, x=\"USAGE_COUNT\", y=\"ALLO_INTERVAL\", scatter=False, color='black', line_kws={\"color\": \"red\"})\n",
    "\n",
    "# # 데이터 포인트에 레이블 달기\n",
    "# for route, usage, interval in zip(bus_usage_merge[\"ROUTE_NO\"], bus_usage_merge[\"USAGE_COUNT\"], bus_usage_merge[\"ALLO_INTERVAL\"]):\n",
    "#     plt.annotate(route,\n",
    "#                  xy=(usage, interval),\n",
    "#                  xytext=(-5, 0),\n",
    "#                  textcoords='offset points',\n",
    "#                  fontsize=13)\n",
    "\n",
    "# # X, Y 축 레이블 및 타이틀 설정\n",
    "# plt.xlabel(\"이용량\")\n",
    "# plt.ylabel(\"배차간격 (분)\")\n",
    "# plt.title(\"이용량에 따른 배차간격\")\n",
    "\n",
    "# # 이용량이 6000에서 14000 사이인 데이터만 추출\n",
    "# filtered_data = bus_usage_merge[(bus_usage_merge[\"USAGE_COUNT\"] >= 6000) & (bus_usage_merge[\"USAGE_COUNT\"] <= 14000)]\n",
    "\n",
    "# # # 이용량이 6000에서 14000 사이인 데이터 중에서 노선 번호만 추출하여 범례 표시\n",
    "# # legend_labels = filtered_data[\"ROUTE_NO\"].unique()\n",
    "# # plt.legend(labels=legend_labels)\n",
    "# plt.legend().set_visible(False)\n",
    "\n",
    "# # 이용량이 6000에서 14000 사이인 부분만 확대해서 보여주기\n",
    "# plt.xlim(6000, 14000)\n",
    "# plt.ylim(8, 20)  # 배차간격에 따라 범위 조절\n",
    "\n",
    "# # Y 축 눈금 설정 (1분 간격)\n",
    "# plt.yticks(np.arange(8, 21, 1))\n",
    "# plt.rc('font', size = 15)\n",
    "# plt.show()\n"
   ]
  },
  {
   "cell_type": "markdown",
   "metadata": {},
   "source": [
    "---"
   ]
  },
  {
   "cell_type": "code",
   "execution_count": null,
   "metadata": {},
   "outputs": [],
   "source": []
  }
 ],
 "metadata": {
  "kernelspec": {
   "display_name": "yangjunghyun",
   "language": "python",
   "name": "python3"
  },
  "language_info": {
   "codemirror_mode": {
    "name": "ipython",
    "version": 3
   },
   "file_extension": ".py",
   "mimetype": "text/x-python",
   "name": "python",
   "nbconvert_exporter": "python",
   "pygments_lexer": "ipython3",
   "version": "3.10.3"
  },
  "orig_nbformat": 4
 },
 "nbformat": 4,
 "nbformat_minor": 2
}
