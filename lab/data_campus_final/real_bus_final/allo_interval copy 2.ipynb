{
 "cells": [
  {
   "cell_type": "code",
   "execution_count": 1,
   "metadata": {},
   "outputs": [],
   "source": [
    "import pandas as pd\n",
    "import matplotlib.pyplot as plt\n",
    "\n",
    "pd.set_option('display.max_columns', 60)\n",
    "pd.set_option('display.max_rows', 60)\n",
    "pd.set_option('mode.chained_assignment',  None)\n",
    "\n",
    "plt.rc('font',family='malgun gothic')\n",
    "\n",
    "# 스마트카드 데이터\n",
    "SMART_CARD = pd.read_csv('./data/SMART_CARD.csv', header = None)\n",
    "\n",
    "# 공공데이터포털\n",
    "getrouteinfoall = pd.read_csv('./data/getRouteInfoAll.csv', encoding = 'cp949', index_col = 0) # 전체 노선 기본정보 조회\n",
    "getstationbyrouteall = pd.read_csv('./data/getStationByRouteAll.csv', encoding = 'cp949', index_col = 0) # 전체노선별경유정류소 정보 조회\n",
    "\n",
    "# 정류장 데이터\n",
    "bus_sttn = pd.read_csv('./data/bus_sttn.csv')"
   ]
  },
  {
   "cell_type": "code",
   "execution_count": 2,
   "metadata": {},
   "outputs": [],
   "source": [
    "def smart_card_data_preprocessing(exdata):\n",
    "    exdata.columns = ['SERIAL_NO', 'CARD_NO', 'GETON_YMD', 'GETON_TM', 'BUS_ROUTE_ID', 'BUS_CO_ID', 'BUS_CAR_ID', 'GETON_BUS_STTN_ID', 'GETOFF_BUS_STTN_ID',\n",
    "                        'DRVR_ID', 'TRANSACTION_ID', 'TR_MEANS_TYPE', 'USR_TYPE', 'DRVN_START_YMD', 'DRVN_START_TM', 'GETOFF_YMD', 'GETOFF_TM', 'GETON_CALC_YMD',\n",
    "                        'GETOFF_CALC_YMD', 'GETON_PAY', 'GETOFF_PAY', 'TRANSF_CNT', 'USR_CNT']\n",
    "    exdata.drop(labels = ['SERIAL_NO', 'DRVR_ID','TRANSACTION_ID','USR_TYPE','DRVN_START_YMD','BUS_CO_ID','DRVN_START_TM','GETOFF_YMD','GETOFF_TM','GETON_CALC_YMD','GETOFF_CALC_YMD', 'GETON_PAY','GETOFF_PAY','TRANSF_CNT','GETOFF_BUS_STTN_ID'], axis = 1, inplace = True)\n",
    "\n",
    "\n",
    "    exdata['GETON_TM'] = exdata['GETON_TM'].apply(lambda x: str(x).zfill(6)) # GETON_TM 컬럼 날짜형식으로 변환하기 위해 자릿수 맞춰주기\n",
    "\n",
    "    # datetime 형식으로 변환 및 새로운 column 생성\n",
    "    exdata['GETON_DATETIME'] = pd.to_datetime(exdata['GETON_YMD'].astype(str) + exdata['GETON_TM'].astype(str), format = '%Y%m%d%H%M%S')\n",
    "\n",
    "    exdata['DAY'] = exdata['GETON_DATETIME'].dt.day\n",
    "    exdata['WEEKDAY'] = exdata['GETON_DATETIME'].dt.weekday  \n",
    "\n",
    "    # 급행/지선/간선만 필터링\n",
    "    exdata = exdata[exdata['TR_MEANS_TYPE'].isin([675,676])]\n",
    "\n",
    "    # 도시 노선만 사용하기 위해\n",
    "    values_to_remove = [30300147, 30300148, 30300141, 30300137, 30300149, 30300103]\n",
    "    exdata = exdata[~exdata['BUS_ROUTE_ID'].isin(values_to_remove)]\n",
    "\n",
    "    # 평일만 추출\n",
    "    weekday_values = [0, 1, 2, 3, 4]\n",
    "    exdata = exdata[exdata['WEEKDAY'].isin(weekday_values)]\n",
    "\n",
    "    # 6/6일 제거 / 6/19일 제거[결측치]\n",
    "    exdata = exdata[exdata['DAY'] != 6]\n",
    "    exdata = exdata[exdata['DAY'] != 19]\n",
    "\n",
    "    # # 비가 온 날 제거\n",
    "    # exdata = exdata[~exdata['DAY'].isin([26,29])]\n",
    "\n",
    "    # 사용한 행 제거\n",
    "    exdata.drop(labels = ['GETON_YMD','GETON_TM','TR_MEANS_TYPE','USR_CNT','WEEKDAY'], axis = 1, inplace = True)\n",
    "    \n",
    "    return exdata"
   ]
  },
  {
   "cell_type": "code",
   "execution_count": 3,
   "metadata": {},
   "outputs": [
    {
     "data": {
      "text/html": [
       "<div>\n",
       "<style scoped>\n",
       "    .dataframe tbody tr th:only-of-type {\n",
       "        vertical-align: middle;\n",
       "    }\n",
       "\n",
       "    .dataframe tbody tr th {\n",
       "        vertical-align: top;\n",
       "    }\n",
       "\n",
       "    .dataframe thead th {\n",
       "        text-align: right;\n",
       "    }\n",
       "</style>\n",
       "<table border=\"1\" class=\"dataframe\">\n",
       "  <thead>\n",
       "    <tr style=\"text-align: right;\">\n",
       "      <th></th>\n",
       "      <th>CARD_NO</th>\n",
       "      <th>BUS_ROUTE_ID</th>\n",
       "      <th>BUS_CAR_ID</th>\n",
       "      <th>GETON_BUS_STTN_ID</th>\n",
       "      <th>GETON_DATETIME</th>\n",
       "      <th>DAY</th>\n",
       "    </tr>\n",
       "  </thead>\n",
       "  <tbody>\n",
       "    <tr>\n",
       "      <th>3</th>\n",
       "      <td>804099084</td>\n",
       "      <td>30300053</td>\n",
       "      <td>130752377</td>\n",
       "      <td>8005978</td>\n",
       "      <td>2023-06-01 05:20:33</td>\n",
       "      <td>1</td>\n",
       "    </tr>\n",
       "    <tr>\n",
       "      <th>35</th>\n",
       "      <td>929954937</td>\n",
       "      <td>30300043</td>\n",
       "      <td>130759616</td>\n",
       "      <td>8001243</td>\n",
       "      <td>2023-06-01 05:30:22</td>\n",
       "      <td>1</td>\n",
       "    </tr>\n",
       "  </tbody>\n",
       "</table>\n",
       "</div>"
      ],
      "text/plain": [
       "      CARD_NO  BUS_ROUTE_ID  BUS_CAR_ID  GETON_BUS_STTN_ID  \\\n",
       "3   804099084      30300053   130752377            8005978   \n",
       "35  929954937      30300043   130759616            8001243   \n",
       "\n",
       "        GETON_DATETIME  DAY  \n",
       "3  2023-06-01 05:20:33    1  \n",
       "35 2023-06-01 05:30:22    1  "
      ]
     },
     "execution_count": 3,
     "metadata": {},
     "output_type": "execute_result"
    }
   ],
   "source": [
    "SMART_CARD_DATA = smart_card_data_preprocessing(SMART_CARD)\n",
    "SMART_CARD_DATA.head(2)"
   ]
  },
  {
   "cell_type": "markdown",
   "metadata": {},
   "source": [
    "### 시각화"
   ]
  },
  {
   "cell_type": "code",
   "execution_count": 18,
   "metadata": {},
   "outputs": [
    {
     "data": {
      "text/html": [
       "<div>\n",
       "<style scoped>\n",
       "    .dataframe tbody tr th:only-of-type {\n",
       "        vertical-align: middle;\n",
       "    }\n",
       "\n",
       "    .dataframe tbody tr th {\n",
       "        vertical-align: top;\n",
       "    }\n",
       "\n",
       "    .dataframe thead th {\n",
       "        text-align: right;\n",
       "    }\n",
       "</style>\n",
       "<table border=\"1\" class=\"dataframe\">\n",
       "  <thead>\n",
       "    <tr style=\"text-align: right;\">\n",
       "      <th></th>\n",
       "      <th>CARD_NO</th>\n",
       "      <th>BUS_ROUTE_ID</th>\n",
       "      <th>BUS_CAR_ID</th>\n",
       "      <th>GETON_BUS_STTN_ID</th>\n",
       "      <th>GETON_DATETIME</th>\n",
       "      <th>DAY</th>\n",
       "      <th>GETON_HOUR</th>\n",
       "    </tr>\n",
       "  </thead>\n",
       "  <tbody>\n",
       "    <tr>\n",
       "      <th>16361</th>\n",
       "      <td>803929993</td>\n",
       "      <td>30300070</td>\n",
       "      <td>130752605</td>\n",
       "      <td>8002825</td>\n",
       "      <td>2023-06-01 07:00:00</td>\n",
       "      <td>1</td>\n",
       "      <td>7</td>\n",
       "    </tr>\n",
       "    <tr>\n",
       "      <th>16362</th>\n",
       "      <td>803166584</td>\n",
       "      <td>30300037</td>\n",
       "      <td>130759023</td>\n",
       "      <td>8005517</td>\n",
       "      <td>2023-06-01 07:00:00</td>\n",
       "      <td>1</td>\n",
       "      <td>7</td>\n",
       "    </tr>\n",
       "    <tr>\n",
       "      <th>16363</th>\n",
       "      <td>911563091</td>\n",
       "      <td>30300071</td>\n",
       "      <td>130759180</td>\n",
       "      <td>8002572</td>\n",
       "      <td>2023-06-01 07:00:00</td>\n",
       "      <td>1</td>\n",
       "      <td>7</td>\n",
       "    </tr>\n",
       "    <tr>\n",
       "      <th>16364</th>\n",
       "      <td>934924962</td>\n",
       "      <td>30300069</td>\n",
       "      <td>130759715</td>\n",
       "      <td>8003044</td>\n",
       "      <td>2023-06-01 07:00:00</td>\n",
       "      <td>1</td>\n",
       "      <td>7</td>\n",
       "    </tr>\n",
       "    <tr>\n",
       "      <th>16365</th>\n",
       "      <td>549151960</td>\n",
       "      <td>30300096</td>\n",
       "      <td>130752063</td>\n",
       "      <td>8002553</td>\n",
       "      <td>2023-06-01 07:00:00</td>\n",
       "      <td>1</td>\n",
       "      <td>7</td>\n",
       "    </tr>\n",
       "    <tr>\n",
       "      <th>...</th>\n",
       "      <td>...</td>\n",
       "      <td>...</td>\n",
       "      <td>...</td>\n",
       "      <td>...</td>\n",
       "      <td>...</td>\n",
       "      <td>...</td>\n",
       "      <td>...</td>\n",
       "    </tr>\n",
       "    <tr>\n",
       "      <th>10698195</th>\n",
       "      <td>745323770</td>\n",
       "      <td>30300077</td>\n",
       "      <td>130752010</td>\n",
       "      <td>8002434</td>\n",
       "      <td>2023-06-30 18:59:59</td>\n",
       "      <td>30</td>\n",
       "      <td>18</td>\n",
       "    </tr>\n",
       "    <tr>\n",
       "      <th>10698196</th>\n",
       "      <td>541380065</td>\n",
       "      <td>30300087</td>\n",
       "      <td>130759614</td>\n",
       "      <td>8002088</td>\n",
       "      <td>2023-06-30 18:59:59</td>\n",
       "      <td>30</td>\n",
       "      <td>18</td>\n",
       "    </tr>\n",
       "    <tr>\n",
       "      <th>10698198</th>\n",
       "      <td>918362716</td>\n",
       "      <td>30300054</td>\n",
       "      <td>130759382</td>\n",
       "      <td>8002452</td>\n",
       "      <td>2023-06-30 18:59:59</td>\n",
       "      <td>30</td>\n",
       "      <td>18</td>\n",
       "    </tr>\n",
       "    <tr>\n",
       "      <th>10698199</th>\n",
       "      <td>781295883</td>\n",
       "      <td>30300036</td>\n",
       "      <td>130759520</td>\n",
       "      <td>8002407</td>\n",
       "      <td>2023-06-30 18:59:59</td>\n",
       "      <td>30</td>\n",
       "      <td>18</td>\n",
       "    </tr>\n",
       "    <tr>\n",
       "      <th>10698200</th>\n",
       "      <td>903068313</td>\n",
       "      <td>30300040</td>\n",
       "      <td>130759818</td>\n",
       "      <td>8002759</td>\n",
       "      <td>2023-06-30 18:59:59</td>\n",
       "      <td>30</td>\n",
       "      <td>18</td>\n",
       "    </tr>\n",
       "  </tbody>\n",
       "</table>\n",
       "<p>2884248 rows × 7 columns</p>\n",
       "</div>"
      ],
      "text/plain": [
       "            CARD_NO  BUS_ROUTE_ID  BUS_CAR_ID  GETON_BUS_STTN_ID  \\\n",
       "16361     803929993      30300070   130752605            8002825   \n",
       "16362     803166584      30300037   130759023            8005517   \n",
       "16363     911563091      30300071   130759180            8002572   \n",
       "16364     934924962      30300069   130759715            8003044   \n",
       "16365     549151960      30300096   130752063            8002553   \n",
       "...             ...           ...         ...                ...   \n",
       "10698195  745323770      30300077   130752010            8002434   \n",
       "10698196  541380065      30300087   130759614            8002088   \n",
       "10698198  918362716      30300054   130759382            8002452   \n",
       "10698199  781295883      30300036   130759520            8002407   \n",
       "10698200  903068313      30300040   130759818            8002759   \n",
       "\n",
       "              GETON_DATETIME  DAY  GETON_HOUR  \n",
       "16361    2023-06-01 07:00:00    1           7  \n",
       "16362    2023-06-01 07:00:00    1           7  \n",
       "16363    2023-06-01 07:00:00    1           7  \n",
       "16364    2023-06-01 07:00:00    1           7  \n",
       "16365    2023-06-01 07:00:00    1           7  \n",
       "...                      ...  ...         ...  \n",
       "10698195 2023-06-30 18:59:59   30          18  \n",
       "10698196 2023-06-30 18:59:59   30          18  \n",
       "10698198 2023-06-30 18:59:59   30          18  \n",
       "10698199 2023-06-30 18:59:59   30          18  \n",
       "10698200 2023-06-30 18:59:59   30          18  \n",
       "\n",
       "[2884248 rows x 7 columns]"
      ]
     },
     "execution_count": 18,
     "metadata": {},
     "output_type": "execute_result"
    }
   ],
   "source": [
    "SMART_CARD_DATA['GETON_HOUR'] = SMART_CARD_DATA['GETON_DATETIME'].dt.hour\n",
    "\n",
    "# 출/퇴근 시간대만 필터링\n",
    "SMART_CARD_DATA_ = SMART_CARD_DATA[SMART_CARD_DATA['GETON_HOUR'].isin([7,8,16,17,18])]\n",
    "SMART_CARD_DATA_"
   ]
  },
  {
   "cell_type": "code",
   "execution_count": 19,
   "metadata": {},
   "outputs": [],
   "source": [
    "getrouteinfoall_merge_df = getrouteinfoall[['ALLO_INTERVAL','ROUTE_CD','ROUTE_NO']]"
   ]
  },
  {
   "cell_type": "code",
   "execution_count": 20,
   "metadata": {},
   "outputs": [],
   "source": [
    "allo_interval_merge = SMART_CARD_DATA_.merge(getrouteinfoall_merge_df, left_on = 'BUS_ROUTE_ID', right_on = 'ROUTE_CD')\n",
    "allo_interval_merge = allo_interval_merge[['ROUTE_NO','CARD_NO','ALLO_INTERVAL']]\n",
    "bus_usage = allo_interval_merge.groupby(\"ROUTE_NO\").size().reset_index(name=\"USAGE_COUNT\")\n",
    "bus_usage_merge = bus_usage.merge(getrouteinfoall_merge_df, left_on = 'ROUTE_NO', right_on = 'ROUTE_NO')\n",
    "bus_usage_merge = bus_usage_merge[['ROUTE_NO','USAGE_COUNT','ALLO_INTERVAL']]\n",
    "bus_usage_merge['ALLO_INTERVAL'] = bus_usage_merge['ALLO_INTERVAL'].astype(int)\n",
    "bus_usage_merge['USAGE_COUNT'] = (bus_usage_merge['USAGE_COUNT']/18).astype(int)\n",
    "bus_usage_merge_work = bus_usage_merge[bus_usage_merge['ROUTE_NO']!='2']"
   ]
  },
  {
   "cell_type": "code",
   "execution_count": 21,
   "metadata": {},
   "outputs": [],
   "source": [
    "allo_interval_merge = SMART_CARD_DATA.merge(getrouteinfoall_merge_df, left_on = 'BUS_ROUTE_ID', right_on = 'ROUTE_CD')\n",
    "allo_interval_merge = allo_interval_merge[['ROUTE_NO','CARD_NO','ALLO_INTERVAL']]\n",
    "bus_usage = allo_interval_merge.groupby(\"ROUTE_NO\").size().reset_index(name=\"USAGE_COUNT\")\n",
    "bus_usage_merge = bus_usage.merge(getrouteinfoall_merge_df, left_on = 'ROUTE_NO', right_on = 'ROUTE_NO')\n",
    "bus_usage_merge = bus_usage_merge[['ROUTE_NO','USAGE_COUNT','ALLO_INTERVAL']]\n",
    "bus_usage_merge['ALLO_INTERVAL'] = bus_usage_merge['ALLO_INTERVAL'].astype(int)\n",
    "bus_usage_merge['USAGE_COUNT'] = (bus_usage_merge['USAGE_COUNT']/18).astype(int)\n",
    "bus_usage_merge_all = bus_usage_merge[bus_usage_merge['ROUTE_NO']!='2']"
   ]
  },
  {
   "cell_type": "markdown",
   "metadata": {},
   "source": [
    "산점도 시각화"
   ]
  },
  {
   "cell_type": "code",
   "execution_count": 22,
   "metadata": {},
   "outputs": [],
   "source": [
    "# import plotly.express as px\n",
    "\n",
    "# # Plotly로 산점도 그래프 그리기\n",
    "# fig = px.scatter(\n",
    "#     bus_usage_merge,\n",
    "#     x=\"USAGE_COUNT\",\n",
    "#     y=\"ALLO_INTERVAL\",\n",
    "#     color=\"ROUTE_NO\",\n",
    "#     color_continuous_scale=\"viridis\",\n",
    "#     labels={\"USAGE_COUNT\": \"버스 이용량\", \"ALLO_INTERVAL\": \"배차간격 (분)\"},\n",
    "#     title=\"버스 노선별 이용량에 따른 배차간격\",\n",
    "#     trendline=\"ols\"  # 선형 회귀선 추가\n",
    "# )\n",
    "\n",
    "# fig.update_coloraxes(colorbar_title=\"버스 노선번호\")\n",
    "\n",
    "# # Customize x-axis tick labels to display numbers without abbreviation\n",
    "# fig.update_xaxes(tickformat=\"d\")\n",
    "\n",
    "# # Customize y-axis tick labels to display numbers without abbreviation\n",
    "# fig.update_yaxes(tickformat=\"d\")\n",
    "\n",
    "# fig.show()\n"
   ]
  },
  {
   "cell_type": "markdown",
   "metadata": {},
   "source": [
    "회귀선 시각화"
   ]
  },
  {
   "cell_type": "code",
   "execution_count": 23,
   "metadata": {},
   "outputs": [],
   "source": [
    "# import seaborn as sns\n",
    "# # seaborn을 사용하여 산점도 그래프와 선형 회귀선 그리기\n",
    "# plt.figure(figsize=(50, 30))\n",
    "# sns.scatterplot(data=bus_usage_merge, x=\"USAGE_COUNT\", y=\"ALLO_INTERVAL\", hue=\"ROUTE_NO\", palette=\"viridis\")\n",
    "# sns.regplot(data=bus_usage_merge, x=\"USAGE_COUNT\", y=\"ALLO_INTERVAL\", scatter=False, color='black', line_kws={\"color\": \"red\"})\n",
    "# plt.xlabel(\"이용량\")\n",
    "# plt.ylabel(\"배차간격 (분)\")\n",
    "# plt.title(\"이용량에 따른 배차간격\")\n",
    "\n",
    "# # 데이터 포인트에 레이블 달기\n",
    "# for route, usage, interval in zip(bus_usage_merge[\"ROUTE_NO\"], bus_usage_merge[\"USAGE_COUNT\"], bus_usage_merge[\"ALLO_INTERVAL\"]):\n",
    "#     plt.annotate(route,\n",
    "#                  xy=(usage, interval),\n",
    "#                  xytext=(-5, 0),\n",
    "#                  textcoords='offset points',\n",
    "#                  fontsize=10)  # 레이블 텍스트 크기 조정\n",
    "\n",
    "# # 범례 제거\n",
    "# plt.legend().remove()\n",
    "\n",
    "# plt.show()"
   ]
  },
  {
   "cell_type": "code",
   "execution_count": 24,
   "metadata": {},
   "outputs": [
    {
     "data": {
      "text/html": [
       "<div>\n",
       "<style scoped>\n",
       "    .dataframe tbody tr th:only-of-type {\n",
       "        vertical-align: middle;\n",
       "    }\n",
       "\n",
       "    .dataframe tbody tr th {\n",
       "        vertical-align: top;\n",
       "    }\n",
       "\n",
       "    .dataframe thead th {\n",
       "        text-align: right;\n",
       "    }\n",
       "</style>\n",
       "<table border=\"1\" class=\"dataframe\">\n",
       "  <thead>\n",
       "    <tr style=\"text-align: right;\">\n",
       "      <th></th>\n",
       "      <th>ROUTE_NO</th>\n",
       "      <th>USAGE_COUNT</th>\n",
       "      <th>ALLO_INTERVAL</th>\n",
       "    </tr>\n",
       "  </thead>\n",
       "  <tbody>\n",
       "    <tr>\n",
       "      <th>0</th>\n",
       "      <td>101</td>\n",
       "      <td>4162</td>\n",
       "      <td>20</td>\n",
       "    </tr>\n",
       "    <tr>\n",
       "      <th>1</th>\n",
       "      <td>102</td>\n",
       "      <td>20344</td>\n",
       "      <td>7</td>\n",
       "    </tr>\n",
       "    <tr>\n",
       "      <th>2</th>\n",
       "      <td>103</td>\n",
       "      <td>9835</td>\n",
       "      <td>13</td>\n",
       "    </tr>\n",
       "    <tr>\n",
       "      <th>3</th>\n",
       "      <td>104</td>\n",
       "      <td>3000</td>\n",
       "      <td>20</td>\n",
       "    </tr>\n",
       "    <tr>\n",
       "      <th>4</th>\n",
       "      <td>105</td>\n",
       "      <td>13089</td>\n",
       "      <td>9</td>\n",
       "    </tr>\n",
       "    <tr>\n",
       "      <th>...</th>\n",
       "      <td>...</td>\n",
       "      <td>...</td>\n",
       "      <td>...</td>\n",
       "    </tr>\n",
       "    <tr>\n",
       "      <th>60</th>\n",
       "      <td>802</td>\n",
       "      <td>6247</td>\n",
       "      <td>18</td>\n",
       "    </tr>\n",
       "    <tr>\n",
       "      <th>61</th>\n",
       "      <td>911</td>\n",
       "      <td>1814</td>\n",
       "      <td>25</td>\n",
       "    </tr>\n",
       "    <tr>\n",
       "      <th>62</th>\n",
       "      <td>912</td>\n",
       "      <td>1959</td>\n",
       "      <td>19</td>\n",
       "    </tr>\n",
       "    <tr>\n",
       "      <th>63</th>\n",
       "      <td>916</td>\n",
       "      <td>2884</td>\n",
       "      <td>22</td>\n",
       "    </tr>\n",
       "    <tr>\n",
       "      <th>64</th>\n",
       "      <td>918</td>\n",
       "      <td>2373</td>\n",
       "      <td>22</td>\n",
       "    </tr>\n",
       "  </tbody>\n",
       "</table>\n",
       "<p>63 rows × 3 columns</p>\n",
       "</div>"
      ],
      "text/plain": [
       "   ROUTE_NO  USAGE_COUNT  ALLO_INTERVAL\n",
       "0       101         4162             20\n",
       "1       102        20344              7\n",
       "2       103         9835             13\n",
       "3       104         3000             20\n",
       "4       105        13089              9\n",
       "..      ...          ...            ...\n",
       "60      802         6247             18\n",
       "61      911         1814             25\n",
       "62      912         1959             19\n",
       "63      916         2884             22\n",
       "64      918         2373             22\n",
       "\n",
       "[63 rows x 3 columns]"
      ]
     },
     "execution_count": 24,
     "metadata": {},
     "output_type": "execute_result"
    }
   ],
   "source": [
    "bus_usage_merge_all"
   ]
  },
  {
   "cell_type": "code",
   "execution_count": 25,
   "metadata": {},
   "outputs": [
    {
     "data": {
      "image/png": "[encoded data removed]",
      "text/plain": [
       "<Figure size 1200x800 with 1 Axes>"
      ]
     },
     "metadata": {},
     "output_type": "display_data"
    }
   ],
   "source": [
    "import numpy as np\n",
    "import pandas as pd\n",
    "import seaborn as sns\n",
    "import matplotlib.pyplot as plt\n",
    "\n",
    "# 그래프 크기 설정\n",
    "plt.figure(figsize=(12, 8))\n",
    "\n",
    "# 산점도 그래프 그리기\n",
    "sns.scatterplot(data=bus_usage_merge_all, x=\"USAGE_COUNT\", y=\"ALLO_INTERVAL\", hue=\"ROUTE_NO\", palette=\"viridis\")\n",
    "\n",
    "# 2차 곡선 회귀선 그리기\n",
    "sns.regplot(data=bus_usage_merge_all, x=\"USAGE_COUNT\", y=\"ALLO_INTERVAL\", scatter=False, order=2, color='black', line_kws={\"color\": \"red\"})\n",
    "\n",
    "# 데이터 포인트에 레이블 달기\n",
    "for route, usage, interval in zip(bus_usage_merge_all[\"ROUTE_NO\"], bus_usage_merge_all[\"USAGE_COUNT\"], bus_usage_merge_all[\"ALLO_INTERVAL\"]):\n",
    "    plt.annotate(route,\n",
    "                 xy=(usage, interval),\n",
    "                 xytext=(-5, 0),\n",
    "                 textcoords='offset points',\n",
    "                 fontsize=10)\n",
    "\n",
    "# X, Y 축 레이블 및 타이틀 설정\n",
    "plt.xlabel(\"이용량\", fontsize = 12)\n",
    "plt.ylabel(\"배차간격 (분)\", fontsize = 12)\n",
    "plt.title(\"이용량에 따른 배차간격\", fontsize = 12)\n",
    "\n",
    "# 범례 제거\n",
    "plt.legend().remove()\n",
    "\n",
    "plt.show()\n",
    "# output_line1\n"
   ]
  },
  {
   "cell_type": "code",
   "execution_count": 26,
   "metadata": {},
   "outputs": [
    {
     "data": {
      "image/png": "[encoded data removed]",
      "text/plain": [
       "<Figure size 1200x800 with 1 Axes>"
      ]
     },
     "metadata": {},
     "output_type": "display_data"
    }
   ],
   "source": [
    "# 그래프 크기 설정\n",
    "plt.figure(figsize=(12, 8))\n",
    "\n",
    "# 산점도 그래프 그리기\n",
    "sns.scatterplot(data=bus_usage_merge_work, x=\"USAGE_COUNT\", y=\"ALLO_INTERVAL\", hue=\"ROUTE_NO\", palette=\"viridis\")\n",
    "\n",
    "# 2차 곡선 회귀선 그리기\n",
    "sns.regplot(data=bus_usage_merge_work, x=\"USAGE_COUNT\", y=\"ALLO_INTERVAL\", scatter=False, order=2, color='black', line_kws={\"color\": \"red\"})\n",
    "\n",
    "# 데이터 포인트에 레이블 달기\n",
    "for route, usage, interval in zip(bus_usage_merge_work[\"ROUTE_NO\"], bus_usage_merge_work[\"USAGE_COUNT\"], bus_usage_merge_work[\"ALLO_INTERVAL\"]):\n",
    "    plt.annotate(route,\n",
    "                 xy=(usage, interval),\n",
    "                 xytext=(-5, 0),\n",
    "                 textcoords='offset points',\n",
    "                 fontsize=10)\n",
    "\n",
    "# X, Y 축 레이블 및 타이틀 설정\n",
    "plt.xlabel(\"이용량\", fontsize = 12)\n",
    "plt.ylabel(\"배차간격 (분)\", fontsize = 12)\n",
    "plt.title(\"이용량에 따른 배차간격\", fontsize = 12)\n",
    "\n",
    "# 범례 제거\n",
    "plt.legend().remove()\n",
    "\n",
    "plt.show()\n",
    "# output_line2"
   ]
  },
  {
   "cell_type": "code",
   "execution_count": 27,
   "metadata": {},
   "outputs": [
    {
     "data": {
      "image/png": "[encoded data removed]",
      "text/plain": [
       "<Figure size 1200x800 with 1 Axes>"
      ]
     },
     "metadata": {},
     "output_type": "display_data"
    }
   ],
   "source": [
    "import numpy as np\n",
    "import pandas as pd\n",
    "import seaborn as sns\n",
    "import matplotlib.pyplot as plt\n",
    "\n",
    "# 그래프 크기 설정\n",
    "plt.figure(figsize=(12, 8))\n",
    "\n",
    "# 산점도 그래프 그리기\n",
    "sns.scatterplot(data=bus_usage_merge_work, x=\"USAGE_COUNT\", y=\"ALLO_INTERVAL\", hue=\"ROUTE_NO\", palette=\"viridis\")\n",
    "\n",
    "# 2차 곡선 회귀선 그리기\n",
    "sns.regplot(data=bus_usage_merge_work, x=\"USAGE_COUNT\", y=\"ALLO_INTERVAL\", scatter=False, order=2, color='black', line_kws={\"color\": \"red\"})\n",
    "\n",
    "# 데이터 포인트에 레이블 달기\n",
    "for route, usage, interval in zip(bus_usage_merge_work[\"ROUTE_NO\"], bus_usage_merge_work[\"USAGE_COUNT\"], bus_usage_merge_work[\"ALLO_INTERVAL\"]):\n",
    "    plt.annotate(route,\n",
    "                 xy=(usage, interval),\n",
    "                 xytext=(-5, 0),\n",
    "                 textcoords='offset points',\n",
    "                 fontsize=10)\n",
    "\n",
    "# X, Y 축 레이블 및 타이틀 설정\n",
    "plt.xlabel(\"이용량\",fontsize = 12)\n",
    "plt.ylabel(\"배차간격 (분)\",fontsize = 12)\n",
    "plt.title(\"이용량에 따른 배차간격\",fontsize = 12)\n",
    "\n",
    "# 회귀선 계수 계산\n",
    "a, b, c = np.polyfit(bus_usage_merge_work[\"USAGE_COUNT\"], bus_usage_merge_work[\"ALLO_INTERVAL\"], 2)  # 2차 곡선이므로 2로 수정\n",
    "\n",
    "# 회귀선과의 거리 계산 및 데이터프레임에 추가\n",
    "distances = []\n",
    "for x, y in zip(bus_usage_merge_work[\"USAGE_COUNT\"], bus_usage_merge_work[\"ALLO_INTERVAL\"]):\n",
    "    y_pred = a * x**2 + b * x + c  # 2차 곡선 방정식\n",
    "    distance = y - y_pred\n",
    "    distances.append(distance)\n",
    "\n",
    "# 거리를 데이터프레임에 추가\n",
    "bus_usage_merge_work[\"Distance_WORK\"] = distances\n",
    "\n",
    "# 범례 제거\n",
    "plt.legend().remove()\n",
    "\n",
    "# 거리가 추가된 데이터프레임 출력\n",
    "plt.show()\n",
    "# output_line_work"
   ]
  },
  {
   "cell_type": "code",
   "execution_count": 28,
   "metadata": {},
   "outputs": [
    {
     "data": {
      "image/png": "[encoded data removed]",
      "text/plain": [
       "<Figure size 1200x800 with 1 Axes>"
      ]
     },
     "metadata": {},
     "output_type": "display_data"
    }
   ],
   "source": [
    "import numpy as np\n",
    "import pandas as pd\n",
    "import seaborn as sns\n",
    "import matplotlib.pyplot as plt\n",
    "\n",
    "# 그래프 크기 설정\n",
    "plt.figure(figsize=(12, 8))\n",
    "\n",
    "# 산점도 그래프 그리기\n",
    "sns.scatterplot(data=bus_usage_merge_all, x=\"USAGE_COUNT\", y=\"ALLO_INTERVAL\", hue=\"ROUTE_NO\", palette=\"viridis\")\n",
    "\n",
    "# 2차 곡선 회귀선 그리기\n",
    "sns.regplot(data=bus_usage_merge_all, x=\"USAGE_COUNT\", y=\"ALLO_INTERVAL\", scatter=False, order=2, color='black', line_kws={\"color\": \"red\"})\n",
    "\n",
    "# 데이터 포인트에 레이블 달기\n",
    "for route, usage, interval in zip(bus_usage_merge_all[\"ROUTE_NO\"], bus_usage_merge_all[\"USAGE_COUNT\"], bus_usage_merge_all[\"ALLO_INTERVAL\"]):\n",
    "    plt.annotate(route,\n",
    "                 xy=(usage, interval),\n",
    "                 xytext=(-5, 0),\n",
    "                 textcoords='offset points',\n",
    "                 fontsize=10)\n",
    "\n",
    "# X, Y 축 레이블 및 타이틀 설정\n",
    "plt.xlabel(\"이용량\", fontsize = 12)\n",
    "plt.ylabel(\"배차간격 (분)\", fontsize = 12)\n",
    "plt.title(\"이용량에 따른 배차간격\", fontsize = 12)\n",
    "\n",
    "# 회귀선의 방정식 계산\n",
    "a, b, c = np.polyfit(bus_usage_merge_all[\"USAGE_COUNT\"], bus_usage_merge_all[\"ALLO_INTERVAL\"], 2)  # 2차 곡선이므로 2로 수정\n",
    "\n",
    "# 회귀선과의 거리 계산 및 데이터프레임에 추가\n",
    "distances = []\n",
    "for x, y in zip(bus_usage_merge_all[\"USAGE_COUNT\"], bus_usage_merge_all[\"ALLO_INTERVAL\"]):\n",
    "    y_pred = a * x**2 + b * x + c  # 2차 곡선 방정식\n",
    "    distance = y - y_pred\n",
    "    distances.append(distance)\n",
    "\n",
    "# 거리를 데이터프레임에 추가\n",
    "bus_usage_merge_all[\"Distance\"] = distances\n",
    "\n",
    "# 범례 제거\n",
    "plt.legend().remove()\n",
    "\n",
    "plt.show()\n",
    "\n",
    "# 거리가 추가된 데이터프레임 출력\n",
    "# print(bus_usage_merge_all.head())\n"
   ]
  },
  {
   "cell_type": "code",
   "execution_count": 15,
   "metadata": {},
   "outputs": [],
   "source": [
    "# bus_usage_merge_work.loc[bus_usage_merge_work['ROUTE_NO'] == '912', 'ALLO_INTERVAL'] = 20\n",
    "# bus_usage_merge_work.loc[bus_usage_merge_work['ROUTE_NO'] == '117', 'ALLO_INTERVAL'] = 22"
   ]
  },
  {
   "cell_type": "code",
   "execution_count": 29,
   "metadata": {},
   "outputs": [],
   "source": [
    "# bus_usage_merge_work.loc[bus_usage_merge_work['ROUTE_NO'] == '203', 'ALLO_INTERVAL'] = 18\n",
    "# bus_usage_merge_work.loc[bus_usage_merge_work['ROUTE_NO'] == '701', 'ALLO_INTERVAL'] = 20"
   ]
  },
  {
   "cell_type": "code",
   "execution_count": 30,
   "metadata": {},
   "outputs": [],
   "source": [
    "# # bus_usage_merge_work.loc[bus_usage_merge_work['ROUTE_NO'] == '601', 'ALLO_INTERVAL'] = 14\n",
    "# bus_usage_merge_work.loc[bus_usage_merge_work['ROUTE_NO'] == '704', 'ALLO_INTERVAL'] = 9"
   ]
  },
  {
   "cell_type": "code",
   "execution_count": 33,
   "metadata": {},
   "outputs": [
    {
     "data": {
      "application/vnd.plotly.v1+json": {
       "config": {
        "plotlyServerURL": "https://plot.ly"
       },
       "data": [
        {
         "hovertemplate": "노선번호=101<br>이용량=%{x}<br>배차간격 (분)=%{y}<extra></extra>",
         "legendgroup": "101",
         "marker": {
          "color": "#636efa",
          "symbol": "circle"
         },
         "mode": "markers",
         "name": "101",
         "orientation": "v",
         "showlegend": true,
         "type": "scatter",
         "x": [
          4162
         ],
         "xaxis": "x",
         "y": [
          20
         ],
         "yaxis": "y"
        },
        {
         "hovertemplate": "노선번호=102<br>이용량=%{x}<br>배차간격 (분)=%{y}<extra></extra>",
         "legendgroup": "102",
         "marker": {
          "color": "#EF553B",
          "symbol": "circle"
         },
         "mode": "markers",
         "name": "102",
         "orientation": "v",
         "showlegend": true,
         "type": "scatter",
         "x": [
          20344
         ],
         "xaxis": "x",
         "y": [
          7
         ],
         "yaxis": "y"
        },
        {
         "hovertemplate": "노선번호=103<br>이용량=%{x}<br>배차간격 (분)=%{y}<extra></extra>",
         "legendgroup": "103",
         "marker": {
          "color": "#00cc96",
          "symbol": "circle"
         },
         "mode": "markers",
         "name": "103",
         "orientation": "v",
         "showlegend": true,
         "type": "scatter",
         "x": [
          9835
         ],
         "xaxis": "x",
         "y": [
          13
         ],
         "yaxis": "y"
        },
        {
         "hovertemplate": "노선번호=104<br>이용량=%{x}<br>배차간격 (분)=%{y}<extra></extra>",
         "legendgroup": "104",
         "marker": {
          "color": "#ab63fa",
          "symbol": "circle"
         },
         "mode": "markers",
         "name": "104",
         "orientation": "v",
         "showlegend": true,
         "type": "scatter",
         "x": [
          3000
         ],
         "xaxis": "x",
         "y": [
          20
         ],
         "yaxis": "y"
        },
        {
         "hovertemplate": "노선번호=105<br>이용량=%{x}<br>배차간격 (분)=%{y}<extra></extra>",
         "legendgroup": "105",
         "marker": {
          "color": "#FFA15A",
          "symbol": "circle"
         },
         "mode": "markers",
         "name": "105",
         "orientation": "v",
         "showlegend": true,
         "type": "scatter",
         "x": [
          13089
         ],
         "xaxis": "x",
         "y": [
          9
         ],
         "yaxis": "y"
        },
        {
         "hovertemplate": "노선번호=106<br>이용량=%{x}<br>배차간격 (분)=%{y}<extra></extra>",
         "legendgroup": "106",
         "marker": {
          "color": "#19d3f3",
          "symbol": "circle"
         },
         "mode": "markers",
         "name": "106",
         "orientation": "v",
         "showlegend": true,
         "type": "scatter",
         "x": [
          12520
         ],
         "xaxis": "x",
         "y": [
          11
         ],
         "yaxis": "y"
        },
        {
         "hovertemplate": "노선번호=108<br>이용량=%{x}<br>배차간격 (분)=%{y}<extra></extra>",
         "legendgroup": "108",
         "marker": {
          "color": "#FF6692",
          "symbol": "circle"
         },
         "mode": "markers",
         "name": "108",
         "orientation": "v",
         "showlegend": true,
         "type": "scatter",
         "x": [
          8561
         ],
         "xaxis": "x",
         "y": [
          12
         ],
         "yaxis": "y"
        },
        {
         "hovertemplate": "노선번호=113<br>이용량=%{x}<br>배차간격 (분)=%{y}<extra></extra>",
         "legendgroup": "113",
         "marker": {
          "color": "#B6E880",
          "symbol": "circle"
         },
         "mode": "markers",
         "name": "113",
         "orientation": "v",
         "showlegend": true,
         "type": "scatter",
         "x": [
          3673
         ],
         "xaxis": "x",
         "y": [
          22
         ],
         "yaxis": "y"
        },
        {
         "hovertemplate": "노선번호=114<br>이용량=%{x}<br>배차간격 (분)=%{y}<extra></extra>",
         "legendgroup": "114",
         "marker": {
          "color": "#FF97FF",
          "symbol": "circle"
         },
         "mode": "markers",
         "name": "114",
         "orientation": "v",
         "showlegend": true,
         "type": "scatter",
         "x": [
          5534
         ],
         "xaxis": "x",
         "y": [
          18
         ],
         "yaxis": "y"
        },
        {
         "hovertemplate": "노선번호=115<br>이용량=%{x}<br>배차간격 (분)=%{y}<extra></extra>",
         "legendgroup": "115",
         "marker": {
          "color": "#FECB52",
          "symbol": "circle"
         },
         "mode": "markers",
         "name": "115",
         "orientation": "v",
         "showlegend": true,
         "type": "scatter",
         "x": [
          6897
         ],
         "xaxis": "x",
         "y": [
          15
         ],
         "yaxis": "y"
        },
        {
         "hovertemplate": "노선번호=116<br>이용량=%{x}<br>배차간격 (분)=%{y}<extra></extra>",
         "legendgroup": "116",
         "marker": {
          "color": "#636efa",
          "symbol": "circle"
         },
         "mode": "markers",
         "name": "116",
         "orientation": "v",
         "showlegend": true,
         "type": "scatter",
         "x": [
          1845
         ],
         "xaxis": "x",
         "y": [
          24
         ],
         "yaxis": "y"
        },
        {
         "hovertemplate": "노선번호=117<br>이용량=%{x}<br>배차간격 (분)=%{y}<extra></extra>",
         "legendgroup": "117",
         "marker": {
          "color": "#EF553B",
          "symbol": "circle"
         },
         "mode": "markers",
         "name": "117",
         "orientation": "v",
         "showlegend": true,
         "type": "scatter",
         "x": [
          2800
         ],
         "xaxis": "x",
         "y": [
          20
         ],
         "yaxis": "y"
        },
        {
         "hovertemplate": "노선번호=119<br>이용량=%{x}<br>배차간격 (분)=%{y}<extra></extra>",
         "legendgroup": "119",
         "marker": {
          "color": "#00cc96",
          "symbol": "circle"
         },
         "mode": "markers",
         "name": "119",
         "orientation": "v",
         "showlegend": true,
         "type": "scatter",
         "x": [
          7148
         ],
         "xaxis": "x",
         "y": [
          16
         ],
         "yaxis": "y"
        },
        {
         "hovertemplate": "노선번호=121<br>이용량=%{x}<br>배차간격 (분)=%{y}<extra></extra>",
         "legendgroup": "121",
         "marker": {
          "color": "#ab63fa",
          "symbol": "circle"
         },
         "mode": "markers",
         "name": "121",
         "orientation": "v",
         "showlegend": true,
         "type": "scatter",
         "x": [
          3639
         ],
         "xaxis": "x",
         "y": [
          22
         ],
         "yaxis": "y"
        },
        {
         "hovertemplate": "노선번호=201<br>이용량=%{x}<br>배차간격 (분)=%{y}<extra></extra>",
         "legendgroup": "201",
         "marker": {
          "color": "#FFA15A",
          "symbol": "circle"
         },
         "mode": "markers",
         "name": "201",
         "orientation": "v",
         "showlegend": true,
         "type": "scatter",
         "x": [
          15790
         ],
         "xaxis": "x",
         "y": [
          8
         ],
         "yaxis": "y"
        },
        {
         "hovertemplate": "노선번호=203<br>이용량=%{x}<br>배차간격 (분)=%{y}<extra></extra>",
         "legendgroup": "203",
         "marker": {
          "color": "#19d3f3",
          "symbol": "circle"
         },
         "mode": "markers",
         "name": "203",
         "orientation": "v",
         "showlegend": true,
         "type": "scatter",
         "x": [
          4499
         ],
         "xaxis": "x",
         "y": [
          18
         ],
         "yaxis": "y"
        },
        {
         "hovertemplate": "노선번호=211<br>이용량=%{x}<br>배차간격 (분)=%{y}<extra></extra>",
         "legendgroup": "211",
         "marker": {
          "color": "#FF6692",
          "symbol": "circle"
         },
         "mode": "markers",
         "name": "211",
         "orientation": "v",
         "showlegend": true,
         "type": "scatter",
         "x": [
          8891
         ],
         "xaxis": "x",
         "y": [
          12
         ],
         "yaxis": "y"
        },
        {
         "hovertemplate": "노선번호=212<br>이용량=%{x}<br>배차간격 (분)=%{y}<extra></extra>",
         "legendgroup": "212",
         "marker": {
          "color": "#B6E880",
          "symbol": "circle"
         },
         "mode": "markers",
         "name": "212",
         "orientation": "v",
         "showlegend": true,
         "type": "scatter",
         "x": [
          924
         ],
         "xaxis": "x",
         "y": [
          24
         ],
         "yaxis": "y"
        },
        {
         "hovertemplate": "노선번호=213<br>이용량=%{x}<br>배차간격 (분)=%{y}<extra></extra>",
         "legendgroup": "213",
         "marker": {
          "color": "#FF97FF",
          "symbol": "circle"
         },
         "mode": "markers",
         "name": "213",
         "orientation": "v",
         "showlegend": true,
         "type": "scatter",
         "x": [
          559
         ],
         "xaxis": "x",
         "y": [
          34
         ],
         "yaxis": "y"
        },
        {
         "hovertemplate": "노선번호=216<br>이용량=%{x}<br>배차간격 (분)=%{y}<extra></extra>",
         "legendgroup": "216",
         "marker": {
          "color": "#FECB52",
          "symbol": "circle"
         },
         "mode": "markers",
         "name": "216",
         "orientation": "v",
         "showlegend": true,
         "type": "scatter",
         "x": [
          4941
         ],
         "xaxis": "x",
         "y": [
          17
         ],
         "yaxis": "y"
        },
        {
         "hovertemplate": "노선번호=301<br>이용량=%{x}<br>배차간격 (분)=%{y}<extra></extra>",
         "legendgroup": "301",
         "marker": {
          "color": "#636efa",
          "symbol": "circle"
         },
         "mode": "markers",
         "name": "301",
         "orientation": "v",
         "showlegend": true,
         "type": "scatter",
         "x": [
          16353
         ],
         "xaxis": "x",
         "y": [
          8
         ],
         "yaxis": "y"
        },
        {
         "hovertemplate": "노선번호=311<br>이용량=%{x}<br>배차간격 (분)=%{y}<extra></extra>",
         "legendgroup": "311",
         "marker": {
          "color": "#EF553B",
          "symbol": "circle"
         },
         "mode": "markers",
         "name": "311",
         "orientation": "v",
         "showlegend": true,
         "type": "scatter",
         "x": [
          18507
         ],
         "xaxis": "x",
         "y": [
          7
         ],
         "yaxis": "y"
        },
        {
         "hovertemplate": "노선번호=312<br>이용량=%{x}<br>배차간격 (분)=%{y}<extra></extra>",
         "legendgroup": "312",
         "marker": {
          "color": "#00cc96",
          "symbol": "circle"
         },
         "mode": "markers",
         "name": "312",
         "orientation": "v",
         "showlegend": true,
         "type": "scatter",
         "x": [
          5174
         ],
         "xaxis": "x",
         "y": [
          20
         ],
         "yaxis": "y"
        },
        {
         "hovertemplate": "노선번호=313<br>이용량=%{x}<br>배차간격 (분)=%{y}<extra></extra>",
         "legendgroup": "313",
         "marker": {
          "color": "#ab63fa",
          "symbol": "circle"
         },
         "mode": "markers",
         "name": "313",
         "orientation": "v",
         "showlegend": true,
         "type": "scatter",
         "x": [
          2148
         ],
         "xaxis": "x",
         "y": [
          25
         ],
         "yaxis": "y"
        },
        {
         "hovertemplate": "노선번호=314<br>이용량=%{x}<br>배차간격 (분)=%{y}<extra></extra>",
         "legendgroup": "314",
         "marker": {
          "color": "#FFA15A",
          "symbol": "circle"
         },
         "mode": "markers",
         "name": "314",
         "orientation": "v",
         "showlegend": true,
         "type": "scatter",
         "x": [
          11001
         ],
         "xaxis": "x",
         "y": [
          11
         ],
         "yaxis": "y"
        },
        {
         "hovertemplate": "노선번호=315<br>이용량=%{x}<br>배차간격 (분)=%{y}<extra></extra>",
         "legendgroup": "315",
         "marker": {
          "color": "#19d3f3",
          "symbol": "circle"
         },
         "mode": "markers",
         "name": "315",
         "orientation": "v",
         "showlegend": true,
         "type": "scatter",
         "x": [
          3442
         ],
         "xaxis": "x",
         "y": [
          20
         ],
         "yaxis": "y"
        },
        {
         "hovertemplate": "노선번호=316<br>이용량=%{x}<br>배차간격 (분)=%{y}<extra></extra>",
         "legendgroup": "316",
         "marker": {
          "color": "#FF6692",
          "symbol": "circle"
         },
         "mode": "markers",
         "name": "316",
         "orientation": "v",
         "showlegend": true,
         "type": "scatter",
         "x": [
          5022
         ],
         "xaxis": "x",
         "y": [
          21
         ],
         "yaxis": "y"
        },
        {
         "hovertemplate": "노선번호=317<br>이용량=%{x}<br>배차간격 (분)=%{y}<extra></extra>",
         "legendgroup": "317",
         "marker": {
          "color": "#B6E880",
          "symbol": "circle"
         },
         "mode": "markers",
         "name": "317",
         "orientation": "v",
         "showlegend": true,
         "type": "scatter",
         "x": [
          2255
         ],
         "xaxis": "x",
         "y": [
          27
         ],
         "yaxis": "y"
        },
        {
         "hovertemplate": "노선번호=318<br>이용량=%{x}<br>배차간격 (분)=%{y}<extra></extra>",
         "legendgroup": "318",
         "marker": {
          "color": "#FF97FF",
          "symbol": "circle"
         },
         "mode": "markers",
         "name": "318",
         "orientation": "v",
         "showlegend": true,
         "type": "scatter",
         "x": [
          4935
         ],
         "xaxis": "x",
         "y": [
          19
         ],
         "yaxis": "y"
        },
        {
         "hovertemplate": "노선번호=511<br>이용량=%{x}<br>배차간격 (분)=%{y}<extra></extra>",
         "legendgroup": "511",
         "marker": {
          "color": "#FECB52",
          "symbol": "circle"
         },
         "mode": "markers",
         "name": "511",
         "orientation": "v",
         "showlegend": true,
         "type": "scatter",
         "x": [
          7030
         ],
         "xaxis": "x",
         "y": [
          13
         ],
         "yaxis": "y"
        },
        {
         "hovertemplate": "노선번호=512<br>이용량=%{x}<br>배차간격 (분)=%{y}<extra></extra>",
         "legendgroup": "512",
         "marker": {
          "color": "#636efa",
          "symbol": "circle"
         },
         "mode": "markers",
         "name": "512",
         "orientation": "v",
         "showlegend": true,
         "type": "scatter",
         "x": [
          3820
         ],
         "xaxis": "x",
         "y": [
          22
         ],
         "yaxis": "y"
        },
        {
         "hovertemplate": "노선번호=513<br>이용량=%{x}<br>배차간격 (분)=%{y}<extra></extra>",
         "legendgroup": "513",
         "marker": {
          "color": "#EF553B",
          "symbol": "circle"
         },
         "mode": "markers",
         "name": "513",
         "orientation": "v",
         "showlegend": true,
         "type": "scatter",
         "x": [
          2884
         ],
         "xaxis": "x",
         "y": [
          23
         ],
         "yaxis": "y"
        },
        {
         "hovertemplate": "노선번호=514<br>이용량=%{x}<br>배차간격 (분)=%{y}<extra></extra>",
         "legendgroup": "514",
         "marker": {
          "color": "#00cc96",
          "symbol": "circle"
         },
         "mode": "markers",
         "name": "514",
         "orientation": "v",
         "showlegend": true,
         "type": "scatter",
         "x": [
          5945
         ],
         "xaxis": "x",
         "y": [
          17
         ],
         "yaxis": "y"
        },
        {
         "hovertemplate": "노선번호=601<br>이용량=%{x}<br>배차간격 (분)=%{y}<extra></extra>",
         "legendgroup": "601",
         "marker": {
          "color": "#ab63fa",
          "symbol": "circle"
         },
         "mode": "markers",
         "name": "601",
         "orientation": "v",
         "showlegend": true,
         "type": "scatter",
         "x": [
          4141
         ],
         "xaxis": "x",
         "y": [
          21
         ],
         "yaxis": "y"
        },
        {
         "hovertemplate": "노선번호=602<br>이용량=%{x}<br>배차간격 (분)=%{y}<extra></extra>",
         "legendgroup": "602",
         "marker": {
          "color": "#FFA15A",
          "symbol": "circle"
         },
         "mode": "markers",
         "name": "602",
         "orientation": "v",
         "showlegend": true,
         "type": "scatter",
         "x": [
          4119
         ],
         "xaxis": "x",
         "y": [
          18
         ],
         "yaxis": "y"
        },
        {
         "hovertemplate": "노선번호=603<br>이용량=%{x}<br>배차간격 (분)=%{y}<extra></extra>",
         "legendgroup": "603",
         "marker": {
          "color": "#19d3f3",
          "symbol": "circle"
         },
         "mode": "markers",
         "name": "603",
         "orientation": "v",
         "showlegend": true,
         "type": "scatter",
         "x": [
          8891
         ],
         "xaxis": "x",
         "y": [
          13
         ],
         "yaxis": "y"
        },
        {
         "hovertemplate": "노선번호=604<br>이용량=%{x}<br>배차간격 (분)=%{y}<extra></extra>",
         "legendgroup": "604",
         "marker": {
          "color": "#FF6692",
          "symbol": "circle"
         },
         "mode": "markers",
         "name": "604",
         "orientation": "v",
         "showlegend": true,
         "type": "scatter",
         "x": [
          9556
         ],
         "xaxis": "x",
         "y": [
          12
         ],
         "yaxis": "y"
        },
        {
         "hovertemplate": "노선번호=605<br>이용량=%{x}<br>배차간격 (분)=%{y}<extra></extra>",
         "legendgroup": "605",
         "marker": {
          "color": "#B6E880",
          "symbol": "circle"
         },
         "mode": "markers",
         "name": "605",
         "orientation": "v",
         "showlegend": true,
         "type": "scatter",
         "x": [
          10342
         ],
         "xaxis": "x",
         "y": [
          11
         ],
         "yaxis": "y"
        },
        {
         "hovertemplate": "노선번호=606<br>이용량=%{x}<br>배차간격 (분)=%{y}<extra></extra>",
         "legendgroup": "606",
         "marker": {
          "color": "#FF97FF",
          "symbol": "circle"
         },
         "mode": "markers",
         "name": "606",
         "orientation": "v",
         "showlegend": true,
         "type": "scatter",
         "x": [
          3345
         ],
         "xaxis": "x",
         "y": [
          22
         ],
         "yaxis": "y"
        },
        {
         "hovertemplate": "노선번호=608<br>이용량=%{x}<br>배차간격 (분)=%{y}<extra></extra>",
         "legendgroup": "608",
         "marker": {
          "color": "#FECB52",
          "symbol": "circle"
         },
         "mode": "markers",
         "name": "608",
         "orientation": "v",
         "showlegend": true,
         "type": "scatter",
         "x": [
          4037
         ],
         "xaxis": "x",
         "y": [
          20
         ],
         "yaxis": "y"
        },
        {
         "hovertemplate": "노선번호=611<br>이용량=%{x}<br>배차간격 (분)=%{y}<extra></extra>",
         "legendgroup": "611",
         "marker": {
          "color": "#636efa",
          "symbol": "circle"
         },
         "mode": "markers",
         "name": "611",
         "orientation": "v",
         "showlegend": true,
         "type": "scatter",
         "x": [
          4688
         ],
         "xaxis": "x",
         "y": [
          19
         ],
         "yaxis": "y"
        },
        {
         "hovertemplate": "노선번호=612<br>이용량=%{x}<br>배차간격 (분)=%{y}<extra></extra>",
         "legendgroup": "612",
         "marker": {
          "color": "#EF553B",
          "symbol": "circle"
         },
         "mode": "markers",
         "name": "612",
         "orientation": "v",
         "showlegend": true,
         "type": "scatter",
         "x": [
          3246
         ],
         "xaxis": "x",
         "y": [
          22
         ],
         "yaxis": "y"
        },
        {
         "hovertemplate": "노선번호=613<br>이용량=%{x}<br>배차간격 (분)=%{y}<extra></extra>",
         "legendgroup": "613",
         "marker": {
          "color": "#00cc96",
          "symbol": "circle"
         },
         "mode": "markers",
         "name": "613",
         "orientation": "v",
         "showlegend": true,
         "type": "scatter",
         "x": [
          6184
         ],
         "xaxis": "x",
         "y": [
          14
         ],
         "yaxis": "y"
        },
        {
         "hovertemplate": "노선번호=614<br>이용량=%{x}<br>배차간격 (분)=%{y}<extra></extra>",
         "legendgroup": "614",
         "marker": {
          "color": "#ab63fa",
          "symbol": "circle"
         },
         "mode": "markers",
         "name": "614",
         "orientation": "v",
         "showlegend": true,
         "type": "scatter",
         "x": [
          2964
         ],
         "xaxis": "x",
         "y": [
          20
         ],
         "yaxis": "y"
        },
        {
         "hovertemplate": "노선번호=615<br>이용량=%{x}<br>배차간격 (분)=%{y}<extra></extra>",
         "legendgroup": "615",
         "marker": {
          "color": "#FFA15A",
          "symbol": "circle"
         },
         "mode": "markers",
         "name": "615",
         "orientation": "v",
         "showlegend": true,
         "type": "scatter",
         "x": [
          6685
         ],
         "xaxis": "x",
         "y": [
          14
         ],
         "yaxis": "y"
        },
        {
         "hovertemplate": "노선번호=616<br>이용량=%{x}<br>배차간격 (분)=%{y}<extra></extra>",
         "legendgroup": "616",
         "marker": {
          "color": "#19d3f3",
          "symbol": "circle"
         },
         "mode": "markers",
         "name": "616",
         "orientation": "v",
         "showlegend": true,
         "type": "scatter",
         "x": [
          4053
         ],
         "xaxis": "x",
         "y": [
          20
         ],
         "yaxis": "y"
        },
        {
         "hovertemplate": "노선번호=617<br>이용량=%{x}<br>배차간격 (분)=%{y}<extra></extra>",
         "legendgroup": "617",
         "marker": {
          "color": "#FF6692",
          "symbol": "circle"
         },
         "mode": "markers",
         "name": "617",
         "orientation": "v",
         "showlegend": true,
         "type": "scatter",
         "x": [
          5826
         ],
         "xaxis": "x",
         "y": [
          17
         ],
         "yaxis": "y"
        },
        {
         "hovertemplate": "노선번호=618<br>이용량=%{x}<br>배차간격 (분)=%{y}<extra></extra>",
         "legendgroup": "618",
         "marker": {
          "color": "#B6E880",
          "symbol": "circle"
         },
         "mode": "markers",
         "name": "618",
         "orientation": "v",
         "showlegend": true,
         "type": "scatter",
         "x": [
          5090
         ],
         "xaxis": "x",
         "y": [
          18
         ],
         "yaxis": "y"
        },
        {
         "hovertemplate": "노선번호=619<br>이용량=%{x}<br>배차간격 (분)=%{y}<extra></extra>",
         "legendgroup": "619",
         "marker": {
          "color": "#FF97FF",
          "symbol": "circle"
         },
         "mode": "markers",
         "name": "619",
         "orientation": "v",
         "showlegend": true,
         "type": "scatter",
         "x": [
          3801
         ],
         "xaxis": "x",
         "y": [
          21
         ],
         "yaxis": "y"
        },
        {
         "hovertemplate": "노선번호=620<br>이용량=%{x}<br>배차간격 (분)=%{y}<extra></extra>",
         "legendgroup": "620",
         "marker": {
          "color": "#FECB52",
          "symbol": "circle"
         },
         "mode": "markers",
         "name": "620",
         "orientation": "v",
         "showlegend": true,
         "type": "scatter",
         "x": [
          1751
         ],
         "xaxis": "x",
         "y": [
          27
         ],
         "yaxis": "y"
        },
        {
         "hovertemplate": "노선번호=622<br>이용량=%{x}<br>배차간격 (분)=%{y}<extra></extra>",
         "legendgroup": "622",
         "marker": {
          "color": "#636efa",
          "symbol": "circle"
         },
         "mode": "markers",
         "name": "622",
         "orientation": "v",
         "showlegend": true,
         "type": "scatter",
         "x": [
          706
         ],
         "xaxis": "x",
         "y": [
          29
         ],
         "yaxis": "y"
        },
        {
         "hovertemplate": "노선번호=701<br>이용량=%{x}<br>배차간격 (분)=%{y}<extra></extra>",
         "legendgroup": "701",
         "marker": {
          "color": "#EF553B",
          "symbol": "circle"
         },
         "mode": "markers",
         "name": "701",
         "orientation": "v",
         "showlegend": true,
         "type": "scatter",
         "x": [
          3842
         ],
         "xaxis": "x",
         "y": [
          20
         ],
         "yaxis": "y"
        },
        {
         "hovertemplate": "노선번호=703<br>이용량=%{x}<br>배차간격 (분)=%{y}<extra></extra>",
         "legendgroup": "703",
         "marker": {
          "color": "#00cc96",
          "symbol": "circle"
         },
         "mode": "markers",
         "name": "703",
         "orientation": "v",
         "showlegend": true,
         "type": "scatter",
         "x": [
          12286
         ],
         "xaxis": "x",
         "y": [
          12
         ],
         "yaxis": "y"
        },
        {
         "hovertemplate": "노선번호=704<br>이용량=%{x}<br>배차간격 (분)=%{y}<extra></extra>",
         "legendgroup": "704",
         "marker": {
          "color": "#ab63fa",
          "symbol": "circle"
         },
         "mode": "markers",
         "name": "704",
         "orientation": "v",
         "showlegend": true,
         "type": "scatter",
         "x": [
          10828
         ],
         "xaxis": "x",
         "y": [
          14
         ],
         "yaxis": "y"
        },
        {
         "hovertemplate": "노선번호=705<br>이용량=%{x}<br>배차간격 (분)=%{y}<extra></extra>",
         "legendgroup": "705",
         "marker": {
          "color": "#FFA15A",
          "symbol": "circle"
         },
         "mode": "markers",
         "name": "705",
         "orientation": "v",
         "showlegend": true,
         "type": "scatter",
         "x": [
          10633
         ],
         "xaxis": "x",
         "y": [
          14
         ],
         "yaxis": "y"
        },
        {
         "hovertemplate": "노선번호=706<br>이용량=%{x}<br>배차간격 (분)=%{y}<extra></extra>",
         "legendgroup": "706",
         "marker": {
          "color": "#19d3f3",
          "symbol": "circle"
         },
         "mode": "markers",
         "name": "706",
         "orientation": "v",
         "showlegend": true,
         "type": "scatter",
         "x": [
          7577
         ],
         "xaxis": "x",
         "y": [
          15
         ],
         "yaxis": "y"
        },
        {
         "hovertemplate": "노선번호=711<br>이용량=%{x}<br>배차간격 (분)=%{y}<extra></extra>",
         "legendgroup": "711",
         "marker": {
          "color": "#FF6692",
          "symbol": "circle"
         },
         "mode": "markers",
         "name": "711",
         "orientation": "v",
         "showlegend": true,
         "type": "scatter",
         "x": [
          5537
         ],
         "xaxis": "x",
         "y": [
          17
         ],
         "yaxis": "y"
        },
        {
         "hovertemplate": "노선번호=712<br>이용량=%{x}<br>배차간격 (분)=%{y}<extra></extra>",
         "legendgroup": "712",
         "marker": {
          "color": "#B6E880",
          "symbol": "circle"
         },
         "mode": "markers",
         "name": "712",
         "orientation": "v",
         "showlegend": true,
         "type": "scatter",
         "x": [
          735
         ],
         "xaxis": "x",
         "y": [
          31
         ],
         "yaxis": "y"
        },
        {
         "hovertemplate": "노선번호=802<br>이용량=%{x}<br>배차간격 (분)=%{y}<extra></extra>",
         "legendgroup": "802",
         "marker": {
          "color": "#FF97FF",
          "symbol": "circle"
         },
         "mode": "markers",
         "name": "802",
         "orientation": "v",
         "showlegend": true,
         "type": "scatter",
         "x": [
          6247
         ],
         "xaxis": "x",
         "y": [
          18
         ],
         "yaxis": "y"
        },
        {
         "hovertemplate": "노선번호=911<br>이용량=%{x}<br>배차간격 (분)=%{y}<extra></extra>",
         "legendgroup": "911",
         "marker": {
          "color": "#FECB52",
          "symbol": "circle"
         },
         "mode": "markers",
         "name": "911",
         "orientation": "v",
         "showlegend": true,
         "type": "scatter",
         "x": [
          1814
         ],
         "xaxis": "x",
         "y": [
          25
         ],
         "yaxis": "y"
        },
        {
         "hovertemplate": "노선번호=912<br>이용량=%{x}<br>배차간격 (분)=%{y}<extra></extra>",
         "legendgroup": "912",
         "marker": {
          "color": "#636efa",
          "symbol": "circle"
         },
         "mode": "markers",
         "name": "912",
         "orientation": "v",
         "showlegend": true,
         "type": "scatter",
         "x": [
          1959
         ],
         "xaxis": "x",
         "y": [
          19
         ],
         "yaxis": "y"
        },
        {
         "hovertemplate": "노선번호=916<br>이용량=%{x}<br>배차간격 (분)=%{y}<extra></extra>",
         "legendgroup": "916",
         "marker": {
          "color": "#EF553B",
          "symbol": "circle"
         },
         "mode": "markers",
         "name": "916",
         "orientation": "v",
         "showlegend": true,
         "type": "scatter",
         "x": [
          2884
         ],
         "xaxis": "x",
         "y": [
          22
         ],
         "yaxis": "y"
        },
        {
         "hovertemplate": "노선번호=918<br>이용량=%{x}<br>배차간격 (분)=%{y}<extra></extra>",
         "legendgroup": "918",
         "marker": {
          "color": "#00cc96",
          "symbol": "circle"
         },
         "mode": "markers",
         "name": "918",
         "orientation": "v",
         "showlegend": true,
         "type": "scatter",
         "x": [
          2373
         ],
         "xaxis": "x",
         "y": [
          22
         ],
         "yaxis": "y"
        },
        {
         "line": {
          "color": "red"
         },
         "mode": "lines",
         "name": "2차 곡선 회귀선",
         "type": "scatter",
         "x": [
          559,
          758.8484848484849,
          958.6969696969697,
          1158.5454545454545,
          1358.3939393939395,
          1558.2424242424242,
          1758.090909090909,
          1957.939393939394,
          2157.787878787879,
          2357.6363636363635,
          2557.4848484848485,
          2757.3333333333335,
          2957.181818181818,
          3157.030303030303,
          3356.878787878788,
          3556.7272727272725,
          3756.5757575757575,
          3956.4242424242425,
          4156.272727272727,
          4356.121212121212,
          4555.969696969697,
          4755.818181818182,
          4955.666666666667,
          5155.515151515151,
          5355.363636363636,
          5555.212121212121,
          5755.060606060606,
          5954.909090909091,
          6154.757575757576,
          6354.60606060606,
          6554.454545454545,
          6754.30303030303,
          6954.151515151515,
          7154,
          7353.848484848485,
          7553.69696969697,
          7753.545454545454,
          7953.393939393939,
          8153.242424242424,
          8353.090909090908,
          8552.939393939394,
          8752.787878787878,
          8952.636363636364,
          9152.484848484848,
          9352.333333333334,
          9552.181818181818,
          9752.030303030302,
          9951.878787878788,
          10151.727272727272,
          10351.575757575758,
          10551.424242424242,
          10751.272727272728,
          10951.121212121212,
          11150.969696969696,
          11350.818181818182,
          11550.666666666666,
          11750.515151515152,
          11950.363636363636,
          12150.21212121212,
          12350.060606060606,
          12549.90909090909,
          12749.757575757576,
          12949.60606060606,
          13149.454545454546,
          13349.30303030303,
          13549.151515151514,
          13749,
          13948.848484848484,
          14148.69696969697,
          14348.545454545454,
          14548.39393939394,
          14748.242424242424,
          14948.090909090908,
          15147.939393939394,
          15347.787878787878,
          15547.636363636364,
          15747.484848484848,
          15947.333333333332,
          16147.181818181818,
          16347.030303030302,
          16546.878787878788,
          16746.727272727272,
          16946.575757575756,
          17146.424242424244,
          17346.272727272728,
          17546.121212121212,
          17745.969696969696,
          17945.81818181818,
          18145.666666666668,
          18345.515151515152,
          18545.363636363636,
          18745.21212121212,
          18945.060606060604,
          19144.909090909092,
          19344.757575757576,
          19544.60606060606,
          19744.454545454544,
          19944.30303030303,
          20144.151515151516,
          20344
         ],
         "y": [
          27.69672798317166,
          27.2284812579758,
          26.765822967878588,
          26.308753112880016,
          25.857271692980085,
          25.411378708178795,
          24.971074158476146,
          24.536358043872138,
          24.10723036436677,
          23.683691119960045,
          23.26574031065196,
          22.85337793644252,
          22.446603997331717,
          22.04541849331956,
          21.64982142440604,
          21.259812790591162,
          20.875392591874924,
          20.49656082825733,
          20.123317499738377,
          19.75566260631806,
          19.39359614799639,
          19.037118124773365,
          18.686228536648976,
          18.340927383623228,
          18.00121466569612,
          17.667090382867656,
          17.33855453513783,
          17.01560712250665,
          16.69824814497411,
          16.38647760254021,
          16.08029549520495,
          15.779701822968336,
          15.48469658583036,
          15.195279783791026,
          14.911451416850333,
          14.633211485008278,
          14.36055998826487,
          14.093496926620102,
          13.832022300073973,
          13.576136108626486,
          13.325838352277641,
          13.081129031027436,
          12.84200814487587,
          12.60847569382295,
          12.380531677868667,
          12.158176097013033,
          11.941408951256033,
          11.730230240597677,
          11.524639965037963,
          11.324638124576886,
          11.130224719214453,
          10.941399748950662,
          10.758163213785515,
          10.580515113719002,
          10.408455448751138,
          10.24198421888191,
          10.081101424111324,
          9.925807064439383,
          9.776101139866078,
          9.631983650391419,
          9.493454596015397,
          9.36051397673802,
          9.233161792559283,
          9.111398043479184,
          8.99522272949773,
          8.88463585061492,
          8.779637406830744,
          8.68022739814522,
          8.586405824558323,
          8.498172686070074,
          8.415527982680466,
          8.338471714389499,
          8.267003881197184,
          8.201124483103495,
          8.140833520108458,
          8.086130992212052,
          8.03701689941429,
          7.99349124171518,
          7.955554019114697,
          7.923205231612865,
          7.8964448792096675,
          7.875272961905118,
          7.859689479699206,
          7.849694432591939,
          7.845287820583305,
          7.846469643673313,
          7.853239901861972,
          7.865598595149269,
          7.883545723535203,
          7.907081287019778,
          7.936205285602995,
          7.970917719284859,
          8.011218588065358,
          8.0571078919445,
          8.108585630922285,
          8.165651804998713,
          8.22830641417378,
          8.29654945844748,
          8.370380937819832,
          8.449800852290817
         ]
        }
       ],
       "layout": {
        "font": {
         "family": "Malgun Gothic"
        },
        "hovermode": "closest",
        "legend": {
         "title": {
          "text": "노선번호"
         },
         "tracegroupgap": 0,
         "x": 9000,
         "y": 1.1
        },
        "margin": {
         "t": 60
        },
        "showlegend": true,
        "template": {
         "data": {
          "bar": [
           {
            "error_x": {
             "color": "#2a3f5f"
            },
            "error_y": {
             "color": "#2a3f5f"
            },
            "marker": {
             "line": {
              "color": "#E5ECF6",
              "width": 0.5
             },
             "pattern": {
              "fillmode": "overlay",
              "size": 10,
              "solidity": 0.2
             }
            },
            "type": "bar"
           }
          ],
          "barpolar": [
           {
            "marker": {
             "line": {
              "color": "#E5ECF6",
              "width": 0.5
             },
             "pattern": {
              "fillmode": "overlay",
              "size": 10,
              "solidity": 0.2
             }
            },
            "type": "barpolar"
           }
          ],
          "carpet": [
           {
            "aaxis": {
             "endlinecolor": "#2a3f5f",
             "gridcolor": "white",
             "linecolor": "white",
             "minorgridcolor": "white",
             "startlinecolor": "#2a3f5f"
            },
            "baxis": {
             "endlinecolor": "#2a3f5f",
             "gridcolor": "white",
             "linecolor": "white",
             "minorgridcolor": "white",
             "startlinecolor": "#2a3f5f"
            },
            "type": "carpet"
           }
          ],
          "choropleth": [
           {
            "colorbar": {
             "outlinewidth": 0,
             "ticks": ""
            },
            "type": "choropleth"
           }
          ],
          "contour": [
           {
            "colorbar": {
             "outlinewidth": 0,
             "ticks": ""
            },
            "colorscale": [
             [
              0,
              "#0d0887"
             ],
             [
              0.1111111111111111,
              "#46039f"
             ],
             [
              0.2222222222222222,
              "#7201a8"
             ],
             [
              0.3333333333333333,
              "#9c179e"
             ],
             [
              0.4444444444444444,
              "#bd3786"
             ],
             [
              0.5555555555555556,
              "#d8576b"
             ],
             [
              0.6666666666666666,
              "#ed7953"
             ],
             [
              0.7777777777777778,
              "#fb9f3a"
             ],
             [
              0.8888888888888888,
              "#fdca26"
             ],
             [
              1,
              "#f0f921"
             ]
            ],
            "type": "contour"
           }
          ],
          "contourcarpet": [
           {
            "colorbar": {
             "outlinewidth": 0,
             "ticks": ""
            },
            "type": "contourcarpet"
           }
          ],
          "heatmap": [
           {
            "colorbar": {
             "outlinewidth": 0,
             "ticks": ""
            },
            "colorscale": [
             [
              0,
              "#0d0887"
             ],
             [
              0.1111111111111111,
              "#46039f"
             ],
             [
              0.2222222222222222,
              "#7201a8"
             ],
             [
              0.3333333333333333,
              "#9c179e"
             ],
             [
              0.4444444444444444,
              "#bd3786"
             ],
             [
              0.5555555555555556,
              "#d8576b"
             ],
             [
              0.6666666666666666,
              "#ed7953"
             ],
             [
              0.7777777777777778,
              "#fb9f3a"
             ],
             [
              0.8888888888888888,
              "#fdca26"
             ],
             [
              1,
              "#f0f921"
             ]
            ],
            "type": "heatmap"
           }
          ],
          "heatmapgl": [
           {
            "colorbar": {
             "outlinewidth": 0,
             "ticks": ""
            },
            "colorscale": [
             [
              0,
              "#0d0887"
             ],
             [
              0.1111111111111111,
              "#46039f"
             ],
             [
              0.2222222222222222,
              "#7201a8"
             ],
             [
              0.3333333333333333,
              "#9c179e"
             ],
             [
              0.4444444444444444,
              "#bd3786"
             ],
             [
              0.5555555555555556,
              "#d8576b"
             ],
             [
              0.6666666666666666,
              "#ed7953"
             ],
             [
              0.7777777777777778,
              "#fb9f3a"
             ],
             [
              0.8888888888888888,
              "#fdca26"
             ],
             [
              1,
              "#f0f921"
             ]
            ],
            "type": "heatmapgl"
           }
          ],
          "histogram": [
           {
            "marker": {
             "pattern": {
              "fillmode": "overlay",
              "size": 10,
              "solidity": 0.2
             }
            },
            "type": "histogram"
           }
          ],
          "histogram2d": [
           {
            "colorbar": {
             "outlinewidth": 0,
             "ticks": ""
            },
            "colorscale": [
             [
              0,
              "#0d0887"
             ],
             [
              0.1111111111111111,
              "#46039f"
             ],
             [
              0.2222222222222222,
              "#7201a8"
             ],
             [
              0.3333333333333333,
              "#9c179e"
             ],
             [
              0.4444444444444444,
              "#bd3786"
             ],
             [
              0.5555555555555556,
              "#d8576b"
             ],
             [
              0.6666666666666666,
              "#ed7953"
             ],
             [
              0.7777777777777778,
              "#fb9f3a"
             ],
             [
              0.8888888888888888,
              "#fdca26"
             ],
             [
              1,
              "#f0f921"
             ]
            ],
            "type": "histogram2d"
           }
          ],
          "histogram2dcontour": [
           {
            "colorbar": {
             "outlinewidth": 0,
             "ticks": ""
            },
            "colorscale": [
             [
              0,
              "#0d0887"
             ],
             [
              0.1111111111111111,
              "#46039f"
             ],
             [
              0.2222222222222222,
              "#7201a8"
             ],
             [
              0.3333333333333333,
              "#9c179e"
             ],
             [
              0.4444444444444444,
              "#bd3786"
             ],
             [
              0.5555555555555556,
              "#d8576b"
             ],
             [
              0.6666666666666666,
              "#ed7953"
             ],
             [
              0.7777777777777778,
              "#fb9f3a"
             ],
             [
              0.8888888888888888,
              "#fdca26"
             ],
             [
              1,
              "#f0f921"
             ]
            ],
            "type": "histogram2dcontour"
           }
          ],
          "mesh3d": [
           {
            "colorbar": {
             "outlinewidth": 0,
             "ticks": ""
            },
            "type": "mesh3d"
           }
          ],
          "parcoords": [
           {
            "line": {
             "colorbar": {
              "outlinewidth": 0,
              "ticks": ""
             }
            },
            "type": "parcoords"
           }
          ],
          "pie": [
           {
            "automargin": true,
            "type": "pie"
           }
          ],
          "scatter": [
           {
            "fillpattern": {
             "fillmode": "overlay",
             "size": 10,
             "solidity": 0.2
            },
            "type": "scatter"
           }
          ],
          "scatter3d": [
           {
            "line": {
             "colorbar": {
              "outlinewidth": 0,
              "ticks": ""
             }
            },
            "marker": {
             "colorbar": {
              "outlinewidth": 0,
              "ticks": ""
             }
            },
            "type": "scatter3d"
           }
          ],
          "scattercarpet": [
           {
            "marker": {
             "colorbar": {
              "outlinewidth": 0,
              "ticks": ""
             }
            },
            "type": "scattercarpet"
           }
          ],
          "scattergeo": [
           {
            "marker": {
             "colorbar": {
              "outlinewidth": 0,
              "ticks": ""
             }
            },
            "type": "scattergeo"
           }
          ],
          "scattergl": [
           {
            "marker": {
             "colorbar": {
              "outlinewidth": 0,
              "ticks": ""
             }
            },
            "type": "scattergl"
           }
          ],
          "scattermapbox": [
           {
            "marker": {
             "colorbar": {
              "outlinewidth": 0,
              "ticks": ""
             }
            },
            "type": "scattermapbox"
           }
          ],
          "scatterpolar": [
           {
            "marker": {
             "colorbar": {
              "outlinewidth": 0,
              "ticks": ""
             }
            },
            "type": "scatterpolar"
           }
          ],
          "scatterpolargl": [
           {
            "marker": {
             "colorbar": {
              "outlinewidth": 0,
              "ticks": ""
             }
            },
            "type": "scatterpolargl"
           }
          ],
          "scatterternary": [
           {
            "marker": {
             "colorbar": {
              "outlinewidth": 0,
              "ticks": ""
             }
            },
            "type": "scatterternary"
           }
          ],
          "surface": [
           {
            "colorbar": {
             "outlinewidth": 0,
             "ticks": ""
            },
            "colorscale": [
             [
              0,
              "#0d0887"
             ],
             [
              0.1111111111111111,
              "#46039f"
             ],
             [
              0.2222222222222222,
              "#7201a8"
             ],
             [
              0.3333333333333333,
              "#9c179e"
             ],
             [
              0.4444444444444444,
              "#bd3786"
             ],
             [
              0.5555555555555556,
              "#d8576b"
             ],
             [
              0.6666666666666666,
              "#ed7953"
             ],
             [
              0.7777777777777778,
              "#fb9f3a"
             ],
             [
              0.8888888888888888,
              "#fdca26"
             ],
             [
              1,
              "#f0f921"
             ]
            ],
            "type": "surface"
           }
          ],
          "table": [
           {
            "cells": {
             "fill": {
              "color": "#EBF0F8"
             },
             "line": {
              "color": "white"
             }
            },
            "header": {
             "fill": {
              "color": "#C8D4E3"
             },
             "line": {
              "color": "white"
             }
            },
            "type": "table"
           }
          ]
         },
         "layout": {
          "annotationdefaults": {
           "arrowcolor": "#2a3f5f",
           "arrowhead": 0,
           "arrowwidth": 1
          },
          "autotypenumbers": "strict",
          "coloraxis": {
           "colorbar": {
            "outlinewidth": 0,
            "ticks": ""
           }
          },
          "colorscale": {
           "diverging": [
            [
             0,
             "#8e0152"
            ],
            [
             0.1,
             "#c51b7d"
            ],
            [
             0.2,
             "#de77ae"
            ],
            [
             0.3,
             "#f1b6da"
            ],
            [
             0.4,
             "#fde0ef"
            ],
            [
             0.5,
             "#f7f7f7"
            ],
            [
             0.6,
             "#e6f5d0"
            ],
            [
             0.7,
             "#b8e186"
            ],
            [
             0.8,
             "#7fbc41"
            ],
            [
             0.9,
             "#4d9221"
            ],
            [
             1,
             "#276419"
            ]
           ],
           "sequential": [
            [
             0,
             "#0d0887"
            ],
            [
             0.1111111111111111,
             "#46039f"
            ],
            [
             0.2222222222222222,
             "#7201a8"
            ],
            [
             0.3333333333333333,
             "#9c179e"
            ],
            [
             0.4444444444444444,
             "#bd3786"
            ],
            [
             0.5555555555555556,
             "#d8576b"
            ],
            [
             0.6666666666666666,
             "#ed7953"
            ],
            [
             0.7777777777777778,
             "#fb9f3a"
            ],
            [
             0.8888888888888888,
             "#fdca26"
            ],
            [
             1,
             "#f0f921"
            ]
           ],
           "sequentialminus": [
            [
             0,
             "#0d0887"
            ],
            [
             0.1111111111111111,
             "#46039f"
            ],
            [
             0.2222222222222222,
             "#7201a8"
            ],
            [
             0.3333333333333333,
             "#9c179e"
            ],
            [
             0.4444444444444444,
             "#bd3786"
            ],
            [
             0.5555555555555556,
             "#d8576b"
            ],
            [
             0.6666666666666666,
             "#ed7953"
            ],
            [
             0.7777777777777778,
             "#fb9f3a"
            ],
            [
             0.8888888888888888,
             "#fdca26"
            ],
            [
             1,
             "#f0f921"
            ]
           ]
          },
          "colorway": [
           "#636efa",
           "#EF553B",
           "#00cc96",
           "#ab63fa",
           "#FFA15A",
           "#19d3f3",
           "#FF6692",
           "#B6E880",
           "#FF97FF",
           "#FECB52"
          ],
          "font": {
           "color": "#2a3f5f"
          },
          "geo": {
           "bgcolor": "white",
           "lakecolor": "white",
           "landcolor": "#E5ECF6",
           "showlakes": true,
           "showland": true,
           "subunitcolor": "white"
          },
          "hoverlabel": {
           "align": "left"
          },
          "hovermode": "closest",
          "mapbox": {
           "style": "light"
          },
          "paper_bgcolor": "white",
          "plot_bgcolor": "#E5ECF6",
          "polar": {
           "angularaxis": {
            "gridcolor": "white",
            "linecolor": "white",
            "ticks": ""
           },
           "bgcolor": "#E5ECF6",
           "radialaxis": {
            "gridcolor": "white",
            "linecolor": "white",
            "ticks": ""
           }
          },
          "scene": {
           "xaxis": {
            "backgroundcolor": "#E5ECF6",
            "gridcolor": "white",
            "gridwidth": 2,
            "linecolor": "white",
            "showbackground": true,
            "ticks": "",
            "zerolinecolor": "white"
           },
           "yaxis": {
            "backgroundcolor": "#E5ECF6",
            "gridcolor": "white",
            "gridwidth": 2,
            "linecolor": "white",
            "showbackground": true,
            "ticks": "",
            "zerolinecolor": "white"
           },
           "zaxis": {
            "backgroundcolor": "#E5ECF6",
            "gridcolor": "white",
            "gridwidth": 2,
            "linecolor": "white",
            "showbackground": true,
            "ticks": "",
            "zerolinecolor": "white"
           }
          },
          "shapedefaults": {
           "line": {
            "color": "#2a3f5f"
           }
          },
          "ternary": {
           "aaxis": {
            "gridcolor": "white",
            "linecolor": "white",
            "ticks": ""
           },
           "baxis": {
            "gridcolor": "white",
            "linecolor": "white",
            "ticks": ""
           },
           "bgcolor": "#E5ECF6",
           "caxis": {
            "gridcolor": "white",
            "linecolor": "white",
            "ticks": ""
           }
          },
          "title": {
           "x": 0.05
          },
          "xaxis": {
           "automargin": true,
           "gridcolor": "white",
           "linecolor": "white",
           "ticks": "",
           "title": {
            "standoff": 15
           },
           "zerolinecolor": "white",
           "zerolinewidth": 2
          },
          "yaxis": {
           "automargin": true,
           "gridcolor": "white",
           "linecolor": "white",
           "ticks": "",
           "title": {
            "standoff": 15
           },
           "zerolinecolor": "white",
           "zerolinewidth": 2
          }
         }
        },
        "title": {
         "text": "이용량에 따른 배차간격"
        },
        "xaxis": {
         "anchor": "y",
         "domain": [
          0,
          1
         ],
         "ticktext": [
          "5000",
          "10000",
          "15000",
          "20000"
         ],
         "tickvals": [
          5000,
          10000,
          15000,
          20000
         ],
         "title": {
          "text": "이용량"
         }
        },
        "yaxis": {
         "anchor": "x",
         "domain": [
          0,
          1
         ],
         "title": {
          "text": "배차간격 (분)"
         }
        }
       }
      }
     },
     "metadata": {},
     "output_type": "display_data"
    },
    {
     "data": {
      "text/plain": [
       "'bus_usage_graph_all_altered_704.html'"
      ]
     },
     "execution_count": 33,
     "metadata": {},
     "output_type": "execute_result"
    }
   ],
   "source": [
    "import plotly.express as px\n",
    "import plotly.graph_objects as go\n",
    "import plotly.offline as pyo\n",
    "\n",
    "# 2차 곡선 회귀선 계수 계산\n",
    "a, b, c = np.polyfit(bus_usage_merge_all[\"USAGE_COUNT\"], bus_usage_merge_all[\"ALLO_INTERVAL\"], 2)\n",
    "\n",
    "# 2차 곡선 회귀선 함수 정의\n",
    "def quadratic_regression(x):\n",
    "    return a * x**2 + b * x + c\n",
    "\n",
    "# 산점도 그래프 생성\n",
    "fig = px.scatter(bus_usage_merge_all, x=\"USAGE_COUNT\", y=\"ALLO_INTERVAL\", color=\"ROUTE_NO\", \n",
    "                 labels={\"USAGE_COUNT\": \"이용량\", \"ALLO_INTERVAL\": \"배차간격 (분)\", \"ROUTE_NO\": \"노선번호\"})\n",
    "\n",
    "# 회귀선 그리기\n",
    "x_range = np.linspace(bus_usage_merge_all[\"USAGE_COUNT\"].min(), bus_usage_merge_all[\"USAGE_COUNT\"].max(), 100)\n",
    "y_range = [quadratic_regression(x) for x in x_range]\n",
    "\n",
    "fig.add_trace(go.Scatter(x=x_range, y=y_range, mode=\"lines\", name=\"2차 곡선 회귀선\", line=dict(color='red')))\n",
    "\n",
    "# 그래프 레이아웃 설정\n",
    "fig.update_layout(\n",
    "    title=\"이용량에 따른 배차간격\",\n",
    "    xaxis_title=\"이용량\",\n",
    "    yaxis_title=\"배차간격 (분)\",\n",
    "    legend_title=\"노선번호\",\n",
    "    showlegend=True,\n",
    "    legend=dict(x=9000, y=1.1),\n",
    "    font=dict(family=\"Malgun Gothic\"),\n",
    "    hovermode=\"closest\"\n",
    ")\n",
    "\n",
    "# x축 레이블을 원하는 형식으로 설정 (5000과 같이)\n",
    "fig.update_xaxes(\n",
    "    tickvals=[5000, 10000, 15000, 20000],  # x축의 눈금 위치\n",
    "    ticktext=[\"5000\", \"10000\", \"15000\", \"20000\"]  # 눈금에 표시될 텍스트\n",
    ")\n",
    "\n",
    "# 그래프 표시\n",
    "fig.show()\n",
    "pyo.plot(fig, filename='bus_usage_graph_all_altered_704.html')\n"
   ]
  },
  {
   "cell_type": "code",
   "execution_count": 52,
   "metadata": {},
   "outputs": [
    {
     "data": {
      "application/vnd.plotly.v1+json": {
       "config": {
        "plotlyServerURL": "https://plot.ly"
       },
       "data": [
        {
         "hovertemplate": "노선번호=101<br>이용량=%{x}<br>배차간격 (분)=%{y}<extra></extra>",
         "legendgroup": "101",
         "marker": {
          "color": "#636efa",
          "symbol": "circle"
         },
         "mode": "markers",
         "name": "101",
         "orientation": "v",
         "showlegend": true,
         "type": "scatter",
         "x": [
          1647
         ],
         "xaxis": "x",
         "y": [
          20
         ],
         "yaxis": "y"
        },
        {
         "hovertemplate": "노선번호=102<br>이용량=%{x}<br>배차간격 (분)=%{y}<extra></extra>",
         "legendgroup": "102",
         "marker": {
          "color": "#EF553B",
          "symbol": "circle"
         },
         "mode": "markers",
         "name": "102",
         "orientation": "v",
         "showlegend": true,
         "type": "scatter",
         "x": [
          8342
         ],
         "xaxis": "x",
         "y": [
          7
         ],
         "yaxis": "y"
        },
        {
         "hovertemplate": "노선번호=103<br>이용량=%{x}<br>배차간격 (분)=%{y}<extra></extra>",
         "legendgroup": "103",
         "marker": {
          "color": "#00cc96",
          "symbol": "circle"
         },
         "mode": "markers",
         "name": "103",
         "orientation": "v",
         "showlegend": true,
         "type": "scatter",
         "x": [
          4040
         ],
         "xaxis": "x",
         "y": [
          13
         ],
         "yaxis": "y"
        },
        {
         "hovertemplate": "노선번호=104<br>이용량=%{x}<br>배차간격 (분)=%{y}<extra></extra>",
         "legendgroup": "104",
         "marker": {
          "color": "#ab63fa",
          "symbol": "circle"
         },
         "mode": "markers",
         "name": "104",
         "orientation": "v",
         "showlegend": true,
         "type": "scatter",
         "x": [
          1213
         ],
         "xaxis": "x",
         "y": [
          20
         ],
         "yaxis": "y"
        },
        {
         "hovertemplate": "노선번호=105<br>이용량=%{x}<br>배차간격 (분)=%{y}<extra></extra>",
         "legendgroup": "105",
         "marker": {
          "color": "#FFA15A",
          "symbol": "circle"
         },
         "mode": "markers",
         "name": "105",
         "orientation": "v",
         "showlegend": true,
         "type": "scatter",
         "x": [
          5177
         ],
         "xaxis": "x",
         "y": [
          9
         ],
         "yaxis": "y"
        },
        {
         "hovertemplate": "노선번호=106<br>이용량=%{x}<br>배차간격 (분)=%{y}<extra></extra>",
         "legendgroup": "106",
         "marker": {
          "color": "#19d3f3",
          "symbol": "circle"
         },
         "mode": "markers",
         "name": "106",
         "orientation": "v",
         "showlegend": true,
         "type": "scatter",
         "x": [
          5084
         ],
         "xaxis": "x",
         "y": [
          11
         ],
         "yaxis": "y"
        },
        {
         "hovertemplate": "노선번호=108<br>이용량=%{x}<br>배차간격 (분)=%{y}<extra></extra>",
         "legendgroup": "108",
         "marker": {
          "color": "#FF6692",
          "symbol": "circle"
         },
         "mode": "markers",
         "name": "108",
         "orientation": "v",
         "showlegend": true,
         "type": "scatter",
         "x": [
          3656
         ],
         "xaxis": "x",
         "y": [
          12
         ],
         "yaxis": "y"
        },
        {
         "hovertemplate": "노선번호=113<br>이용량=%{x}<br>배차간격 (분)=%{y}<extra></extra>",
         "legendgroup": "113",
         "marker": {
          "color": "#B6E880",
          "symbol": "circle"
         },
         "mode": "markers",
         "name": "113",
         "orientation": "v",
         "showlegend": true,
         "type": "scatter",
         "x": [
          1444
         ],
         "xaxis": "x",
         "y": [
          22
         ],
         "yaxis": "y"
        },
        {
         "hovertemplate": "노선번호=114<br>이용량=%{x}<br>배차간격 (분)=%{y}<extra></extra>",
         "legendgroup": "114",
         "marker": {
          "color": "#FF97FF",
          "symbol": "circle"
         },
         "mode": "markers",
         "name": "114",
         "orientation": "v",
         "showlegend": true,
         "type": "scatter",
         "x": [
          2291
         ],
         "xaxis": "x",
         "y": [
          18
         ],
         "yaxis": "y"
        },
        {
         "hovertemplate": "노선번호=115<br>이용량=%{x}<br>배차간격 (분)=%{y}<extra></extra>",
         "legendgroup": "115",
         "marker": {
          "color": "#FECB52",
          "symbol": "circle"
         },
         "mode": "markers",
         "name": "115",
         "orientation": "v",
         "showlegend": true,
         "type": "scatter",
         "x": [
          2868
         ],
         "xaxis": "x",
         "y": [
          15
         ],
         "yaxis": "y"
        },
        {
         "hovertemplate": "노선번호=116<br>이용량=%{x}<br>배차간격 (분)=%{y}<extra></extra>",
         "legendgroup": "116",
         "marker": {
          "color": "#636efa",
          "symbol": "circle"
         },
         "mode": "markers",
         "name": "116",
         "orientation": "v",
         "showlegend": true,
         "type": "scatter",
         "x": [
          739
         ],
         "xaxis": "x",
         "y": [
          24
         ],
         "yaxis": "y"
        },
        {
         "hovertemplate": "노선번호=117<br>이용량=%{x}<br>배차간격 (분)=%{y}<extra></extra>",
         "legendgroup": "117",
         "marker": {
          "color": "#EF553B",
          "symbol": "circle"
         },
         "mode": "markers",
         "name": "117",
         "orientation": "v",
         "showlegend": true,
         "type": "scatter",
         "x": [
          1204
         ],
         "xaxis": "x",
         "y": [
          20
         ],
         "yaxis": "y"
        },
        {
         "hovertemplate": "노선번호=119<br>이용량=%{x}<br>배차간격 (분)=%{y}<extra></extra>",
         "legendgroup": "119",
         "marker": {
          "color": "#00cc96",
          "symbol": "circle"
         },
         "mode": "markers",
         "name": "119",
         "orientation": "v",
         "showlegend": true,
         "type": "scatter",
         "x": [
          2841
         ],
         "xaxis": "x",
         "y": [
          16
         ],
         "yaxis": "y"
        },
        {
         "hovertemplate": "노선번호=121<br>이용량=%{x}<br>배차간격 (분)=%{y}<extra></extra>",
         "legendgroup": "121",
         "marker": {
          "color": "#ab63fa",
          "symbol": "circle"
         },
         "mode": "markers",
         "name": "121",
         "orientation": "v",
         "showlegend": true,
         "type": "scatter",
         "x": [
          1543
         ],
         "xaxis": "x",
         "y": [
          22
         ],
         "yaxis": "y"
        },
        {
         "hovertemplate": "노선번호=201<br>이용량=%{x}<br>배차간격 (분)=%{y}<extra></extra>",
         "legendgroup": "201",
         "marker": {
          "color": "#FFA15A",
          "symbol": "circle"
         },
         "mode": "markers",
         "name": "201",
         "orientation": "v",
         "showlegend": true,
         "type": "scatter",
         "x": [
          6207
         ],
         "xaxis": "x",
         "y": [
          8
         ],
         "yaxis": "y"
        },
        {
         "hovertemplate": "노선번호=203<br>이용량=%{x}<br>배차간격 (분)=%{y}<extra></extra>",
         "legendgroup": "203",
         "marker": {
          "color": "#19d3f3",
          "symbol": "circle"
         },
         "mode": "markers",
         "name": "203",
         "orientation": "v",
         "showlegend": true,
         "type": "scatter",
         "x": [
          1959
         ],
         "xaxis": "x",
         "y": [
          18
         ],
         "yaxis": "y"
        },
        {
         "hovertemplate": "노선번호=211<br>이용량=%{x}<br>배차간격 (분)=%{y}<extra></extra>",
         "legendgroup": "211",
         "marker": {
          "color": "#FF6692",
          "symbol": "circle"
         },
         "mode": "markers",
         "name": "211",
         "orientation": "v",
         "showlegend": true,
         "type": "scatter",
         "x": [
          3660
         ],
         "xaxis": "x",
         "y": [
          12
         ],
         "yaxis": "y"
        },
        {
         "hovertemplate": "노선번호=212<br>이용량=%{x}<br>배차간격 (분)=%{y}<extra></extra>",
         "legendgroup": "212",
         "marker": {
          "color": "#B6E880",
          "symbol": "circle"
         },
         "mode": "markers",
         "name": "212",
         "orientation": "v",
         "showlegend": true,
         "type": "scatter",
         "x": [
          398
         ],
         "xaxis": "x",
         "y": [
          24
         ],
         "yaxis": "y"
        },
        {
         "hovertemplate": "노선번호=213<br>이용량=%{x}<br>배차간격 (분)=%{y}<extra></extra>",
         "legendgroup": "213",
         "marker": {
          "color": "#FF97FF",
          "symbol": "circle"
         },
         "mode": "markers",
         "name": "213",
         "orientation": "v",
         "showlegend": true,
         "type": "scatter",
         "x": [
          243
         ],
         "xaxis": "x",
         "y": [
          34
         ],
         "yaxis": "y"
        },
        {
         "hovertemplate": "노선번호=216<br>이용량=%{x}<br>배차간격 (분)=%{y}<extra></extra>",
         "legendgroup": "216",
         "marker": {
          "color": "#FECB52",
          "symbol": "circle"
         },
         "mode": "markers",
         "name": "216",
         "orientation": "v",
         "showlegend": true,
         "type": "scatter",
         "x": [
          2040
         ],
         "xaxis": "x",
         "y": [
          17
         ],
         "yaxis": "y"
        },
        {
         "hovertemplate": "노선번호=301<br>이용량=%{x}<br>배차간격 (분)=%{y}<extra></extra>",
         "legendgroup": "301",
         "marker": {
          "color": "#636efa",
          "symbol": "circle"
         },
         "mode": "markers",
         "name": "301",
         "orientation": "v",
         "showlegend": true,
         "type": "scatter",
         "x": [
          7023
         ],
         "xaxis": "x",
         "y": [
          8
         ],
         "yaxis": "y"
        },
        {
         "hovertemplate": "노선번호=311<br>이용량=%{x}<br>배차간격 (분)=%{y}<extra></extra>",
         "legendgroup": "311",
         "marker": {
          "color": "#EF553B",
          "symbol": "circle"
         },
         "mode": "markers",
         "name": "311",
         "orientation": "v",
         "showlegend": true,
         "type": "scatter",
         "x": [
          7549
         ],
         "xaxis": "x",
         "y": [
          7
         ],
         "yaxis": "y"
        },
        {
         "hovertemplate": "노선번호=312<br>이용량=%{x}<br>배차간격 (분)=%{y}<extra></extra>",
         "legendgroup": "312",
         "marker": {
          "color": "#00cc96",
          "symbol": "circle"
         },
         "mode": "markers",
         "name": "312",
         "orientation": "v",
         "showlegend": true,
         "type": "scatter",
         "x": [
          2120
         ],
         "xaxis": "x",
         "y": [
          20
         ],
         "yaxis": "y"
        },
        {
         "hovertemplate": "노선번호=313<br>이용량=%{x}<br>배차간격 (분)=%{y}<extra></extra>",
         "legendgroup": "313",
         "marker": {
          "color": "#ab63fa",
          "symbol": "circle"
         },
         "mode": "markers",
         "name": "313",
         "orientation": "v",
         "showlegend": true,
         "type": "scatter",
         "x": [
          866
         ],
         "xaxis": "x",
         "y": [
          25
         ],
         "yaxis": "y"
        },
        {
         "hovertemplate": "노선번호=314<br>이용량=%{x}<br>배차간격 (분)=%{y}<extra></extra>",
         "legendgroup": "314",
         "marker": {
          "color": "#FFA15A",
          "symbol": "circle"
         },
         "mode": "markers",
         "name": "314",
         "orientation": "v",
         "showlegend": true,
         "type": "scatter",
         "x": [
          4406
         ],
         "xaxis": "x",
         "y": [
          11
         ],
         "yaxis": "y"
        },
        {
         "hovertemplate": "노선번호=315<br>이용량=%{x}<br>배차간격 (분)=%{y}<extra></extra>",
         "legendgroup": "315",
         "marker": {
          "color": "#19d3f3",
          "symbol": "circle"
         },
         "mode": "markers",
         "name": "315",
         "orientation": "v",
         "showlegend": true,
         "type": "scatter",
         "x": [
          1496
         ],
         "xaxis": "x",
         "y": [
          20
         ],
         "yaxis": "y"
        },
        {
         "hovertemplate": "노선번호=316<br>이용량=%{x}<br>배차간격 (분)=%{y}<extra></extra>",
         "legendgroup": "316",
         "marker": {
          "color": "#FF6692",
          "symbol": "circle"
         },
         "mode": "markers",
         "name": "316",
         "orientation": "v",
         "showlegend": true,
         "type": "scatter",
         "x": [
          2106
         ],
         "xaxis": "x",
         "y": [
          21
         ],
         "yaxis": "y"
        },
        {
         "hovertemplate": "노선번호=317<br>이용량=%{x}<br>배차간격 (분)=%{y}<extra></extra>",
         "legendgroup": "317",
         "marker": {
          "color": "#B6E880",
          "symbol": "circle"
         },
         "mode": "markers",
         "name": "317",
         "orientation": "v",
         "showlegend": true,
         "type": "scatter",
         "x": [
          1031
         ],
         "xaxis": "x",
         "y": [
          27
         ],
         "yaxis": "y"
        },
        {
         "hovertemplate": "노선번호=318<br>이용량=%{x}<br>배차간격 (분)=%{y}<extra></extra>",
         "legendgroup": "318",
         "marker": {
          "color": "#FF97FF",
          "symbol": "circle"
         },
         "mode": "markers",
         "name": "318",
         "orientation": "v",
         "showlegend": true,
         "type": "scatter",
         "x": [
          2183
         ],
         "xaxis": "x",
         "y": [
          19
         ],
         "yaxis": "y"
        },
        {
         "hovertemplate": "노선번호=511<br>이용량=%{x}<br>배차간격 (분)=%{y}<extra></extra>",
         "legendgroup": "511",
         "marker": {
          "color": "#FECB52",
          "symbol": "circle"
         },
         "mode": "markers",
         "name": "511",
         "orientation": "v",
         "showlegend": true,
         "type": "scatter",
         "x": [
          2733
         ],
         "xaxis": "x",
         "y": [
          13
         ],
         "yaxis": "y"
        },
        {
         "hovertemplate": "노선번호=512<br>이용량=%{x}<br>배차간격 (분)=%{y}<extra></extra>",
         "legendgroup": "512",
         "marker": {
          "color": "#636efa",
          "symbol": "circle"
         },
         "mode": "markers",
         "name": "512",
         "orientation": "v",
         "showlegend": true,
         "type": "scatter",
         "x": [
          1681
         ],
         "xaxis": "x",
         "y": [
          22
         ],
         "yaxis": "y"
        },
        {
         "hovertemplate": "노선번호=513<br>이용량=%{x}<br>배차간격 (분)=%{y}<extra></extra>",
         "legendgroup": "513",
         "marker": {
          "color": "#EF553B",
          "symbol": "circle"
         },
         "mode": "markers",
         "name": "513",
         "orientation": "v",
         "showlegend": true,
         "type": "scatter",
         "x": [
          1280
         ],
         "xaxis": "x",
         "y": [
          23
         ],
         "yaxis": "y"
        },
        {
         "hovertemplate": "노선번호=514<br>이용량=%{x}<br>배차간격 (분)=%{y}<extra></extra>",
         "legendgroup": "514",
         "marker": {
          "color": "#00cc96",
          "symbol": "circle"
         },
         "mode": "markers",
         "name": "514",
         "orientation": "v",
         "showlegend": true,
         "type": "scatter",
         "x": [
          2403
         ],
         "xaxis": "x",
         "y": [
          17
         ],
         "yaxis": "y"
        },
        {
         "hovertemplate": "노선번호=601<br>이용량=%{x}<br>배차간격 (분)=%{y}<extra></extra>",
         "legendgroup": "601",
         "marker": {
          "color": "#ab63fa",
          "symbol": "circle"
         },
         "mode": "markers",
         "name": "601",
         "orientation": "v",
         "showlegend": true,
         "type": "scatter",
         "x": [
          1898
         ],
         "xaxis": "x",
         "y": [
          21
         ],
         "yaxis": "y"
        },
        {
         "hovertemplate": "노선번호=602<br>이용량=%{x}<br>배차간격 (분)=%{y}<extra></extra>",
         "legendgroup": "602",
         "marker": {
          "color": "#FFA15A",
          "symbol": "circle"
         },
         "mode": "markers",
         "name": "602",
         "orientation": "v",
         "showlegend": true,
         "type": "scatter",
         "x": [
          1748
         ],
         "xaxis": "x",
         "y": [
          18
         ],
         "yaxis": "y"
        },
        {
         "hovertemplate": "노선번호=603<br>이용량=%{x}<br>배차간격 (분)=%{y}<extra></extra>",
         "legendgroup": "603",
         "marker": {
          "color": "#19d3f3",
          "symbol": "circle"
         },
         "mode": "markers",
         "name": "603",
         "orientation": "v",
         "showlegend": true,
         "type": "scatter",
         "x": [
          3468
         ],
         "xaxis": "x",
         "y": [
          13
         ],
         "yaxis": "y"
        },
        {
         "hovertemplate": "노선번호=604<br>이용량=%{x}<br>배차간격 (분)=%{y}<extra></extra>",
         "legendgroup": "604",
         "marker": {
          "color": "#FF6692",
          "symbol": "circle"
         },
         "mode": "markers",
         "name": "604",
         "orientation": "v",
         "showlegend": true,
         "type": "scatter",
         "x": [
          4165
         ],
         "xaxis": "x",
         "y": [
          12
         ],
         "yaxis": "y"
        },
        {
         "hovertemplate": "노선번호=605<br>이용량=%{x}<br>배차간격 (분)=%{y}<extra></extra>",
         "legendgroup": "605",
         "marker": {
          "color": "#B6E880",
          "symbol": "circle"
         },
         "mode": "markers",
         "name": "605",
         "orientation": "v",
         "showlegend": true,
         "type": "scatter",
         "x": [
          4264
         ],
         "xaxis": "x",
         "y": [
          11
         ],
         "yaxis": "y"
        },
        {
         "hovertemplate": "노선번호=606<br>이용량=%{x}<br>배차간격 (분)=%{y}<extra></extra>",
         "legendgroup": "606",
         "marker": {
          "color": "#FF97FF",
          "symbol": "circle"
         },
         "mode": "markers",
         "name": "606",
         "orientation": "v",
         "showlegend": true,
         "type": "scatter",
         "x": [
          1449
         ],
         "xaxis": "x",
         "y": [
          22
         ],
         "yaxis": "y"
        },
        {
         "hovertemplate": "노선번호=608<br>이용량=%{x}<br>배차간격 (분)=%{y}<extra></extra>",
         "legendgroup": "608",
         "marker": {
          "color": "#FECB52",
          "symbol": "circle"
         },
         "mode": "markers",
         "name": "608",
         "orientation": "v",
         "showlegend": true,
         "type": "scatter",
         "x": [
          1642
         ],
         "xaxis": "x",
         "y": [
          20
         ],
         "yaxis": "y"
        },
        {
         "hovertemplate": "노선번호=611<br>이용량=%{x}<br>배차간격 (분)=%{y}<extra></extra>",
         "legendgroup": "611",
         "marker": {
          "color": "#636efa",
          "symbol": "circle"
         },
         "mode": "markers",
         "name": "611",
         "orientation": "v",
         "showlegend": true,
         "type": "scatter",
         "x": [
          1884
         ],
         "xaxis": "x",
         "y": [
          19
         ],
         "yaxis": "y"
        },
        {
         "hovertemplate": "노선번호=612<br>이용량=%{x}<br>배차간격 (분)=%{y}<extra></extra>",
         "legendgroup": "612",
         "marker": {
          "color": "#EF553B",
          "symbol": "circle"
         },
         "mode": "markers",
         "name": "612",
         "orientation": "v",
         "showlegend": true,
         "type": "scatter",
         "x": [
          1202
         ],
         "xaxis": "x",
         "y": [
          22
         ],
         "yaxis": "y"
        },
        {
         "hovertemplate": "노선번호=613<br>이용량=%{x}<br>배차간격 (분)=%{y}<extra></extra>",
         "legendgroup": "613",
         "marker": {
          "color": "#00cc96",
          "symbol": "circle"
         },
         "mode": "markers",
         "name": "613",
         "orientation": "v",
         "showlegend": true,
         "type": "scatter",
         "x": [
          2555
         ],
         "xaxis": "x",
         "y": [
          14
         ],
         "yaxis": "y"
        },
        {
         "hovertemplate": "노선번호=614<br>이용량=%{x}<br>배차간격 (분)=%{y}<extra></extra>",
         "legendgroup": "614",
         "marker": {
          "color": "#ab63fa",
          "symbol": "circle"
         },
         "mode": "markers",
         "name": "614",
         "orientation": "v",
         "showlegend": true,
         "type": "scatter",
         "x": [
          1360
         ],
         "xaxis": "x",
         "y": [
          20
         ],
         "yaxis": "y"
        },
        {
         "hovertemplate": "노선번호=615<br>이용량=%{x}<br>배차간격 (분)=%{y}<extra></extra>",
         "legendgroup": "615",
         "marker": {
          "color": "#FFA15A",
          "symbol": "circle"
         },
         "mode": "markers",
         "name": "615",
         "orientation": "v",
         "showlegend": true,
         "type": "scatter",
         "x": [
          2847
         ],
         "xaxis": "x",
         "y": [
          14
         ],
         "yaxis": "y"
        },
        {
         "hovertemplate": "노선번호=616<br>이용량=%{x}<br>배차간격 (분)=%{y}<extra></extra>",
         "legendgroup": "616",
         "marker": {
          "color": "#19d3f3",
          "symbol": "circle"
         },
         "mode": "markers",
         "name": "616",
         "orientation": "v",
         "showlegend": true,
         "type": "scatter",
         "x": [
          1892
         ],
         "xaxis": "x",
         "y": [
          20
         ],
         "yaxis": "y"
        },
        {
         "hovertemplate": "노선번호=617<br>이용량=%{x}<br>배차간격 (분)=%{y}<extra></extra>",
         "legendgroup": "617",
         "marker": {
          "color": "#FF6692",
          "symbol": "circle"
         },
         "mode": "markers",
         "name": "617",
         "orientation": "v",
         "showlegend": true,
         "type": "scatter",
         "x": [
          2419
         ],
         "xaxis": "x",
         "y": [
          17
         ],
         "yaxis": "y"
        },
        {
         "hovertemplate": "노선번호=618<br>이용량=%{x}<br>배차간격 (분)=%{y}<extra></extra>",
         "legendgroup": "618",
         "marker": {
          "color": "#B6E880",
          "symbol": "circle"
         },
         "mode": "markers",
         "name": "618",
         "orientation": "v",
         "showlegend": true,
         "type": "scatter",
         "x": [
          2139
         ],
         "xaxis": "x",
         "y": [
          18
         ],
         "yaxis": "y"
        },
        {
         "hovertemplate": "노선번호=619<br>이용량=%{x}<br>배차간격 (분)=%{y}<extra></extra>",
         "legendgroup": "619",
         "marker": {
          "color": "#FF97FF",
          "symbol": "circle"
         },
         "mode": "markers",
         "name": "619",
         "orientation": "v",
         "showlegend": true,
         "type": "scatter",
         "x": [
          1620
         ],
         "xaxis": "x",
         "y": [
          21
         ],
         "yaxis": "y"
        },
        {
         "hovertemplate": "노선번호=620<br>이용량=%{x}<br>배차간격 (분)=%{y}<extra></extra>",
         "legendgroup": "620",
         "marker": {
          "color": "#FECB52",
          "symbol": "circle"
         },
         "mode": "markers",
         "name": "620",
         "orientation": "v",
         "showlegend": true,
         "type": "scatter",
         "x": [
          822
         ],
         "xaxis": "x",
         "y": [
          27
         ],
         "yaxis": "y"
        },
        {
         "hovertemplate": "노선번호=622<br>이용량=%{x}<br>배차간격 (분)=%{y}<extra></extra>",
         "legendgroup": "622",
         "marker": {
          "color": "#636efa",
          "symbol": "circle"
         },
         "mode": "markers",
         "name": "622",
         "orientation": "v",
         "showlegend": true,
         "type": "scatter",
         "x": [
          312
         ],
         "xaxis": "x",
         "y": [
          29
         ],
         "yaxis": "y"
        },
        {
         "hovertemplate": "노선번호=701<br>이용량=%{x}<br>배차간격 (분)=%{y}<extra></extra>",
         "legendgroup": "701",
         "marker": {
          "color": "#EF553B",
          "symbol": "circle"
         },
         "mode": "markers",
         "name": "701",
         "orientation": "v",
         "showlegend": true,
         "type": "scatter",
         "x": [
          1814
         ],
         "xaxis": "x",
         "y": [
          20
         ],
         "yaxis": "y"
        },
        {
         "hovertemplate": "노선번호=703<br>이용량=%{x}<br>배차간격 (분)=%{y}<extra></extra>",
         "legendgroup": "703",
         "marker": {
          "color": "#00cc96",
          "symbol": "circle"
         },
         "mode": "markers",
         "name": "703",
         "orientation": "v",
         "showlegend": true,
         "type": "scatter",
         "x": [
          5146
         ],
         "xaxis": "x",
         "y": [
          12
         ],
         "yaxis": "y"
        },
        {
         "hovertemplate": "노선번호=704<br>이용량=%{x}<br>배차간격 (분)=%{y}<extra></extra>",
         "legendgroup": "704",
         "marker": {
          "color": "#ab63fa",
          "symbol": "circle"
         },
         "mode": "markers",
         "name": "704",
         "orientation": "v",
         "showlegend": true,
         "type": "scatter",
         "x": [
          4610
         ],
         "xaxis": "x",
         "y": [
          9
         ],
         "yaxis": "y"
        },
        {
         "hovertemplate": "노선번호=705<br>이용량=%{x}<br>배차간격 (분)=%{y}<extra></extra>",
         "legendgroup": "705",
         "marker": {
          "color": "#FFA15A",
          "symbol": "circle"
         },
         "mode": "markers",
         "name": "705",
         "orientation": "v",
         "showlegend": true,
         "type": "scatter",
         "x": [
          4382
         ],
         "xaxis": "x",
         "y": [
          14
         ],
         "yaxis": "y"
        },
        {
         "hovertemplate": "노선번호=706<br>이용량=%{x}<br>배차간격 (분)=%{y}<extra></extra>",
         "legendgroup": "706",
         "marker": {
          "color": "#19d3f3",
          "symbol": "circle"
         },
         "mode": "markers",
         "name": "706",
         "orientation": "v",
         "showlegend": true,
         "type": "scatter",
         "x": [
          3150
         ],
         "xaxis": "x",
         "y": [
          15
         ],
         "yaxis": "y"
        },
        {
         "hovertemplate": "노선번호=711<br>이용량=%{x}<br>배차간격 (분)=%{y}<extra></extra>",
         "legendgroup": "711",
         "marker": {
          "color": "#FF6692",
          "symbol": "circle"
         },
         "mode": "markers",
         "name": "711",
         "orientation": "v",
         "showlegend": true,
         "type": "scatter",
         "x": [
          2430
         ],
         "xaxis": "x",
         "y": [
          17
         ],
         "yaxis": "y"
        },
        {
         "hovertemplate": "노선번호=712<br>이용량=%{x}<br>배차간격 (분)=%{y}<extra></extra>",
         "legendgroup": "712",
         "marker": {
          "color": "#B6E880",
          "symbol": "circle"
         },
         "mode": "markers",
         "name": "712",
         "orientation": "v",
         "showlegend": true,
         "type": "scatter",
         "x": [
          409
         ],
         "xaxis": "x",
         "y": [
          31
         ],
         "yaxis": "y"
        },
        {
         "hovertemplate": "노선번호=802<br>이용량=%{x}<br>배차간격 (분)=%{y}<extra></extra>",
         "legendgroup": "802",
         "marker": {
          "color": "#FF97FF",
          "symbol": "circle"
         },
         "mode": "markers",
         "name": "802",
         "orientation": "v",
         "showlegend": true,
         "type": "scatter",
         "x": [
          2578
         ],
         "xaxis": "x",
         "y": [
          18
         ],
         "yaxis": "y"
        },
        {
         "hovertemplate": "노선번호=911<br>이용량=%{x}<br>배차간격 (분)=%{y}<extra></extra>",
         "legendgroup": "911",
         "marker": {
          "color": "#FECB52",
          "symbol": "circle"
         },
         "mode": "markers",
         "name": "911",
         "orientation": "v",
         "showlegend": true,
         "type": "scatter",
         "x": [
          772
         ],
         "xaxis": "x",
         "y": [
          25
         ],
         "yaxis": "y"
        },
        {
         "hovertemplate": "노선번호=912<br>이용량=%{x}<br>배차간격 (분)=%{y}<extra></extra>",
         "legendgroup": "912",
         "marker": {
          "color": "#636efa",
          "symbol": "circle"
         },
         "mode": "markers",
         "name": "912",
         "orientation": "v",
         "showlegend": true,
         "type": "scatter",
         "x": [
          918
         ],
         "xaxis": "x",
         "y": [
          19
         ],
         "yaxis": "y"
        },
        {
         "hovertemplate": "노선번호=916<br>이용량=%{x}<br>배차간격 (분)=%{y}<extra></extra>",
         "legendgroup": "916",
         "marker": {
          "color": "#EF553B",
          "symbol": "circle"
         },
         "mode": "markers",
         "name": "916",
         "orientation": "v",
         "showlegend": true,
         "type": "scatter",
         "x": [
          1283
         ],
         "xaxis": "x",
         "y": [
          22
         ],
         "yaxis": "y"
        },
        {
         "hovertemplate": "노선번호=918<br>이용량=%{x}<br>배차간격 (분)=%{y}<extra></extra>",
         "legendgroup": "918",
         "marker": {
          "color": "#00cc96",
          "symbol": "circle"
         },
         "mode": "markers",
         "name": "918",
         "orientation": "v",
         "showlegend": true,
         "type": "scatter",
         "x": [
          1200
         ],
         "xaxis": "x",
         "y": [
          22
         ],
         "yaxis": "y"
        },
        {
         "line": {
          "color": "red"
         },
         "mode": "lines",
         "name": "2차 곡선 회귀선",
         "type": "scatter",
         "x": [
          243,
          324.80808080808083,
          406.6161616161616,
          488.4242424242424,
          570.2323232323232,
          652.040404040404,
          733.8484848484848,
          815.6565656565656,
          897.4646464646464,
          979.2727272727273,
          1061.080808080808,
          1142.8888888888887,
          1224.6969696969695,
          1306.5050505050503,
          1388.3131313131312,
          1470.121212121212,
          1551.9292929292928,
          1633.7373737373737,
          1715.5454545454545,
          1797.3535353535353,
          1879.1616161616162,
          1960.9696969696968,
          2042.7777777777776,
          2124.5858585858587,
          2206.393939393939,
          2288.2020202020203,
          2370.0101010101007,
          2451.8181818181815,
          2533.6262626262624,
          2615.434343434343,
          2697.242424242424,
          2779.050505050505,
          2860.8585858585857,
          2942.6666666666665,
          3024.4747474747473,
          3106.282828282828,
          3188.090909090909,
          3269.89898989899,
          3351.7070707070707,
          3433.5151515151515,
          3515.3232323232323,
          3597.1313131313127,
          3678.9393939393935,
          3760.7474747474744,
          3842.555555555555,
          3924.363636363636,
          4006.171717171717,
          4087.9797979797977,
          4169.787878787878,
          4251.595959595959,
          4333.404040404041,
          4415.212121212121,
          4497.020202020201,
          4578.828282828283,
          4660.636363636363,
          4742.444444444444,
          4824.252525252525,
          4906.060606060606,
          4987.868686868686,
          5069.676767676768,
          5151.484848484848,
          5233.292929292929,
          5315.10101010101,
          5396.909090909091,
          5478.717171717171,
          5560.525252525252,
          5642.333333333333,
          5724.141414141413,
          5805.949494949495,
          5887.757575757575,
          5969.565656565656,
          6051.373737373737,
          6133.181818181818,
          6214.989898989898,
          6296.79797979798,
          6378.60606060606,
          6460.414141414141,
          6542.222222222222,
          6624.030303030303,
          6705.838383838383,
          6787.646464646465,
          6869.454545454545,
          6951.262626262625,
          7033.070707070707,
          7114.878787878787,
          7196.686868686868,
          7278.494949494949,
          7360.30303030303,
          7442.11111111111,
          7523.919191919192,
          7605.727272727272,
          7687.535353535353,
          7769.343434343434,
          7851.151515151515,
          7932.959595959595,
          8014.767676767677,
          8096.575757575757,
          8178.383838383837,
          8260.191919191919,
          8342
         ],
         "y": [
          28.17804748924169,
          27.687972902291797,
          27.203816410357014,
          26.725578013437342,
          26.253257711532783,
          25.786855504643334,
          25.326371392768998,
          24.871805375909766,
          24.42315745406565,
          23.980427627236644,
          23.543615895422747,
          23.11272225862396,
          22.687746716840287,
          22.268689270071725,
          21.855549918318268,
          21.44832866157993,
          21.047025499856694,
          20.65164043314857,
          20.26217346145556,
          19.87862458477766,
          19.500993803114874,
          19.129281116467194,
          18.763486524834626,
          18.403610028217166,
          18.049651626614825,
          17.701611320027585,
          17.359489108455463,
          17.023284991898446,
          16.69299897035654,
          16.368631043829748,
          16.050181212318066,
          15.737649475821495,
          15.431035834340031,
          15.130340287873683,
          14.835562836422444,
          14.546703479986315,
          14.263762218565294,
          13.986739052159386,
          13.71563398076859,
          13.450447004392903,
          13.191178123032326,
          12.937827336686862,
          12.690394645356509,
          12.448880049041264,
          12.213283547741131,
          11.983605141456106,
          11.759844830186196,
          11.542002613931395,
          11.330078492691705,
          11.124072466467123,
          10.923984535257656,
          10.729814699063294,
          10.54156295788405,
          10.359229311719911,
          10.182813760570884,
          10.012316304436968,
          9.847736943318164,
          9.689075677214472,
          9.536332506125884,
          9.389507430052415,
          9.24860044899405,
          9.113611562950798,
          8.984540771922656,
          8.861388075909627,
          8.744153474911712,
          8.632836968928896,
          8.5274385579612,
          8.427958242008614,
          8.334396021071136,
          8.246751895148773,
          8.165025864241517,
          8.089217928349367,
          8.019328087472335,
          7.955356341610411,
          7.8973026907635955,
          7.845167134931895,
          7.798949674115306,
          7.758650308313829,
          7.72426903752746,
          7.695805861756192,
          7.673260781000042,
          7.656633795259008,
          7.645924904533082,
          7.641134108822268,
          7.642261408126554,
          7.64930680244596,
          7.662270291780477,
          7.681151876130102,
          7.705951555494842,
          7.736669329874687,
          7.77330519926964,
          7.815859163679708,
          7.864331223104891,
          7.918721377545179,
          7.979029627000582,
          8.045255971471097,
          8.11740041095672,
          8.195462945457447,
          8.279443574973289,
          8.369342299504243
         ]
        }
       ],
       "layout": {
        "font": {
         "family": "Malgun Gothic"
        },
        "hovermode": "closest",
        "legend": {
         "title": {
          "text": "노선번호"
         },
         "tracegroupgap": 0,
         "x": 9000,
         "y": 1.1
        },
        "margin": {
         "t": 60
        },
        "showlegend": true,
        "template": {
         "data": {
          "bar": [
           {
            "error_x": {
             "color": "#2a3f5f"
            },
            "error_y": {
             "color": "#2a3f5f"
            },
            "marker": {
             "line": {
              "color": "#E5ECF6",
              "width": 0.5
             },
             "pattern": {
              "fillmode": "overlay",
              "size": 10,
              "solidity": 0.2
             }
            },
            "type": "bar"
           }
          ],
          "barpolar": [
           {
            "marker": {
             "line": {
              "color": "#E5ECF6",
              "width": 0.5
             },
             "pattern": {
              "fillmode": "overlay",
              "size": 10,
              "solidity": 0.2
             }
            },
            "type": "barpolar"
           }
          ],
          "carpet": [
           {
            "aaxis": {
             "endlinecolor": "#2a3f5f",
             "gridcolor": "white",
             "linecolor": "white",
             "minorgridcolor": "white",
             "startlinecolor": "#2a3f5f"
            },
            "baxis": {
             "endlinecolor": "#2a3f5f",
             "gridcolor": "white",
             "linecolor": "white",
             "minorgridcolor": "white",
             "startlinecolor": "#2a3f5f"
            },
            "type": "carpet"
           }
          ],
          "choropleth": [
           {
            "colorbar": {
             "outlinewidth": 0,
             "ticks": ""
            },
            "type": "choropleth"
           }
          ],
          "contour": [
           {
            "colorbar": {
             "outlinewidth": 0,
             "ticks": ""
            },
            "colorscale": [
             [
              0,
              "#0d0887"
             ],
             [
              0.1111111111111111,
              "#46039f"
             ],
             [
              0.2222222222222222,
              "#7201a8"
             ],
             [
              0.3333333333333333,
              "#9c179e"
             ],
             [
              0.4444444444444444,
              "#bd3786"
             ],
             [
              0.5555555555555556,
              "#d8576b"
             ],
             [
              0.6666666666666666,
              "#ed7953"
             ],
             [
              0.7777777777777778,
              "#fb9f3a"
             ],
             [
              0.8888888888888888,
              "#fdca26"
             ],
             [
              1,
              "#f0f921"
             ]
            ],
            "type": "contour"
           }
          ],
          "contourcarpet": [
           {
            "colorbar": {
             "outlinewidth": 0,
             "ticks": ""
            },
            "type": "contourcarpet"
           }
          ],
          "heatmap": [
           {
            "colorbar": {
             "outlinewidth": 0,
             "ticks": ""
            },
            "colorscale": [
             [
              0,
              "#0d0887"
             ],
             [
              0.1111111111111111,
              "#46039f"
             ],
             [
              0.2222222222222222,
              "#7201a8"
             ],
             [
              0.3333333333333333,
              "#9c179e"
             ],
             [
              0.4444444444444444,
              "#bd3786"
             ],
             [
              0.5555555555555556,
              "#d8576b"
             ],
             [
              0.6666666666666666,
              "#ed7953"
             ],
             [
              0.7777777777777778,
              "#fb9f3a"
             ],
             [
              0.8888888888888888,
              "#fdca26"
             ],
             [
              1,
              "#f0f921"
             ]
            ],
            "type": "heatmap"
           }
          ],
          "heatmapgl": [
           {
            "colorbar": {
             "outlinewidth": 0,
             "ticks": ""
            },
            "colorscale": [
             [
              0,
              "#0d0887"
             ],
             [
              0.1111111111111111,
              "#46039f"
             ],
             [
              0.2222222222222222,
              "#7201a8"
             ],
             [
              0.3333333333333333,
              "#9c179e"
             ],
             [
              0.4444444444444444,
              "#bd3786"
             ],
             [
              0.5555555555555556,
              "#d8576b"
             ],
             [
              0.6666666666666666,
              "#ed7953"
             ],
             [
              0.7777777777777778,
              "#fb9f3a"
             ],
             [
              0.8888888888888888,
              "#fdca26"
             ],
             [
              1,
              "#f0f921"
             ]
            ],
            "type": "heatmapgl"
           }
          ],
          "histogram": [
           {
            "marker": {
             "pattern": {
              "fillmode": "overlay",
              "size": 10,
              "solidity": 0.2
             }
            },
            "type": "histogram"
           }
          ],
          "histogram2d": [
           {
            "colorbar": {
             "outlinewidth": 0,
             "ticks": ""
            },
            "colorscale": [
             [
              0,
              "#0d0887"
             ],
             [
              0.1111111111111111,
              "#46039f"
             ],
             [
              0.2222222222222222,
              "#7201a8"
             ],
             [
              0.3333333333333333,
              "#9c179e"
             ],
             [
              0.4444444444444444,
              "#bd3786"
             ],
             [
              0.5555555555555556,
              "#d8576b"
             ],
             [
              0.6666666666666666,
              "#ed7953"
             ],
             [
              0.7777777777777778,
              "#fb9f3a"
             ],
             [
              0.8888888888888888,
              "#fdca26"
             ],
             [
              1,
              "#f0f921"
             ]
            ],
            "type": "histogram2d"
           }
          ],
          "histogram2dcontour": [
           {
            "colorbar": {
             "outlinewidth": 0,
             "ticks": ""
            },
            "colorscale": [
             [
              0,
              "#0d0887"
             ],
             [
              0.1111111111111111,
              "#46039f"
             ],
             [
              0.2222222222222222,
              "#7201a8"
             ],
             [
              0.3333333333333333,
              "#9c179e"
             ],
             [
              0.4444444444444444,
              "#bd3786"
             ],
             [
              0.5555555555555556,
              "#d8576b"
             ],
             [
              0.6666666666666666,
              "#ed7953"
             ],
             [
              0.7777777777777778,
              "#fb9f3a"
             ],
             [
              0.8888888888888888,
              "#fdca26"
             ],
             [
              1,
              "#f0f921"
             ]
            ],
            "type": "histogram2dcontour"
           }
          ],
          "mesh3d": [
           {
            "colorbar": {
             "outlinewidth": 0,
             "ticks": ""
            },
            "type": "mesh3d"
           }
          ],
          "parcoords": [
           {
            "line": {
             "colorbar": {
              "outlinewidth": 0,
              "ticks": ""
             }
            },
            "type": "parcoords"
           }
          ],
          "pie": [
           {
            "automargin": true,
            "type": "pie"
           }
          ],
          "scatter": [
           {
            "fillpattern": {
             "fillmode": "overlay",
             "size": 10,
             "solidity": 0.2
            },
            "type": "scatter"
           }
          ],
          "scatter3d": [
           {
            "line": {
             "colorbar": {
              "outlinewidth": 0,
              "ticks": ""
             }
            },
            "marker": {
             "colorbar": {
              "outlinewidth": 0,
              "ticks": ""
             }
            },
            "type": "scatter3d"
           }
          ],
          "scattercarpet": [
           {
            "marker": {
             "colorbar": {
              "outlinewidth": 0,
              "ticks": ""
             }
            },
            "type": "scattercarpet"
           }
          ],
          "scattergeo": [
           {
            "marker": {
             "colorbar": {
              "outlinewidth": 0,
              "ticks": ""
             }
            },
            "type": "scattergeo"
           }
          ],
          "scattergl": [
           {
            "marker": {
             "colorbar": {
              "outlinewidth": 0,
              "ticks": ""
             }
            },
            "type": "scattergl"
           }
          ],
          "scattermapbox": [
           {
            "marker": {
             "colorbar": {
              "outlinewidth": 0,
              "ticks": ""
             }
            },
            "type": "scattermapbox"
           }
          ],
          "scatterpolar": [
           {
            "marker": {
             "colorbar": {
              "outlinewidth": 0,
              "ticks": ""
             }
            },
            "type": "scatterpolar"
           }
          ],
          "scatterpolargl": [
           {
            "marker": {
             "colorbar": {
              "outlinewidth": 0,
              "ticks": ""
             }
            },
            "type": "scatterpolargl"
           }
          ],
          "scatterternary": [
           {
            "marker": {
             "colorbar": {
              "outlinewidth": 0,
              "ticks": ""
             }
            },
            "type": "scatterternary"
           }
          ],
          "surface": [
           {
            "colorbar": {
             "outlinewidth": 0,
             "ticks": ""
            },
            "colorscale": [
             [
              0,
              "#0d0887"
             ],
             [
              0.1111111111111111,
              "#46039f"
             ],
             [
              0.2222222222222222,
              "#7201a8"
             ],
             [
              0.3333333333333333,
              "#9c179e"
             ],
             [
              0.4444444444444444,
              "#bd3786"
             ],
             [
              0.5555555555555556,
              "#d8576b"
             ],
             [
              0.6666666666666666,
              "#ed7953"
             ],
             [
              0.7777777777777778,
              "#fb9f3a"
             ],
             [
              0.8888888888888888,
              "#fdca26"
             ],
             [
              1,
              "#f0f921"
             ]
            ],
            "type": "surface"
           }
          ],
          "table": [
           {
            "cells": {
             "fill": {
              "color": "#EBF0F8"
             },
             "line": {
              "color": "white"
             }
            },
            "header": {
             "fill": {
              "color": "#C8D4E3"
             },
             "line": {
              "color": "white"
             }
            },
            "type": "table"
           }
          ]
         },
         "layout": {
          "annotationdefaults": {
           "arrowcolor": "#2a3f5f",
           "arrowhead": 0,
           "arrowwidth": 1
          },
          "autotypenumbers": "strict",
          "coloraxis": {
           "colorbar": {
            "outlinewidth": 0,
            "ticks": ""
           }
          },
          "colorscale": {
           "diverging": [
            [
             0,
             "#8e0152"
            ],
            [
             0.1,
             "#c51b7d"
            ],
            [
             0.2,
             "#de77ae"
            ],
            [
             0.3,
             "#f1b6da"
            ],
            [
             0.4,
             "#fde0ef"
            ],
            [
             0.5,
             "#f7f7f7"
            ],
            [
             0.6,
             "#e6f5d0"
            ],
            [
             0.7,
             "#b8e186"
            ],
            [
             0.8,
             "#7fbc41"
            ],
            [
             0.9,
             "#4d9221"
            ],
            [
             1,
             "#276419"
            ]
           ],
           "sequential": [
            [
             0,
             "#0d0887"
            ],
            [
             0.1111111111111111,
             "#46039f"
            ],
            [
             0.2222222222222222,
             "#7201a8"
            ],
            [
             0.3333333333333333,
             "#9c179e"
            ],
            [
             0.4444444444444444,
             "#bd3786"
            ],
            [
             0.5555555555555556,
             "#d8576b"
            ],
            [
             0.6666666666666666,
             "#ed7953"
            ],
            [
             0.7777777777777778,
             "#fb9f3a"
            ],
            [
             0.8888888888888888,
             "#fdca26"
            ],
            [
             1,
             "#f0f921"
            ]
           ],
           "sequentialminus": [
            [
             0,
             "#0d0887"
            ],
            [
             0.1111111111111111,
             "#46039f"
            ],
            [
             0.2222222222222222,
             "#7201a8"
            ],
            [
             0.3333333333333333,
             "#9c179e"
            ],
            [
             0.4444444444444444,
             "#bd3786"
            ],
            [
             0.5555555555555556,
             "#d8576b"
            ],
            [
             0.6666666666666666,
             "#ed7953"
            ],
            [
             0.7777777777777778,
             "#fb9f3a"
            ],
            [
             0.8888888888888888,
             "#fdca26"
            ],
            [
             1,
             "#f0f921"
            ]
           ]
          },
          "colorway": [
           "#636efa",
           "#EF553B",
           "#00cc96",
           "#ab63fa",
           "#FFA15A",
           "#19d3f3",
           "#FF6692",
           "#B6E880",
           "#FF97FF",
           "#FECB52"
          ],
          "font": {
           "color": "#2a3f5f"
          },
          "geo": {
           "bgcolor": "white",
           "lakecolor": "white",
           "landcolor": "#E5ECF6",
           "showlakes": true,
           "showland": true,
           "subunitcolor": "white"
          },
          "hoverlabel": {
           "align": "left"
          },
          "hovermode": "closest",
          "mapbox": {
           "style": "light"
          },
          "paper_bgcolor": "white",
          "plot_bgcolor": "#E5ECF6",
          "polar": {
           "angularaxis": {
            "gridcolor": "white",
            "linecolor": "white",
            "ticks": ""
           },
           "bgcolor": "#E5ECF6",
           "radialaxis": {
            "gridcolor": "white",
            "linecolor": "white",
            "ticks": ""
           }
          },
          "scene": {
           "xaxis": {
            "backgroundcolor": "#E5ECF6",
            "gridcolor": "white",
            "gridwidth": 2,
            "linecolor": "white",
            "showbackground": true,
            "ticks": "",
            "zerolinecolor": "white"
           },
           "yaxis": {
            "backgroundcolor": "#E5ECF6",
            "gridcolor": "white",
            "gridwidth": 2,
            "linecolor": "white",
            "showbackground": true,
            "ticks": "",
            "zerolinecolor": "white"
           },
           "zaxis": {
            "backgroundcolor": "#E5ECF6",
            "gridcolor": "white",
            "gridwidth": 2,
            "linecolor": "white",
            "showbackground": true,
            "ticks": "",
            "zerolinecolor": "white"
           }
          },
          "shapedefaults": {
           "line": {
            "color": "#2a3f5f"
           }
          },
          "ternary": {
           "aaxis": {
            "gridcolor": "white",
            "linecolor": "white",
            "ticks": ""
           },
           "baxis": {
            "gridcolor": "white",
            "linecolor": "white",
            "ticks": ""
           },
           "bgcolor": "#E5ECF6",
           "caxis": {
            "gridcolor": "white",
            "linecolor": "white",
            "ticks": ""
           }
          },
          "title": {
           "x": 0.05
          },
          "xaxis": {
           "automargin": true,
           "gridcolor": "white",
           "linecolor": "white",
           "ticks": "",
           "title": {
            "standoff": 15
           },
           "zerolinecolor": "white",
           "zerolinewidth": 2
          },
          "yaxis": {
           "automargin": true,
           "gridcolor": "white",
           "linecolor": "white",
           "ticks": "",
           "title": {
            "standoff": 15
           },
           "zerolinecolor": "white",
           "zerolinewidth": 2
          }
         }
        },
        "title": {
         "text": "이용량에 따른 배차간격"
        },
        "xaxis": {
         "anchor": "y",
         "domain": [
          0,
          1
         ],
         "title": {
          "text": "이용량"
         }
        },
        "yaxis": {
         "anchor": "x",
         "domain": [
          0,
          1
         ],
         "title": {
          "text": "배차간격 (분)"
         }
        }
       }
      }
     },
     "metadata": {},
     "output_type": "display_data"
    },
    {
     "data": {
      "text/plain": [
       "'bus_usage_graph_work_altered.html'"
      ]
     },
     "execution_count": 52,
     "metadata": {},
     "output_type": "execute_result"
    }
   ],
   "source": [
    "import plotly.express as px\n",
    "import plotly.graph_objects as go\n",
    "import plotly.offline as pyo\n",
    "\n",
    "# 2차 곡선 회귀선 계수 계산\n",
    "a, b, c = np.polyfit(bus_usage_merge_work[\"USAGE_COUNT\"], bus_usage_merge_work[\"ALLO_INTERVAL\"], 2)\n",
    "\n",
    "# 2차 곡선 회귀선 함수 정의\n",
    "def quadratic_regression(x):\n",
    "    return a * x**2 + b * x + c\n",
    "\n",
    "# 산점도 그래프 생성\n",
    "fig = px.scatter(bus_usage_merge_work, x=\"USAGE_COUNT\", y=\"ALLO_INTERVAL\", color=\"ROUTE_NO\", \n",
    "                 labels={\"USAGE_COUNT\": \"이용량\", \"ALLO_INTERVAL\": \"배차간격 (분)\", \"ROUTE_NO\": \"노선번호\"})\n",
    "\n",
    "# 회귀선 그리기\n",
    "x_range = np.linspace(bus_usage_merge_work[\"USAGE_COUNT\"].min(), bus_usage_merge_work[\"USAGE_COUNT\"].max(), 100)\n",
    "y_range = [quadratic_regression(x) for x in x_range]\n",
    "\n",
    "fig.add_trace(go.Scatter(x=x_range, y=y_range, mode=\"lines\", name=\"2차 곡선 회귀선\", line=dict(color='red')))\n",
    "\n",
    "# 그래프 레이아웃 설정\n",
    "fig.update_layout(\n",
    "    title=\"이용량에 따른 배차간격\",\n",
    "    xaxis_title=\"이용량\",\n",
    "    yaxis_title=\"배차간격 (분)\",\n",
    "    legend_title=\"노선번호\",\n",
    "    showlegend=True,\n",
    "    legend=dict(x=9000, y=1.1),\n",
    "    font=dict(family=\"Malgun Gothic\"),\n",
    "    hovermode=\"closest\"\n",
    ")\n",
    "\n",
    "# 그래프 표시\n",
    "fig.show()\n",
    "pyo.plot(fig, filename='bus_usage_graph_work_altered.html')\n",
    "\n"
   ]
  },
  {
   "cell_type": "code",
   "execution_count": 31,
   "metadata": {},
   "outputs": [],
   "source": [
    "# 새로운 열 'coordinate'를 생성하여 좌표를 저장\n",
    "bus_usage_merge_all['coordinate'] = list(zip(bus_usage_merge_all['USAGE_COUNT'], bus_usage_merge_all['ALLO_INTERVAL']))\n",
    "\n",
    "# 'ROUTE_NO'를 기준으로 그룹화하여 각 노선별 좌표 리스트를 저장\n",
    "coordinates_by_route = bus_usage_merge_all.groupby('ROUTE_NO')['coordinate'].apply(list).reset_index()\n",
    "\n",
    "# 각 노선의 좌표 리스트를 출력\n",
    "for index, row in coordinates_by_route.iterrows():\n",
    "    route_no = row['ROUTE_NO']\n",
    "    coordinates = row['coordinate']\n"
   ]
  },
  {
   "cell_type": "code",
   "execution_count": 36,
   "metadata": {},
   "outputs": [
    {
     "data": {
      "text/html": [
       "<div>\n",
       "<style scoped>\n",
       "    .dataframe tbody tr th:only-of-type {\n",
       "        vertical-align: middle;\n",
       "    }\n",
       "\n",
       "    .dataframe tbody tr th {\n",
       "        vertical-align: top;\n",
       "    }\n",
       "\n",
       "    .dataframe thead th {\n",
       "        text-align: right;\n",
       "    }\n",
       "</style>\n",
       "<table border=\"1\" class=\"dataframe\">\n",
       "  <thead>\n",
       "    <tr style=\"text-align: right;\">\n",
       "      <th></th>\n",
       "      <th>ROUTE_NO</th>\n",
       "      <th>USAGE_COUNT</th>\n",
       "      <th>ALLO_INTERVAL</th>\n",
       "      <th>Distance</th>\n",
       "      <th>coordinate</th>\n",
       "    </tr>\n",
       "  </thead>\n",
       "  <tbody>\n",
       "    <tr>\n",
       "      <th>17</th>\n",
       "      <td>203</td>\n",
       "      <td>4499</td>\n",
       "      <td>16</td>\n",
       "      <td>-3.419396</td>\n",
       "      <td>(4499, 16)</td>\n",
       "    </tr>\n",
       "    <tr>\n",
       "      <th>36</th>\n",
       "      <td>602</td>\n",
       "      <td>4119</td>\n",
       "      <td>18</td>\n",
       "      <td>-2.114730</td>\n",
       "      <td>(4119, 18)</td>\n",
       "    </tr>\n",
       "    <tr>\n",
       "      <th>53</th>\n",
       "      <td>701</td>\n",
       "      <td>3842</td>\n",
       "      <td>18</td>\n",
       "      <td>-2.634403</td>\n",
       "      <td>(3842, 18)</td>\n",
       "    </tr>\n",
       "    <tr>\n",
       "      <th>3</th>\n",
       "      <td>104</td>\n",
       "      <td>3000</td>\n",
       "      <td>20</td>\n",
       "      <td>-2.280382</td>\n",
       "      <td>(3000, 20)</td>\n",
       "    </tr>\n",
       "    <tr>\n",
       "      <th>45</th>\n",
       "      <td>614</td>\n",
       "      <td>2964</td>\n",
       "      <td>20</td>\n",
       "      <td>-2.352982</td>\n",
       "      <td>(2964, 20)</td>\n",
       "    </tr>\n",
       "    <tr>\n",
       "      <th>11</th>\n",
       "      <td>117</td>\n",
       "      <td>2800</td>\n",
       "      <td>20</td>\n",
       "      <td>-2.686021</td>\n",
       "      <td>(2800, 20)</td>\n",
       "    </tr>\n",
       "    <tr>\n",
       "      <th>62</th>\n",
       "      <td>912</td>\n",
       "      <td>1959</td>\n",
       "      <td>19</td>\n",
       "      <td>-5.453359</td>\n",
       "      <td>(1959, 19)</td>\n",
       "    </tr>\n",
       "  </tbody>\n",
       "</table>\n",
       "</div>"
      ],
      "text/plain": [
       "   ROUTE_NO  USAGE_COUNT  ALLO_INTERVAL  Distance  coordinate\n",
       "17      203         4499             16 -3.419396  (4499, 16)\n",
       "36      602         4119             18 -2.114730  (4119, 18)\n",
       "53      701         3842             18 -2.634403  (3842, 18)\n",
       "3       104         3000             20 -2.280382  (3000, 20)\n",
       "45      614         2964             20 -2.352982  (2964, 20)\n",
       "11      117         2800             20 -2.686021  (2800, 20)\n",
       "62      912         1959             19 -5.453359  (1959, 19)"
      ]
     },
     "execution_count": 36,
     "metadata": {},
     "output_type": "execute_result"
    }
   ],
   "source": [
    "# 회귀선과 거리가 먼 노선\n",
    "close_to_the_regression_line = bus_usage_merge_all.sort_values('Distance').head(10)\n",
    "close_to_the_regression_line = close_to_the_regression_line[close_to_the_regression_line['USAGE_COUNT']<=4500] # 601번 기준\n",
    "close_to_the_regression_line = close_to_the_regression_line[close_to_the_regression_line['ALLO_INTERVAL']<=21]\n",
    "close_to_the_regression_line.sort_values('USAGE_COUNT',ascending=False)"
   ]
  },
  {
   "cell_type": "code",
   "execution_count": null,
   "metadata": {},
   "outputs": [],
   "source": []
  },
  {
   "cell_type": "code",
   "execution_count": 40,
   "metadata": {},
   "outputs": [
    {
     "data": {
      "text/html": [
       "<div>\n",
       "<style scoped>\n",
       "    .dataframe tbody tr th:only-of-type {\n",
       "        vertical-align: middle;\n",
       "    }\n",
       "\n",
       "    .dataframe tbody tr th {\n",
       "        vertical-align: top;\n",
       "    }\n",
       "\n",
       "    .dataframe thead th {\n",
       "        text-align: right;\n",
       "    }\n",
       "</style>\n",
       "<table border=\"1\" class=\"dataframe\">\n",
       "  <thead>\n",
       "    <tr style=\"text-align: right;\">\n",
       "      <th></th>\n",
       "      <th>ROUTE_NO</th>\n",
       "      <th>USAGE_COUNT</th>\n",
       "      <th>ALLO_INTERVAL</th>\n",
       "      <th>Distance</th>\n",
       "      <th>coordinate</th>\n",
       "    </tr>\n",
       "  </thead>\n",
       "  <tbody>\n",
       "    <tr>\n",
       "      <th>35</th>\n",
       "      <td>601</td>\n",
       "      <td>4141</td>\n",
       "      <td>21</td>\n",
       "      <td>0.92608</td>\n",
       "      <td>(4141, 21)</td>\n",
       "    </tr>\n",
       "  </tbody>\n",
       "</table>\n",
       "</div>"
      ],
      "text/plain": [
       "   ROUTE_NO  USAGE_COUNT  ALLO_INTERVAL  Distance  coordinate\n",
       "35      601         4141             21   0.92608  (4141, 21)"
      ]
     },
     "execution_count": 40,
     "metadata": {},
     "output_type": "execute_result"
    }
   ],
   "source": [
    "bus_usage_merge_all[bus_usage_merge_all['ROUTE_NO']=='601']"
   ]
  },
  {
   "cell_type": "code",
   "execution_count": 51,
   "metadata": {},
   "outputs": [
    {
     "data": {
      "text/html": [
       "<div>\n",
       "<style scoped>\n",
       "    .dataframe tbody tr th:only-of-type {\n",
       "        vertical-align: middle;\n",
       "    }\n",
       "\n",
       "    .dataframe tbody tr th {\n",
       "        vertical-align: top;\n",
       "    }\n",
       "\n",
       "    .dataframe thead th {\n",
       "        text-align: right;\n",
       "    }\n",
       "</style>\n",
       "<table border=\"1\" class=\"dataframe\">\n",
       "  <thead>\n",
       "    <tr style=\"text-align: right;\">\n",
       "      <th></th>\n",
       "      <th>ROUTE_NO</th>\n",
       "      <th>USAGE_COUNT</th>\n",
       "      <th>ALLO_INTERVAL</th>\n",
       "      <th>Distance</th>\n",
       "      <th>coordinate</th>\n",
       "    </tr>\n",
       "  </thead>\n",
       "  <tbody>\n",
       "    <tr>\n",
       "      <th>62</th>\n",
       "      <td>912</td>\n",
       "      <td>1959</td>\n",
       "      <td>19</td>\n",
       "      <td>-5.453359</td>\n",
       "      <td>(1959, 19)</td>\n",
       "    </tr>\n",
       "    <tr>\n",
       "      <th>11</th>\n",
       "      <td>117</td>\n",
       "      <td>2800</td>\n",
       "      <td>20</td>\n",
       "      <td>-2.686021</td>\n",
       "      <td>(2800, 20)</td>\n",
       "    </tr>\n",
       "    <tr>\n",
       "      <th>53</th>\n",
       "      <td>701</td>\n",
       "      <td>3842</td>\n",
       "      <td>18</td>\n",
       "      <td>-2.634403</td>\n",
       "      <td>(3842, 18)</td>\n",
       "    </tr>\n",
       "  </tbody>\n",
       "</table>\n",
       "</div>"
      ],
      "text/plain": [
       "   ROUTE_NO  USAGE_COUNT  ALLO_INTERVAL  Distance  coordinate\n",
       "62      912         1959             19 -5.453359  (1959, 19)\n",
       "11      117         2800             20 -2.686021  (2800, 20)\n",
       "53      701         3842             18 -2.634403  (3842, 18)"
      ]
     },
     "execution_count": 51,
     "metadata": {},
     "output_type": "execute_result"
    }
   ],
   "source": [
    "close_to_the_regression_line = bus_usage_merge_all.sort_values('Distance').head(10)\n",
    "close_to_the_regression_line = close_to_the_regression_line[close_to_the_regression_line['ALLO_INTERVAL']<21]\n",
    "close_to_the_regression_line = close_to_the_regression_line[close_to_the_regression_line['USAGE_COUNT']<=4141] # 601번 기준\n",
    "\n",
    "close_to_the_regression_line.sort_values('Distance',ascending=True).head(3)"
   ]
  },
  {
   "cell_type": "code",
   "execution_count": 52,
   "metadata": {},
   "outputs": [
    {
     "data": {
      "text/html": [
       "<div>\n",
       "<style scoped>\n",
       "    .dataframe tbody tr th:only-of-type {\n",
       "        vertical-align: middle;\n",
       "    }\n",
       "\n",
       "    .dataframe tbody tr th {\n",
       "        vertical-align: top;\n",
       "    }\n",
       "\n",
       "    .dataframe thead th {\n",
       "        text-align: right;\n",
       "    }\n",
       "</style>\n",
       "<table border=\"1\" class=\"dataframe\">\n",
       "  <thead>\n",
       "    <tr style=\"text-align: right;\">\n",
       "      <th></th>\n",
       "      <th>ROUTE_NO</th>\n",
       "      <th>USAGE_COUNT</th>\n",
       "      <th>ALLO_INTERVAL</th>\n",
       "      <th>Distance</th>\n",
       "      <th>coordinate</th>\n",
       "    </tr>\n",
       "  </thead>\n",
       "  <tbody>\n",
       "    <tr>\n",
       "      <th>36</th>\n",
       "      <td>602</td>\n",
       "      <td>4119</td>\n",
       "      <td>18</td>\n",
       "      <td>-2.114730</td>\n",
       "      <td>(4119, 18)</td>\n",
       "    </tr>\n",
       "    <tr>\n",
       "      <th>3</th>\n",
       "      <td>104</td>\n",
       "      <td>3000</td>\n",
       "      <td>20</td>\n",
       "      <td>-2.280382</td>\n",
       "      <td>(3000, 20)</td>\n",
       "    </tr>\n",
       "    <tr>\n",
       "      <th>31</th>\n",
       "      <td>511</td>\n",
       "      <td>7030</td>\n",
       "      <td>13</td>\n",
       "      <td>-2.306737</td>\n",
       "      <td>(7030, 13)</td>\n",
       "    </tr>\n",
       "    <tr>\n",
       "      <th>45</th>\n",
       "      <td>614</td>\n",
       "      <td>2964</td>\n",
       "      <td>20</td>\n",
       "      <td>-2.352982</td>\n",
       "      <td>(2964, 20)</td>\n",
       "    </tr>\n",
       "    <tr>\n",
       "      <th>44</th>\n",
       "      <td>613</td>\n",
       "      <td>6184</td>\n",
       "      <td>14</td>\n",
       "      <td>-2.581070</td>\n",
       "      <td>(6184, 14)</td>\n",
       "    </tr>\n",
       "    <tr>\n",
       "      <th>53</th>\n",
       "      <td>701</td>\n",
       "      <td>3842</td>\n",
       "      <td>18</td>\n",
       "      <td>-2.634403</td>\n",
       "      <td>(3842, 18)</td>\n",
       "    </tr>\n",
       "    <tr>\n",
       "      <th>11</th>\n",
       "      <td>117</td>\n",
       "      <td>2800</td>\n",
       "      <td>20</td>\n",
       "      <td>-2.686021</td>\n",
       "      <td>(2800, 20)</td>\n",
       "    </tr>\n",
       "    <tr>\n",
       "      <th>19</th>\n",
       "      <td>212</td>\n",
       "      <td>924</td>\n",
       "      <td>24</td>\n",
       "      <td>-2.765062</td>\n",
       "      <td>(924, 24)</td>\n",
       "    </tr>\n",
       "    <tr>\n",
       "      <th>17</th>\n",
       "      <td>203</td>\n",
       "      <td>4499</td>\n",
       "      <td>16</td>\n",
       "      <td>-3.419396</td>\n",
       "      <td>(4499, 16)</td>\n",
       "    </tr>\n",
       "    <tr>\n",
       "      <th>62</th>\n",
       "      <td>912</td>\n",
       "      <td>1959</td>\n",
       "      <td>19</td>\n",
       "      <td>-5.453359</td>\n",
       "      <td>(1959, 19)</td>\n",
       "    </tr>\n",
       "  </tbody>\n",
       "</table>\n",
       "</div>"
      ],
      "text/plain": [
       "   ROUTE_NO  USAGE_COUNT  ALLO_INTERVAL  Distance  coordinate\n",
       "36      602         4119             18 -2.114730  (4119, 18)\n",
       "3       104         3000             20 -2.280382  (3000, 20)\n",
       "31      511         7030             13 -2.306737  (7030, 13)\n",
       "45      614         2964             20 -2.352982  (2964, 20)\n",
       "44      613         6184             14 -2.581070  (6184, 14)\n",
       "53      701         3842             18 -2.634403  (3842, 18)\n",
       "11      117         2800             20 -2.686021  (2800, 20)\n",
       "19      212          924             24 -2.765062   (924, 24)\n",
       "17      203         4499             16 -3.419396  (4499, 16)\n",
       "62      912         1959             19 -5.453359  (1959, 19)"
      ]
     },
     "execution_count": 52,
     "metadata": {},
     "output_type": "execute_result"
    }
   ],
   "source": [
    "close_to_the_regression_line = bus_usage_merge_all.sort_values('Distance').head(10)\n",
    "# close_to_the_regression_line = close_to_the_regression_line[close_to_the_regression_line['ALLO_INTERVAL']<14]\n",
    "# close_to_the_regression_line = close_to_the_regression_line[close_to_the_regression_line['USAGE_COUNT']<=10828] # 601번 기준\n",
    "close_to_the_regression_line.sort_values('Distance',ascending=False)"
   ]
  },
  {
   "cell_type": "code",
   "execution_count": 39,
   "metadata": {},
   "outputs": [
    {
     "data": {
      "text/html": [
       "<div>\n",
       "<style scoped>\n",
       "    .dataframe tbody tr th:only-of-type {\n",
       "        vertical-align: middle;\n",
       "    }\n",
       "\n",
       "    .dataframe tbody tr th {\n",
       "        vertical-align: top;\n",
       "    }\n",
       "\n",
       "    .dataframe thead th {\n",
       "        text-align: right;\n",
       "    }\n",
       "</style>\n",
       "<table border=\"1\" class=\"dataframe\">\n",
       "  <thead>\n",
       "    <tr style=\"text-align: right;\">\n",
       "      <th></th>\n",
       "      <th>ROUTE_NO</th>\n",
       "      <th>USAGE_COUNT</th>\n",
       "      <th>ALLO_INTERVAL</th>\n",
       "      <th>Distance</th>\n",
       "      <th>coordinate</th>\n",
       "      <th>Distance_601</th>\n",
       "    </tr>\n",
       "  </thead>\n",
       "  <tbody>\n",
       "    <tr>\n",
       "      <th>62</th>\n",
       "      <td>912</td>\n",
       "      <td>1959</td>\n",
       "      <td>19</td>\n",
       "      <td>-5.453359</td>\n",
       "      <td>(1959, 19)</td>\n",
       "      <td>2182.000917</td>\n",
       "    </tr>\n",
       "    <tr>\n",
       "      <th>11</th>\n",
       "      <td>117</td>\n",
       "      <td>2800</td>\n",
       "      <td>20</td>\n",
       "      <td>-2.686021</td>\n",
       "      <td>(2800, 20)</td>\n",
       "      <td>1341.000373</td>\n",
       "    </tr>\n",
       "    <tr>\n",
       "      <th>45</th>\n",
       "      <td>614</td>\n",
       "      <td>2964</td>\n",
       "      <td>20</td>\n",
       "      <td>-2.352982</td>\n",
       "      <td>(2964, 20)</td>\n",
       "      <td>1177.000425</td>\n",
       "    </tr>\n",
       "    <tr>\n",
       "      <th>3</th>\n",
       "      <td>104</td>\n",
       "      <td>3000</td>\n",
       "      <td>20</td>\n",
       "      <td>-2.280382</td>\n",
       "      <td>(3000, 20)</td>\n",
       "      <td>1141.000438</td>\n",
       "    </tr>\n",
       "    <tr>\n",
       "      <th>53</th>\n",
       "      <td>701</td>\n",
       "      <td>3842</td>\n",
       "      <td>18</td>\n",
       "      <td>-2.634403</td>\n",
       "      <td>(3842, 18)</td>\n",
       "      <td>299.015050</td>\n",
       "    </tr>\n",
       "    <tr>\n",
       "      <th>36</th>\n",
       "      <td>602</td>\n",
       "      <td>4119</td>\n",
       "      <td>18</td>\n",
       "      <td>-2.114730</td>\n",
       "      <td>(4119, 18)</td>\n",
       "      <td>22.203603</td>\n",
       "    </tr>\n",
       "    <tr>\n",
       "      <th>17</th>\n",
       "      <td>203</td>\n",
       "      <td>4499</td>\n",
       "      <td>16</td>\n",
       "      <td>-3.419396</td>\n",
       "      <td>(4499, 16)</td>\n",
       "      <td>358.034914</td>\n",
       "    </tr>\n",
       "  </tbody>\n",
       "</table>\n",
       "</div>"
      ],
      "text/plain": [
       "   ROUTE_NO  USAGE_COUNT  ALLO_INTERVAL  Distance  coordinate  Distance_601\n",
       "62      912         1959             19 -5.453359  (1959, 19)   2182.000917\n",
       "11      117         2800             20 -2.686021  (2800, 20)   1341.000373\n",
       "45      614         2964             20 -2.352982  (2964, 20)   1177.000425\n",
       "3       104         3000             20 -2.280382  (3000, 20)   1141.000438\n",
       "53      701         3842             18 -2.634403  (3842, 18)    299.015050\n",
       "36      602         4119             18 -2.114730  (4119, 18)     22.203603\n",
       "17      203         4499             16 -3.419396  (4499, 16)    358.034914"
      ]
     },
     "execution_count": 39,
     "metadata": {},
     "output_type": "execute_result"
    }
   ],
   "source": [
    "close_to_the_regression_line.sort_values('USAGE_COUNT',ascending=True)"
   ]
  },
  {
   "cell_type": "markdown",
   "metadata": {},
   "source": [
    "---\n",
    "확대그래프"
   ]
  },
  {
   "cell_type": "code",
   "execution_count": 63,
   "metadata": {},
   "outputs": [
    {
     "data": {
      "image/png": "[encoded data removed]",
      "text/plain": [
       "<Figure size 1200x800 with 1 Axes>"
      ]
     },
     "metadata": {},
     "output_type": "display_data"
    }
   ],
   "source": [
    "# 확대한 그래프\n",
    "import numpy as np\n",
    "import seaborn as sns\n",
    "import matplotlib.pyplot as plt\n",
    "\n",
    "# 그래프 크기 설정\n",
    "plt.figure(figsize=(12, 8))\n",
    "\n",
    "# 전체 데이터에 대한 산점도와 회귀선 그리기\n",
    "sns.scatterplot(data=bus_usage_merge_all, x=\"USAGE_COUNT\", y=\"ALLO_INTERVAL\", hue=\"ROUTE_NO\", palette=\"viridis\")\n",
    "sns.regplot(data=bus_usage_merge_all, x=\"USAGE_COUNT\", y=\"ALLO_INTERVAL\", scatter=False, color='black', line_kws={\"color\": \"red\"})\n",
    "\n",
    "# 데이터 포인트에 레이블 달기\n",
    "for route, usage, interval in zip(bus_usage_merge_all[\"ROUTE_NO\"], bus_usage_merge_all[\"USAGE_COUNT\"], bus_usage_merge_all[\"ALLO_INTERVAL\"]):\n",
    "    plt.annotate(route,\n",
    "                 xy=(usage, interval),\n",
    "                 xytext=(-5, 0),\n",
    "                 textcoords='offset points',\n",
    "                 fontsize=13)\n",
    "\n",
    "# X, Y 축 레이블 및 타이틀 설정\n",
    "plt.xlabel(\"이용량\")\n",
    "plt.ylabel(\"배차간격 (분)\")\n",
    "plt.title(\"이용량에 따른 배차간격\")\n",
    "\n",
    "# 이용량이 6000에서 14000 사이인 데이터만 추출\n",
    "filtered_data = bus_usage_merge_all[(bus_usage_merge_all[\"USAGE_COUNT\"] >= 6000) & (bus_usage_merge_all[\"USAGE_COUNT\"] <= 14000)]\n",
    "\n",
    "# # 이용량이 6000에서 14000 사이인 데이터 중에서 노선 번호만 추출하여 범례 표시\n",
    "# legend_labels = filtered_data[\"ROUTE_NO\"].unique()\n",
    "# plt.legend(labels=legend_labels)\n",
    "plt.legend().set_visible(False)\n",
    "\n",
    "# 이용량이 6000에서 14000 사이인 부분만 확대해서 보여주기\n",
    "plt.xlim(6000, 14000)\n",
    "plt.ylim(8, 20)  # 배차간격에 따라 범위 조절\n",
    "\n",
    "# Y 축 눈금 설정 (1분 간격)\n",
    "plt.yticks(np.arange(10, 30, 1))\n",
    "plt.rc('font', size = 15)\n",
    "plt.show()\n"
   ]
  },
  {
   "cell_type": "code",
   "execution_count": 38,
   "metadata": {},
   "outputs": [],
   "source": [
    "# # 확대한 그래프\n",
    "# import numpy as np\n",
    "# import seaborn as sns\n",
    "# import matplotlib.pyplot as plt\n",
    "\n",
    "# # 그래프 크기 설정\n",
    "# plt.figure(figsize=(12, 8))\n",
    "\n",
    "# # 전체 데이터에 대한 산점도와 회귀선 그리기\n",
    "# sns.scatterplot(data=bus_usage_merge, x=\"USAGE_COUNT\", y=\"ALLO_INTERVAL\", hue=\"ROUTE_NO\", palette=\"viridis\")\n",
    "# sns.regplot(data=bus_usage_merge, x=\"USAGE_COUNT\", y=\"ALLO_INTERVAL\", scatter=False, color='black', line_kws={\"color\": \"red\"})\n",
    "\n",
    "# # 데이터 포인트에 레이블 달기\n",
    "# for route, usage, interval in zip(bus_usage_merge[\"ROUTE_NO\"], bus_usage_merge[\"USAGE_COUNT\"], bus_usage_merge[\"ALLO_INTERVAL\"]):\n",
    "#     plt.annotate(route,\n",
    "#                  xy=(usage, interval),\n",
    "#                  xytext=(-5, 0),\n",
    "#                  textcoords='offset points',\n",
    "#                  fontsize=13)\n",
    "\n",
    "# # X, Y 축 레이블 및 타이틀 설정\n",
    "# plt.xlabel(\"이용량\")\n",
    "# plt.ylabel(\"배차간격 (분)\")\n",
    "# plt.title(\"이용량에 따른 배차간격\")\n",
    "\n",
    "# # 이용량이 6000에서 14000 사이인 데이터만 추출\n",
    "# filtered_data = bus_usage_merge[(bus_usage_merge[\"USAGE_COUNT\"] >= 6000) & (bus_usage_merge[\"USAGE_COUNT\"] <= 14000)]\n",
    "\n",
    "# # # 이용량이 6000에서 14000 사이인 데이터 중에서 노선 번호만 추출하여 범례 표시\n",
    "# # legend_labels = filtered_data[\"ROUTE_NO\"].unique()\n",
    "# # plt.legend(labels=legend_labels)\n",
    "# plt.legend().set_visible(False)\n",
    "\n",
    "# # 이용량이 6000에서 14000 사이인 부분만 확대해서 보여주기\n",
    "# plt.xlim(6000, 14000)\n",
    "# plt.ylim(8, 20)  # 배차간격에 따라 범위 조절\n",
    "\n",
    "# # Y 축 눈금 설정 (1분 간격)\n",
    "# plt.yticks(np.arange(8, 21, 1))\n",
    "# plt.rc('font', size = 15)\n",
    "# plt.show()\n"
   ]
  },
  {
   "cell_type": "markdown",
   "metadata": {},
   "source": [
    "---"
   ]
  },
  {
   "cell_type": "code",
   "execution_count": null,
   "metadata": {},
   "outputs": [],
   "source": []
  }
 ],
 "metadata": {
  "kernelspec": {
   "display_name": "yangjunghyun",
   "language": "python",
   "name": "python3"
  },
  "language_info": {
   "codemirror_mode": {
    "name": "ipython",
    "version": 3
   },
   "file_extension": ".py",
   "mimetype": "text/x-python",
   "name": "python",
   "nbconvert_exporter": "python",
   "pygments_lexer": "ipython3",
   "version": "3.10.3"
  },
  "orig_nbformat": 4
 },
 "nbformat": 4,
 "nbformat_minor": 2
}
