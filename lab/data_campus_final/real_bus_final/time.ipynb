{
 "cells": [
  {
   "cell_type": "code",
   "execution_count": 9,
   "metadata": {},
   "outputs": [
    {
     "name": "stdout",
     "output_type": "stream",
     "text": [
      "시간 차이: 1030.0 분\n",
      "기점 출발 대수 : 68.667\n"
     ]
    }
   ],
   "source": [
    "from datetime import datetime, timedelta\n",
    "\n",
    "allo_interval = 15\n",
    "\n",
    "# 시작 시간\n",
    "start_time = datetime.strptime(\"22:50\", \"%H:%M\")\n",
    "\n",
    "# 종료 시간\n",
    "end_time = datetime.strptime(\"05:40\", \"%H:%M\")  # 다음 날로 넘어가는 경우를 처리하기 위해 날짜는 지정하지 않습니다.\n",
    "\n",
    "# 두 시간의 차이 계산\n",
    "time_difference = start_time - end_time\n",
    "\n",
    "# 결과 출력 (분 단위로 표시)\n",
    "total_minutes = time_difference.total_seconds() / 60\n",
    "\n",
    "print(f\"시간 차이: {total_minutes} 분\")\n",
    "\n",
    "origin_bus_cnt = total_minutes / allo_interval\n",
    "\n",
    "print(f'기점 출발 대수 : {origin_bus_cnt:.3f}')\n"
   ]
  },
  {
   "cell_type": "code",
   "execution_count": 10,
   "metadata": {},
   "outputs": [
    {
     "name": "stdout",
     "output_type": "stream",
     "text": [
      "시간 차이: 1050.0 분\n",
      "반환점 출발 대수 : 70.000\n"
     ]
    }
   ],
   "source": [
    "from datetime import datetime, timedelta\n",
    "\n",
    "allo_interval = 15\n",
    "\n",
    "# 시작 시간\n",
    "start_time = datetime.strptime(\"23:10\", \"%H:%M\")\n",
    "\n",
    "# 종료 시간\n",
    "end_time = datetime.strptime(\"05:40\", \"%H:%M\")  # 다음 날로 넘어가는 경우를 처리하기 위해 날짜는 지정하지 않습니다.\n",
    "\n",
    "# 두 시간의 차이 계산\n",
    "time_difference = start_time - end_time\n",
    "\n",
    "# 결과 출력 (분 단위로 표시)\n",
    "total_minutes = time_difference.total_seconds() / 60\n",
    "\n",
    "print(f\"시간 차이: {total_minutes} 분\")\n",
    "\n",
    "turn_bus_cnt = total_minutes / allo_interval\n",
    "\n",
    "print(f'반환점 출발 대수 : {turn_bus_cnt :.3f}')"
   ]
  },
  {
   "cell_type": "code",
   "execution_count": 91,
   "metadata": {},
   "outputs": [
    {
     "name": "stdout",
     "output_type": "stream",
     "text": [
      "8.571\n",
      "42.857\n"
     ]
    }
   ],
   "source": [
    "print(round((60/7),3))\n",
    "print(round((300/7),3))"
   ]
  },
  {
   "cell_type": "code",
   "execution_count": null,
   "metadata": {},
   "outputs": [],
   "source": [
    "import pandas as pd\n",
    "\n"
   ]
  }
 ],
 "metadata": {
  "kernelspec": {
   "display_name": "yangjunghyun",
   "language": "python",
   "name": "python3"
  },
  "language_info": {
   "codemirror_mode": {
    "name": "ipython",
    "version": 3
   },
   "file_extension": ".py",
   "mimetype": "text/x-python",
   "name": "python",
   "nbconvert_exporter": "python",
   "pygments_lexer": "ipython3",
   "version": "3.10.3"
  },
  "orig_nbformat": 4
 },
 "nbformat": 4,
 "nbformat_minor": 2
}
