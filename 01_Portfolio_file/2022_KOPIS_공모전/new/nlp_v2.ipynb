{
 "cells": [
  {
   "cell_type": "code",
   "execution_count": 1,
   "metadata": {},
   "outputs": [
    {
     "name": "stderr",
     "output_type": "stream",
     "text": [
      "/var/folders/83/y5p7rzd572xcs0zzl5dr2lt00000gn/T/ipykernel_4997/2144348374.py:4: DtypeWarning: Columns (5) have mixed types. Specify dtype option on import or set low_memory=False.\n",
      "  df = pd.read_csv('./df_all.csv',index_col=0)\n"
     ]
    }
   ],
   "source": [
    "import pandas as pd\n",
    "import numpy as np\n",
    "\n",
    "df = pd.read_csv('./df_all.csv',index_col=0)\n",
    "\n",
    "df_sex_2 = df[df['성별']==2]\n",
    "df_sex_2 = df_sex_2.dropna()\n",
    "df_sex_2_nlp = df_sex_2[['출연진내용']]"
   ]
  },
  {
   "cell_type": "code",
   "execution_count": 2,
   "metadata": {},
   "outputs": [],
   "source": [
    "df_nlp = df_sex_2_nlp['출연진내용'].str.split(',', expand = True)\n",
    "df_nlp = df_nlp.iloc[:,:7]"
   ]
  },
  {
   "cell_type": "code",
   "execution_count": 3,
   "metadata": {},
   "outputs": [],
   "source": [
    "val_list0 = df_nlp[0].str.replace(' 등','',1)\n",
    "val_list1 = df_nlp[1].str.replace(' 등','',1)\n",
    "val_list2 = df_nlp[2].str.replace(' 등','',1)\n",
    "val_list3 = df_nlp[3].str.replace(' 등','',1)\n",
    "val_list4 = df_nlp[4].str.replace(' 등','',1)\n",
    "val_list5 = df_nlp[5].str.replace(' 등','',1)\n",
    "val_list6 = df_nlp[6].str.replace(' 등','',1)"
   ]
  },
  {
   "cell_type": "code",
   "execution_count": 4,
   "metadata": {},
   "outputs": [],
   "source": [
    "from collections import Counter\n",
    "\n",
    "count = Counter(val_list0)\n",
    "words0 = dict(count.most_common())\n",
    "\n",
    "count = Counter(val_list1)\n",
    "words1 = dict(count.most_common())\n",
    "\n",
    "count = Counter(val_list2)\n",
    "words2 = dict(count.most_common())\n",
    "\n",
    "count = Counter(val_list3)\n",
    "words3 = dict(count.most_common())\n",
    "\n",
    "count = Counter(val_list4)\n",
    "words4 = dict(count.most_common())\n",
    "\n",
    "count = Counter(val_list5)\n",
    "words5 = dict(count.most_common())\n",
    "\n",
    "count = Counter(val_list6)\n",
    "words6 = dict(count.most_common())"
   ]
  },
  {
   "cell_type": "code",
   "execution_count": 5,
   "metadata": {},
   "outputs": [],
   "source": [
    "list_df0 = pd.DataFrame(words0,index = ['list0'])\n",
    "list_df1 = pd.DataFrame(words1,index = ['list1'])\n",
    "list_df2 = pd.DataFrame(words2,index = ['list2'])\n",
    "list_df3 = pd.DataFrame(words3,index = ['list3'])\n",
    "list_df4 = pd.DataFrame(words4,index = ['list4'])\n",
    "list_df5 = pd.DataFrame(words5,index = ['list5'])\n",
    "list_df6 = pd.DataFrame(words6,index = ['list6'])"
   ]
  },
  {
   "cell_type": "code",
   "execution_count": 6,
   "metadata": {},
   "outputs": [],
   "source": [
    "def pre_processing(exdata):\n",
    "  exdata = exdata.iloc[:,1:50]\n",
    "  exdata = exdata.transpose()\n",
    "  exdata = exdata.reset_index()\n",
    "  exdata.columns = ['name','counts']\n",
    "  return exdata\n",
    "\n",
    "final_list0 = pre_processing(list_df0)\n",
    "final_list1 = pre_processing(list_df1)\n",
    "final_list2 = pre_processing(list_df2)\n",
    "final_list3 = pre_processing(list_df3)\n",
    "final_list4 = pre_processing(list_df4)\n",
    "final_list5 = pre_processing(list_df5)\n",
    "final_list6 = pre_processing(list_df6)"
   ]
  },
  {
   "cell_type": "code",
   "execution_count": 7,
   "metadata": {},
   "outputs": [
    {
     "name": "stderr",
     "output_type": "stream",
     "text": [
      "/var/folders/83/y5p7rzd572xcs0zzl5dr2lt00000gn/T/ipykernel_4997/2908035382.py:3: FutureWarning: Passing 'suffixes' which cause duplicate columns {'counts_x'} in the result is deprecated and will raise a MergeError in a future version.\n",
      "  merge3 = pd.merge(merge2, final_list3,  on = 'name',how='outer')\n",
      "/var/folders/83/y5p7rzd572xcs0zzl5dr2lt00000gn/T/ipykernel_4997/2908035382.py:5: FutureWarning: Passing 'suffixes' which cause duplicate columns {'counts_x'} in the result is deprecated and will raise a MergeError in a future version.\n",
      "  merge5 = pd.merge(merge4, final_list5,  on = 'name',how='outer')\n"
     ]
    }
   ],
   "source": [
    "merge1 = pd.merge(final_list0, final_list1, on = 'name',how='outer')\n",
    "merge2 = pd.merge(merge1, final_list2,  on = 'name',how='outer')\n",
    "merge3 = pd.merge(merge2, final_list3,  on = 'name',how='outer')\n",
    "merge4 = pd.merge(merge3, final_list4,  on = 'name',how='outer')\n",
    "merge5 = pd.merge(merge4, final_list5,  on = 'name',how='outer')\n",
    "merge6 = pd.merge(merge5, final_list6,  on = 'name',how='outer')"
   ]
  },
  {
   "cell_type": "code",
   "execution_count": 8,
   "metadata": {},
   "outputs": [],
   "source": [
    "merge6 = merge6.fillna(0)\n",
    "merge6.columns = ['name','a','b','c','d','e','f','g']\n",
    "merge6['count'] = merge6['a'] + merge6['b'] + merge6['c'] + merge6['d'] + merge6['e'] + merge6['f'] + merge6['a']\n",
    "del merge6['a']\n",
    "del merge6['b']\n",
    "del merge6['c']\n",
    "del merge6['d']\n",
    "del merge6['e']\n",
    "del merge6['f']\n",
    "del merge6['g']"
   ]
  },
  {
   "cell_type": "code",
   "execution_count": 9,
   "metadata": {},
   "outputs": [
    {
     "data": {
      "text/html": [
       "<div>\n",
       "<style scoped>\n",
       "    .dataframe tbody tr th:only-of-type {\n",
       "        vertical-align: middle;\n",
       "    }\n",
       "\n",
       "    .dataframe tbody tr th {\n",
       "        vertical-align: top;\n",
       "    }\n",
       "\n",
       "    .dataframe thead th {\n",
       "        text-align: right;\n",
       "    }\n",
       "</style>\n",
       "<table border=\"1\" class=\"dataframe\">\n",
       "  <thead>\n",
       "    <tr style=\"text-align: right;\">\n",
       "      <th></th>\n",
       "      <th>count</th>\n",
       "    </tr>\n",
       "    <tr>\n",
       "      <th>name</th>\n",
       "      <th></th>\n",
       "    </tr>\n",
       "  </thead>\n",
       "  <tbody>\n",
       "    <tr>\n",
       "      <th>류정한</th>\n",
       "      <td>768244.0</td>\n",
       "    </tr>\n",
       "    <tr>\n",
       "      <th>엄기준</th>\n",
       "      <td>579584.0</td>\n",
       "    </tr>\n",
       "    <tr>\n",
       "      <th>최재림</th>\n",
       "      <td>570345.0</td>\n",
       "    </tr>\n",
       "    <tr>\n",
       "      <th>박강현</th>\n",
       "      <td>562201.0</td>\n",
       "    </tr>\n",
       "    <tr>\n",
       "      <th>유준상</th>\n",
       "      <td>554518.0</td>\n",
       "    </tr>\n",
       "  </tbody>\n",
       "</table>\n",
       "</div>"
      ],
      "text/plain": [
       "         count\n",
       "name          \n",
       "류정한   768244.0\n",
       "엄기준   579584.0\n",
       " 최재림  570345.0\n",
       " 박강현  562201.0\n",
       "유준상   554518.0"
      ]
     },
     "execution_count": 9,
     "metadata": {},
     "output_type": "execute_result"
    }
   ],
   "source": [
    "final_merge = merge6.groupby('name').sum().sort_values('count',ascending=False)\n",
    "final_merge.head()"
   ]
  },
  {
   "cell_type": "code",
   "execution_count": 10,
   "metadata": {},
   "outputs": [],
   "source": [
    "# final_merge = final_merge.reset_index()\n",
    "final_merge = final_merge.iloc[:100,:]"
   ]
  },
  {
   "cell_type": "code",
   "execution_count": 11,
   "metadata": {},
   "outputs": [],
   "source": [
    "final_merge['count'] = final_merge['count'].astype(int)\n",
    "# final_merge['count'] = final_merge['count'].astype(str)"
   ]
  },
  {
   "cell_type": "code",
   "execution_count": 12,
   "metadata": {},
   "outputs": [],
   "source": [
    "df_dict = final_merge.to_dict()\n",
    "dic_val = df_dict.values()\n",
    "# dic_list = list(dic_val)"
   ]
  },
  {
   "cell_type": "code",
   "execution_count": 13,
   "metadata": {},
   "outputs": [
    {
     "data": {
      "text/plain": [
       "dict_values([{'류정한': 768244, '엄기준': 579584, ' 최재림': 570345, ' 박강현': 562201, '유준상': 554518, '오만석': 545942, ' 신성록': 529407, ' 고은성': 491068, ' 전동석': 485374, ' 이규형': 467289, ' 윤공주': 464959, ' 카이': 464743, '최정원': 461066, '옥주현': 453800, ' 김경수': 446843, '이승현': 438712, '조형균': 428192, '송원근': 423480, '민우혁': 420189, '홍광호': 418980, ' 서경수': 395995, '안젤로 델 베키오': 377806, '조승우': 372818, '김재범': 365818, '정동화': 358594, ' 신영숙': 347654, ' 김지현': 340421, ' 정선아': 325971, '윤공주': 325078, '김소현': 319468, ' 이석준': 315139, ' 규현': 314978, '강혜인': 312492, ' 송원근': 311765, ' 정욱진': 309916, '강필석': 303866, ' 정성화': 293160, ' 박규원': 293099, '조아나 암필': 291958, ' 조형균': 291522, ' 홍광호': 282747, ' 김선영': 281591, ' 김찬호': 279241, ' 박민성': 278543, ' 아이비': 278260, ' 조정은': 276124, '박민성': 275506, ' 조승우': 274191, ' 김소향': 271010, '차지연': 269444, '윤도현': 266996, ' 강필석': 259823, ' 이정화': 256867, ' 유리아': 253336, '정문성': 250836, ' 옥주현': 249203, ' 임혜영': 247958, '박은태': 246630, ' 장은아': 238200, '김선영': 236204, ' 장지후': 232516, '이건명': 228478, ' 김지우': 220480, ' 김려원': 220014, ' 이해준': 212503, ' 박은태': 212148, '김동완': 211210, ' 최민철': 210135, ' 차지연': 207260, '이율': 205682, ' 진태화': 205428, ' 김종구': 204488, ' 황민수': 204396, ' 손승연': 200384, ' 나하나': 200384, '김종구': 196336, ' 김재범': 192185, ' 이아진': 191793, ' 조성윤': 190765, ' 이건명': 189396, ' 리샤르 샤레스트': 188903, '유승현': 186712, ' 김도형': 186409, ' 린아': 186409, '박정복': 185398, ' 박지연': 184726, '유주혜': 183806, '김찬호': 183070, ' 강홍석': 182496, ' 박혜나': 182496, ' 안재영': 179805, '임강희': 175494, ' 기세중': 173784, ' 티파니 영': 172397, '이진기': 172162, ' 유성재': 171276, ' 박은석': 170645, ' 고상호': 169544, ' 최석진': 168380, ' 김주호': 167343}])"
      ]
     },
     "execution_count": 13,
     "metadata": {},
     "output_type": "execute_result"
    }
   ],
   "source": [
    "dic_val"
   ]
  },
  {
   "cell_type": "code",
   "execution_count": 16,
   "metadata": {},
   "outputs": [],
   "source": [
    "dic_list = [('류정한', 768244), ('엄기준', 579584), ('최재림', 570345), ('박강현', 562201), ('유준상', 554518), ('오만석', 545942), ('신성록', 529407), ('고은성', 491068), ('전동석', 485374), ('이규형', 467289), ('윤공주', 464959), ('카이', 464743), ('최정원', 461066), ('옥주현', 453800), ('김경수', 446843), ('이승현', 438712), ('조형균', 428192), ('송원근', 423480), ('민우혁', 420189), ('홍광호', 418980), ('서경수', 395995), ('안젤로 델 베키오', 377806), ('조승우', 372818), ('김재범', 365818), ('정동화', 358594), ('신영숙', 347654), ('김지현', 340421), ('정선아', 325971), ('윤공주', 325078), ('김소현', 319468), ('이석준', 315139), ('규현', 314978), ('강혜인', 312492), ('송원근', 311765), ('정욱진', 309916), ('강필석', 303866), ('정성화', 293160), ('박규원', 293099), ('조아나 암필', 291958), ('조형균', 291522), ('홍광호', 282747), ('김선영', 281591), ('김찬호', 279241), ('박민성', 278543), ('아이비', 278260), ('조정은', 276124), ('박민성', 275506), ('조승우', 274191), ('김소향', 271010), ('차지연', 269444), ('윤도현', 266996), ('강필석', 259823), ('이정화', 256867), ('유리아', 253336), ('정문성', 250836), ('옥주현', 249203), ('임혜영', 247958), ('박은태', 246630), ('장은아', 238200), ('김선영', 236204), ('장지후', 232516), ('이건명', 228478), ('김지우', 220480), ('김려원', 220014), ('이해준', 212503), ('박은태', 212148), ('김동완', 211210), ('최민철', 210135), ('차지연', 207260), ('이율', 205682), ('진태화', 205428), ('김종구', 204488), ('황민수', 204396), ('손승연', 200384), ('나하나', 200384), ('김종구', 196336), ('김재범', 192185), ('이아진', 191793), ('조성윤', 190765), ('이건명', 189396), ('리샤르 샤레스트', 188903), ('유승현', 186712), ('김도형', 186409), ('린아', 186409), ('박정복', 185398), ('박지연', 184726), ('유주혜', 183806), ('김찬호', 183070), ('강홍석', 182496), ('박혜나', 182496), ('안재영', 179805), ('임강희', 175494), ('기세중', 173784), ('티파니 영', 172397), ('이진기', 172162), ('유성재', 171276), ('박은석', 170645), ('고상호', 169544), ('최석진', 168380), ('김주호', 167343)]"
   ]
  },
  {
   "cell_type": "markdown",
   "metadata": {},
   "source": [
    "# df_all"
   ]
  },
  {
   "cell_type": "code",
   "execution_count": 17,
   "metadata": {},
   "outputs": [],
   "source": [
    "df_nlp = df['출연진내용'].str.split(',', expand = True)\n",
    "df_nlp = df_nlp.iloc[:,:7]"
   ]
  },
  {
   "cell_type": "code",
   "execution_count": 18,
   "metadata": {},
   "outputs": [],
   "source": [
    "val_list0 = df_nlp[0].str.replace(' 등','',1)\n",
    "val_list1 = df_nlp[1].str.replace(' 등','',1)\n",
    "val_list2 = df_nlp[2].str.replace(' 등','',1)\n",
    "val_list3 = df_nlp[3].str.replace(' 등','',1)\n",
    "val_list4 = df_nlp[4].str.replace(' 등','',1)\n",
    "val_list5 = df_nlp[5].str.replace(' 등','',1)\n",
    "val_list6 = df_nlp[6].str.replace(' 등','',1)"
   ]
  },
  {
   "cell_type": "code",
   "execution_count": null,
   "metadata": {},
   "outputs": [],
   "source": [
    "# val_list6.str.replace(' ','',1)"
   ]
  },
  {
   "cell_type": "code",
   "execution_count": 28,
   "metadata": {},
   "outputs": [],
   "source": [
    "from collections import Counter\n",
    "\n",
    "count = Counter(val_list0)\n",
    "words0 = dict(count.most_common())\n",
    "\n",
    "count = Counter(val_list1)\n",
    "words1 = dict(count.most_common())\n",
    "\n",
    "count = Counter(val_list2)\n",
    "words2 = dict(count.most_common())\n",
    "\n",
    "count = Counter(val_list3)\n",
    "words3 = dict(count.most_common())\n",
    "\n",
    "count = Counter(val_list4)\n",
    "words4 = dict(count.most_common())\n",
    "\n",
    "count = Counter(val_list5)\n",
    "words5 = dict(count.most_common())\n",
    "\n",
    "count = Counter(val_list6)\n",
    "words6 = dict(count.most_common())"
   ]
  },
  {
   "cell_type": "code",
   "execution_count": 29,
   "metadata": {},
   "outputs": [],
   "source": [
    "list_df0 = pd.DataFrame(words0,index = ['list0'])\n",
    "list_df1 = pd.DataFrame(words1,index = ['list1'])\n",
    "list_df2 = pd.DataFrame(words2,index = ['list2'])\n",
    "list_df3 = pd.DataFrame(words3,index = ['list3'])\n",
    "list_df4 = pd.DataFrame(words4,index = ['list4'])\n",
    "list_df5 = pd.DataFrame(words5,index = ['list5'])\n",
    "list_df6 = pd.DataFrame(words6,index = ['list6'])"
   ]
  },
  {
   "cell_type": "code",
   "execution_count": 30,
   "metadata": {},
   "outputs": [],
   "source": [
    "def pre_processing(exdata):\n",
    "  exdata = exdata.iloc[:,1:50]\n",
    "  exdata = exdata.transpose()\n",
    "  exdata = exdata.reset_index()\n",
    "  exdata.columns = ['name','counts']\n",
    "  return exdata\n",
    "\n",
    "final_list0 = pre_processing(list_df0)\n",
    "final_list1 = pre_processing(list_df1)\n",
    "final_list2 = pre_processing(list_df2)\n",
    "final_list3 = pre_processing(list_df3)\n",
    "final_list4 = pre_processing(list_df4)\n",
    "final_list5 = pre_processing(list_df5)\n",
    "final_list6 = pre_processing(list_df6)"
   ]
  },
  {
   "cell_type": "code",
   "execution_count": 36,
   "metadata": {},
   "outputs": [
    {
     "name": "stderr",
     "output_type": "stream",
     "text": [
      "/var/folders/83/y5p7rzd572xcs0zzl5dr2lt00000gn/T/ipykernel_4997/2908035382.py:3: FutureWarning: Passing 'suffixes' which cause duplicate columns {'counts_x'} in the result is deprecated and will raise a MergeError in a future version.\n",
      "  merge3 = pd.merge(merge2, final_list3,  on = 'name',how='outer')\n",
      "/var/folders/83/y5p7rzd572xcs0zzl5dr2lt00000gn/T/ipykernel_4997/2908035382.py:5: FutureWarning: Passing 'suffixes' which cause duplicate columns {'counts_x'} in the result is deprecated and will raise a MergeError in a future version.\n",
      "  merge5 = pd.merge(merge4, final_list5,  on = 'name',how='outer')\n"
     ]
    }
   ],
   "source": [
    "merge1 = pd.merge(final_list0, final_list1, on = 'name',how='outer')\n",
    "merge2 = pd.merge(merge1, final_list2,  on = 'name',how='outer')\n",
    "merge3 = pd.merge(merge2, final_list3,  on = 'name',how='outer')\n",
    "merge4 = pd.merge(merge3, final_list4,  on = 'name',how='outer')\n",
    "merge5 = pd.merge(merge4, final_list5,  on = 'name',how='outer')\n",
    "merge6 = pd.merge(merge5, final_list6,  on = 'name',how='outer')"
   ]
  },
  {
   "cell_type": "code",
   "execution_count": 37,
   "metadata": {},
   "outputs": [],
   "source": [
    "merge6 = merge6.fillna(0)\n",
    "merge6.columns = ['name','a','b','c','d','e','f','g']\n",
    "merge6['count'] = merge6['a'] + merge6['b'] + merge6['c'] + merge6['d'] + merge6['e'] + merge6['f'] + merge6['a']\n",
    "del merge6['a']\n",
    "del merge6['b']\n",
    "del merge6['c']\n",
    "del merge6['d']\n",
    "del merge6['e']\n",
    "del merge6['f']\n",
    "del merge6['g']"
   ]
  },
  {
   "cell_type": "code",
   "execution_count": 38,
   "metadata": {},
   "outputs": [
    {
     "data": {
      "text/html": [
       "<div>\n",
       "<style scoped>\n",
       "    .dataframe tbody tr th:only-of-type {\n",
       "        vertical-align: middle;\n",
       "    }\n",
       "\n",
       "    .dataframe tbody tr th {\n",
       "        vertical-align: top;\n",
       "    }\n",
       "\n",
       "    .dataframe thead th {\n",
       "        text-align: right;\n",
       "    }\n",
       "</style>\n",
       "<table border=\"1\" class=\"dataframe\">\n",
       "  <thead>\n",
       "    <tr style=\"text-align: right;\">\n",
       "      <th></th>\n",
       "      <th>count</th>\n",
       "    </tr>\n",
       "    <tr>\n",
       "      <th>name</th>\n",
       "      <th></th>\n",
       "    </tr>\n",
       "  </thead>\n",
       "  <tbody>\n",
       "    <tr>\n",
       "      <th>0</th>\n",
       "      <td>8344952.0</td>\n",
       "    </tr>\n",
       "    <tr>\n",
       "      <th>김준수</th>\n",
       "      <td>1527350.0</td>\n",
       "    </tr>\n",
       "    <tr>\n",
       "      <th>류정한</th>\n",
       "      <td>997168.0</td>\n",
       "    </tr>\n",
       "    <tr>\n",
       "      <th>조나단 록스머스</th>\n",
       "      <td>914438.0</td>\n",
       "    </tr>\n",
       "    <tr>\n",
       "      <th>박은태</th>\n",
       "      <td>882722.0</td>\n",
       "    </tr>\n",
       "  </tbody>\n",
       "</table>\n",
       "</div>"
      ],
      "text/plain": [
       "              count\n",
       "name               \n",
       "0         8344952.0\n",
       "김준수       1527350.0\n",
       "류정한        997168.0\n",
       "조나단 록스머스   914438.0\n",
       " 박은태       882722.0"
      ]
     },
     "execution_count": 38,
     "metadata": {},
     "output_type": "execute_result"
    }
   ],
   "source": [
    "final_merge = merge6.groupby('name').sum().sort_values('count',ascending=False)\n",
    "final_merge.head()"
   ]
  },
  {
   "cell_type": "code",
   "execution_count": 39,
   "metadata": {},
   "outputs": [],
   "source": [
    "final_merge = final_merge.iloc[1:100,:]\n",
    "final_merge['count'] = final_merge['count'].astype(int)"
   ]
  },
  {
   "cell_type": "code",
   "execution_count": 41,
   "metadata": {},
   "outputs": [],
   "source": [
    "df_dict = final_merge.to_dict()\n",
    "dic_val = df_dict.values()"
   ]
  },
  {
   "cell_type": "code",
   "execution_count": 45,
   "metadata": {},
   "outputs": [
    {
     "data": {
      "text/plain": [
       "dict_values([{'김준수': 1527350, '류정한': 997168, '조나단 록스머스': 914438, ' 박은태': 882722, ' 최재림': 876472, '최정원': 848856, ' 전동석': 792538, '엄기준': 707558, ' 박강현': 705256, ' 신성록': 678261, '유준상': 650204, '오만석': 621394, ' 신영숙': 616349, '옥주현': 610750, ' 카이': 570768, ' 고은성': 564834, ' 조정은': 551839, '안젤로 델 베키오': 526900, ' 이규형': 517685, ' 윤공주': 515005, ' 임혜영': 514597, '조형균': 492828, '홍광호': 486452, '이승현': 477852, ' 서경수': 475709, ' 김경수': 466981, '조승우': 464774, '윤공주': 448708, ' 엄기준': 446245, '송원근': 440212, ' 조형균': 437662, '이석훈': 436440, ' 정선아': 435951, ' 김지우': 434715, '민우혁': 426122, '조아나 암필': 419634, ' 베벌리 차이앗': 402400, ' 맷레이시': 402400, ' 제임스 보스윅': 402400, ' 클레어 라이언': 402400, '김소현': 396880, '김혜라': 394086, ' 강태을': 387079, '김재범': 386662, '정동화': 373472, ' 규현': 372941, ' 아이비': 366035, ' 홍광호': 363485, ' 강홍석': 359710, '강혜인': 337366, ' 송원근': 334410, ' 옥주현': 332624, '강필석': 327886, ' 김소향': 327812, ' 조승우': 322190, ' 김지현': 322130, '윤도현': 320110, ' 김선영': 319222, '박은태': 316910, ' 김성규': 314551, ' 박민성': 313126, '김종구': 312356, '차지연': 310692, ' 김찬호': 309581, '김선영': 302502, ' 강필석': 299351, '윤계열': 292890, '박민성': 288882, ' 유리아': 287739, ' 케이틀린 피니': 287254, ' 피설아': 279227, ' 박건엽': 279226, ' 박규원': 278154, ' 장은아': 276269, '정문성': 274274, '송용진': 270782, ' 임종철': 268492, ' 진태화': 265611, '추세민': 265562, ' 리샤르 샤레스트': 263450, ' 정성화': 263294, ' 최민철': 262251, ' 나하나': 260275, ' 손승연': 260275, '이재형': 256868, ' 정욱진': 254289, ' 김려원': 251052, '차수영': 247026, ' 이석준': 243590, ' 최정원': 243244, '이건명': 239694, ' 린아': 232387, ' 김도형': 232387, ' 양지원': 230919, '김동완': 230642, '이순재': 228092, ' 전나영': 224354, ' 이해준': 220445, '김연수': 219344}])"
      ]
     },
     "execution_count": 45,
     "metadata": {},
     "output_type": "execute_result"
    }
   ],
   "source": [
    "dic_val"
   ]
  },
  {
   "cell_type": "code",
   "execution_count": 47,
   "metadata": {},
   "outputs": [],
   "source": [
    "dic_list = [('김준수',1527350),('류정한',997168),('조나단 록스머스',914438),('박은태',882722),('최재림',876472),('최정원',848856),('전동석',792538),('엄기준',707558),('박강현',705256),('신성록',678261),('유준상',650204),('오만석',621394),('신영숙',616349),('옥주현',610750),('카이',570768),('고은성',564834),('조정은',551839),('안젤로 델 베키오',526900),('이규형',517685),('윤공주',515005),('임혜영',514597),('조형균',492828),('홍광호',486452),('이승현',477852),('서경수',475709),('김경수',466981),('조승우',464774),('윤공주',448708),('엄기준',446245),('송원근',440212),('조형균',437662),('이석훈',436440),('정선아',435951),('김지우',434715),('민우혁',426122),('조아나 암필',419634),('베벌리 차이앗',402400),('맷레이시',402400),('제임스 보스윅',402400),('클레어 라이언',402400),('김소현',396880),('김혜라',394086),('강태을',387079),('김재범',386662),('정동화',373472),('규현',372941),('아이비',366035),('홍광호',363485),('강홍석',359710),('강혜인',337366),('송원근',334410),('옥주현',332624),('강필석',327886),('김소향',327812),('조승우',322190),('김지현',322130),('윤도현',320110),('김선영',319222),('박은태',316910),('김성규',314551),('박민성',313126),('김종구',312356),('차지연',310692),('김찬호',309581),('김선영',302502),('강필석',299351),('윤계열',292890),('박민성',288882),('유리아',287739),('케이틀린 피니',287254),('피설아',279227),('박건엽',279226),('박규원',278154),('장은아',276269),('정문성',274274),('송용진',270782),('임종철',268492),('진태화',265611),('추세민',265562),('리샤르 샤레스트',263450),('정성화',263294),('최민철',262251),('나하나',260275),('손승연',260275),('이재형',256868),('정욱진',254289),('김려원',251052),('차수영',247026),('이석준',243590),('최정원',243244),('이건명',239694),('린아',232387),('김도형',232387),('양지원',230919),('김동완',230642),('이순재',228092),('전나영',224354),('이해준',220445),('김연수',219344)]"
   ]
  },
  {
   "cell_type": "code",
   "execution_count": null,
   "metadata": {},
   "outputs": [],
   "source": []
  }
 ],
 "metadata": {
  "kernelspec": {
   "display_name": "Python 3.9.12",
   "language": "python",
   "name": "python3"
  },
  "language_info": {
   "codemirror_mode": {
    "name": "ipython",
    "version": 3
   },
   "file_extension": ".py",
   "mimetype": "text/x-python",
   "name": "python",
   "nbconvert_exporter": "python",
   "pygments_lexer": "ipython3",
   "version": "3.9.12"
  },
  "orig_nbformat": 4,
  "vscode": {
   "interpreter": {
    "hash": "38cca0c38332a56087b24af0bc80247f4fced29cb4f7f437d91dc159adec9c4e"
   }
  }
 },
 "nbformat": 4,
 "nbformat_minor": 2
}
