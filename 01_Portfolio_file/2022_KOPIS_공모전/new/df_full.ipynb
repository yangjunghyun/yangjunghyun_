{
 "cells": [
  {
   "cell_type": "code",
   "execution_count": 1,
   "metadata": {},
   "outputs": [
    {
     "name": "stdout",
     "output_type": "stream",
     "text": [
      "(5443338, 11) (6586785, 11) (10087302, 11) (2329307, 11)\n"
     ]
    }
   ],
   "source": [
    "import pandas as pd\n",
    "import numpy as np\n",
    "\n",
    "df2019 = pd.read_csv('./data_/data_2019.csv')\n",
    "df2020 = pd.read_csv('./data_/data_2020.csv')\n",
    "df2021 = pd.read_csv('./data_/data_2021.csv')\n",
    "df2022 = pd.read_csv('./data_/data_2022.csv')\n",
    "\n",
    "print(df2019.shape, df2020.shape, df2021.shape, df2022.shape)"
   ]
  },
  {
   "cell_type": "code",
   "execution_count": 2,
   "metadata": {},
   "outputs": [],
   "source": [
    "def data_processing(exdata):\n",
    "    exdata = exdata.iloc[:,1:]\n",
    "    del exdata['연령']\n",
    "    del exdata['나이']\n",
    "    return exdata\n",
    "\n",
    "df2019 = data_processing(df2019)\n",
    "df2020 = data_processing(df2020)\n",
    "df2021 = data_processing(df2021)\n",
    "df2022 = data_processing(df2022)"
   ]
  },
  {
   "cell_type": "code",
   "execution_count": 3,
   "metadata": {},
   "outputs": [
    {
     "data": {
      "text/html": [
       "<div>\n",
       "<style scoped>\n",
       "    .dataframe tbody tr th:only-of-type {\n",
       "        vertical-align: middle;\n",
       "    }\n",
       "\n",
       "    .dataframe tbody tr th {\n",
       "        vertical-align: top;\n",
       "    }\n",
       "\n",
       "    .dataframe thead th {\n",
       "        text-align: right;\n",
       "    }\n",
       "</style>\n",
       "<table border=\"1\" class=\"dataframe\">\n",
       "  <thead>\n",
       "    <tr style=\"text-align: right;\">\n",
       "      <th></th>\n",
       "      <th>성별</th>\n",
       "      <th>장르명</th>\n",
       "      <th>세부장르명</th>\n",
       "      <th>공연지역명</th>\n",
       "      <th>출연진내용</th>\n",
       "      <th>제작진내용</th>\n",
       "      <th>오픈런 여부</th>\n",
       "      <th>연령대</th>\n",
       "    </tr>\n",
       "  </thead>\n",
       "  <tbody>\n",
       "    <tr>\n",
       "      <th>0</th>\n",
       "      <td>1</td>\n",
       "      <td>뮤지컬</td>\n",
       "      <td>넌버벌 퍼포먼스</td>\n",
       "      <td>서울</td>\n",
       "      <td>NaN</td>\n",
       "      <td>NaN</td>\n",
       "      <td>Y</td>\n",
       "      <td>40대</td>\n",
       "    </tr>\n",
       "    <tr>\n",
       "      <th>1</th>\n",
       "      <td>1</td>\n",
       "      <td>뮤지컬</td>\n",
       "      <td>넌버벌 퍼포먼스</td>\n",
       "      <td>서울</td>\n",
       "      <td>NaN</td>\n",
       "      <td>NaN</td>\n",
       "      <td>Y</td>\n",
       "      <td>40대</td>\n",
       "    </tr>\n",
       "    <tr>\n",
       "      <th>2</th>\n",
       "      <td>2</td>\n",
       "      <td>뮤지컬</td>\n",
       "      <td>넌버벌 퍼포먼스</td>\n",
       "      <td>서울</td>\n",
       "      <td>NaN</td>\n",
       "      <td>NaN</td>\n",
       "      <td>Y</td>\n",
       "      <td>60대</td>\n",
       "    </tr>\n",
       "    <tr>\n",
       "      <th>3</th>\n",
       "      <td>2</td>\n",
       "      <td>뮤지컬</td>\n",
       "      <td>넌버벌 퍼포먼스</td>\n",
       "      <td>서울</td>\n",
       "      <td>NaN</td>\n",
       "      <td>NaN</td>\n",
       "      <td>Y</td>\n",
       "      <td>60대</td>\n",
       "    </tr>\n",
       "    <tr>\n",
       "      <th>4</th>\n",
       "      <td>2</td>\n",
       "      <td>뮤지컬</td>\n",
       "      <td>넌버벌 퍼포먼스</td>\n",
       "      <td>서울</td>\n",
       "      <td>NaN</td>\n",
       "      <td>NaN</td>\n",
       "      <td>Y</td>\n",
       "      <td>60대</td>\n",
       "    </tr>\n",
       "    <tr>\n",
       "      <th>...</th>\n",
       "      <td>...</td>\n",
       "      <td>...</td>\n",
       "      <td>...</td>\n",
       "      <td>...</td>\n",
       "      <td>...</td>\n",
       "      <td>...</td>\n",
       "      <td>...</td>\n",
       "      <td>...</td>\n",
       "    </tr>\n",
       "    <tr>\n",
       "      <th>2329302</th>\n",
       "      <td>2</td>\n",
       "      <td>무용</td>\n",
       "      <td>발레</td>\n",
       "      <td>서울</td>\n",
       "      <td>NaN</td>\n",
       "      <td>페르디낭 헤롤드, 프레데릭 애쉬튼, 존 랜치베리 등</td>\n",
       "      <td>N</td>\n",
       "      <td>30대</td>\n",
       "    </tr>\n",
       "    <tr>\n",
       "      <th>2329303</th>\n",
       "      <td>2</td>\n",
       "      <td>무용</td>\n",
       "      <td>발레</td>\n",
       "      <td>서울</td>\n",
       "      <td>NaN</td>\n",
       "      <td>페르디낭 헤롤드, 프레데릭 애쉬튼, 존 랜치베리 등</td>\n",
       "      <td>N</td>\n",
       "      <td>30대</td>\n",
       "    </tr>\n",
       "    <tr>\n",
       "      <th>2329304</th>\n",
       "      <td>2</td>\n",
       "      <td>무용</td>\n",
       "      <td>발레</td>\n",
       "      <td>서울</td>\n",
       "      <td>NaN</td>\n",
       "      <td>페르디낭 헤롤드, 프레데릭 애쉬튼, 존 랜치베리 등</td>\n",
       "      <td>N</td>\n",
       "      <td>20대</td>\n",
       "    </tr>\n",
       "    <tr>\n",
       "      <th>2329305</th>\n",
       "      <td>2</td>\n",
       "      <td>무용</td>\n",
       "      <td>발레</td>\n",
       "      <td>서울</td>\n",
       "      <td>NaN</td>\n",
       "      <td>페르디낭 헤롤드, 프레데릭 애쉬튼, 존 랜치베리 등</td>\n",
       "      <td>N</td>\n",
       "      <td>20대</td>\n",
       "    </tr>\n",
       "    <tr>\n",
       "      <th>2329306</th>\n",
       "      <td>2</td>\n",
       "      <td>무용</td>\n",
       "      <td>발레</td>\n",
       "      <td>서울</td>\n",
       "      <td>NaN</td>\n",
       "      <td>페르디낭 헤롤드, 프레데릭 애쉬튼, 존 랜치베리 등</td>\n",
       "      <td>N</td>\n",
       "      <td>30대</td>\n",
       "    </tr>\n",
       "  </tbody>\n",
       "</table>\n",
       "<p>24446732 rows × 8 columns</p>\n",
       "</div>"
      ],
      "text/plain": [
       "         성별  장르명     세부장르명 공연지역명 출연진내용                         제작진내용 오픈런 여부  \\\n",
       "0         1  뮤지컬  넌버벌 퍼포먼스    서울   NaN                           NaN      Y   \n",
       "1         1  뮤지컬  넌버벌 퍼포먼스    서울   NaN                           NaN      Y   \n",
       "2         2  뮤지컬  넌버벌 퍼포먼스    서울   NaN                           NaN      Y   \n",
       "3         2  뮤지컬  넌버벌 퍼포먼스    서울   NaN                           NaN      Y   \n",
       "4         2  뮤지컬  넌버벌 퍼포먼스    서울   NaN                           NaN      Y   \n",
       "...      ..  ...       ...   ...   ...                           ...    ...   \n",
       "2329302   2   무용        발레    서울   NaN  페르디낭 헤롤드, 프레데릭 애쉬튼, 존 랜치베리 등      N   \n",
       "2329303   2   무용        발레    서울   NaN  페르디낭 헤롤드, 프레데릭 애쉬튼, 존 랜치베리 등      N   \n",
       "2329304   2   무용        발레    서울   NaN  페르디낭 헤롤드, 프레데릭 애쉬튼, 존 랜치베리 등      N   \n",
       "2329305   2   무용        발레    서울   NaN  페르디낭 헤롤드, 프레데릭 애쉬튼, 존 랜치베리 등      N   \n",
       "2329306   2   무용        발레    서울   NaN  페르디낭 헤롤드, 프레데릭 애쉬튼, 존 랜치베리 등      N   \n",
       "\n",
       "         연령대  \n",
       "0        40대  \n",
       "1        40대  \n",
       "2        60대  \n",
       "3        60대  \n",
       "4        60대  \n",
       "...      ...  \n",
       "2329302  30대  \n",
       "2329303  30대  \n",
       "2329304  20대  \n",
       "2329305  20대  \n",
       "2329306  30대  \n",
       "\n",
       "[24446732 rows x 8 columns]"
      ]
     },
     "execution_count": 3,
     "metadata": {},
     "output_type": "execute_result"
    }
   ],
   "source": [
    "df_list = [df2019, df2020, df2021,df2022]\n",
    "df_all = pd.concat(df_list)\n",
    "df_all"
   ]
  },
  {
   "cell_type": "code",
   "execution_count": 5,
   "metadata": {},
   "outputs": [
    {
     "data": {
      "text/plain": [
       "서울     19187878\n",
       "경상도     2256395\n",
       "경기도     1608703\n",
       "충청도      564304\n",
       "전라도      549217\n",
       "강원도      211176\n",
       "제주도       69059\n",
       "Name: 공연지역명, dtype: int64"
      ]
     },
     "execution_count": 5,
     "metadata": {},
     "output_type": "execute_result"
    }
   ],
   "source": [
    "df_all['공연지역명'].value_counts()"
   ]
  },
  {
   "cell_type": "code",
   "execution_count": 4,
   "metadata": {},
   "outputs": [
    {
     "data": {
      "text/plain": [
       "뮤지컬    16813413\n",
       "연극      4750318\n",
       "클래식     1879093\n",
       "무용       566223\n",
       "국악       151736\n",
       "오페라      148252\n",
       "복합       137697\n",
       "Name: 장르명, dtype: int64"
      ]
     },
     "execution_count": 4,
     "metadata": {},
     "output_type": "execute_result"
    }
   ],
   "source": [
    "df_all['장르명'].value_counts()"
   ]
  },
  {
   "cell_type": "code",
   "execution_count": 49,
   "metadata": {},
   "outputs": [],
   "source": [
    "df_all_mu = df_all[df_all['장르명']=='뮤지컬']\n",
    "df_all_yun = df_all[df_all['장르명']=='연극']\n",
    "df_all_cla = df_all[df_all['장르명']=='클래식']\n",
    "df_all_muyo = df_all[df_all['장르명']=='무용']\n",
    "df_all_guk = df_all[df_all['장르명']=='국악']\n",
    "df_all_ope = df_all[df_all['장르명']=='오페라']\n",
    "df_all_bok = df_all[df_all['장르명']=='복합']"
   ]
  },
  {
   "cell_type": "code",
   "execution_count": 50,
   "metadata": {},
   "outputs": [
    {
     "data": {
      "text/plain": [
       "기악      60211\n",
       "연희혼합    48611\n",
       "성악      42914\n",
       "Name: 세부장르명, dtype: int64"
      ]
     },
     "execution_count": 50,
     "metadata": {},
     "output_type": "execute_result"
    }
   ],
   "source": [
    "df_all_guk['세부장르명'].value_counts()"
   ]
  },
  {
   "cell_type": "markdown",
   "metadata": {},
   "source": [
    "### 성별, 연령, 오픈런 여부"
   ]
  },
  {
   "cell_type": "code",
   "execution_count": 1,
   "metadata": {},
   "outputs": [
    {
     "ename": "NameError",
     "evalue": "name 'df_all' is not defined",
     "output_type": "error",
     "traceback": [
      "\u001b[0;31m---------------------------------------------------------------------------\u001b[0m",
      "\u001b[0;31mNameError\u001b[0m                                 Traceback (most recent call last)",
      "\u001b[1;32m/Users/yangjeonghyeon/Desktop/2022_02/competiton/kopis/df_full.ipynb 셀 8\u001b[0m in \u001b[0;36m<cell line: 1>\u001b[0;34m()\u001b[0m\n\u001b[0;32m----> <a href='vscode-notebook-cell:/Users/yangjeonghyeon/Desktop/2022_02/competiton/kopis/df_full.ipynb#X32sZmlsZQ%3D%3D?line=0'>1</a>\u001b[0m df_all[\u001b[39m'\u001b[39m\u001b[39m공연지역명\u001b[39m\u001b[39m'\u001b[39m]\u001b[39m.\u001b[39mvalue_counts()\n",
      "\u001b[0;31mNameError\u001b[0m: name 'df_all' is not defined"
     ]
    }
   ],
   "source": [
    "df_all['공연지역명'].value_counts()"
   ]
  },
  {
   "cell_type": "code",
   "execution_count": 5,
   "metadata": {},
   "outputs": [
    {
     "data": {
      "text/plain": [
       "2    20007768\n",
       "1     4438964\n",
       "Name: 성별, dtype: int64"
      ]
     },
     "execution_count": 5,
     "metadata": {},
     "output_type": "execute_result"
    }
   ],
   "source": [
    "df_all['성별'].value_counts()"
   ]
  },
  {
   "cell_type": "code",
   "execution_count": 6,
   "metadata": {},
   "outputs": [
    {
     "data": {
      "text/plain": [
       "30대       9234495\n",
       "40대       6706816\n",
       "20대       5588369\n",
       "50대       2050731\n",
       "60대        516458\n",
       "14~19세     182176\n",
       "70세 이상     148080\n",
       "0~13세       19607\n",
       "Name: 연령대, dtype: int64"
      ]
     },
     "execution_count": 6,
     "metadata": {},
     "output_type": "execute_result"
    }
   ],
   "source": [
    "df_all['연령대'].value_counts()"
   ]
  },
  {
   "cell_type": "code",
   "execution_count": 7,
   "metadata": {},
   "outputs": [
    {
     "data": {
      "text/plain": [
       "N    22389951\n",
       "Y     2056781\n",
       "Name: 오픈런 여부, dtype: int64"
      ]
     },
     "execution_count": 7,
     "metadata": {},
     "output_type": "execute_result"
    }
   ],
   "source": [
    "df_all['오픈런 여부'].value_counts()"
   ]
  },
  {
   "cell_type": "markdown",
   "metadata": {},
   "source": [
    "# 성별"
   ]
  },
  {
   "cell_type": "code",
   "execution_count": 8,
   "metadata": {},
   "outputs": [],
   "source": [
    "df_sex_1 = df_all[df_all['성별']==1]\n",
    "df_sex_2 = df_all[df_all['성별']==2]"
   ]
  },
  {
   "cell_type": "code",
   "execution_count": 62,
   "metadata": {},
   "outputs": [
    {
     "data": {
      "text/plain": [
       "30대       1591658\n",
       "40대       1299667\n",
       "20대        752931\n",
       "50대        534442\n",
       "60대        171830\n",
       "70세 이상      57084\n",
       "14~19세      17332\n",
       "0~13세       14020\n",
       "Name: 연령대, dtype: int64"
      ]
     },
     "execution_count": 62,
     "metadata": {},
     "output_type": "execute_result"
    }
   ],
   "source": [
    "df_sex_1['연령대'].value_counts()"
   ]
  },
  {
   "cell_type": "code",
   "execution_count": 60,
   "metadata": {},
   "outputs": [
    {
     "data": {
      "text/plain": [
       "30대       7642837\n",
       "40대       5407149\n",
       "20대       4835438\n",
       "50대       1516289\n",
       "60대        344628\n",
       "14~19세     164844\n",
       "70세 이상      90996\n",
       "0~13세        5587\n",
       "Name: 연령대, dtype: int64"
      ]
     },
     "execution_count": 60,
     "metadata": {},
     "output_type": "execute_result"
    }
   ],
   "source": [
    "df_sex_2['연령대'].value_counts()"
   ]
  },
  {
   "cell_type": "code",
   "execution_count": 57,
   "metadata": {},
   "outputs": [
    {
     "data": {
      "text/plain": [
       "서울     3182197\n",
       "경상도     575731\n",
       "경기도     332637\n",
       "전라도     142025\n",
       "충청도     138848\n",
       "강원도      50767\n",
       "제주도      16759\n",
       "Name: 공연지역명, dtype: int64"
      ]
     },
     "execution_count": 57,
     "metadata": {},
     "output_type": "execute_result"
    }
   ],
   "source": [
    "df_sex_1['공연지역명'].value_counts()"
   ]
  },
  {
   "cell_type": "code",
   "execution_count": 58,
   "metadata": {},
   "outputs": [
    {
     "data": {
      "text/plain": [
       "서울     16005681\n",
       "경상도     1680664\n",
       "경기도     1276066\n",
       "충청도      425456\n",
       "전라도      407192\n",
       "강원도      160409\n",
       "제주도       52300\n",
       "Name: 공연지역명, dtype: int64"
      ]
     },
     "execution_count": 58,
     "metadata": {},
     "output_type": "execute_result"
    }
   ],
   "source": [
    "df_sex_2['공연지역명'].value_counts()"
   ]
  },
  {
   "cell_type": "markdown",
   "metadata": {},
   "source": [
    "# 연령대 별"
   ]
  },
  {
   "cell_type": "code",
   "execution_count": 8,
   "metadata": {},
   "outputs": [
    {
     "data": {
      "text/plain": [
       "30대       9234495\n",
       "40대       6706816\n",
       "20대       5588369\n",
       "50대       2050731\n",
       "60대        516458\n",
       "14~19세     182176\n",
       "70세 이상     148080\n",
       "0~13세       19607\n",
       "Name: 연령대, dtype: int64"
      ]
     },
     "execution_count": 8,
     "metadata": {},
     "output_type": "execute_result"
    }
   ],
   "source": [
    "df_all['연령대'].value_counts()"
   ]
  },
  {
   "cell_type": "code",
   "execution_count": 124,
   "metadata": {},
   "outputs": [],
   "source": [
    "df_0_13 = df_all[df_all['연령대']=='0~13세']\n",
    "df_14_19 = df_all[df_all['연령대']=='14~19세']\n",
    "df_20 = df_all[df_all['연령대']=='20대']\n",
    "df_30 = df_all[df_all['연령대']=='30대']\n",
    "df_40 = df_all[df_all['연령대']=='40대']\n",
    "df_50 = df_all[df_all['연령대']=='50대']\n",
    "df_60 = df_all[df_all['연령대']=='60대']\n",
    "df_70 = df_all[df_all['연령대']=='70세 이상']"
   ]
  },
  {
   "cell_type": "markdown",
   "metadata": {},
   "source": [
    "### 0~13세"
   ]
  },
  {
   "cell_type": "code",
   "execution_count": 14,
   "metadata": {},
   "outputs": [],
   "source": [
    "df_0_13_1 = df_0_13[df_0_13['성별']==1]\n",
    "df_0_13_2 = df_0_13[df_0_13['성별']==2]"
   ]
  },
  {
   "cell_type": "code",
   "execution_count": 10,
   "metadata": {},
   "outputs": [
    {
     "data": {
      "text/html": [
       "<div>\n",
       "<style scoped>\n",
       "    .dataframe tbody tr th:only-of-type {\n",
       "        vertical-align: middle;\n",
       "    }\n",
       "\n",
       "    .dataframe tbody tr th {\n",
       "        vertical-align: top;\n",
       "    }\n",
       "\n",
       "    .dataframe thead th {\n",
       "        text-align: right;\n",
       "    }\n",
       "</style>\n",
       "<table border=\"1\" class=\"dataframe\">\n",
       "  <thead>\n",
       "    <tr style=\"text-align: right;\">\n",
       "      <th></th>\n",
       "      <th>성별</th>\n",
       "      <th>장르명</th>\n",
       "      <th>세부장르명</th>\n",
       "      <th>공연지역명</th>\n",
       "      <th>출연진내용</th>\n",
       "      <th>제작진내용</th>\n",
       "      <th>오픈런 여부</th>\n",
       "      <th>연령대</th>\n",
       "    </tr>\n",
       "  </thead>\n",
       "  <tbody>\n",
       "    <tr>\n",
       "      <th>16101</th>\n",
       "      <td>1</td>\n",
       "      <td>클래식</td>\n",
       "      <td>기악</td>\n",
       "      <td>서울</td>\n",
       "      <td>최유진, 이은원, 장혜리, 오유선, 김활란, 변신영, 최원석</td>\n",
       "      <td>이삭, 이신규, 신현준</td>\n",
       "      <td>N</td>\n",
       "      <td>0~13세</td>\n",
       "    </tr>\n",
       "    <tr>\n",
       "      <th>16102</th>\n",
       "      <td>1</td>\n",
       "      <td>클래식</td>\n",
       "      <td>기악</td>\n",
       "      <td>서울</td>\n",
       "      <td>최유진, 이은원, 장혜리, 오유선, 김활란, 변신영, 최원석</td>\n",
       "      <td>이삭, 이신규, 신현준</td>\n",
       "      <td>N</td>\n",
       "      <td>0~13세</td>\n",
       "    </tr>\n",
       "    <tr>\n",
       "      <th>16103</th>\n",
       "      <td>1</td>\n",
       "      <td>클래식</td>\n",
       "      <td>기악</td>\n",
       "      <td>서울</td>\n",
       "      <td>최유진, 이은원, 장혜리, 오유선, 김활란, 변신영, 최원석</td>\n",
       "      <td>이삭, 이신규, 신현준</td>\n",
       "      <td>N</td>\n",
       "      <td>0~13세</td>\n",
       "    </tr>\n",
       "    <tr>\n",
       "      <th>16104</th>\n",
       "      <td>1</td>\n",
       "      <td>클래식</td>\n",
       "      <td>기악</td>\n",
       "      <td>서울</td>\n",
       "      <td>최유진, 이은원, 장혜리, 오유선, 김활란, 변신영, 최원석</td>\n",
       "      <td>이삭, 이신규, 신현준</td>\n",
       "      <td>N</td>\n",
       "      <td>0~13세</td>\n",
       "    </tr>\n",
       "    <tr>\n",
       "      <th>16105</th>\n",
       "      <td>1</td>\n",
       "      <td>클래식</td>\n",
       "      <td>기악</td>\n",
       "      <td>서울</td>\n",
       "      <td>최유진, 이은원, 장혜리, 오유선, 김활란, 변신영, 최원석</td>\n",
       "      <td>이삭, 이신규, 신현준</td>\n",
       "      <td>N</td>\n",
       "      <td>0~13세</td>\n",
       "    </tr>\n",
       "  </tbody>\n",
       "</table>\n",
       "</div>"
      ],
      "text/plain": [
       "       성별  장르명 세부장르명 공연지역명                              출연진내용         제작진내용  \\\n",
       "16101   1  클래식    기악    서울  최유진, 이은원, 장혜리, 오유선, 김활란, 변신영, 최원석  이삭, 이신규, 신현준   \n",
       "16102   1  클래식    기악    서울  최유진, 이은원, 장혜리, 오유선, 김활란, 변신영, 최원석  이삭, 이신규, 신현준   \n",
       "16103   1  클래식    기악    서울  최유진, 이은원, 장혜리, 오유선, 김활란, 변신영, 최원석  이삭, 이신규, 신현준   \n",
       "16104   1  클래식    기악    서울  최유진, 이은원, 장혜리, 오유선, 김활란, 변신영, 최원석  이삭, 이신규, 신현준   \n",
       "16105   1  클래식    기악    서울  최유진, 이은원, 장혜리, 오유선, 김활란, 변신영, 최원석  이삭, 이신규, 신현준   \n",
       "\n",
       "      오픈런 여부    연령대  \n",
       "16101      N  0~13세  \n",
       "16102      N  0~13세  \n",
       "16103      N  0~13세  \n",
       "16104      N  0~13세  \n",
       "16105      N  0~13세  "
      ]
     },
     "execution_count": 10,
     "metadata": {},
     "output_type": "execute_result"
    }
   ],
   "source": [
    "df_0_13.head()"
   ]
  },
  {
   "cell_type": "code",
   "execution_count": 11,
   "metadata": {},
   "outputs": [
    {
     "data": {
      "text/plain": [
       "1    14020\n",
       "2     5587\n",
       "Name: 성별, dtype: int64"
      ]
     },
     "execution_count": 11,
     "metadata": {},
     "output_type": "execute_result"
    }
   ],
   "source": [
    "df_0_13['성별'].value_counts()"
   ]
  },
  {
   "cell_type": "code",
   "execution_count": 12,
   "metadata": {},
   "outputs": [
    {
     "data": {
      "text/plain": [
       "뮤지컬    9449\n",
       "복합     4440\n",
       "클래식    4249\n",
       "연극      580\n",
       "무용      422\n",
       "오페라     242\n",
       "국악      225\n",
       "Name: 장르명, dtype: int64"
      ]
     },
     "execution_count": 12,
     "metadata": {},
     "output_type": "execute_result"
    }
   ],
   "source": [
    "df_0_13['장르명'].value_counts()"
   ]
  },
  {
   "cell_type": "markdown",
   "metadata": {},
   "source": [
    "### 14~19세"
   ]
  },
  {
   "cell_type": "code",
   "execution_count": 52,
   "metadata": {},
   "outputs": [],
   "source": [
    "df_14_19_1 = df_14_19[df_14_19['성별']==1]\n",
    "df_14_19_2 = df_14_19[df_14_19['성별']==2]"
   ]
  },
  {
   "cell_type": "code",
   "execution_count": 53,
   "metadata": {},
   "outputs": [
    {
     "data": {
      "text/html": [
       "<div>\n",
       "<style scoped>\n",
       "    .dataframe tbody tr th:only-of-type {\n",
       "        vertical-align: middle;\n",
       "    }\n",
       "\n",
       "    .dataframe tbody tr th {\n",
       "        vertical-align: top;\n",
       "    }\n",
       "\n",
       "    .dataframe thead th {\n",
       "        text-align: right;\n",
       "    }\n",
       "</style>\n",
       "<table border=\"1\" class=\"dataframe\">\n",
       "  <thead>\n",
       "    <tr style=\"text-align: right;\">\n",
       "      <th></th>\n",
       "      <th>성별</th>\n",
       "      <th>장르명</th>\n",
       "      <th>세부장르명</th>\n",
       "      <th>공연지역명</th>\n",
       "      <th>출연진내용</th>\n",
       "      <th>제작진내용</th>\n",
       "      <th>오픈런 여부</th>\n",
       "      <th>연령대</th>\n",
       "    </tr>\n",
       "  </thead>\n",
       "  <tbody>\n",
       "    <tr>\n",
       "      <th>6917</th>\n",
       "      <td>1</td>\n",
       "      <td>뮤지컬</td>\n",
       "      <td>뮤지컬</td>\n",
       "      <td>서울</td>\n",
       "      <td>NaN</td>\n",
       "      <td>NaN</td>\n",
       "      <td>N</td>\n",
       "      <td>14~19세</td>\n",
       "    </tr>\n",
       "    <tr>\n",
       "      <th>6918</th>\n",
       "      <td>1</td>\n",
       "      <td>뮤지컬</td>\n",
       "      <td>뮤지컬</td>\n",
       "      <td>서울</td>\n",
       "      <td>NaN</td>\n",
       "      <td>NaN</td>\n",
       "      <td>N</td>\n",
       "      <td>14~19세</td>\n",
       "    </tr>\n",
       "    <tr>\n",
       "      <th>98084</th>\n",
       "      <td>1</td>\n",
       "      <td>클래식</td>\n",
       "      <td>기악</td>\n",
       "      <td>경기도</td>\n",
       "      <td>최수열, 김성현, 김홍박 등</td>\n",
       "      <td>NaN</td>\n",
       "      <td>N</td>\n",
       "      <td>14~19세</td>\n",
       "    </tr>\n",
       "    <tr>\n",
       "      <th>98085</th>\n",
       "      <td>1</td>\n",
       "      <td>클래식</td>\n",
       "      <td>기악</td>\n",
       "      <td>경기도</td>\n",
       "      <td>최수열, 김성현, 김홍박 등</td>\n",
       "      <td>NaN</td>\n",
       "      <td>N</td>\n",
       "      <td>14~19세</td>\n",
       "    </tr>\n",
       "    <tr>\n",
       "      <th>98716</th>\n",
       "      <td>1</td>\n",
       "      <td>클래식</td>\n",
       "      <td>기악</td>\n",
       "      <td>서울</td>\n",
       "      <td>서수민, 문정재, 임경욱, 홍성은, 김소연, 나채원, 이상호 등</td>\n",
       "      <td>NaN</td>\n",
       "      <td>N</td>\n",
       "      <td>14~19세</td>\n",
       "    </tr>\n",
       "    <tr>\n",
       "      <th>...</th>\n",
       "      <td>...</td>\n",
       "      <td>...</td>\n",
       "      <td>...</td>\n",
       "      <td>...</td>\n",
       "      <td>...</td>\n",
       "      <td>...</td>\n",
       "      <td>...</td>\n",
       "      <td>...</td>\n",
       "    </tr>\n",
       "    <tr>\n",
       "      <th>2316877</th>\n",
       "      <td>1</td>\n",
       "      <td>뮤지컬</td>\n",
       "      <td>뮤지컬</td>\n",
       "      <td>서울</td>\n",
       "      <td>박칼린, 최정원, 남경주, 이건명, 양희준, 이석준, 이서영 등</td>\n",
       "      <td>박준영, 이나영, 박은영 등</td>\n",
       "      <td>N</td>\n",
       "      <td>14~19세</td>\n",
       "    </tr>\n",
       "    <tr>\n",
       "      <th>2316878</th>\n",
       "      <td>1</td>\n",
       "      <td>뮤지컬</td>\n",
       "      <td>뮤지컬</td>\n",
       "      <td>서울</td>\n",
       "      <td>박칼린, 최정원, 남경주, 이건명, 양희준, 이석준, 이서영 등</td>\n",
       "      <td>박준영, 이나영, 박은영 등</td>\n",
       "      <td>N</td>\n",
       "      <td>14~19세</td>\n",
       "    </tr>\n",
       "    <tr>\n",
       "      <th>2318756</th>\n",
       "      <td>1</td>\n",
       "      <td>뮤지컬</td>\n",
       "      <td>뮤지컬</td>\n",
       "      <td>서울</td>\n",
       "      <td>박칼린, 최정원, 남경주, 이건명, 양희준, 이석준, 이서영 등</td>\n",
       "      <td>박준영, 이나영, 박은영 등</td>\n",
       "      <td>N</td>\n",
       "      <td>14~19세</td>\n",
       "    </tr>\n",
       "    <tr>\n",
       "      <th>2318961</th>\n",
       "      <td>1</td>\n",
       "      <td>뮤지컬</td>\n",
       "      <td>뮤지컬</td>\n",
       "      <td>서울</td>\n",
       "      <td>박칼린, 최정원, 남경주, 이건명, 양희준, 이석준, 이서영 등</td>\n",
       "      <td>박준영, 이나영, 박은영 등</td>\n",
       "      <td>N</td>\n",
       "      <td>14~19세</td>\n",
       "    </tr>\n",
       "    <tr>\n",
       "      <th>2321371</th>\n",
       "      <td>1</td>\n",
       "      <td>연극</td>\n",
       "      <td>연극</td>\n",
       "      <td>서울</td>\n",
       "      <td>박인혁, 신진영, 양혜원, 김상아, 김효선, 이호철, 박승훈</td>\n",
       "      <td>이해찬, 이상희,박은혜 등</td>\n",
       "      <td>N</td>\n",
       "      <td>14~19세</td>\n",
       "    </tr>\n",
       "  </tbody>\n",
       "</table>\n",
       "<p>17332 rows × 8 columns</p>\n",
       "</div>"
      ],
      "text/plain": [
       "         성별  장르명 세부장르명 공연지역명                                출연진내용  \\\n",
       "6917      1  뮤지컬   뮤지컬    서울                                  NaN   \n",
       "6918      1  뮤지컬   뮤지컬    서울                                  NaN   \n",
       "98084     1  클래식    기악   경기도                      최수열, 김성현, 김홍박 등   \n",
       "98085     1  클래식    기악   경기도                      최수열, 김성현, 김홍박 등   \n",
       "98716     1  클래식    기악    서울  서수민, 문정재, 임경욱, 홍성은, 김소연, 나채원, 이상호 등   \n",
       "...      ..  ...   ...   ...                                  ...   \n",
       "2316877   1  뮤지컬   뮤지컬    서울  박칼린, 최정원, 남경주, 이건명, 양희준, 이석준, 이서영 등   \n",
       "2316878   1  뮤지컬   뮤지컬    서울  박칼린, 최정원, 남경주, 이건명, 양희준, 이석준, 이서영 등   \n",
       "2318756   1  뮤지컬   뮤지컬    서울  박칼린, 최정원, 남경주, 이건명, 양희준, 이석준, 이서영 등   \n",
       "2318961   1  뮤지컬   뮤지컬    서울  박칼린, 최정원, 남경주, 이건명, 양희준, 이석준, 이서영 등   \n",
       "2321371   1   연극    연극    서울    박인혁, 신진영, 양혜원, 김상아, 김효선, 이호철, 박승훈   \n",
       "\n",
       "                   제작진내용 오픈런 여부     연령대  \n",
       "6917                 NaN      N  14~19세  \n",
       "6918                 NaN      N  14~19세  \n",
       "98084                NaN      N  14~19세  \n",
       "98085                NaN      N  14~19세  \n",
       "98716                NaN      N  14~19세  \n",
       "...                  ...    ...     ...  \n",
       "2316877  박준영, 이나영, 박은영 등      N  14~19세  \n",
       "2316878  박준영, 이나영, 박은영 등      N  14~19세  \n",
       "2318756  박준영, 이나영, 박은영 등      N  14~19세  \n",
       "2318961  박준영, 이나영, 박은영 등      N  14~19세  \n",
       "2321371   이해찬, 이상희,박은혜 등      N  14~19세  \n",
       "\n",
       "[17332 rows x 8 columns]"
      ]
     },
     "execution_count": 53,
     "metadata": {},
     "output_type": "execute_result"
    }
   ],
   "source": [
    "df_14_19_1"
   ]
  },
  {
   "cell_type": "code",
   "execution_count": 19,
   "metadata": {},
   "outputs": [
    {
     "data": {
      "text/plain": [
       "홍광호, 고은성, 김준수, 김성철, 김선영, 장은아, 강홍석 등    573\n",
       "류정한, 홍광호, 신성록, 윤공주, 선민, 조정은, 최수진 등     435\n",
       "차지연, 김세정, 송원근, 서경수, 홍우진, 정상윤, 조풍래 등    410\n",
       "차수영, 황지현, 고연경, 윤주희, 최상배, 한훈, 임현준 등     346\n",
       "옥주현, 손승연, 정선아, 나하나, 서경수, 진태화, 남경주 등    346\n",
       "                                      ... \n",
       "그웬돌린 크리스티, 올리버 크리스                       1\n",
       "우나이 우레초 주비야가, 문성우 등                      1\n",
       "이순재, 신구, 박소담, 채수빈, 김대령, 조달환, 김은희         1\n",
       "윤병화                                      1\n",
       "권주용, 김경아, 강초롱 등                          1\n",
       "Name: 출연진내용, Length: 1348, dtype: int64"
      ]
     },
     "execution_count": 19,
     "metadata": {},
     "output_type": "execute_result"
    }
   ],
   "source": [
    "df_14_19_1['출연진내용'].value_counts()"
   ]
  },
  {
   "cell_type": "code",
   "execution_count": 20,
   "metadata": {},
   "outputs": [
    {
     "data": {
      "text/plain": [
       "홍광호, 고은성, 김준수, 김성철, 김선영, 장은아, 강홍석 등      4290\n",
       "차지연, 김세정, 송원근, 서경수, 홍우진, 정상윤, 조풍래 등      4003\n",
       "김준수, 서은광, 이지훈, 강태을, 신영숙, 장은아, 민경기 등      3678\n",
       "엄기준, 카이, 유연석, 규현, 나현우, 김예원, 이지혜 등        3298\n",
       "최정원, 윤공주, 티파니 영, 아이비, 민경아, 최재림, 박건형 등    2876\n",
       "                                         ... \n",
       "김지영, 김리회, 이은원, 박예은, 김기완, 윤전일, 변성완 등         1\n",
       "전시후, 노진욱, 이재원, 반은세, 김가현, 박민서                1\n",
       "김보람, 신희진, 신서진, 김범수, 잉시윤, 주현우, 백지연 등         1\n",
       "금난새, 유재아, 한단아 등                             1\n",
       "한경진, 문명환                                    1\n",
       "Name: 출연진내용, Length: 2586, dtype: int64"
      ]
     },
     "execution_count": 20,
     "metadata": {},
     "output_type": "execute_result"
    }
   ],
   "source": [
    "df_14_19_2['출연진내용'].value_counts()"
   ]
  },
  {
   "cell_type": "markdown",
   "metadata": {},
   "source": [
    "### 20대"
   ]
  },
  {
   "cell_type": "code",
   "execution_count": 23,
   "metadata": {},
   "outputs": [],
   "source": [
    "df_20_1 = df_20[df_20['성별']==1]\n",
    "df_20_2 = df_20[df_20['성별']==2]"
   ]
  },
  {
   "cell_type": "code",
   "execution_count": 25,
   "metadata": {},
   "outputs": [
    {
     "data": {
      "text/plain": [
       "연극     362394\n",
       "뮤지컬    309322\n",
       "클래식     62379\n",
       "무용       9344\n",
       "국악       4135\n",
       "오페라      3725\n",
       "복합       1632\n",
       "Name: 장르명, dtype: int64"
      ]
     },
     "execution_count": 25,
     "metadata": {},
     "output_type": "execute_result"
    }
   ],
   "source": [
    "df_20_1['장르명'].value_counts()"
   ]
  },
  {
   "cell_type": "code",
   "execution_count": 33,
   "metadata": {},
   "outputs": [
    {
     "data": {
      "text/plain": [
       "연극          361086\n",
       "뮤지컬         306270\n",
       "기악           52402\n",
       "성악           12487\n",
       "발레            4549\n",
       "현대무용          4105\n",
       "오페라           3725\n",
       "넌버벌 퍼포먼스      2265\n",
       "복합            1632\n",
       "연희혼합          1625\n",
       "창극            1040\n",
       "악극             787\n",
       "한국무용           690\n",
       "마당극            156\n",
       "인형극             66\n",
       "마임              46\n",
       "Name: 세부장르명, dtype: int64"
      ]
     },
     "execution_count": 33,
     "metadata": {},
     "output_type": "execute_result"
    }
   ],
   "source": [
    "df_20_1['세부장르명'].value_counts()"
   ]
  },
  {
   "cell_type": "code",
   "execution_count": 35,
   "metadata": {},
   "outputs": [
    {
     "data": {
      "text/plain": [
       "서울     625675\n",
       "경상도     73853\n",
       "경기도     18390\n",
       "전라도     16350\n",
       "충청도     14441\n",
       "강원도      3150\n",
       "제주도      1072\n",
       "Name: 공연지역명, dtype: int64"
      ]
     },
     "execution_count": 35,
     "metadata": {},
     "output_type": "execute_result"
    }
   ],
   "source": [
    "df_20_1['공연지역명'].value_counts()"
   ]
  },
  {
   "cell_type": "code",
   "execution_count": 83,
   "metadata": {},
   "outputs": [],
   "source": [
    "# 옥탑방 고양이\n",
    "# 한뼘사이\n",
    "# 작업의 정석"
   ]
  },
  {
   "cell_type": "code",
   "execution_count": 44,
   "metadata": {},
   "outputs": [
    {
     "data": {
      "text/plain": [
       "김혜라, 김정문, 한채빈, 이진실, 김수현, 김태인, 김채율 등    34735\n",
       "차수영, 황지현, 고연경, 윤주희, 최상배, 한훈, 임현준 등     18475\n",
       "김동원, 김도현, 김종민, 손윤필, 권찬미, 성지호, 박소민 등    13446\n",
       "옥주현, 손승연, 정선아, 나하나, 서경수, 진태화, 남경주 등    12651\n",
       "차수영, 황지현, 김주하, 이연우, 최상배, 임창섭, 한훈 등     10484\n",
       "                                       ...  \n",
       "전슬기, 김유진, 김준영, 고동균, 추석영, 신지연               1\n",
       "양경원, 서예화, 차용학, 민준호                         1\n",
       "조은아, 주연경, 문주영, 주연주, 김지원, 신애경, 한상일 등        1\n",
       "빈프리트 톨, 석현수, 정민호, 허남원, 정록기 등               1\n",
       "문종영, 김국기, 홍유리, 문소연, 주우진, 성윤기               1\n",
       "Name: 출연진내용, Length: 8407, dtype: int64"
      ]
     },
     "execution_count": 44,
     "metadata": {},
     "output_type": "execute_result"
    }
   ],
   "source": [
    "df_20_1['출연진내용'].value_counts()"
   ]
  },
  {
   "cell_type": "code",
   "execution_count": 26,
   "metadata": {},
   "outputs": [
    {
     "data": {
      "text/plain": [
       "뮤지컬    3367658\n",
       "연극     1176298\n",
       "클래식     198451\n",
       "무용       59577\n",
       "국악       15359\n",
       "오페라      11730\n",
       "복합        6365\n",
       "Name: 장르명, dtype: int64"
      ]
     },
     "execution_count": 26,
     "metadata": {},
     "output_type": "execute_result"
    }
   ],
   "source": [
    "df_20_2['장르명'].value_counts()"
   ]
  },
  {
   "cell_type": "code",
   "execution_count": 34,
   "metadata": {},
   "outputs": [
    {
     "data": {
      "text/plain": [
       "서울     4329924\n",
       "경상도     269582\n",
       "경기도     112535\n",
       "전라도      57221\n",
       "충청도      51173\n",
       "강원도      11823\n",
       "제주도       3180\n",
       "Name: 공연지역명, dtype: int64"
      ]
     },
     "execution_count": 34,
     "metadata": {},
     "output_type": "execute_result"
    }
   ],
   "source": [
    "df_20_2['공연지역명'].value_counts()"
   ]
  },
  {
   "cell_type": "markdown",
   "metadata": {},
   "source": [
    "### 30대"
   ]
  },
  {
   "cell_type": "code",
   "execution_count": 36,
   "metadata": {},
   "outputs": [],
   "source": [
    "df_30_1 = df_30[df_30['성별']==1]\n",
    "df_30_2 = df_30[df_30['성별']==2]"
   ]
  },
  {
   "cell_type": "code",
   "execution_count": 38,
   "metadata": {},
   "outputs": [
    {
     "data": {
      "text/plain": [
       "뮤지컬    969905\n",
       "연극     457091\n",
       "클래식    114526\n",
       "무용      26978\n",
       "국악       8903\n",
       "오페라      7424\n",
       "복합       6831\n",
       "Name: 장르명, dtype: int64"
      ]
     },
     "execution_count": 38,
     "metadata": {},
     "output_type": "execute_result"
    }
   ],
   "source": [
    "df_30_1['장르명'].value_counts()"
   ]
  },
  {
   "cell_type": "code",
   "execution_count": 39,
   "metadata": {},
   "outputs": [
    {
     "data": {
      "text/plain": [
       "뮤지컬    5756559\n",
       "연극     1307998\n",
       "클래식     371048\n",
       "무용      131267\n",
       "복합       28093\n",
       "국악       25857\n",
       "오페라      22015\n",
       "Name: 장르명, dtype: int64"
      ]
     },
     "execution_count": 39,
     "metadata": {},
     "output_type": "execute_result"
    }
   ],
   "source": [
    "df_30_2['장르명'].value_counts()"
   ]
  },
  {
   "cell_type": "code",
   "execution_count": 40,
   "metadata": {},
   "outputs": [
    {
     "data": {
      "text/plain": [
       "조나단 록스머스, 클레어 라이언, 케이틀린 피니, 맷레이시, 베벌리 차이앗, 제임스 보스윅, 커트 올즈 등    35904\n",
       "김혜라, 김정문, 한채빈, 이진실, 김수현, 김태인, 김채율 등                            29420\n",
       "옥주현, 손승연, 정선아, 나하나, 서경수, 진태화, 남경주 등                            29264\n",
       "조승우, 홍광호, 박은태, 김지현, 린아, 김도형, 서영주 등                             23612\n",
       "류정한, 엄기준, 카이, 신성록, 신영숙, 옥주현, 장은아 등                             21796\n",
       "                                                               ...  \n",
       "도유재, 양영조, 홍사빈                                                      1\n",
       "김현보, 박진우, 이영훈, 최진경, 조윤정, 박종선, 오단해                                  1\n",
       "고진아, 구영우, 박미란, 양경일, 이은혜, 이정은, 임찬양 등                                1\n",
       "강성욱, 이소정, 김희진, 윤지혜, 박강훈, 정희윤, 신동준 등                                1\n",
       "박민정, 서동현, 이원우                                                      1\n",
       "Name: 출연진내용, Length: 9993, dtype: int64"
      ]
     },
     "execution_count": 40,
     "metadata": {},
     "output_type": "execute_result"
    }
   ],
   "source": [
    "df_30_1['출연진내용'].value_counts()"
   ]
  },
  {
   "cell_type": "code",
   "execution_count": 41,
   "metadata": {},
   "outputs": [
    {
     "data": {
      "text/plain": [
       "김준수, 전동석, 조정은, 임혜영, 린지, 강태을, 손준호 등                             85229\n",
       "조승우, 홍광호, 박은태, 김지현, 린아, 김도형, 서영주 등                             81288\n",
       "조나단 록스머스, 클레어 라이언, 케이틀린 피니, 맷레이시, 베벌리 차이앗, 제임스 보스윅, 커트 올즈 등    79410\n",
       "옥주현, 손승연, 정선아, 나하나, 서경수, 진태화, 남경주 등                            77672\n",
       "김준수, 전동석, 신성록, 조정은, 임혜영, 박지연, 강태을 등                            72171\n",
       "                                                               ...  \n",
       "윤현서, 이혜진                                                           1\n",
       "장유진, 김준희                                                           1\n",
       "송남현, 임애진, 임가희, 연하늘                                                 1\n",
       "황인영, 김고운                                                           1\n",
       "정하림, 이정아                                                           1\n",
       "Name: 출연진내용, Length: 11601, dtype: int64"
      ]
     },
     "execution_count": 41,
     "metadata": {},
     "output_type": "execute_result"
    }
   ],
   "source": [
    "df_30_2['출연진내용'].value_counts()"
   ]
  },
  {
   "cell_type": "code",
   "execution_count": 42,
   "metadata": {},
   "outputs": [
    {
     "data": {
      "text/plain": [
       "서울     1179537\n",
       "경상도     196814\n",
       "경기도      99703\n",
       "충청도      50346\n",
       "전라도      48149\n",
       "강원도      12194\n",
       "제주도       4915\n",
       "Name: 공연지역명, dtype: int64"
      ]
     },
     "execution_count": 42,
     "metadata": {},
     "output_type": "execute_result"
    }
   ],
   "source": [
    "df_30_1['공연지역명'].value_counts()"
   ]
  },
  {
   "cell_type": "code",
   "execution_count": 43,
   "metadata": {},
   "outputs": [
    {
     "data": {
      "text/plain": [
       "서울     6105356\n",
       "경상도     616189\n",
       "경기도     506349\n",
       "충청도     177143\n",
       "전라도     165644\n",
       "강원도      51335\n",
       "제주도      20821\n",
       "Name: 공연지역명, dtype: int64"
      ]
     },
     "execution_count": 43,
     "metadata": {},
     "output_type": "execute_result"
    }
   ],
   "source": [
    "df_30_2['공연지역명'].value_counts()"
   ]
  },
  {
   "cell_type": "markdown",
   "metadata": {},
   "source": [
    "### 40대"
   ]
  },
  {
   "cell_type": "code",
   "execution_count": 54,
   "metadata": {},
   "outputs": [],
   "source": [
    "df_40_1 = df_40[df_40['성별']==1]\n",
    "df_40_2 = df_40[df_40['성별']==2]"
   ]
  },
  {
   "cell_type": "code",
   "execution_count": 58,
   "metadata": {},
   "outputs": [
    {
     "data": {
      "text/plain": [
       "서울     821398\n",
       "경상도    190882\n",
       "경기도    155723\n",
       "충청도     53419\n",
       "전라도     52939\n",
       "강원도     17544\n",
       "제주도      7762\n",
       "Name: 공연지역명, dtype: int64"
      ]
     },
     "execution_count": 58,
     "metadata": {},
     "output_type": "execute_result"
    }
   ],
   "source": [
    "df_40_1['공연지역명'].value_counts()"
   ]
  },
  {
   "cell_type": "code",
   "execution_count": 59,
   "metadata": {},
   "outputs": [
    {
     "data": {
      "text/plain": [
       "서울     3922665\n",
       "경상도     581136\n",
       "경기도     519232\n",
       "충청도     156959\n",
       "전라도     141546\n",
       "강원도      60934\n",
       "제주도      24677\n",
       "Name: 공연지역명, dtype: int64"
      ]
     },
     "execution_count": 59,
     "metadata": {},
     "output_type": "execute_result"
    }
   ],
   "source": [
    "df_40_2['공연지역명'].value_counts()"
   ]
  },
  {
   "cell_type": "code",
   "execution_count": 60,
   "metadata": {},
   "outputs": [
    {
     "data": {
      "text/plain": [
       "뮤지컬    888903\n",
       "연극     210752\n",
       "클래식    120876\n",
       "무용      42574\n",
       "복합      13051\n",
       "오페라     12412\n",
       "국악      11099\n",
       "Name: 장르명, dtype: int64"
      ]
     },
     "execution_count": 60,
     "metadata": {},
     "output_type": "execute_result"
    }
   ],
   "source": [
    "df_40_1['장르명'].value_counts()"
   ]
  },
  {
   "cell_type": "code",
   "execution_count": 61,
   "metadata": {},
   "outputs": [
    {
     "data": {
      "text/plain": [
       "뮤지컬    3863639\n",
       "연극      732729\n",
       "클래식     491360\n",
       "무용      190386\n",
       "복합       48166\n",
       "오페라      43400\n",
       "국악       37469\n",
       "Name: 장르명, dtype: int64"
      ]
     },
     "execution_count": 61,
     "metadata": {},
     "output_type": "execute_result"
    }
   ],
   "source": [
    "df_40_2['장르명'].value_counts()"
   ]
  },
  {
   "cell_type": "code",
   "execution_count": 62,
   "metadata": {},
   "outputs": [
    {
     "data": {
      "text/plain": [
       "조나단 록스머스, 클레어 라이언, 케이틀린 피니, 맷레이시, 베벌리 차이앗, 제임스 보스윅, 커트 올즈 등    22769\n",
       "윤공주, 전나영, 김우형, 최재림, 정선아, 아이비, 박송권 등                            14070\n",
       "옥주현, 손승연, 정선아, 나하나, 서경수, 진태화, 남경주 등                            12090\n",
       "안젤로 델 베키오, 히바 타와지, 리샤르 샤레스트, 플로 칼리 등                           11904\n",
       "류정한, 엄기준, 카이, 신성록, 신영숙, 옥주현, 장은아 등                             10883\n",
       "                                                               ...  \n",
       "이극찬, wnwldnjs                                                      1\n",
       "이고은, 한지혜                                                           1\n",
       "최승호, 이찬양, 이성민, 김범준, 심형우, 이선규, 김라영 등                                1\n",
       "염경애, 김경호, 채수정, 남해웅, 김미숙                                            1\n",
       "윤현임, 김소연, 히로타 슌지 등                                                 1\n",
       "Name: 출연진내용, Length: 9952, dtype: int64"
      ]
     },
     "execution_count": 62,
     "metadata": {},
     "output_type": "execute_result"
    }
   ],
   "source": [
    "df_40_1['출연진내용'].value_counts()"
   ]
  },
  {
   "cell_type": "code",
   "execution_count": 64,
   "metadata": {},
   "outputs": [
    {
     "data": {
      "text/plain": [
       "조나단 록스머스, 클레어 라이언, 케이틀린 피니, 맷레이시, 베벌리 차이앗, 제임스 보스윅, 커트 올즈 등    49046\n",
       "조승우, 홍광호, 박은태, 김지현, 린아, 김도형, 서영주 등                             48643\n",
       "김준수, 전동석, 조정은, 임혜영, 린지, 강태을, 손준호 등                             39031\n",
       "엄기준, 카이, 유연석, 규현, 나현우, 김예원, 이지혜 등                              35774\n",
       "윤공주, 전나영, 김우형, 최재림, 정선아, 아이비, 박송권 등                            34291\n",
       "                                                               ...  \n",
       "박기호, 김도하, 박정후, 최예승, 권기은, 김리현, 한채율 등                                1\n",
       "윤동환                                                                1\n",
       "김광일, 장문수, 문수아, 신은아                                                 1\n",
       "보리스 아발랸, 미하일 베네딕토브, 칭기스 오스마노프, 리앙 왕 등                              1\n",
       "김경헌, 김나윤, 전혜인                                                      1\n",
       "Name: 출연진내용, Length: 11771, dtype: int64"
      ]
     },
     "execution_count": 64,
     "metadata": {},
     "output_type": "execute_result"
    }
   ],
   "source": [
    "df_40_2['출연진내용'].value_counts()"
   ]
  },
  {
   "cell_type": "markdown",
   "metadata": {},
   "source": [
    "### 50대"
   ]
  },
  {
   "cell_type": "code",
   "execution_count": 89,
   "metadata": {},
   "outputs": [],
   "source": [
    "df_50_1 = df_50[df_50['성별']==1]\n",
    "df_50_2 = df_50[df_50['성별']==2]"
   ]
  },
  {
   "cell_type": "code",
   "execution_count": 90,
   "metadata": {},
   "outputs": [
    {
     "data": {
      "text/plain": [
       "뮤지컬    294537\n",
       "연극     103137\n",
       "클래식     87388\n",
       "무용      23487\n",
       "오페라     10713\n",
       "국악       9254\n",
       "복합       5926\n",
       "Name: 장르명, dtype: int64"
      ]
     },
     "execution_count": 90,
     "metadata": {},
     "output_type": "execute_result"
    }
   ],
   "source": [
    "df_50_1['장르명'].value_counts()"
   ]
  },
  {
   "cell_type": "code",
   "execution_count": 91,
   "metadata": {},
   "outputs": [
    {
     "data": {
      "text/plain": [
       "뮤지컬    900603\n",
       "클래식    260288\n",
       "연극     246598\n",
       "무용      52772\n",
       "오페라     22068\n",
       "국악      19965\n",
       "복합      13995\n",
       "Name: 장르명, dtype: int64"
      ]
     },
     "execution_count": 91,
     "metadata": {},
     "output_type": "execute_result"
    }
   ],
   "source": [
    "df_50_2['장르명'].value_counts()"
   ]
  },
  {
   "cell_type": "code",
   "execution_count": 92,
   "metadata": {},
   "outputs": [
    {
     "data": {
      "text/plain": [
       "서울     374103\n",
       "경상도     77853\n",
       "경기도     38911\n",
       "전라도     17353\n",
       "충청도     14149\n",
       "강원도      9650\n",
       "제주도      2423\n",
       "Name: 공연지역명, dtype: int64"
      ]
     },
     "execution_count": 92,
     "metadata": {},
     "output_type": "execute_result"
    }
   ],
   "source": [
    "df_50_1['공연지역명'].value_counts()"
   ]
  },
  {
   "cell_type": "code",
   "execution_count": 93,
   "metadata": {},
   "outputs": [
    {
     "data": {
      "text/plain": [
       "서울     1172363\n",
       "경상도     158216\n",
       "경기도      99220\n",
       "전라도      30937\n",
       "충청도      28827\n",
       "강원도      23694\n",
       "제주도       3032\n",
       "Name: 공연지역명, dtype: int64"
      ]
     },
     "execution_count": 93,
     "metadata": {},
     "output_type": "execute_result"
    }
   ],
   "source": [
    "df_50_2['공연지역명'].value_counts()"
   ]
  },
  {
   "cell_type": "code",
   "execution_count": 94,
   "metadata": {},
   "outputs": [
    {
     "data": {
      "text/plain": [
       "조나단 록스머스, 클레어 라이언, 케이틀린 피니, 맷레이시, 베벌리 차이앗, 제임스 보스윅, 커트 올즈 등    17201\n",
       "윤공주, 전나영, 김우형, 최재림, 정선아, 아이비, 박송권 등                             9124\n",
       "안젤로 델 베키오, 히바 타와지, 리샤르 샤레스트, 플로 칼리 등                            8516\n",
       "조나단 록스머스, 클레어 라이언, 클라라 버디에, 맷레이시, 베벌리 차이앗, 제임스 보스윅, 커트 올즈 등     7790\n",
       "류정한, 엄기준, 카이, 신성록, 신영숙, 옥주현, 장은아 등                              6129\n",
       "                                                               ...  \n",
       "우현수                                                                1\n",
       "유병혜, 김예라                                                           1\n",
       "백경희, 김정하, 신동혁, 김현철, 박세민, 이혜정, 박형석 등                                1\n",
       "송영훈 등                                                              1\n",
       "서현진, 정민호, 전현호, 최윤정, 강지연, 임샛별, 정건 등                                 1\n",
       "Name: 출연진내용, Length: 9163, dtype: int64"
      ]
     },
     "execution_count": 94,
     "metadata": {},
     "output_type": "execute_result"
    }
   ],
   "source": [
    "df_50_1['출연진내용'].value_counts()"
   ]
  },
  {
   "cell_type": "code",
   "execution_count": 95,
   "metadata": {},
   "outputs": [
    {
     "data": {
      "text/plain": [
       "조나단 록스머스, 클레어 라이언, 케이틀린 피니, 맷레이시, 베벌리 차이앗, 제임스 보스윅, 커트 올즈 등    30405\n",
       "조승우, 홍광호, 박은태, 김지현, 린아, 김도형, 서영주 등                             20704\n",
       "윤공주, 전나영, 김우형, 최재림, 정선아, 아이비, 박송권 등                            19584\n",
       "류정한, 엄기준, 카이, 신성록, 신영숙, 옥주현, 장은아 등                             18404\n",
       "안젤로 델 베키오, 히바 타와지, 리샤르 샤레스트, 플로 칼리 등                           16221\n",
       "                                                               ...  \n",
       "장윤성, 김이곤, 정다슬 등                                                    1\n",
       "김태형, 오충선, 유진섭, 최지웅, 박승원, 김혜령, 라세원 등                                1\n",
       "최유진, 김선민, 윤보연                                                      1\n",
       "한예린                                                                1\n",
       "윤성규, 임승구 등                                                         1\n",
       "Name: 출연진내용, Length: 10005, dtype: int64"
      ]
     },
     "execution_count": 95,
     "metadata": {},
     "output_type": "execute_result"
    }
   ],
   "source": [
    "df_50_2['출연진내용'].value_counts()"
   ]
  },
  {
   "cell_type": "markdown",
   "metadata": {},
   "source": [
    "### 60대"
   ]
  },
  {
   "cell_type": "code",
   "execution_count": 96,
   "metadata": {},
   "outputs": [],
   "source": [
    "df_60_1 = df_60[df_60['성별']==1]\n",
    "df_60_2 = df_60[df_60['성별']==2]"
   ]
  },
  {
   "cell_type": "code",
   "execution_count": 97,
   "metadata": {},
   "outputs": [
    {
     "data": {
      "text/plain": [
       "뮤지컬    72765\n",
       "클래식    44065\n",
       "연극     34262\n",
       "무용      7018\n",
       "국악      6012\n",
       "오페라     4939\n",
       "복합      2769\n",
       "Name: 장르명, dtype: int64"
      ]
     },
     "execution_count": 97,
     "metadata": {},
     "output_type": "execute_result"
    }
   ],
   "source": [
    "df_60_1['장르명'].value_counts()"
   ]
  },
  {
   "cell_type": "code",
   "execution_count": 98,
   "metadata": {},
   "outputs": [
    {
     "data": {
      "text/plain": [
       "뮤지컬    171504\n",
       "클래식     80784\n",
       "연극      62662\n",
       "무용      12323\n",
       "국악       6988\n",
       "오페라      6102\n",
       "복합       4265\n",
       "Name: 장르명, dtype: int64"
      ]
     },
     "execution_count": 98,
     "metadata": {},
     "output_type": "execute_result"
    }
   ],
   "source": [
    "df_60_2['장르명'].value_counts()"
   ]
  },
  {
   "cell_type": "code",
   "execution_count": 99,
   "metadata": {},
   "outputs": [
    {
     "data": {
      "text/plain": [
       "조나단 록스머스, 클레어 라이언, 케이틀린 피니, 맷레이시, 베벌리 차이앗, 제임스 보스윅, 커트 올즈 등    3470\n",
       "김준수, 유태평양, 서정금, 민은경, 김미진, 홍승희, 정준태                             3070\n",
       "김혜라, 김정문, 한채빈, 이진실, 김수현, 김태인, 김채율 등                            2352\n",
       "윤공주, 전나영, 김우형, 최재림, 정선아, 아이비, 박송권 등                            2352\n",
       "안젤로 델 베키오, 히바 타와지, 리샤르 샤레스트, 플로 칼리 등                           1919\n",
       "                                                               ... \n",
       "박영자, 김권섭, 이진옥 등                                                   1\n",
       "김규연, 송지원, 김민지, 정지원, 유채연, 김정아, 이선호 등                               1\n",
       "이건명, 안시하, 길병민, 홍선미, 김동문 등                                         1\n",
       "한여진, 황세희                                                          1\n",
       "장진선, 박은경, 김세영, 남궁동, 이준영                                           1\n",
       "Name: 출연진내용, Length: 6035, dtype: int64"
      ]
     },
     "execution_count": 99,
     "metadata": {},
     "output_type": "execute_result"
    }
   ],
   "source": [
    "df_60_1['출연진내용'].value_counts()"
   ]
  },
  {
   "cell_type": "code",
   "execution_count": 100,
   "metadata": {},
   "outputs": [
    {
     "data": {
      "text/plain": [
       "김혜라, 김정문, 한채빈, 이진실, 김수현, 김태인, 김채율 등                            4996\n",
       "조나단 록스머스, 클레어 라이언, 케이틀린 피니, 맷레이시, 베벌리 차이앗, 제임스 보스윅, 커트 올즈 등    4894\n",
       "유준상, 정성화, 홍나현, 장민제, 김지우, 유리아, 이율 등                             4121\n",
       "류정한, 엄기준, 카이, 신성록, 신영숙, 옥주현, 장은아 등                             3660\n",
       "윤공주, 전나영, 김우형, 최재림, 정선아, 아이비, 박송권 등                            3422\n",
       "                                                               ... \n",
       "류세일, 권영은, 곽다인, 이정주, 김수민, 류주비, 이지명 등                               1\n",
       "김소연, 김수영, 김윤지 등                                                   1\n",
       "박수빈, 이혜주, 한지훈, 전성욱, 남상아, 최예은                                      1\n",
       "박석용, 이미정, 김찬호, 강상규, 장윤진, 김대환, 전우준 등                               1\n",
       "이현, 박소진, 박신해, 제상철, 김혜린                                            1\n",
       "Name: 출연진내용, Length: 6391, dtype: int64"
      ]
     },
     "execution_count": 100,
     "metadata": {},
     "output_type": "execute_result"
    }
   ],
   "source": [
    "df_60_2['출연진내용'].value_counts()"
   ]
  },
  {
   "cell_type": "code",
   "execution_count": 101,
   "metadata": {},
   "outputs": [
    {
     "data": {
      "text/plain": [
       "서울     114264\n",
       "경상도     28298\n",
       "경기도     13466\n",
       "강원도      6163\n",
       "전라도      5052\n",
       "충청도      4078\n",
       "제주도       509\n",
       "Name: 공연지역명, dtype: int64"
      ]
     },
     "execution_count": 101,
     "metadata": {},
     "output_type": "execute_result"
    }
   ],
   "source": [
    "df_60_1['공연지역명'].value_counts()"
   ]
  },
  {
   "cell_type": "code",
   "execution_count": 102,
   "metadata": {},
   "outputs": [
    {
     "data": {
      "text/plain": [
       "서울     258365\n",
       "경상도     37977\n",
       "경기도     23696\n",
       "강원도     10528\n",
       "전라도      6866\n",
       "충청도      6721\n",
       "제주도       475\n",
       "Name: 공연지역명, dtype: int64"
      ]
     },
     "execution_count": 102,
     "metadata": {},
     "output_type": "execute_result"
    }
   ],
   "source": [
    "df_60_2['공연지역명'].value_counts()"
   ]
  },
  {
   "cell_type": "markdown",
   "metadata": {},
   "source": [
    "### 70세 이상"
   ]
  },
  {
   "cell_type": "code",
   "execution_count": 103,
   "metadata": {},
   "outputs": [],
   "source": [
    "df_70_1 = df_70[df_70['성별']==1]\n",
    "df_70_2 = df_70[df_70['성별']==2]"
   ]
  },
  {
   "cell_type": "code",
   "execution_count": 104,
   "metadata": {},
   "outputs": [
    {
     "data": {
      "text/plain": [
       "뮤지컬    26834\n",
       "클래식    12836\n",
       "연극     10725\n",
       "무용      2566\n",
       "국악      1801\n",
       "오페라     1391\n",
       "복합       931\n",
       "Name: 장르명, dtype: int64"
      ]
     },
     "execution_count": 104,
     "metadata": {},
     "output_type": "execute_result"
    }
   ],
   "source": [
    "df_70_1['장르명'].value_counts()"
   ]
  },
  {
   "cell_type": "code",
   "execution_count": 105,
   "metadata": {},
   "outputs": [
    {
     "data": {
      "text/plain": [
       "뮤지컬    47832\n",
       "클래식    17484\n",
       "연극     15775\n",
       "무용      3799\n",
       "국악      3696\n",
       "오페라     1500\n",
       "복합       910\n",
       "Name: 장르명, dtype: int64"
      ]
     },
     "execution_count": 105,
     "metadata": {},
     "output_type": "execute_result"
    }
   ],
   "source": [
    "df_70_2['장르명'].value_counts()"
   ]
  },
  {
   "cell_type": "code",
   "execution_count": 106,
   "metadata": {},
   "outputs": [
    {
     "data": {
      "text/plain": [
       "서울     41432\n",
       "경상도     5938\n",
       "경기도     4557\n",
       "충청도     1907\n",
       "강원도     1752\n",
       "전라도     1449\n",
       "제주도       49\n",
       "Name: 공연지역명, dtype: int64"
      ]
     },
     "execution_count": 106,
     "metadata": {},
     "output_type": "execute_result"
    }
   ],
   "source": [
    "df_70_1['공연지역명'].value_counts()"
   ]
  },
  {
   "cell_type": "code",
   "execution_count": 107,
   "metadata": {},
   "outputs": [
    {
     "data": {
      "text/plain": [
       "서울     69622\n",
       "경기도     8851\n",
       "경상도     7756\n",
       "충청도     1929\n",
       "전라도     1518\n",
       "강원도     1260\n",
       "제주도       60\n",
       "Name: 공연지역명, dtype: int64"
      ]
     },
     "execution_count": 107,
     "metadata": {},
     "output_type": "execute_result"
    }
   ],
   "source": [
    "df_70_2['공연지역명'].value_counts()"
   ]
  },
  {
   "cell_type": "code",
   "execution_count": 108,
   "metadata": {},
   "outputs": [
    {
     "data": {
      "text/plain": [
       "임성목, 정현희, 신광희, 이동화, 이승리, 윤석배           2016\n",
       "김준수, 유태평양, 서정금, 민은경, 김미진, 홍승희, 정준태     1640\n",
       "김혜라, 김정문, 한채빈, 이진실, 김수현, 김태인, 김채율 등    1213\n",
       "송용진, 허규, 조형균, 백형훈, 양지원, 최민우, 박좌현 등      696\n",
       "윤공주, 전나영, 김우형, 최재림, 정선아, 아이비, 박송권 등     654\n",
       "                                       ... \n",
       "김영호, 김준희, 김다미, 이경선, 한수진, 김상진, 최은식 등       1\n",
       "장윤정, 박미자, 김달식, 김완선, 김승현, 소진선, 김남호 등       1\n",
       "박지민, 김보라, 신민규, 황보건                        1\n",
       "김란도, 윤민규, 송호섭, 이석준, 김형찬                   1\n",
       "최영선, 송영민, 유성녀, 김주택 등                      1\n",
       "Name: 출연진내용, Length: 3260, dtype: int64"
      ]
     },
     "execution_count": 108,
     "metadata": {},
     "output_type": "execute_result"
    }
   ],
   "source": [
    "df_70_1['출연진내용'].value_counts()"
   ]
  },
  {
   "cell_type": "code",
   "execution_count": 109,
   "metadata": {},
   "outputs": [
    {
     "data": {
      "text/plain": [
       "김성진 등                                  2137\n",
       "송용진, 허규, 조형균, 백형훈, 양지원, 최민우, 박좌현 등     1849\n",
       "김준수, 유태평양, 서정금, 민은경, 김미진, 홍승희, 정준태     1836\n",
       "김준수, 전동석, 신성록, 조정은, 임혜영, 박지연, 강태을 등    1078\n",
       "임강희, 백은혜, 이정화, 김재범, 김경수, 고상호, 안지환 등    1060\n",
       "                                       ... \n",
       "이준용, 장희원, 임정모, 문혜원, 김대호, 권오현, 김유남 등       1\n",
       "윤은솔, 박수현, 문서현, 조형준                        1\n",
       "우주호, 유채훈                                  1\n",
       "강현우, 곽하은, 김난희, 위훈, 이민지, 이지영, 장용철 등        1\n",
       "장윤정, 박미자, 김달식, 김완선, 김승현, 소진선, 김남호 등       1\n",
       "Name: 출연진내용, Length: 3174, dtype: int64"
      ]
     },
     "execution_count": 109,
     "metadata": {},
     "output_type": "execute_result"
    }
   ],
   "source": [
    "df_70_2['출연진내용'].value_counts()"
   ]
  },
  {
   "cell_type": "code",
   "execution_count": 125,
   "metadata": {},
   "outputs": [
    {
     "data": {
      "text/html": [
       "<div>\n",
       "<style scoped>\n",
       "    .dataframe tbody tr th:only-of-type {\n",
       "        vertical-align: middle;\n",
       "    }\n",
       "\n",
       "    .dataframe tbody tr th {\n",
       "        vertical-align: top;\n",
       "    }\n",
       "\n",
       "    .dataframe thead th {\n",
       "        text-align: right;\n",
       "    }\n",
       "</style>\n",
       "<table border=\"1\" class=\"dataframe\">\n",
       "  <thead>\n",
       "    <tr style=\"text-align: right;\">\n",
       "      <th></th>\n",
       "      <th>성별</th>\n",
       "      <th>장르명</th>\n",
       "      <th>세부장르명</th>\n",
       "      <th>공연지역명</th>\n",
       "      <th>출연진내용</th>\n",
       "      <th>제작진내용</th>\n",
       "      <th>오픈런 여부</th>\n",
       "      <th>연령대</th>\n",
       "    </tr>\n",
       "  </thead>\n",
       "  <tbody>\n",
       "    <tr>\n",
       "      <th>6</th>\n",
       "      <td>2</td>\n",
       "      <td>클래식</td>\n",
       "      <td>기악</td>\n",
       "      <td>서울</td>\n",
       "      <td>NaN</td>\n",
       "      <td>NaN</td>\n",
       "      <td>N</td>\n",
       "      <td>50대</td>\n",
       "    </tr>\n",
       "    <tr>\n",
       "      <th>7</th>\n",
       "      <td>2</td>\n",
       "      <td>클래식</td>\n",
       "      <td>기악</td>\n",
       "      <td>서울</td>\n",
       "      <td>NaN</td>\n",
       "      <td>NaN</td>\n",
       "      <td>N</td>\n",
       "      <td>50대</td>\n",
       "    </tr>\n",
       "    <tr>\n",
       "      <th>20</th>\n",
       "      <td>2</td>\n",
       "      <td>클래식</td>\n",
       "      <td>기악</td>\n",
       "      <td>서울</td>\n",
       "      <td>NaN</td>\n",
       "      <td>NaN</td>\n",
       "      <td>N</td>\n",
       "      <td>50대</td>\n",
       "    </tr>\n",
       "    <tr>\n",
       "      <th>21</th>\n",
       "      <td>2</td>\n",
       "      <td>클래식</td>\n",
       "      <td>기악</td>\n",
       "      <td>서울</td>\n",
       "      <td>NaN</td>\n",
       "      <td>NaN</td>\n",
       "      <td>N</td>\n",
       "      <td>50대</td>\n",
       "    </tr>\n",
       "    <tr>\n",
       "      <th>22</th>\n",
       "      <td>2</td>\n",
       "      <td>클래식</td>\n",
       "      <td>기악</td>\n",
       "      <td>서울</td>\n",
       "      <td>NaN</td>\n",
       "      <td>NaN</td>\n",
       "      <td>N</td>\n",
       "      <td>50대</td>\n",
       "    </tr>\n",
       "    <tr>\n",
       "      <th>...</th>\n",
       "      <td>...</td>\n",
       "      <td>...</td>\n",
       "      <td>...</td>\n",
       "      <td>...</td>\n",
       "      <td>...</td>\n",
       "      <td>...</td>\n",
       "      <td>...</td>\n",
       "      <td>...</td>\n",
       "    </tr>\n",
       "    <tr>\n",
       "      <th>2329237</th>\n",
       "      <td>2</td>\n",
       "      <td>무용</td>\n",
       "      <td>발레</td>\n",
       "      <td>서울</td>\n",
       "      <td>NaN</td>\n",
       "      <td>페르디낭 헤롤드, 프레데릭 애쉬튼, 존 랜치베리 등</td>\n",
       "      <td>N</td>\n",
       "      <td>70세 이상</td>\n",
       "    </tr>\n",
       "    <tr>\n",
       "      <th>2329238</th>\n",
       "      <td>2</td>\n",
       "      <td>무용</td>\n",
       "      <td>발레</td>\n",
       "      <td>서울</td>\n",
       "      <td>NaN</td>\n",
       "      <td>페르디낭 헤롤드, 프레데릭 애쉬튼, 존 랜치베리 등</td>\n",
       "      <td>N</td>\n",
       "      <td>70세 이상</td>\n",
       "    </tr>\n",
       "    <tr>\n",
       "      <th>2329239</th>\n",
       "      <td>2</td>\n",
       "      <td>무용</td>\n",
       "      <td>발레</td>\n",
       "      <td>서울</td>\n",
       "      <td>NaN</td>\n",
       "      <td>페르디낭 헤롤드, 프레데릭 애쉬튼, 존 랜치베리 등</td>\n",
       "      <td>N</td>\n",
       "      <td>70세 이상</td>\n",
       "    </tr>\n",
       "    <tr>\n",
       "      <th>2329240</th>\n",
       "      <td>2</td>\n",
       "      <td>무용</td>\n",
       "      <td>발레</td>\n",
       "      <td>서울</td>\n",
       "      <td>NaN</td>\n",
       "      <td>페르디낭 헤롤드, 프레데릭 애쉬튼, 존 랜치베리 등</td>\n",
       "      <td>N</td>\n",
       "      <td>70세 이상</td>\n",
       "    </tr>\n",
       "    <tr>\n",
       "      <th>2329241</th>\n",
       "      <td>2</td>\n",
       "      <td>무용</td>\n",
       "      <td>발레</td>\n",
       "      <td>서울</td>\n",
       "      <td>NaN</td>\n",
       "      <td>페르디낭 헤롤드, 프레데릭 애쉬튼, 존 랜치베리 등</td>\n",
       "      <td>N</td>\n",
       "      <td>70세 이상</td>\n",
       "    </tr>\n",
       "  </tbody>\n",
       "</table>\n",
       "<p>2180827 rows × 8 columns</p>\n",
       "</div>"
      ],
      "text/plain": [
       "         성별  장르명 세부장르명 공연지역명 출연진내용                         제작진내용 오픈런 여부  \\\n",
       "6         2  클래식    기악    서울   NaN                           NaN      N   \n",
       "7         2  클래식    기악    서울   NaN                           NaN      N   \n",
       "20        2  클래식    기악    서울   NaN                           NaN      N   \n",
       "21        2  클래식    기악    서울   NaN                           NaN      N   \n",
       "22        2  클래식    기악    서울   NaN                           NaN      N   \n",
       "...      ..  ...   ...   ...   ...                           ...    ...   \n",
       "2329237   2   무용    발레    서울   NaN  페르디낭 헤롤드, 프레데릭 애쉬튼, 존 랜치베리 등      N   \n",
       "2329238   2   무용    발레    서울   NaN  페르디낭 헤롤드, 프레데릭 애쉬튼, 존 랜치베리 등      N   \n",
       "2329239   2   무용    발레    서울   NaN  페르디낭 헤롤드, 프레데릭 애쉬튼, 존 랜치베리 등      N   \n",
       "2329240   2   무용    발레    서울   NaN  페르디낭 헤롤드, 프레데릭 애쉬튼, 존 랜치베리 등      N   \n",
       "2329241   2   무용    발레    서울   NaN  페르디낭 헤롤드, 프레데릭 애쉬튼, 존 랜치베리 등      N   \n",
       "\n",
       "            연령대  \n",
       "6           50대  \n",
       "7           50대  \n",
       "20          50대  \n",
       "21          50대  \n",
       "22          50대  \n",
       "...         ...  \n",
       "2329237  70세 이상  \n",
       "2329238  70세 이상  \n",
       "2329239  70세 이상  \n",
       "2329240  70세 이상  \n",
       "2329241  70세 이상  \n",
       "\n",
       "[2180827 rows x 8 columns]"
      ]
     },
     "execution_count": 125,
     "metadata": {},
     "output_type": "execute_result"
    }
   ],
   "source": [
    "old_list = [df_50_2, df_60, df_70]\n",
    "old_all = pd.concat(old_list)\n",
    "old_all"
   ]
  },
  {
   "cell_type": "code",
   "execution_count": 119,
   "metadata": {},
   "outputs": [
    {
     "data": {
      "text/plain": [
       "뮤지컬    294537\n",
       "연극     103137\n",
       "클래식     87388\n",
       "무용      23487\n",
       "오페라     10713\n",
       "국악       9254\n",
       "복합       5926\n",
       "Name: 장르명, dtype: int64"
      ]
     },
     "execution_count": 119,
     "metadata": {},
     "output_type": "execute_result"
    }
   ],
   "source": [
    "df_50_1['장르명'].value_counts()"
   ]
  },
  {
   "cell_type": "code",
   "execution_count": 127,
   "metadata": {},
   "outputs": [],
   "source": [
    "old_all_mu = old_all[old_all['장르명']=='뮤지컬']\n",
    "old_all_yun = old_all[old_all['장르명']=='연극']\n",
    "old_all_cla = old_all[old_all['장르명']=='클래식']\n",
    "old_all_muyo = old_all[old_all['장르명']=='무용']\n",
    "old_all_guk = old_all[old_all['장르명']=='국악']\n",
    "old_all_ope = old_all[old_all['장르명']=='오페라']\n",
    "old_all_bok = old_all[old_all['장르명']=='복합']"
   ]
  },
  {
   "cell_type": "code",
   "execution_count": 131,
   "metadata": {},
   "outputs": [
    {
     "data": {
      "text/plain": [
       "연극     343610\n",
       "마당극     12687\n",
       "창극      12489\n",
       "인형극       979\n",
       "마임        257\n",
       "Name: 세부장르명, dtype: int64"
      ]
     },
     "execution_count": 131,
     "metadata": {},
     "output_type": "execute_result"
    }
   ],
   "source": [
    "old_all_yun['세부장르명'].value_counts()"
   ]
  },
  {
   "cell_type": "code",
   "execution_count": null,
   "metadata": {},
   "outputs": [],
   "source": []
  }
 ],
 "metadata": {
  "kernelspec": {
   "display_name": "Python 3.9.12",
   "language": "python",
   "name": "python3"
  },
  "language_info": {
   "codemirror_mode": {
    "name": "ipython",
    "version": 3
   },
   "file_extension": ".py",
   "mimetype": "text/x-python",
   "name": "python",
   "nbconvert_exporter": "python",
   "pygments_lexer": "ipython3",
   "version": "3.9.12"
  },
  "orig_nbformat": 4,
  "vscode": {
   "interpreter": {
    "hash": "38cca0c38332a56087b24af0bc80247f4fced29cb4f7f437d91dc159adec9c4e"
   }
  }
 },
 "nbformat": 4,
 "nbformat_minor": 2
}
