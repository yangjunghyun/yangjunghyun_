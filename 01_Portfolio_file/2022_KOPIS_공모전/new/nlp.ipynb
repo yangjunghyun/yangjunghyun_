{
 "cells": [
  {
   "cell_type": "code",
   "execution_count": 18,
   "metadata": {},
   "outputs": [
    {
     "name": "stderr",
     "output_type": "stream",
     "text": [
      "/var/folders/83/y5p7rzd572xcs0zzl5dr2lt00000gn/T/ipykernel_17742/170255471.py:4: DtypeWarning: Columns (5) have mixed types. Specify dtype option on import or set low_memory=False.\n",
      "  df = pd.read_csv('./df_all.csv',index_col=0)\n"
     ]
    }
   ],
   "source": [
    "import pandas as pd\n",
    "import numpy as np\n",
    "\n",
    "df = pd.read_csv('./df_all.csv',index_col=0)"
   ]
  },
  {
   "cell_type": "code",
   "execution_count": 19,
   "metadata": {},
   "outputs": [],
   "source": [
    "df_sex_1 = df[df['성별']==1]\n",
    "df_sex_1 = df_sex_1.dropna()\n",
    "df_sex_1_nlp = df_sex_1[['출연진내용']]"
   ]
  },
  {
   "cell_type": "code",
   "execution_count": 21,
   "metadata": {},
   "outputs": [],
   "source": [
    "df_nlp = df_sex_1_nlp['출연진내용'].str.split(',', expand = True)"
   ]
  },
  {
   "cell_type": "code",
   "execution_count": 22,
   "metadata": {},
   "outputs": [],
   "source": [
    "df_nlp = df_nlp.iloc[:,:7]"
   ]
  },
  {
   "cell_type": "code",
   "execution_count": 23,
   "metadata": {},
   "outputs": [
    {
     "data": {
      "text/html": [
       "<div>\n",
       "<style scoped>\n",
       "    .dataframe tbody tr th:only-of-type {\n",
       "        vertical-align: middle;\n",
       "    }\n",
       "\n",
       "    .dataframe tbody tr th {\n",
       "        vertical-align: top;\n",
       "    }\n",
       "\n",
       "    .dataframe thead th {\n",
       "        text-align: right;\n",
       "    }\n",
       "</style>\n",
       "<table border=\"1\" class=\"dataframe\">\n",
       "  <thead>\n",
       "    <tr style=\"text-align: right;\">\n",
       "      <th></th>\n",
       "      <th>0</th>\n",
       "      <th>1</th>\n",
       "      <th>2</th>\n",
       "      <th>3</th>\n",
       "      <th>4</th>\n",
       "      <th>5</th>\n",
       "      <th>6</th>\n",
       "    </tr>\n",
       "  </thead>\n",
       "  <tbody>\n",
       "    <tr>\n",
       "      <th>217</th>\n",
       "      <td>김승언</td>\n",
       "      <td>양이배</td>\n",
       "      <td>윤오성</td>\n",
       "      <td>오동구</td>\n",
       "      <td>도윤현</td>\n",
       "      <td>장선국</td>\n",
       "      <td>황경호 등</td>\n",
       "    </tr>\n",
       "    <tr>\n",
       "      <th>218</th>\n",
       "      <td>김승언</td>\n",
       "      <td>양이배</td>\n",
       "      <td>윤오성</td>\n",
       "      <td>오동구</td>\n",
       "      <td>도윤현</td>\n",
       "      <td>장선국</td>\n",
       "      <td>황경호 등</td>\n",
       "    </tr>\n",
       "    <tr>\n",
       "      <th>219</th>\n",
       "      <td>김승언</td>\n",
       "      <td>양이배</td>\n",
       "      <td>윤오성</td>\n",
       "      <td>오동구</td>\n",
       "      <td>도윤현</td>\n",
       "      <td>장선국</td>\n",
       "      <td>황경호 등</td>\n",
       "    </tr>\n",
       "    <tr>\n",
       "      <th>220</th>\n",
       "      <td>김승언</td>\n",
       "      <td>양이배</td>\n",
       "      <td>윤오성</td>\n",
       "      <td>오동구</td>\n",
       "      <td>도윤현</td>\n",
       "      <td>장선국</td>\n",
       "      <td>황경호 등</td>\n",
       "    </tr>\n",
       "    <tr>\n",
       "      <th>269</th>\n",
       "      <td>김한재</td>\n",
       "      <td>김윤하</td>\n",
       "      <td>류정훈</td>\n",
       "      <td>장경원</td>\n",
       "      <td>인선호</td>\n",
       "      <td>임준성</td>\n",
       "      <td>구다영 등</td>\n",
       "    </tr>\n",
       "    <tr>\n",
       "      <th>...</th>\n",
       "      <td>...</td>\n",
       "      <td>...</td>\n",
       "      <td>...</td>\n",
       "      <td>...</td>\n",
       "      <td>...</td>\n",
       "      <td>...</td>\n",
       "      <td>...</td>\n",
       "    </tr>\n",
       "    <tr>\n",
       "      <th>2323659</th>\n",
       "      <td>김경헌</td>\n",
       "      <td>김나윤</td>\n",
       "      <td>전혜인</td>\n",
       "      <td>None</td>\n",
       "      <td>None</td>\n",
       "      <td>None</td>\n",
       "      <td>None</td>\n",
       "    </tr>\n",
       "    <tr>\n",
       "      <th>2323662</th>\n",
       "      <td>김경헌</td>\n",
       "      <td>김나윤</td>\n",
       "      <td>전혜인</td>\n",
       "      <td>None</td>\n",
       "      <td>None</td>\n",
       "      <td>None</td>\n",
       "      <td>None</td>\n",
       "    </tr>\n",
       "    <tr>\n",
       "      <th>2323663</th>\n",
       "      <td>김경헌</td>\n",
       "      <td>김나윤</td>\n",
       "      <td>전혜인</td>\n",
       "      <td>None</td>\n",
       "      <td>None</td>\n",
       "      <td>None</td>\n",
       "      <td>None</td>\n",
       "    </tr>\n",
       "    <tr>\n",
       "      <th>2323666</th>\n",
       "      <td>김경헌</td>\n",
       "      <td>김나윤</td>\n",
       "      <td>전혜인</td>\n",
       "      <td>None</td>\n",
       "      <td>None</td>\n",
       "      <td>None</td>\n",
       "      <td>None</td>\n",
       "    </tr>\n",
       "    <tr>\n",
       "      <th>2323667</th>\n",
       "      <td>김경헌</td>\n",
       "      <td>김나윤</td>\n",
       "      <td>전혜인</td>\n",
       "      <td>None</td>\n",
       "      <td>None</td>\n",
       "      <td>None</td>\n",
       "      <td>None</td>\n",
       "    </tr>\n",
       "  </tbody>\n",
       "</table>\n",
       "<p>2367665 rows × 7 columns</p>\n",
       "</div>"
      ],
      "text/plain": [
       "           0     1     2     3     4     5       6\n",
       "217      김승언   양이배   윤오성   오동구   도윤현   장선국   황경호 등\n",
       "218      김승언   양이배   윤오성   오동구   도윤현   장선국   황경호 등\n",
       "219      김승언   양이배   윤오성   오동구   도윤현   장선국   황경호 등\n",
       "220      김승언   양이배   윤오성   오동구   도윤현   장선국   황경호 등\n",
       "269      김한재   김윤하   류정훈   장경원   인선호   임준성   구다영 등\n",
       "...      ...   ...   ...   ...   ...   ...     ...\n",
       "2323659  김경헌   김나윤   전혜인  None  None  None    None\n",
       "2323662  김경헌   김나윤   전혜인  None  None  None    None\n",
       "2323663  김경헌   김나윤   전혜인  None  None  None    None\n",
       "2323666  김경헌   김나윤   전혜인  None  None  None    None\n",
       "2323667  김경헌   김나윤   전혜인  None  None  None    None\n",
       "\n",
       "[2367665 rows x 7 columns]"
      ]
     },
     "execution_count": 23,
     "metadata": {},
     "output_type": "execute_result"
    }
   ],
   "source": [
    "df_nlp"
   ]
  },
  {
   "cell_type": "code",
   "execution_count": null,
   "metadata": {},
   "outputs": [],
   "source": []
  }
 ],
 "metadata": {
  "kernelspec": {
   "display_name": "Python 3.10.6 64-bit",
   "language": "python",
   "name": "python3"
  },
  "language_info": {
   "codemirror_mode": {
    "name": "ipython",
    "version": 3
   },
   "file_extension": ".py",
   "mimetype": "text/x-python",
   "name": "python",
   "nbconvert_exporter": "python",
   "pygments_lexer": "ipython3",
   "version": "3.10.6"
  },
  "orig_nbformat": 4,
  "vscode": {
   "interpreter": {
    "hash": "b0fa6594d8f4cbf19f97940f81e996739fb7646882a419484c72d19e05852a7e"
   }
  }
 },
 "nbformat": 4,
 "nbformat_minor": 2
}
