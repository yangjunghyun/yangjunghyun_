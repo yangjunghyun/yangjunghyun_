{
 "cells": [
  {
   "cell_type": "code",
   "execution_count": 1,
   "metadata": {},
   "outputs": [
    {
     "name": "stderr",
     "output_type": "stream",
     "text": [
      "/var/folders/83/y5p7rzd572xcs0zzl5dr2lt00000gn/T/ipykernel_28256/170255471.py:4: DtypeWarning: Columns (5) have mixed types. Specify dtype option on import or set low_memory=False.\n",
      "  df = pd.read_csv('./df_all.csv',index_col=0)\n"
     ]
    }
   ],
   "source": [
    "import pandas as pd\n",
    "import numpy as np\n",
    "\n",
    "df = pd.read_csv('./df_all.csv',index_col=0)"
   ]
  },
  {
   "cell_type": "code",
   "execution_count": 2,
   "metadata": {},
   "outputs": [],
   "source": [
    "df_0_13 = df[df['연령대']=='0~13세']\n",
    "df_14_19 = df[df['연령대']=='14~19세']\n",
    "df_20 = df[df['연령대']=='20대']\n",
    "df_30 = df[df['연령대']=='30대']\n",
    "df_40 = df[df['연령대']=='40대']\n",
    "df_50 = df[df['연령대']=='50대']\n",
    "df_60 = df[df['연령대']=='60대']\n",
    "df_70 = df[df['연령대']=='70세 이상']"
   ]
  },
  {
   "cell_type": "code",
   "execution_count": 3,
   "metadata": {},
   "outputs": [],
   "source": [
    "df_14_19_2 = df_14_19[df_14_19['성별']==2]\n",
    "df_nlp = df_14_19_2['출연진내용'].str.split(',', expand = True)\n",
    "df_nlp = df_nlp.iloc[:,:7]"
   ]
  },
  {
   "cell_type": "code",
   "execution_count": 7,
   "metadata": {},
   "outputs": [],
   "source": [
    "val_list0 = df_nlp[0].str.replace(' 등','',1)\n",
    "val_list1 = df_nlp[1].str.replace(' 등','',1)\n",
    "val_list2 = df_nlp[2].str.replace(' 등','',1)\n",
    "val_list3 = df_nlp[3].str.replace(' 등','',1)\n",
    "val_list4 = df_nlp[4].str.replace(' 등','',1)\n",
    "val_list5 = df_nlp[5].str.replace(' 등','',1)\n",
    "val_list6 = df_nlp[6].str.replace(' 등','',1)"
   ]
  },
  {
   "cell_type": "code",
   "execution_count": 8,
   "metadata": {},
   "outputs": [],
   "source": [
    "from collections import Counter\n",
    "\n",
    "count = Counter(val_list0)\n",
    "words0 = dict(count.most_common())\n",
    "\n",
    "count = Counter(val_list1)\n",
    "words1 = dict(count.most_common())\n",
    "\n",
    "count = Counter(val_list2)\n",
    "words2 = dict(count.most_common())\n",
    "\n",
    "count = Counter(val_list3)\n",
    "words3 = dict(count.most_common())\n",
    "\n",
    "count = Counter(val_list4)\n",
    "words4 = dict(count.most_common())\n",
    "\n",
    "count = Counter(val_list5)\n",
    "words5 = dict(count.most_common())\n",
    "\n",
    "count = Counter(val_list6)\n",
    "words6 = dict(count.most_common())"
   ]
  },
  {
   "cell_type": "code",
   "execution_count": 9,
   "metadata": {},
   "outputs": [],
   "source": [
    "list_df0 = pd.DataFrame(words0,index = ['list0'])\n",
    "list_df1 = pd.DataFrame(words1,index = ['list1'])\n",
    "list_df2 = pd.DataFrame(words2,index = ['list2'])\n",
    "list_df3 = pd.DataFrame(words3,index = ['list3'])\n",
    "list_df4 = pd.DataFrame(words4,index = ['list4'])\n",
    "list_df5 = pd.DataFrame(words5,index = ['list5'])\n",
    "list_df6 = pd.DataFrame(words6,index = ['list6'])"
   ]
  },
  {
   "cell_type": "code",
   "execution_count": 10,
   "metadata": {},
   "outputs": [],
   "source": [
    "def pre_processing(exdata):\n",
    "  exdata = exdata.iloc[:,1:50]\n",
    "  exdata = exdata.transpose()\n",
    "  exdata = exdata.reset_index()\n",
    "  exdata.columns = ['name','counts']\n",
    "  return exdata\n",
    "\n",
    "final_list0 = pre_processing(list_df0)\n",
    "final_list1 = pre_processing(list_df1)\n",
    "final_list2 = pre_processing(list_df2)\n",
    "final_list3 = pre_processing(list_df3)\n",
    "final_list4 = pre_processing(list_df4)\n",
    "final_list5 = pre_processing(list_df5)\n",
    "final_list6 = pre_processing(list_df6)"
   ]
  },
  {
   "cell_type": "code",
   "execution_count": 11,
   "metadata": {},
   "outputs": [
    {
     "name": "stderr",
     "output_type": "stream",
     "text": [
      "/var/folders/83/y5p7rzd572xcs0zzl5dr2lt00000gn/T/ipykernel_28256/2908035382.py:3: FutureWarning: Passing 'suffixes' which cause duplicate columns {'counts_x'} in the result is deprecated and will raise a MergeError in a future version.\n",
      "  merge3 = pd.merge(merge2, final_list3,  on = 'name',how='outer')\n",
      "/var/folders/83/y5p7rzd572xcs0zzl5dr2lt00000gn/T/ipykernel_28256/2908035382.py:5: FutureWarning: Passing 'suffixes' which cause duplicate columns {'counts_x'} in the result is deprecated and will raise a MergeError in a future version.\n",
      "  merge5 = pd.merge(merge4, final_list5,  on = 'name',how='outer')\n"
     ]
    }
   ],
   "source": [
    "merge1 = pd.merge(final_list0, final_list1, on = 'name',how='outer')\n",
    "merge2 = pd.merge(merge1, final_list2,  on = 'name',how='outer')\n",
    "merge3 = pd.merge(merge2, final_list3,  on = 'name',how='outer')\n",
    "merge4 = pd.merge(merge3, final_list4,  on = 'name',how='outer')\n",
    "merge5 = pd.merge(merge4, final_list5,  on = 'name',how='outer')\n",
    "merge6 = pd.merge(merge5, final_list6,  on = 'name',how='outer')"
   ]
  },
  {
   "cell_type": "code",
   "execution_count": 12,
   "metadata": {},
   "outputs": [],
   "source": [
    "merge6 = merge6.fillna(0)\n",
    "merge6.columns = ['name','a','b','c','d','e','f','g']\n",
    "merge6['count'] = merge6['a'] + merge6['b'] + merge6['c'] + merge6['d'] + merge6['e'] + merge6['f'] + merge6['a']\n",
    "del merge6['a']\n",
    "del merge6['b']\n",
    "del merge6['c']\n",
    "del merge6['d']\n",
    "del merge6['e']\n",
    "del merge6['f']\n",
    "del merge6['g']"
   ]
  },
  {
   "cell_type": "code",
   "execution_count": 13,
   "metadata": {},
   "outputs": [
    {
     "data": {
      "text/html": [
       "<div>\n",
       "<style scoped>\n",
       "    .dataframe tbody tr th:only-of-type {\n",
       "        vertical-align: middle;\n",
       "    }\n",
       "\n",
       "    .dataframe tbody tr th {\n",
       "        vertical-align: top;\n",
       "    }\n",
       "\n",
       "    .dataframe thead th {\n",
       "        text-align: right;\n",
       "    }\n",
       "</style>\n",
       "<table border=\"1\" class=\"dataframe\">\n",
       "  <thead>\n",
       "    <tr style=\"text-align: right;\">\n",
       "      <th></th>\n",
       "      <th>count</th>\n",
       "    </tr>\n",
       "    <tr>\n",
       "      <th>name</th>\n",
       "      <th></th>\n",
       "    </tr>\n",
       "  </thead>\n",
       "  <tbody>\n",
       "    <tr>\n",
       "      <th>0</th>\n",
       "      <td>70540.0</td>\n",
       "    </tr>\n",
       "    <tr>\n",
       "      <th>홍광호</th>\n",
       "      <td>10864.0</td>\n",
       "    </tr>\n",
       "    <tr>\n",
       "      <th>최정원</th>\n",
       "      <td>10834.0</td>\n",
       "    </tr>\n",
       "    <tr>\n",
       "      <th>엄기준</th>\n",
       "      <td>9950.0</td>\n",
       "    </tr>\n",
       "    <tr>\n",
       "      <th>최재림</th>\n",
       "      <td>9561.0</td>\n",
       "    </tr>\n",
       "  </tbody>\n",
       "</table>\n",
       "</div>"
      ],
      "text/plain": [
       "        count\n",
       "name         \n",
       "0     70540.0\n",
       "홍광호   10864.0\n",
       "최정원   10834.0\n",
       "엄기준    9950.0\n",
       " 최재림   9561.0"
      ]
     },
     "execution_count": 13,
     "metadata": {},
     "output_type": "execute_result"
    }
   ],
   "source": [
    "final_merge = merge6.groupby('name').sum().sort_values('count',ascending=False)\n",
    "final_merge.head()"
   ]
  },
  {
   "cell_type": "code",
   "execution_count": 14,
   "metadata": {},
   "outputs": [],
   "source": [
    "# final_merge = final_merge.reset_index()\n",
    "final_merge = final_merge.iloc[1:100,:]"
   ]
  },
  {
   "cell_type": "code",
   "execution_count": 15,
   "metadata": {},
   "outputs": [],
   "source": [
    "final_merge['count'] = final_merge['count'].astype(int)\n",
    "df_dict = final_merge.to_dict()\n",
    "dic_val = df_dict.values()"
   ]
  },
  {
   "cell_type": "code",
   "execution_count": 16,
   "metadata": {},
   "outputs": [
    {
     "data": {
      "text/plain": [
       "dict_values([{'홍광호': 10864, '최정원': 10834, '엄기준': 9950, ' 최재림': 9561, ' 고은성': 8721, ' 장은아': 8366, '차지연': 8236, ' 서경수': 8036, ' 김선영': 7859, ' 윤공주': 7687, '김소현': 7244, ' 카이': 7169, ' 규현': 6955, '민우혁': 6912, '조형균': 6834, '유준상': 6358, '류정한': 6234, ' 신영숙': 5982, '옥주현': 5866, ' 박강현': 5819, ' 서은광': 5817, '강혜인': 5794, ' 송원근': 5737, ' 김주호': 5539, ' 박은태': 5448, ' 신성록': 5372, ' 이지훈': 5094, ' 강태을': 4987, ' 민경아': 4825, '윤도현': 4768, ' 김려원': 4751, ' 민우혁': 4680, '박은태': 4632, ' 임준혁': 4627, '정동화': 4488, ' 조정은': 4441, '오만석': 4432, ' 김준수': 4343, ' 김성철': 4290, ' 이아진': 4238, ' 박규원': 4123, '강필석': 4076, '송원근': 4006, ' 정상윤': 4003, ' 김세정': 4003, ' 홍우진': 4003, ' 정성화': 3936, '김윤희': 3882, '박민성': 3844, '이승현': 3740, ' 티파니 영': 3687, ' 조형균': 3679, ' 강홍석': 3658, ' 임혜영': 3641, '김혜라': 3554, ' 이정화': 3546, ' 조승우': 3511, ' 이석준': 3485, ' 강필석': 3339, ' 유연석': 3298, ' 나현우': 3298, ' 김예원': 3298, ' 김성규': 3111, ' 박민성': 3109, '신성민': 3094, ' 아이비': 2881, '강지혜': 2840, ' 정욱진': 2837, '김종구': 2836, ' 박지연': 2760, ' 박혜나': 2679, '김서연': 2660, ' 김소향': 2613, '윤은오': 2598, '김재범': 2522, ' 김경수': 2503, ' 이석훈': 2500, ' 김연지': 2500, ' 정유지': 2500, '진태화': 2478, '배다해': 2472, '차수영': 2470, ' 정의욱': 2447, ' 주다온': 2447, ' 정다예': 2447, ' 주민진': 2441, ' 최석진': 2427, '유승현': 2412, ' 진태화': 2368, ' 나하나': 2362, ' 손승연': 2362, ' 정선아': 2362, ' 이규형': 2350, ' 정택운': 2338, '이석훈': 2310, '표지훈': 2284, ' 엄기준': 2278, ' 정우연': 2242, ' 백형훈': 2228}])"
      ]
     },
     "execution_count": 16,
     "metadata": {},
     "output_type": "execute_result"
    }
   ],
   "source": [
    "dic_val"
   ]
  },
  {
   "cell_type": "code",
   "execution_count": 18,
   "metadata": {},
   "outputs": [],
   "source": [
    "dic_list=[('홍광호',10864),('최정원',10834),('엄기준',9950),('최재림',9561),('고은성',8721),('장은아',8366),('차지연',8236),('서경수',8036),('김선영',7859),('윤공주',7687),('김소현',7244),('카이',7169),('규현',6955),('민우혁',6912),('조형균',6834),('유준상',6358),('류정한',6234),('신영숙',5982),('옥주현',5866),('박강현',5819),('서은광',5817),('강혜인',5794),('송원근',5737),('김주호',5539),('박은태',5448),('신성록',5372),('이지훈',5094),('강태을',4987),('민경아',4825),('윤도현',4768),('김려원',4751),('민우혁',4680),('박은태',4632),('임준혁',4627),('정동화',4488),('조정은',4441),('오만석',4432),('김준수',4343),('김성철',4290),('이아진',4238),('박규원',4123),('강필석',4076),('송원근',4006),('정상윤',4003),('김세정',4003),('홍우진',4003),('정성화',3936),('김윤희',3882),('박민성',3844),('이승현',3740),('티파니영',3687),('조형균',3679),('강홍석',3658),('임혜영',3641),('김혜라',3554),('이정화',3546),('조승우',3511),('이석준',3485),('강필석',3339),('유연석',3298),('나현우',3298),('김예원',3298),('김성규',3111),('박민성',3109),('신성민',3094),('아이비',2881),('강지혜',2840),('정욱진',2837),('김종구',2836),('박지연',2760),('박혜나',2679), ('김서연', 2660), (' 김소향', 2613), ('윤은오', 2598), ('김재범', 2522), (' 김경수', 2503), (' 이석훈', 2500), ('김연지',2500),('정유지',2500),('진태화',2478),('배다해',2472),('차수영',2470),('정의욱',2447),('주다온',2447),('정다예',2447),('주민진',2441),('최석진',2427),('유승현',2412),('진태화',2368),('나하나',2362),('손승연',2362),('정선아',2362),('이규형',2350),('정택운',2338),('이석훈',2310),('표지훈',2284),('엄기준',2278),('정우연',2242),('백형훈',2228)]"
   ]
  },
  {
   "cell_type": "code",
   "execution_count": null,
   "metadata": {},
   "outputs": [],
   "source": []
  }
 ],
 "metadata": {
  "kernelspec": {
   "display_name": "Python 3.10.6 64-bit",
   "language": "python",
   "name": "python3"
  },
  "language_info": {
   "codemirror_mode": {
    "name": "ipython",
    "version": 3
   },
   "file_extension": ".py",
   "mimetype": "text/x-python",
   "name": "python",
   "nbconvert_exporter": "python",
   "pygments_lexer": "ipython3",
   "version": "3.10.6"
  },
  "orig_nbformat": 4,
  "vscode": {
   "interpreter": {
    "hash": "b0fa6594d8f4cbf19f97940f81e996739fb7646882a419484c72d19e05852a7e"
   }
  }
 },
 "nbformat": 4,
 "nbformat_minor": 2
}
