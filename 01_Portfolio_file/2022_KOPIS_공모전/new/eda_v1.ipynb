{
 "cells": [
  {
   "cell_type": "code",
   "execution_count": 3,
   "metadata": {},
   "outputs": [
    {
     "name": "stdout",
     "output_type": "stream",
     "text": [
      "(5443351, 8) (6586786, 8) (10087540, 8) (2329307, 8)\n"
     ]
    }
   ],
   "source": [
    "import pandas as pd\n",
    "import numpy as np\n",
    "\n",
    "df_2019 = pd.read_csv('./data/data_2019.csv')\n",
    "df_2020 = pd.read_csv('./data/data_2020.csv')\n",
    "df_2021 = pd.read_csv('./data/data_2021.csv')\n",
    "df_2022 = pd.read_csv('./data/data_2022.csv')\n",
    "\n",
    "print(df_2019.shape, df_2020.shape, df_2021.shape, df_2022.shape)"
   ]
  },
  {
   "cell_type": "code",
   "execution_count": 4,
   "metadata": {},
   "outputs": [
    {
     "name": "stdout",
     "output_type": "stream",
     "text": [
      "(5443338, 11) (6586785, 11) (10087302, 11) (2329307, 11)\n"
     ]
    }
   ],
   "source": [
    "import pandas as pd\n",
    "import numpy as np\n",
    "\n",
    "df2019 = pd.read_csv('./data_/data_2019.csv')\n",
    "df2020 = pd.read_csv('./data_/data_2020.csv')\n",
    "df2021 = pd.read_csv('./data_/data_2021.csv')\n",
    "df2022 = pd.read_csv('./data_/data_2022.csv')\n",
    "\n",
    "print(df2019.shape, df2020.shape, df2021.shape, df2022.shape)"
   ]
  },
  {
   "cell_type": "code",
   "execution_count": 5,
   "metadata": {},
   "outputs": [],
   "source": [
    "def data_processing(exdata):\n",
    "    exdata = exdata.iloc[:,1:]\n",
    "    del exdata['연령']\n",
    "    del exdata['나이']\n",
    "    return exdata\n",
    "\n",
    "df_2019 = data_processing(df_2019)\n",
    "df_2020 = data_processing(df_2020)\n",
    "df_2021 = data_processing(df_2021)\n",
    "df_2022 = data_processing(df_2022)\n",
    "\n",
    "df2019 = data_processing(df2019)\n",
    "df2020 = data_processing(df2020)\n",
    "df2021 = data_processing(df2021)\n",
    "df2022 = data_processing(df2022)"
   ]
  },
  {
   "cell_type": "markdown",
   "metadata": {},
   "source": [
    "# df2019"
   ]
  },
  {
   "cell_type": "code",
   "execution_count": 6,
   "metadata": {},
   "outputs": [
    {
     "data": {
      "text/html": [
       "<div>\n",
       "<style scoped>\n",
       "    .dataframe tbody tr th:only-of-type {\n",
       "        vertical-align: middle;\n",
       "    }\n",
       "\n",
       "    .dataframe tbody tr th {\n",
       "        vertical-align: top;\n",
       "    }\n",
       "\n",
       "    .dataframe thead th {\n",
       "        text-align: right;\n",
       "    }\n",
       "</style>\n",
       "<table border=\"1\" class=\"dataframe\">\n",
       "  <thead>\n",
       "    <tr style=\"text-align: right;\">\n",
       "      <th></th>\n",
       "      <th>성별</th>\n",
       "      <th>장르명</th>\n",
       "      <th>세부장르명</th>\n",
       "      <th>공연지역명</th>\n",
       "      <th>출연진내용</th>\n",
       "      <th>제작진내용</th>\n",
       "      <th>오픈런 여부</th>\n",
       "      <th>연령대</th>\n",
       "    </tr>\n",
       "  </thead>\n",
       "  <tbody>\n",
       "    <tr>\n",
       "      <th>0</th>\n",
       "      <td>1</td>\n",
       "      <td>뮤지컬</td>\n",
       "      <td>넌버벌 퍼포먼스</td>\n",
       "      <td>서울</td>\n",
       "      <td>NaN</td>\n",
       "      <td>NaN</td>\n",
       "      <td>Y</td>\n",
       "      <td>40대</td>\n",
       "    </tr>\n",
       "    <tr>\n",
       "      <th>1</th>\n",
       "      <td>1</td>\n",
       "      <td>뮤지컬</td>\n",
       "      <td>넌버벌 퍼포먼스</td>\n",
       "      <td>서울</td>\n",
       "      <td>NaN</td>\n",
       "      <td>NaN</td>\n",
       "      <td>Y</td>\n",
       "      <td>40대</td>\n",
       "    </tr>\n",
       "    <tr>\n",
       "      <th>2</th>\n",
       "      <td>2</td>\n",
       "      <td>뮤지컬</td>\n",
       "      <td>넌버벌 퍼포먼스</td>\n",
       "      <td>서울</td>\n",
       "      <td>NaN</td>\n",
       "      <td>NaN</td>\n",
       "      <td>Y</td>\n",
       "      <td>60대</td>\n",
       "    </tr>\n",
       "    <tr>\n",
       "      <th>3</th>\n",
       "      <td>2</td>\n",
       "      <td>뮤지컬</td>\n",
       "      <td>넌버벌 퍼포먼스</td>\n",
       "      <td>서울</td>\n",
       "      <td>NaN</td>\n",
       "      <td>NaN</td>\n",
       "      <td>Y</td>\n",
       "      <td>60대</td>\n",
       "    </tr>\n",
       "    <tr>\n",
       "      <th>4</th>\n",
       "      <td>2</td>\n",
       "      <td>뮤지컬</td>\n",
       "      <td>넌버벌 퍼포먼스</td>\n",
       "      <td>서울</td>\n",
       "      <td>NaN</td>\n",
       "      <td>NaN</td>\n",
       "      <td>Y</td>\n",
       "      <td>60대</td>\n",
       "    </tr>\n",
       "  </tbody>\n",
       "</table>\n",
       "</div>"
      ],
      "text/plain": [
       "   성별  장르명     세부장르명 공연지역명 출연진내용 제작진내용 오픈런 여부  연령대\n",
       "0   1  뮤지컬  넌버벌 퍼포먼스    서울   NaN   NaN      Y  40대\n",
       "1   1  뮤지컬  넌버벌 퍼포먼스    서울   NaN   NaN      Y  40대\n",
       "2   2  뮤지컬  넌버벌 퍼포먼스    서울   NaN   NaN      Y  60대\n",
       "3   2  뮤지컬  넌버벌 퍼포먼스    서울   NaN   NaN      Y  60대\n",
       "4   2  뮤지컬  넌버벌 퍼포먼스    서울   NaN   NaN      Y  60대"
      ]
     },
     "execution_count": 6,
     "metadata": {},
     "output_type": "execute_result"
    }
   ],
   "source": [
    "df2019.head()"
   ]
  },
  {
   "cell_type": "markdown",
   "metadata": {},
   "source": [
    "## 성별"
   ]
  },
  {
   "cell_type": "code",
   "execution_count": 7,
   "metadata": {},
   "outputs": [
    {
     "data": {
      "text/plain": [
       "2    4246826\n",
       "1    1196512\n",
       "Name: 성별, dtype: int64"
      ]
     },
     "execution_count": 7,
     "metadata": {},
     "output_type": "execute_result"
    }
   ],
   "source": [
    "df2019['성별'].value_counts()"
   ]
  },
  {
   "cell_type": "code",
   "execution_count": 8,
   "metadata": {},
   "outputs": [],
   "source": [
    "# 남자\n",
    "df2019_sex_1 = df2019[df2019['성별']==1]\n",
    "# 여자\n",
    "df2019_sex_2 = df2019[df2019['성별']==2]"
   ]
  },
  {
   "cell_type": "code",
   "execution_count": 7,
   "metadata": {},
   "outputs": [
    {
     "data": {
      "text/plain": [
       "서울     799473\n",
       "경상도    169164\n",
       "경기도    100160\n",
       "충청도     55233\n",
       "전라도     47269\n",
       "강원도     19384\n",
       "제주도      5829\n",
       "Name: 공연지역명, dtype: int64"
      ]
     },
     "execution_count": 7,
     "metadata": {},
     "output_type": "execute_result"
    }
   ],
   "source": [
    "df2019_sex_1['공연지역명'].value_counts()"
   ]
  },
  {
   "cell_type": "code",
   "execution_count": 14,
   "metadata": {},
   "outputs": [
    {
     "data": {
      "text/plain": [
       "뮤지컬         589490\n",
       "연극          378284\n",
       "기악           93598\n",
       "발레           34264\n",
       "넌버벌 퍼포먼스     24657\n",
       "성악           18463\n",
       "복합           17066\n",
       "오페라          14845\n",
       "창극            5272\n",
       "마당극           5163\n",
       "현대무용          4836\n",
       "한국무용          3406\n",
       "연희혼합          3361\n",
       "인형극           1817\n",
       "악극            1760\n",
       "마임             230\n",
       "Name: 세부장르명, dtype: int64"
      ]
     },
     "execution_count": 14,
     "metadata": {},
     "output_type": "execute_result"
    }
   ],
   "source": [
    "df2019_sex_1['세부장르명'].value_counts()"
   ]
  },
  {
   "cell_type": "code",
   "execution_count": 29,
   "metadata": {},
   "outputs": [
    {
     "data": {
      "text/plain": [
       "뮤지컬    3355353\n",
       "연극     1355069\n",
       "클래식     360957\n",
       "무용      206372\n",
       "복합       75251\n",
       "오페라      50934\n",
       "국악       39402\n",
       "Name: 장르명, dtype: int64"
      ]
     },
     "execution_count": 29,
     "metadata": {},
     "output_type": "execute_result"
    }
   ],
   "source": [
    "df2019['장르명'].value_counts()"
   ]
  },
  {
   "cell_type": "markdown",
   "metadata": {},
   "source": [
    "# 총 데이터"
   ]
  },
  {
   "cell_type": "code",
   "execution_count": 9,
   "metadata": {},
   "outputs": [
    {
     "data": {
      "text/html": [
       "<div>\n",
       "<style scoped>\n",
       "    .dataframe tbody tr th:only-of-type {\n",
       "        vertical-align: middle;\n",
       "    }\n",
       "\n",
       "    .dataframe tbody tr th {\n",
       "        vertical-align: top;\n",
       "    }\n",
       "\n",
       "    .dataframe thead th {\n",
       "        text-align: right;\n",
       "    }\n",
       "</style>\n",
       "<table border=\"1\" class=\"dataframe\">\n",
       "  <thead>\n",
       "    <tr style=\"text-align: right;\">\n",
       "      <th></th>\n",
       "      <th>성별</th>\n",
       "      <th>장르명</th>\n",
       "      <th>세부장르명</th>\n",
       "      <th>공연지역명</th>\n",
       "      <th>출연진내용</th>\n",
       "      <th>제작진내용</th>\n",
       "      <th>오픈런 여부</th>\n",
       "      <th>연령대</th>\n",
       "    </tr>\n",
       "  </thead>\n",
       "  <tbody>\n",
       "    <tr>\n",
       "      <th>0</th>\n",
       "      <td>1</td>\n",
       "      <td>뮤지컬</td>\n",
       "      <td>넌버벌 퍼포먼스</td>\n",
       "      <td>서울</td>\n",
       "      <td>NaN</td>\n",
       "      <td>NaN</td>\n",
       "      <td>Y</td>\n",
       "      <td>40대</td>\n",
       "    </tr>\n",
       "    <tr>\n",
       "      <th>1</th>\n",
       "      <td>1</td>\n",
       "      <td>뮤지컬</td>\n",
       "      <td>넌버벌 퍼포먼스</td>\n",
       "      <td>서울</td>\n",
       "      <td>NaN</td>\n",
       "      <td>NaN</td>\n",
       "      <td>Y</td>\n",
       "      <td>40대</td>\n",
       "    </tr>\n",
       "    <tr>\n",
       "      <th>2</th>\n",
       "      <td>2</td>\n",
       "      <td>뮤지컬</td>\n",
       "      <td>넌버벌 퍼포먼스</td>\n",
       "      <td>서울</td>\n",
       "      <td>NaN</td>\n",
       "      <td>NaN</td>\n",
       "      <td>Y</td>\n",
       "      <td>60대</td>\n",
       "    </tr>\n",
       "    <tr>\n",
       "      <th>3</th>\n",
       "      <td>2</td>\n",
       "      <td>뮤지컬</td>\n",
       "      <td>넌버벌 퍼포먼스</td>\n",
       "      <td>서울</td>\n",
       "      <td>NaN</td>\n",
       "      <td>NaN</td>\n",
       "      <td>Y</td>\n",
       "      <td>60대</td>\n",
       "    </tr>\n",
       "    <tr>\n",
       "      <th>4</th>\n",
       "      <td>2</td>\n",
       "      <td>뮤지컬</td>\n",
       "      <td>넌버벌 퍼포먼스</td>\n",
       "      <td>서울</td>\n",
       "      <td>NaN</td>\n",
       "      <td>NaN</td>\n",
       "      <td>Y</td>\n",
       "      <td>60대</td>\n",
       "    </tr>\n",
       "    <tr>\n",
       "      <th>...</th>\n",
       "      <td>...</td>\n",
       "      <td>...</td>\n",
       "      <td>...</td>\n",
       "      <td>...</td>\n",
       "      <td>...</td>\n",
       "      <td>...</td>\n",
       "      <td>...</td>\n",
       "      <td>...</td>\n",
       "    </tr>\n",
       "    <tr>\n",
       "      <th>2329302</th>\n",
       "      <td>2</td>\n",
       "      <td>무용</td>\n",
       "      <td>발레</td>\n",
       "      <td>서울</td>\n",
       "      <td>NaN</td>\n",
       "      <td>페르디낭 헤롤드, 프레데릭 애쉬튼, 존 랜치베리 등</td>\n",
       "      <td>N</td>\n",
       "      <td>30대</td>\n",
       "    </tr>\n",
       "    <tr>\n",
       "      <th>2329303</th>\n",
       "      <td>2</td>\n",
       "      <td>무용</td>\n",
       "      <td>발레</td>\n",
       "      <td>서울</td>\n",
       "      <td>NaN</td>\n",
       "      <td>페르디낭 헤롤드, 프레데릭 애쉬튼, 존 랜치베리 등</td>\n",
       "      <td>N</td>\n",
       "      <td>30대</td>\n",
       "    </tr>\n",
       "    <tr>\n",
       "      <th>2329304</th>\n",
       "      <td>2</td>\n",
       "      <td>무용</td>\n",
       "      <td>발레</td>\n",
       "      <td>서울</td>\n",
       "      <td>NaN</td>\n",
       "      <td>페르디낭 헤롤드, 프레데릭 애쉬튼, 존 랜치베리 등</td>\n",
       "      <td>N</td>\n",
       "      <td>20대</td>\n",
       "    </tr>\n",
       "    <tr>\n",
       "      <th>2329305</th>\n",
       "      <td>2</td>\n",
       "      <td>무용</td>\n",
       "      <td>발레</td>\n",
       "      <td>서울</td>\n",
       "      <td>NaN</td>\n",
       "      <td>페르디낭 헤롤드, 프레데릭 애쉬튼, 존 랜치베리 등</td>\n",
       "      <td>N</td>\n",
       "      <td>20대</td>\n",
       "    </tr>\n",
       "    <tr>\n",
       "      <th>2329306</th>\n",
       "      <td>2</td>\n",
       "      <td>무용</td>\n",
       "      <td>발레</td>\n",
       "      <td>서울</td>\n",
       "      <td>NaN</td>\n",
       "      <td>페르디낭 헤롤드, 프레데릭 애쉬튼, 존 랜치베리 등</td>\n",
       "      <td>N</td>\n",
       "      <td>30대</td>\n",
       "    </tr>\n",
       "  </tbody>\n",
       "</table>\n",
       "<p>24446732 rows × 8 columns</p>\n",
       "</div>"
      ],
      "text/plain": [
       "         성별  장르명     세부장르명 공연지역명 출연진내용                         제작진내용 오픈런 여부  \\\n",
       "0         1  뮤지컬  넌버벌 퍼포먼스    서울   NaN                           NaN      Y   \n",
       "1         1  뮤지컬  넌버벌 퍼포먼스    서울   NaN                           NaN      Y   \n",
       "2         2  뮤지컬  넌버벌 퍼포먼스    서울   NaN                           NaN      Y   \n",
       "3         2  뮤지컬  넌버벌 퍼포먼스    서울   NaN                           NaN      Y   \n",
       "4         2  뮤지컬  넌버벌 퍼포먼스    서울   NaN                           NaN      Y   \n",
       "...      ..  ...       ...   ...   ...                           ...    ...   \n",
       "2329302   2   무용        발레    서울   NaN  페르디낭 헤롤드, 프레데릭 애쉬튼, 존 랜치베리 등      N   \n",
       "2329303   2   무용        발레    서울   NaN  페르디낭 헤롤드, 프레데릭 애쉬튼, 존 랜치베리 등      N   \n",
       "2329304   2   무용        발레    서울   NaN  페르디낭 헤롤드, 프레데릭 애쉬튼, 존 랜치베리 등      N   \n",
       "2329305   2   무용        발레    서울   NaN  페르디낭 헤롤드, 프레데릭 애쉬튼, 존 랜치베리 등      N   \n",
       "2329306   2   무용        발레    서울   NaN  페르디낭 헤롤드, 프레데릭 애쉬튼, 존 랜치베리 등      N   \n",
       "\n",
       "         연령대  \n",
       "0        40대  \n",
       "1        40대  \n",
       "2        60대  \n",
       "3        60대  \n",
       "4        60대  \n",
       "...      ...  \n",
       "2329302  30대  \n",
       "2329303  30대  \n",
       "2329304  20대  \n",
       "2329305  20대  \n",
       "2329306  30대  \n",
       "\n",
       "[24446732 rows x 8 columns]"
      ]
     },
     "execution_count": 9,
     "metadata": {},
     "output_type": "execute_result"
    }
   ],
   "source": [
    "df_list = [df2019, df2020, df2021,df2022]\n",
    "df_all = pd.concat(df_list)\n",
    "df_all"
   ]
  },
  {
   "cell_type": "markdown",
   "metadata": {},
   "source": [
    "## 성별"
   ]
  },
  {
   "cell_type": "code",
   "execution_count": 10,
   "metadata": {},
   "outputs": [],
   "source": [
    "# 남자\n",
    "df_all_sex_1 = df_all[df_all['성별']==1]\n",
    "#여자\n",
    "df_all_sex_2 = df_all[df_all['성별']==2]"
   ]
  },
  {
   "cell_type": "code",
   "execution_count": 40,
   "metadata": {},
   "outputs": [
    {
     "data": {
      "text/plain": [
       "뮤지컬    2578349\n",
       "연극     1182489\n",
       "클래식     447896\n",
       "무용      112621\n",
       "국악       41619\n",
       "오페라      40816\n",
       "복합       35174\n",
       "Name: 장르명, dtype: int64"
      ]
     },
     "execution_count": 40,
     "metadata": {},
     "output_type": "execute_result"
    }
   ],
   "source": [
    "df_all_sex_1['장르명'].value_counts()"
   ]
  },
  {
   "cell_type": "markdown",
   "metadata": {},
   "source": [
    "### 세부장르"
   ]
  },
  {
   "cell_type": "code",
   "execution_count": 42,
   "metadata": {},
   "outputs": [],
   "source": [
    "df_all_sex_1_mu = df_all_sex_1[df_all_sex_1['장르명']=='뮤지컬']\n",
    "df_all_sex_1_yun = df_all_sex_1[df_all_sex_1['장르명']=='연극']\n",
    "df_all_sex_1_cla = df_all_sex_1[df_all_sex_1['장르명']=='클래식']\n",
    "df_all_sex_1_muyo = df_all_sex_1[df_all_sex_1['장르명']=='무용']\n",
    "df_all_sex_1_guk = df_all_sex_1[df_all_sex_1['장르명']=='국악']\n",
    "df_all_sex_1_ope = df_all_sex_1[df_all_sex_1['장르명']=='오페라']\n",
    "df_all_sex_1_bok = df_all_sex_1[df_all_sex_1['장르명']=='복합']"
   ]
  },
  {
   "cell_type": "code",
   "execution_count": 62,
   "metadata": {},
   "outputs": [
    {
     "data": {
      "text/plain": [
       "복합    35174\n",
       "Name: 세부장르명, dtype: int64"
      ]
     },
     "execution_count": 62,
     "metadata": {},
     "output_type": "execute_result"
    }
   ],
   "source": [
    "df_all_sex_1_bok['세부장르명'].value_counts()"
   ]
  },
  {
   "cell_type": "markdown",
   "metadata": {},
   "source": [
    "### 공연지역명"
   ]
  },
  {
   "cell_type": "code",
   "execution_count": 63,
   "metadata": {},
   "outputs": [
    {
     "data": {
      "text/plain": [
       "서울     3182197\n",
       "경상도     575731\n",
       "경기도     332637\n",
       "전라도     142025\n",
       "충청도     138848\n",
       "강원도      50767\n",
       "제주도      16759\n",
       "Name: 공연지역명, dtype: int64"
      ]
     },
     "execution_count": 63,
     "metadata": {},
     "output_type": "execute_result"
    }
   ],
   "source": [
    "df_all_sex_1['공연지역명'].value_counts()"
   ]
  },
  {
   "cell_type": "code",
   "execution_count": 11,
   "metadata": {},
   "outputs": [
    {
     "data": {
      "text/plain": [
       "서울     16005681\n",
       "경상도     1680664\n",
       "경기도     1276066\n",
       "충청도      425456\n",
       "전라도      407192\n",
       "강원도      160409\n",
       "제주도       52300\n",
       "Name: 공연지역명, dtype: int64"
      ]
     },
     "execution_count": 11,
     "metadata": {},
     "output_type": "execute_result"
    }
   ],
   "source": [
    "df_all_sex_2['공연지역명'].value_counts()"
   ]
  },
  {
   "cell_type": "code",
   "execution_count": 12,
   "metadata": {},
   "outputs": [
    {
     "data": {
      "text/plain": [
       "서울     19187878\n",
       "경상도     2256395\n",
       "경기도     1608703\n",
       "충청도      564304\n",
       "전라도      549217\n",
       "강원도      211176\n",
       "제주도       69059\n",
       "Name: 공연지역명, dtype: int64"
      ]
     },
     "execution_count": 12,
     "metadata": {},
     "output_type": "execute_result"
    }
   ],
   "source": [
    "df_all['공연지역명'].value_counts()"
   ]
  },
  {
   "cell_type": "code",
   "execution_count": null,
   "metadata": {},
   "outputs": [],
   "source": []
  }
 ],
 "metadata": {
  "kernelspec": {
   "display_name": "Python 3.9.12",
   "language": "python",
   "name": "python3"
  },
  "language_info": {
   "codemirror_mode": {
    "name": "ipython",
    "version": 3
   },
   "file_extension": ".py",
   "mimetype": "text/x-python",
   "name": "python",
   "nbconvert_exporter": "python",
   "pygments_lexer": "ipython3",
   "version": "3.9.12"
  },
  "orig_nbformat": 4,
  "vscode": {
   "interpreter": {
    "hash": "38cca0c38332a56087b24af0bc80247f4fced29cb4f7f437d91dc159adec9c4e"
   }
  }
 },
 "nbformat": 4,
 "nbformat_minor": 2
}
