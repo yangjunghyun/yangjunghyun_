{
 "cells": [
  {
   "cell_type": "code",
   "execution_count": 1,
   "metadata": {},
   "outputs": [
    {
     "name": "stdout",
     "output_type": "stream",
     "text": [
      "(24, 2) (4701217, 25) (291241, 24) (291241, 2)\n"
     ]
    }
   ],
   "source": [
    "import pandas as pd\n",
    "import numpy as np\n",
    "\n",
    "data_info = pd.read_csv('data/data_info.csv')\n",
    "train = pd.read_parquet('data/train.parquet')\n",
    "test = pd.read_parquet('data/test.parquet')\n",
    "submission = pd.read_csv('data/sample_submission.csv')\n",
    "\n",
    "print(data_info.shape, train.shape, test.shape, submission.shape)"
   ]
  },
  {
   "cell_type": "code",
   "execution_count": 2,
   "metadata": {},
   "outputs": [],
   "source": [
    "def data_processing(exdata):\n",
    "  del exdata['id']\n",
    "  del exdata['vehicle_restricted']\n",
    "  del exdata['height_restricted']\n",
    "  del exdata['start_latitude']\n",
    "  del exdata['end_latitude']\n",
    "  del exdata['start_longitude']\n",
    "  del exdata['end_longitude']\n",
    "\n",
    "\n",
    "  return exdata\n",
    "\n",
    "train = data_processing(train)\n",
    "test = data_processing(test)"
   ]
  },
  {
   "cell_type": "code",
   "execution_count": 3,
   "metadata": {},
   "outputs": [],
   "source": [
    "train = train[train.maximum_speed_limit != 40.0]"
   ]
  },
  {
   "cell_type": "code",
   "execution_count": 4,
   "metadata": {},
   "outputs": [],
   "source": [
    "mask = train['road_name'].isin(['지방도1112호선', '중산간서로','지방도1119호선','지방도1120호선','삼무로','지방도1116호선', '일반국도95호선','남조로',\n",
    "'신광로','임항로', '애원로','일주동로', '호서중앙로','아봉로', '호근로' ])\n",
    "train = train[~mask]"
   ]
  },
  {
   "cell_type": "code",
   "execution_count": 5,
   "metadata": {},
   "outputs": [],
   "source": [
    "train = train.replace({'road_name':{'연삼로':1,'일반국도12호선':2,'일반국도16호선':3,'일반국도11호선':4,'번영로':5,'수영장길':6,'-':7,\n",
    "'지방도1136호선':8,'제2거로교':9,'일반국도99호선':10,'경찰로':11,'시청로':12,'서사로':13,'관광단지1로':14,'신산로':15,'새서귀로':16,\n",
    "'중문로':17,'지방도1132호선':18,'태평로':19,'산서로':20,'관광단지로':21,'중정로':22,'관광단지2로':23,'동홍로':24,'고평교':25,'애조로':26,'삼봉로':27,\n",
    "'외도천교':28,'권학로':29,'신대로':30,'삼성로':31,'지방도1118호선':32,'시민광장로':33,'지방도1115호선':34,'중앙로':35,'첨단로':36,'관덕로':37,'어시천교':38,\n",
    "'한천로':39,'동부관광도로':40,'연북2교':41,'동문로':42,'연북로':43,'연동로':44,'지방도1117호선':45,'지방도97호선':46}})\n",
    "\n",
    "test = test.replace({'road_name':{'연삼로':1,'일반국도12호선':2,'일반국도16호선':3,'일반국도11호선':4,'번영로':5,'수영장길':6,'-':7,\n",
    "'지방도1136호선':8,'제2거로교':9,'일반국도99호선':10,'경찰로':11,'시청로':12,'서사로':13,'관광단지1로':14,'신산로':15,'새서귀로':16,\n",
    "'중문로':17,'지방도1132호선':18,'태평로':19,'산서로':20,'관광단지로':21,'중정로':22,'관광단지2로':23,'동홍로':24,'고평교':25,'애조로':26,'삼봉로':27,\n",
    "'외도천교':28,'권학로':29,'신대로':30,'삼성로':31,'지방도1118호선':32,'시민광장로':33,'지방도1115호선':34,'중앙로':35,'첨단로':36,'관덕로':37,'어시천교':38,\n",
    "'한천로':39,'동부관광도로':40,'연북2교':41,'동문로':42,'연북로':43,'연동로':44,'지방도1117호선':45,'지방도97호선':46}})"
   ]
  },
  {
   "cell_type": "code",
   "execution_count": 6,
   "metadata": {},
   "outputs": [],
   "source": [
    "from sklearn.preprocessing import LabelEncoder\n",
    "\n",
    "str_col = ['base_date', 'day_of_week', 'base_hour', 'road_in_use', 'lane_count',\n",
    "       'road_rating', 'road_name', 'multi_linked', 'connect_code',\n",
    "       'maximum_speed_limit', 'weight_restricted', 'road_type',\n",
    "       'start_node_name', 'start_turn_restricted', 'end_node_name',\n",
    "       'end_turn_restricted']\n",
    "       \n",
    "for i in str_col:\n",
    "    le = LabelEncoder()\n",
    "    le=le.fit(train[i])\n",
    "    train[i]=le.transform(train[i])\n",
    "    \n",
    "    for label in np.unique(test[i]):\n",
    "        if label not in le.classes_: \n",
    "            le.classes_ = np.append(le.classes_, label)\n",
    "    test[i]=le.transform(test[i])"
   ]
  },
  {
   "cell_type": "code",
   "execution_count": 7,
   "metadata": {},
   "outputs": [],
   "source": [
    "from sklearn.preprocessing import MinMaxScaler\n",
    "minmaxScaler = MinMaxScaler()\n",
    "train['distance_scaled'] = minmaxScaler.fit_transform(train['distance'].values.reshape(-1,1))\n",
    "test['distance_scaled'] = minmaxScaler.fit_transform(test['distance'].values.reshape(-1,1))\n",
    "\n",
    "del train['distance']\n",
    "del test['distance']"
   ]
  },
  {
   "cell_type": "code",
   "execution_count": 8,
   "metadata": {},
   "outputs": [],
   "source": [
    "X_train = train.drop(\"target\",axis=1)\n",
    "y_train = train['target']\n",
    "y_test = submission['target']"
   ]
  },
  {
   "cell_type": "code",
   "execution_count": 9,
   "metadata": {},
   "outputs": [
    {
     "data": {
      "text/plain": [
       "((4006268, 17), (291241, 17), (4006268,), (291241,))"
      ]
     },
     "execution_count": 9,
     "metadata": {},
     "output_type": "execute_result"
    }
   ],
   "source": [
    "X_train.shape, test.shape, y_train.shape, y_test.shape"
   ]
  },
  {
   "cell_type": "code",
   "execution_count": 10,
   "metadata": {},
   "outputs": [
    {
     "name": "stdout",
     "output_type": "stream",
     "text": [
      "Metal device set to: Apple M2\n",
      "\n",
      "systemMemory: 16.00 GB\n",
      "maxCacheSize: 5.33 GB\n",
      "\n"
     ]
    },
    {
     "name": "stderr",
     "output_type": "stream",
     "text": [
      "2022-12-15 05:00:25.144551: I tensorflow/core/common_runtime/pluggable_device/pluggable_device_factory.cc:306] Could not identify NUMA node of platform GPU ID 0, defaulting to 0. Your kernel may not have been built with NUMA support.\n",
      "2022-12-15 05:00:25.144914: I tensorflow/core/common_runtime/pluggable_device/pluggable_device_factory.cc:272] Created TensorFlow device (/job:localhost/replica:0/task:0/device:GPU:0 with 0 MB memory) -> physical PluggableDevice (device: 0, name: METAL, pci bus id: <undefined>)\n"
     ]
    },
    {
     "name": "stdout",
     "output_type": "stream",
     "text": [
      "Epoch 1/30\n"
     ]
    },
    {
     "name": "stderr",
     "output_type": "stream",
     "text": [
      "2022-12-15 05:00:27.310521: W tensorflow/core/platform/profile_utils/cpu_utils.cc:128] Failed to get CPU frequency: 0 Hz\n",
      "2022-12-15 05:00:27.834373: I tensorflow/core/grappler/optimizers/custom_graph_optimizer_registry.cc:114] Plugin optimizer for device_type GPU is enabled.\n"
     ]
    },
    {
     "name": "stdout",
     "output_type": "stream",
     "text": [
      "31299/31299 [==============================] - 411s 13ms/step - loss: 6.1129\n",
      "Epoch 2/30\n",
      "31299/31299 [==============================] - 397s 13ms/step - loss: 4.6863\n",
      "Epoch 3/30\n",
      "31299/31299 [==============================] - 407s 13ms/step - loss: 4.5137\n",
      "Epoch 4/30\n",
      "31299/31299 [==============================] - 375s 12ms/step - loss: 4.4265\n",
      "Epoch 5/30\n",
      "31299/31299 [==============================] - 379s 12ms/step - loss: 4.3626\n",
      "Epoch 6/30\n",
      "31299/31299 [==============================] - 372s 12ms/step - loss: 4.3122\n",
      "Epoch 7/30\n",
      "31299/31299 [==============================] - 370s 12ms/step - loss: 4.2747\n",
      "Epoch 8/30\n",
      "31299/31299 [==============================] - 374s 12ms/step - loss: 4.2444\n",
      "Epoch 9/30\n",
      "31299/31299 [==============================] - 373s 12ms/step - loss: 4.2151\n",
      "Epoch 10/30\n",
      "31299/31299 [==============================] - 379s 12ms/step - loss: 4.1894\n",
      "Epoch 11/30\n",
      "31299/31299 [==============================] - 295s 9ms/step - loss: 4.1688\n",
      "Epoch 12/30\n",
      "31299/31299 [==============================] - 264s 8ms/step - loss: 4.1539\n",
      "Epoch 13/30\n",
      "31299/31299 [==============================] - 278s 9ms/step - loss: 4.1352\n",
      "Epoch 14/30\n",
      "31299/31299 [==============================] - 274s 9ms/step - loss: 4.1188\n",
      "Epoch 15/30\n",
      "31299/31299 [==============================] - 286s 9ms/step - loss: 4.1059\n",
      "Epoch 16/30\n",
      "31299/31299 [==============================] - 278s 9ms/step - loss: 4.0870\n",
      "Epoch 17/30\n",
      "31299/31299 [==============================] - 292s 9ms/step - loss: 4.0750\n",
      "Epoch 18/30\n",
      "31299/31299 [==============================] - 226s 7ms/step - loss: 4.0580\n",
      "Epoch 19/30\n",
      "31299/31299 [==============================] - 220s 7ms/step - loss: 4.0495\n",
      "Epoch 20/30\n",
      "31299/31299 [==============================] - 216s 7ms/step - loss: 4.0364\n",
      "Epoch 21/30\n",
      "31299/31299 [==============================] - 224s 7ms/step - loss: 4.0272\n",
      "Epoch 22/30\n",
      "31299/31299 [==============================] - 226s 7ms/step - loss: 4.0166\n",
      "Epoch 23/30\n",
      "31299/31299 [==============================] - 225s 7ms/step - loss: 4.0082\n",
      "Epoch 24/30\n",
      "31299/31299 [==============================] - 227s 7ms/step - loss: 4.0006\n",
      "Epoch 25/30\n",
      "31299/31299 [==============================] - 228s 7ms/step - loss: 3.9912\n",
      "Epoch 26/30\n",
      "31299/31299 [==============================] - 233s 7ms/step - loss: 3.9871\n",
      "Epoch 27/30\n",
      "31299/31299 [==============================] - 227s 7ms/step - loss: 3.9806\n",
      "Epoch 28/30\n",
      "31299/31299 [==============================] - 227s 7ms/step - loss: 3.9733\n",
      "Epoch 29/30\n",
      "31299/31299 [==============================] - 229s 7ms/step - loss: 3.9670\n",
      "Epoch 30/30\n",
      "31299/31299 [==============================] - 231s 7ms/step - loss: 3.9606\n",
      "  39/9102 [..............................] - ETA: 23s "
     ]
    },
    {
     "name": "stderr",
     "output_type": "stream",
     "text": [
      "2022-12-15 07:26:10.854006: I tensorflow/core/grappler/optimizers/custom_graph_optimizer_registry.cc:114] Plugin optimizer for device_type GPU is enabled.\n"
     ]
    },
    {
     "name": "stdout",
     "output_type": "stream",
     "text": [
      "9102/9102 [==============================] - 20s 2ms/step\n"
     ]
    }
   ],
   "source": [
    "# 0. 사용할 패키지 불러오기\n",
    "import numpy as np\n",
    "from keras.models import Sequential\n",
    "from keras.layers import Dense\n",
    "import random\n",
    "\n",
    "\n",
    "# 2. 모델 구성하기\n",
    "model = Sequential()\n",
    "model.add(Dense(256, input_shape=X_train.shape[1:], activation='swish'))\n",
    "model.add(Dense(128, activation='swish'))\n",
    "model.add(Dense(64, activation='swish'))\n",
    "model.add(Dense(32, activation='swish'))\n",
    "model.add(Dense(1))\n",
    "\n",
    "# 3. 모델 학습과정 설정하기\n",
    "model.compile(optimizer='adam', loss='mae')\n",
    "\n",
    "# 4. 모델 학습시키기\n",
    "hist = model.fit(X_train, y_train, epochs=30, batch_size=128)\n",
    "y_pred = model.predict(test)"
   ]
  },
  {
   "cell_type": "code",
   "execution_count": 11,
   "metadata": {},
   "outputs": [],
   "source": [
    "submission['target'] = y_pred"
   ]
  },
  {
   "cell_type": "code",
   "execution_count": 12,
   "metadata": {},
   "outputs": [
    {
     "data": {
      "text/html": [
       "<div>\n",
       "<style scoped>\n",
       "    .dataframe tbody tr th:only-of-type {\n",
       "        vertical-align: middle;\n",
       "    }\n",
       "\n",
       "    .dataframe tbody tr th {\n",
       "        vertical-align: top;\n",
       "    }\n",
       "\n",
       "    .dataframe thead th {\n",
       "        text-align: right;\n",
       "    }\n",
       "</style>\n",
       "<table border=\"1\" class=\"dataframe\">\n",
       "  <thead>\n",
       "    <tr style=\"text-align: right;\">\n",
       "      <th></th>\n",
       "      <th>id</th>\n",
       "      <th>target</th>\n",
       "    </tr>\n",
       "  </thead>\n",
       "  <tbody>\n",
       "    <tr>\n",
       "      <th>0</th>\n",
       "      <td>TEST_000000</td>\n",
       "      <td>27.994806</td>\n",
       "    </tr>\n",
       "    <tr>\n",
       "      <th>1</th>\n",
       "      <td>TEST_000001</td>\n",
       "      <td>43.184551</td>\n",
       "    </tr>\n",
       "    <tr>\n",
       "      <th>2</th>\n",
       "      <td>TEST_000002</td>\n",
       "      <td>52.797756</td>\n",
       "    </tr>\n",
       "    <tr>\n",
       "      <th>3</th>\n",
       "      <td>TEST_000003</td>\n",
       "      <td>36.886700</td>\n",
       "    </tr>\n",
       "    <tr>\n",
       "      <th>4</th>\n",
       "      <td>TEST_000004</td>\n",
       "      <td>43.575874</td>\n",
       "    </tr>\n",
       "    <tr>\n",
       "      <th>...</th>\n",
       "      <td>...</td>\n",
       "      <td>...</td>\n",
       "    </tr>\n",
       "    <tr>\n",
       "      <th>291236</th>\n",
       "      <td>TEST_291236</td>\n",
       "      <td>49.459301</td>\n",
       "    </tr>\n",
       "    <tr>\n",
       "      <th>291237</th>\n",
       "      <td>TEST_291237</td>\n",
       "      <td>50.140625</td>\n",
       "    </tr>\n",
       "    <tr>\n",
       "      <th>291238</th>\n",
       "      <td>TEST_291238</td>\n",
       "      <td>22.800591</td>\n",
       "    </tr>\n",
       "    <tr>\n",
       "      <th>291239</th>\n",
       "      <td>TEST_291239</td>\n",
       "      <td>22.373558</td>\n",
       "    </tr>\n",
       "    <tr>\n",
       "      <th>291240</th>\n",
       "      <td>TEST_291240</td>\n",
       "      <td>43.148731</td>\n",
       "    </tr>\n",
       "  </tbody>\n",
       "</table>\n",
       "<p>291241 rows × 2 columns</p>\n",
       "</div>"
      ],
      "text/plain": [
       "                 id     target\n",
       "0       TEST_000000  27.994806\n",
       "1       TEST_000001  43.184551\n",
       "2       TEST_000002  52.797756\n",
       "3       TEST_000003  36.886700\n",
       "4       TEST_000004  43.575874\n",
       "...             ...        ...\n",
       "291236  TEST_291236  49.459301\n",
       "291237  TEST_291237  50.140625\n",
       "291238  TEST_291238  22.800591\n",
       "291239  TEST_291239  22.373558\n",
       "291240  TEST_291240  43.148731\n",
       "\n",
       "[291241 rows x 2 columns]"
      ]
     },
     "execution_count": 12,
     "metadata": {},
     "output_type": "execute_result"
    }
   ],
   "source": [
    "submission"
   ]
  },
  {
   "cell_type": "code",
   "execution_count": 13,
   "metadata": {},
   "outputs": [],
   "source": [
    "submission.to_csv('deep_final_v6.csv',index=False)"
   ]
  },
  {
   "cell_type": "code",
   "execution_count": null,
   "metadata": {},
   "outputs": [],
   "source": []
  }
 ],
 "metadata": {
  "kernelspec": {
   "display_name": "tensorflow",
   "language": "python",
   "name": "python3"
  },
  "language_info": {
   "codemirror_mode": {
    "name": "ipython",
    "version": 3
   },
   "file_extension": ".py",
   "mimetype": "text/x-python",
   "name": "python",
   "nbconvert_exporter": "python",
   "pygments_lexer": "ipython3",
   "version": "3.8.13 | packaged by conda-forge | (default, Mar 25 2022, 06:04:14) \n[Clang 12.0.1 ]"
  },
  "orig_nbformat": 4,
  "vscode": {
   "interpreter": {
    "hash": "4bd624a0593993fe43ac4046b27b898fb2ef75c21c08f81e89e64ea0f51df676"
   }
  }
 },
 "nbformat": 4,
 "nbformat_minor": 2
}
