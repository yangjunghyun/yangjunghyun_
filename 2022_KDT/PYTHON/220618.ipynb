{
 "cells": [
  {
   "cell_type": "code",
   "execution_count": 1,
   "metadata": {},
   "outputs": [
    {
     "name": "stdout",
     "output_type": "stream",
     "text": [
      "300 과 400 의 합은 700 입니다.\n"
     ]
    }
   ],
   "source": [
    "# 2.15 사용자로부터 정수 입력받기\n",
    "x = int(input(\"첫 번째 정수를 입력하시오 :\"))\n",
    "y = int(input(\"두 번째 정수를 입력하시오 :\"))\n",
    "print(x, \"과\", y, \"의 합은\", x+y,\"입니다.\")"
   ]
  },
  {
   "cell_type": "code",
   "execution_count": 2,
   "metadata": {},
   "outputs": [
    {
     "name": "stdout",
     "output_type": "stream",
     "text": [
      "키가 1.72 이고, 몸무게가 78.8 인 사람의 BMI는? 26.636019469983776\n"
     ]
    }
   ],
   "source": [
    "### 도전문제 2.6\n",
    "# 1. 사용자로부터 체중과 신장을 입력하도록 하여, 입력된 값에 따라 BMI를 계산하는 스크립트를 작성하라.\n",
    "#키가 172cm이고, 몸무게가 78.8kg인 홍길동씨의 BMI를 계산하여 출력하시오.\n",
    "weight = float(input(\"체중을 입력하시오 :\"))\n",
    "height = float(input(\"신장을 입력하시오 :\"))\n",
    "BMI = weight / height**2\n",
    "print(\"키가\",height,\"이고, 몸무게가\",weight,\"인 사람의 BMI는?\",BMI)\n"
   ]
  },
  {
   "cell_type": "code",
   "execution_count": 4,
   "metadata": {},
   "outputs": [
    {
     "name": "stdout",
     "output_type": "stream",
     "text": [
      "100 과 200 의 합은 300 이고, 평균은 150.0 입니다.\n"
     ]
    }
   ],
   "source": [
    "# 2. 사용자로부터 두 수를 입력받아 두 수의 합과 평균을 출력하는 프로그램을 작성하여라.\n",
    "x = int(input(\"첫 번째 정수를 입력하시오 :\"))\n",
    "y = int(input(\"두 번째 정수를 입력하시오 :\"))\n",
    "print(x, \"과\", y, \"의 합은\", x+y,\"이고, 평균은\",(x+y)/2,\"입니다.\")"
   ]
  },
  {
   "cell_type": "code",
   "execution_count": 6,
   "metadata": {},
   "outputs": [
    {
     "name": "stdout",
     "output_type": "stream",
     "text": [
      "100 과 200 과 300 의 합은 600 이고, 평균은 200.0 입니다.\n"
     ]
    }
   ],
   "source": [
    "# 3. 사용자로부터 세 수를 입력받아 세 수의 합과 평균을 출력하는 프로그램을 작성하여라.\n",
    "x = int(input(\"첫 번째 정수를 입력하시오 :\"))\n",
    "y = int(input(\"두 번째 정수를 입력하시오 :\"))\n",
    "z = int(input(\"세 번째 정수를 입력하시오 :\"))\n",
    "print(x,\"과\", y,\"과\", z,\"의 합은\", x+y+z,\"이고, 평균은\",(x+y+z)/3,\"입니다.\")"
   ]
  },
  {
   "cell_type": "code",
   "execution_count": 8,
   "metadata": {},
   "outputs": [
    {
     "name": "stdout",
     "output_type": "stream",
     "text": [
      "==========================================\n",
      "오늘 강릉 에서 야구 경기가 열렸습니다.\n",
      "드림즈 과 비룡스 은 치열한 공방전을 펼쳤습니다.\n",
      "강두기 의 맹활약으로 드림즈 가 비룡스 를 9:7 로 이겼습니다.\n",
      "==========================================\n"
     ]
    }
   ],
   "source": [
    "# LAB 2-5 로봇기자가 야구기사를 쓰다\n",
    "stadium = input(\"경기장은 어디입니까?\")\n",
    "winner_team = input(\"이긴 팀은 어디입니까?\")\n",
    "loser_team = input(\"진 팀은 어디입니까?\")\n",
    "ace = input(\"우수 선수는 누구입니까?\")\n",
    "score = input(\"스코어는 몇 대 몇입니까?\")\n",
    "\n",
    "print(\"==========================================\")\n",
    "print(\"오늘\",stadium,\"에서 야구 경기가 열렸습니다.\")\n",
    "print(winner_team,\"과\",loser_team,\"은 치열한 공방전을 펼쳤습니다.\")\n",
    "print(ace,\"의 맹활약으로\",winner_team,\"가\",loser_team,\"를\", score,\"로 이겼습니다.\")\n",
    "print(\"==========================================\")"
   ]
  },
  {
   "cell_type": "code",
   "execution_count": null,
   "metadata": {},
   "outputs": [],
   "source": [
    "# LAB 2-6 "
   ]
  }
 ],
 "metadata": {
  "kernelspec": {
   "display_name": "Python 3.8.3 ('base')",
   "language": "python",
   "name": "python3"
  },
  "language_info": {
   "codemirror_mode": {
    "name": "ipython",
    "version": 3
   },
   "file_extension": ".py",
   "mimetype": "text/x-python",
   "name": "python",
   "nbconvert_exporter": "python",
   "pygments_lexer": "ipython3",
   "version": "3.8.3"
  },
  "orig_nbformat": 4,
  "vscode": {
   "interpreter": {
    "hash": "f08154012ddadd8e950e6e9e035c7a7b32c136e7647e9b7c77e02eb723a8bedb"
   }
  }
 },
 "nbformat": 4,
 "nbformat_minor": 2
}
