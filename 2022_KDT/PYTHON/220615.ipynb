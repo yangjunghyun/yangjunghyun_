{
 "cells": [
  {
   "cell_type": "markdown",
   "metadata": {},
   "source": [
    "# 1장"
   ]
  },
  {
   "cell_type": "code",
   "execution_count": 3,
   "metadata": {},
   "outputs": [
    {
     "name": "stdout",
     "output_type": "stream",
     "text": [
      "50.24\n"
     ]
    }
   ],
   "source": [
    "# 다음 코드는 반지름을 이용하여 원의 면적을 출력하는 코드이다.\n",
    "반지름 = 4\n",
    "면적 = 3.14 * 반지름 * 반지름\n",
    "print(면적)"
   ]
  },
  {
   "cell_type": "code",
   "execution_count": 4,
   "metadata": {},
   "outputs": [
    {
     "name": "stdout",
     "output_type": "stream",
     "text": [
      "24\n",
      "0.5\n",
      "200\n",
      "1657\n",
      "12.34\n",
      "452.38924800000007\n"
     ]
    }
   ],
   "source": [
    "# 도전문제 1.1\n",
    "# 계산\n",
    "# 1. 4 * 3 * 2 * 1\n",
    "print(4*3*2*1)\n",
    "# 2. 1/2\n",
    "print(1/2)\n",
    "# 3. 300 - 100\n",
    "print(300 - 100)\n",
    "# 4. 423 + 1234\n",
    "print(423 + 1234)\n",
    "# 5. (1/100) * 1234\n",
    "print((1/100)*1234)\n",
    "# 6. 3.141592 * 12.0 * 12.0\n",
    "print(3.141592 * 12.0 * 12.0)"
   ]
  },
  {
   "cell_type": "code",
   "execution_count": 8,
   "metadata": {},
   "outputs": [
    {
     "name": "stdout",
     "output_type": "stream",
     "text": [
      "안녕하세요? 여러분\n",
      "저는 파이썬을 무척 좋아합니다.\n",
      "9*8은 72 입니다.\n",
      "안녕히 계세요.\n"
     ]
    }
   ],
   "source": [
    "# LAB 1-1 자주 사용하게 될 print() 함수를 연습해보자\n",
    "print(\"안녕하세요?\",\"여러분\")\n",
    "print(\"저는\",\"파이썬을\",\"무척\",\"좋아합니다.\")\n",
    "print(\"9*8은\",9*8,\"입니다.\")\n",
    "print(\"안녕히\",\"계세요.\")"
   ]
  },
  {
   "cell_type": "code",
   "execution_count": 9,
   "metadata": {},
   "outputs": [
    {
     "name": "stdout",
     "output_type": "stream",
     "text": [
      "50 + 30 = 80\n",
      "50 - 30 = 20\n",
      "50 * 30 = 1500\n",
      "50 / 30 = 1.6666666666666667\n"
     ]
    }
   ],
   "source": [
    "# 도전문제 1.3\n",
    "print('50 + 30 =',50+30)\n",
    "print('50 - 30 =', 50-30)\n",
    "print('50 * 30 =', 50*30)\n",
    "print('50 / 30 =', 50/30)"
   ]
  },
  {
   "cell_type": "markdown",
   "metadata": {},
   "source": [
    "### 심화문제 풀이"
   ]
  },
  {
   "cell_type": "code",
   "execution_count": 12,
   "metadata": {},
   "outputs": [
    {
     "name": "stdout",
     "output_type": "stream",
     "text": [
      "I love Python!! \n",
      "I love Python!! \n",
      "I love Python!! \n",
      "I love Python!! \n",
      "I love Python!! \n",
      "\n"
     ]
    }
   ],
   "source": [
    "# 'I love Python!!'을 5줄에 걸쳐 모두 5번 출력하는 코드를 만들어보자.\n",
    "print('I love Python!! \\n'*5)"
   ]
  },
  {
   "cell_type": "code",
   "execution_count": 13,
   "metadata": {},
   "outputs": [
    {
     "name": "stdout",
     "output_type": "stream",
     "text": [
      "*\n",
      "**\n",
      "***\n",
      "****\n",
      "*****\n",
      "******\n"
     ]
    }
   ],
   "source": [
    "# 1.6 별 그리기\n",
    "print(\"*\")\n",
    "print(\"*\"*2)\n",
    "print(\"*\"*3)\n",
    "print(\"*\"*4)\n",
    "print(\"*\"*5)\n",
    "print(\"*\"*6)"
   ]
  },
  {
   "cell_type": "code",
   "execution_count": 27,
   "metadata": {},
   "outputs": [
    {
     "name": "stdout",
     "output_type": "stream",
     "text": [
      "1에서 10까지의 정수의 합은? 55\n",
      "반지름의 길이가 5 인 원의 둘레는? 31.400000000000002\n",
      "한 변의 길이가 20 인 정사각형의 둘레는? 80\n",
      "한 변의 길이가 20 인 정사각형의 면적은? 400\n",
      "높이가 10 이고, 밑변이 30 인 직사각형의 둘레는? 80\n",
      "높이가 10 이고, 밑변이 30 인 직사각형의 면적은? 300\n"
     ]
    }
   ],
   "source": [
    "# 파이썬 대화창을 이용하여 다음과 같은 수식을 계산을 해 보도록 하자.\n",
    "# 1. 1에서 10까지 정수의 합\n",
    "print(\"1에서 10까지의 정수의 합은?\", 1+2+3+4+5+6+7+8+9+10)\n",
    "# 2. 반지름의 길이가 5인 원의 둘레\n",
    "반지름 = 5\n",
    "print(\"반지름의 길이가\",반지름,'인 원의 둘레는?', 반지름*2*3.14)\n",
    "# 3. 한 변의 길이가 20인 정사각형의 둘레\n",
    "길이 = 20\n",
    "print(\"한 변의 길이가\",길이,\"인 정사각형의 둘레는?\", 길이*4)\n",
    "# 4. 한 변의 길이가 20인 정사각형의 면적\n",
    "print(\"한 변의 길이가\",길이,\"인 정사각형의 면적은?\", 길이*길이)\n",
    "# 5. 높이가 10이고 밑변이 30인 직사각형의 둘레\n",
    "높이 = 10\n",
    "밑변 = 30\n",
    "print(\"높이가\",높이,\"이고, 밑변이\",밑변,\"인 직사각형의 둘레는?\",(높이+밑변)*2)\n",
    "# 6. 높이가 10이고 밑변이 30인 직사각형의 면적\n",
    "print(\"높이가\",높이,\"이고, 밑변이\",밑변,\"인 직사각형의 면적은?\",높이*밑변)"
   ]
  },
  {
   "cell_type": "code",
   "execution_count": 16,
   "metadata": {},
   "outputs": [
    {
     "name": "stdout",
     "output_type": "stream",
     "text": [
      "24\n",
      "120\n",
      "720\n"
     ]
    }
   ],
   "source": [
    "# 1.10 4!,5!,6!을 구하여 출력해보자\n",
    "print(4*3*2*1) #4!\n",
    "print(5*4*3*2*1) #5!\n",
    "print(6*5*4*3*2*1) #6!"
   ]
  },
  {
   "cell_type": "markdown",
   "metadata": {},
   "source": [
    "# 2장"
   ]
  },
  {
   "cell_type": "code",
   "execution_count": 23,
   "metadata": {},
   "outputs": [
    {
     "name": "stdout",
     "output_type": "stream",
     "text": [
      "21.604938271604937\n"
     ]
    }
   ],
   "source": [
    "### LAB 2-1 신체질량지수를 파이썬으로 계산하기\n",
    "#ex) 180, 70\n",
    "height = 1.80\n",
    "weight = 70\n",
    "BMI = weight / height**2\n",
    "print(BMI)"
   ]
  },
  {
   "cell_type": "code",
   "execution_count": 24,
   "metadata": {},
   "outputs": [
    {
     "name": "stdout",
     "output_type": "stream",
     "text": [
      "26.636019469983776\n"
     ]
    }
   ],
   "source": [
    "# 도전문제 2.1\n",
    "# 1. 키가 172cm이고, 몸무게가 78.8kg인 홍길동씨의 BMI를 계산하여 출력하시오.\n",
    "height = 1.72\n",
    "weight = 78.8\n",
    "BMI = weight / height**2\n",
    "print(BMI)"
   ]
  },
  {
   "cell_type": "code",
   "execution_count": 26,
   "metadata": {},
   "outputs": [
    {
     "name": "stdout",
     "output_type": "stream",
     "text": [
      "피자 면적은 1256.0\n",
      "피자 면적은 1256.0\n"
     ]
    }
   ],
   "source": [
    "# LAB 2-2 피자의 면적을 계산해보자.\n",
    "# radius = 10\n",
    "area = 3.14 * radius ** 2\n",
    "print('피자 면적은', area)\n",
    "# 반지름이 20인 피자의 면적은?\n",
    "radius = 20\n",
    "print(\"피자 면적은\",area)"
   ]
  },
  {
   "cell_type": "code",
   "execution_count": 29,
   "metadata": {},
   "outputs": [
    {
     "name": "stdout",
     "output_type": "stream",
     "text": [
      "피자의 면적은 1256.0 이고, 피자의 둘레는 125.60000000000001 이다.\n"
     ]
    }
   ],
   "source": [
    "# 도전문제 2.2\n",
    "# 1. 피자의 반지름을 20으로 하고 면적과 둘레를 동시에 계산해보자.\n",
    "radius = 20\n",
    "area = 3.14 * radius **2\n",
    "circumference = radius*2*3.14\n",
    "print(\"피자의 면적은\",area,\"이고, 피자의 둘레는\",circumference,\"이다.\")"
   ]
  },
  {
   "cell_type": "code",
   "execution_count": 30,
   "metadata": {},
   "outputs": [
    {
     "name": "stdout",
     "output_type": "stream",
     "text": [
      "피자의 면적은 2826.0 이고, 피자의 둘레는 188.4 이다.\n"
     ]
    }
   ],
   "source": [
    "# 2. 피자의 반지름을 30으로 하고 면적과 둘레를 동시에 계산해보자.\n",
    "radius = 30\n",
    "area = 3.14 * radius **2\n",
    "circumference = radius*2*3.14\n",
    "print(\"피자의 면적은\",area,\"이고, 피자의 둘레는\",circumference,\"이다.\")"
   ]
  },
  {
   "cell_type": "code",
   "execution_count": 31,
   "metadata": {},
   "outputs": [
    {
     "name": "stdout",
     "output_type": "stream",
     "text": [
      "원금 : 10000000\n",
      "이율 : 0.03\n",
      "기간 : 5\n",
      "수령금액 : 11592740.743\n"
     ]
    }
   ],
   "source": [
    "### LAB 2-4 복리 이자 계산하기\n",
    "principal = 10000000\n",
    "interest_rate = 0.03\n",
    "years = 5\n",
    "money = principal * (1.0+interest_rate)**5\n",
    "print(\"원금 :\", principal)\n",
    "print(\"이율 :\", interest_rate)\n",
    "print(\"기간 :\", years)\n",
    "print(\"수령금액 :\", principal * (1.0 + interest_rate) ** years)"
   ]
  },
  {
   "cell_type": "code",
   "execution_count": 32,
   "metadata": {},
   "outputs": [
    {
     "name": "stdout",
     "output_type": "stream",
     "text": [
      "원금 : 100000000\n",
      "이율 : 0.03\n",
      "기간 : 5\n",
      "수령금액 : 115927407.43\n"
     ]
    }
   ],
   "source": [
    "# 도전문제 2.4\n",
    "# 1. 원금을 1,000만원 대신 1억원으로 수정하여 이 프로그램을 실행하고 그 결과를 출력하여라.\n",
    "principal = 100000000\n",
    "interest_rate = 0.03\n",
    "years = 5\n",
    "money = principal * (1.0+interest_rate)**5\n",
    "print(\"원금 :\", principal)\n",
    "print(\"이율 :\", interest_rate)\n",
    "print(\"기간 :\", years)\n",
    "print(\"수령금액 :\", principal * (1.0 + interest_rate) ** years)"
   ]
  },
  {
   "cell_type": "markdown",
   "metadata": {},
   "source": [
    "### ----------------- P.58 ----------------- "
   ]
  },
  {
   "cell_type": "code",
   "execution_count": null,
   "metadata": {},
   "outputs": [],
   "source": []
  }
 ],
 "metadata": {
  "kernelspec": {
   "display_name": "Python 3.8.3 ('base')",
   "language": "python",
   "name": "python3"
  },
  "language_info": {
   "codemirror_mode": {
    "name": "ipython",
    "version": 3
   },
   "file_extension": ".py",
   "mimetype": "text/x-python",
   "name": "python",
   "nbconvert_exporter": "python",
   "pygments_lexer": "ipython3",
   "version": "3.8.3"
  },
  "orig_nbformat": 4,
  "vscode": {
   "interpreter": {
    "hash": "f08154012ddadd8e950e6e9e035c7a7b32c136e7647e9b7c77e02eb723a8bedb"
   }
  }
 },
 "nbformat": 4,
 "nbformat_minor": 2
}
