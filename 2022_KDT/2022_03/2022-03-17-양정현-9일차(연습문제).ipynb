{
 "cells": [
  {
   "cell_type": "code",
   "execution_count": 5,
   "metadata": {},
   "outputs": [
    {
     "name": "stdout",
     "output_type": "stream",
     "text": [
      "*\n",
      "**\n",
      "***\n",
      "****\n",
      "*****\n"
     ]
    }
   ],
   "source": [
    "## 별 만들기 교수님 코드\n",
    "for j in range(1,6):\n",
    "    for i in range(j):\n",
    "        print(\"*\",end=\"\")\n",
    "    print()"
   ]
  },
  {
   "cell_type": "code",
   "execution_count": 65,
   "metadata": {},
   "outputs": [
    {
     "name": "stdout",
     "output_type": "stream",
     "text": [
      "171700\n"
     ]
    }
   ],
   "source": [
    "###연습문제 #내 코드\n",
    "#1+(1+2)+(1+2+3)+...+(1+...+100)\n",
    "#답 : 171700\n",
    "sum = 0\n",
    "for i in range(1,101):\n",
    "    for j in range(i):\n",
    "        j += 1\n",
    "        sum += j\n",
    "    #     print(j,end=\"\")\n",
    "    # print()\n",
    "print(sum)"
   ]
  },
  {
   "cell_type": "code",
   "execution_count": 64,
   "metadata": {},
   "outputs": [
    {
     "name": "stdout",
     "output_type": "stream",
     "text": [
      "171700\n"
     ]
    }
   ],
   "source": [
    "###연습문제\n",
    "#1+(1+2)+(1+2+3)+...+(1+...+100)\n",
    "#1\n",
    "sum = 0\n",
    "for i in range(1,101):\n",
    "    for j in range(1, i+1):\n",
    "        sum += j\n",
    "    #     print(j,end=\"\")\n",
    "    # print()\n",
    "print(sum)"
   ]
  },
  {
   "cell_type": "code",
   "execution_count": 11,
   "metadata": {},
   "outputs": [
    {
     "name": "stdout",
     "output_type": "stream",
     "text": [
      "1 2\n",
      "3 1\n",
      "5 0\n"
     ]
    }
   ],
   "source": [
    "#2x + 4y = 10의 해를 구하시오. x,y는 정수이며, 범위는 [0,10]이다.\n",
    "x = 0\n",
    "y = 0\n",
    "for x in range(11):\n",
    "    for y in range(11):\n",
    "        if 2*x + 4*y == 10:\n",
    "            print(x,y)"
   ]
  },
  {
   "cell_type": "code",
   "execution_count": 13,
   "metadata": {},
   "outputs": [],
   "source": [
    "# 다섯 자리 자연수 ABCDE와 한 자리 자연수 F를 곱해서, 여섯 자리 자연수 GGGGGG이 되었다. A,B,C,D,E,F,G는 모두 0이 아니고 서로 다르다고 했을 때, C + G의 값을 구하시오.\n",
    "# 중복을 허용하지 않는 자료형 세트 사용\n",
    "# len(set) != 5\n",
    "# for G in range(1,10):\n"
   ]
  },
  {
   "cell_type": "code",
   "execution_count": null,
   "metadata": {},
   "outputs": [],
   "source": []
  }
 ],
 "metadata": {
  "kernelspec": {
   "display_name": "Python 3",
   "language": "python",
   "name": "python3"
  },
  "language_info": {
   "codemirror_mode": {
    "name": "ipython",
    "version": 3
   },
   "file_extension": ".py",
   "mimetype": "text/x-python",
   "name": "python",
   "nbconvert_exporter": "python",
   "pygments_lexer": "ipython3",
   "version": "3.8.3"
  }
 },
 "nbformat": 4,
 "nbformat_minor": 4
}
