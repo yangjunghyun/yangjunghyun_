{
 "cells": [
  {
   "cell_type": "markdown",
   "metadata": {},
   "source": [
    "### 연습문제"
   ]
  },
  {
   "cell_type": "code",
   "execution_count": 1,
   "metadata": {},
   "outputs": [],
   "source": [
    "#7-1.\n",
    "num_list = [100,200,300,400,500,600,700,800]\n",
    "high = 6\n",
    "low = 3"
   ]
  },
  {
   "cell_type": "code",
   "execution_count": 14,
   "metadata": {},
   "outputs": [
    {
     "name": "stdout",
     "output_type": "stream",
     "text": [
      "3 * 2 = 6\n",
      "3 * 3 = 9\n",
      "3 * 4 = 12\n",
      "3 * 5 = 15\n",
      "3 * 6 = 18\n",
      "5 * 2 = 10\n",
      "5 * 3 = 15\n",
      "5 * 4 = 20\n",
      "5 * 5 = 25\n",
      "5 * 6 = 30\n",
      "7 * 2 = 14\n",
      "7 * 3 = 21\n",
      "7 * 4 = 28\n",
      "7 * 5 = 35\n",
      "7 * 6 = 42\n"
     ]
    }
   ],
   "source": [
    "#7-2. p.195\n",
    "list1 = [3,5,7]\n",
    "list2 = [2,3,4,5,6]\n",
    "mul = 0\n",
    "for i in range(3):\n",
    "    for j in range(5):\n",
    "        mul = list1[i]*list2[j]\n",
    "        print(list1[i],\"*\",list2[j],\"=\",mul)"
   ]
  },
  {
   "cell_type": "code",
   "execution_count": 23,
   "metadata": {},
   "outputs": [
    {
     "name": "stdout",
     "output_type": "stream",
     "text": [
      "I like pancakes.\n",
      "I like kiwi juice\n",
      "I like espresso.\n",
      "I love pancakes.\n",
      "I love kiwi juice\n",
      "I love espresso.\n"
     ]
    }
   ],
   "source": [
    "#7.3\n",
    "list1 = ['I like','I love']\n",
    "list2 = ['pancakes.','kiwi juice','espresso.']\n",
    "sentence = 0\n",
    "for i in range(2):\n",
    "    for j in range(3):\n",
    "        sentence = list1[i]+\" \"+list2[j]\n",
    "        print(sentence)"
   ]
  },
  {
   "cell_type": "code",
   "execution_count": 20,
   "metadata": {},
   "outputs": [],
   "source": [
    "#7.4\n",
    "# t = (10,20,30,40)\n",
    "# t.append(50)\n",
    "# 튜플은 값을 변경할 수 없음 "
   ]
  },
  {
   "cell_type": "code",
   "execution_count": 38,
   "metadata": {},
   "outputs": [
    {
     "name": "stdout",
     "output_type": "stream",
     "text": [
      "['A1', 'A2', 'B1', 'B2', 'C1', 'C2']\n"
     ]
    }
   ],
   "source": [
    "#7.5\n",
    "a = ('A','B','C')\n",
    "b = ('1','2')\n",
    "result = []\n",
    "for i in range(3):\n",
    "    for j in range(2):\n",
    "        result.append(a[i]+b[j])\n",
    "print(result)\n",
    "    "
   ]
  },
  {
   "cell_type": "markdown",
   "metadata": {},
   "source": [
    "### 7-6\n",
    "사용자로부터 임의의 문자열을 입력으로 받은 후 이 문자열에 대하여 다음과 같은 피라미드 패턴을 만들어 출력하는 프로그램을 작성하여라. 이때 파이썬의 문자열 슬라이싱 기능을 사용하도록 하여라.\n",
    "```\n",
    "문자열을 입력하세요 : python\n",
    "p\n",
    "py\n",
    "pyt\n",
    "pyth\n",
    "pytho\n",
    "python\n",
    "pytho\n",
    "pyth\n",
    "pyt\n",
    "py\n",
    "p\n",
    "```"
   ]
  },
  {
   "cell_type": "code",
   "execution_count": 2,
   "metadata": {},
   "outputs": [
    {
     "ename": "TypeError",
     "evalue": "unsupported operand type(s) for -: 'list' and 'int'",
     "output_type": "error",
     "traceback": [
      "\u001b[1;31m---------------------------------------------------------------------------\u001b[0m",
      "\u001b[1;31mTypeError\u001b[0m                                 Traceback (most recent call last)",
      "\u001b[1;32m<ipython-input-2-736b49af48e6>\u001b[0m in \u001b[0;36m<module>\u001b[1;34m\u001b[0m\n\u001b[0;32m      1\u001b[0m \u001b[1;31m#7-6.\u001b[0m\u001b[1;33m\u001b[0m\u001b[1;33m\u001b[0m\u001b[1;33m\u001b[0m\u001b[0m\n\u001b[0;32m      2\u001b[0m \u001b[0mn\u001b[0m \u001b[1;33m=\u001b[0m \u001b[1;33m[\u001b[0m\u001b[1;33m]\u001b[0m\u001b[1;33m\u001b[0m\u001b[1;33m\u001b[0m\u001b[0m\n\u001b[1;32m----> 3\u001b[1;33m \u001b[1;32mfor\u001b[0m \u001b[0mi\u001b[0m \u001b[1;32min\u001b[0m \u001b[0mrange\u001b[0m\u001b[1;33m(\u001b[0m\u001b[1;36m2\u001b[0m\u001b[1;33m*\u001b[0m\u001b[0mn\u001b[0m\u001b[1;33m-\u001b[0m\u001b[1;36m1\u001b[0m\u001b[1;33m)\u001b[0m\u001b[1;33m:\u001b[0m\u001b[1;33m\u001b[0m\u001b[1;33m\u001b[0m\u001b[0m\n\u001b[0m\u001b[0;32m      4\u001b[0m     \u001b[1;32mif\u001b[0m \u001b[0mlen\u001b[0m\u001b[1;33m(\u001b[0m\u001b[0mn\u001b[0m\u001b[1;33m)\u001b[0m \u001b[1;33m<=\u001b[0m \u001b[0mlen\u001b[0m\u001b[1;33m(\u001b[0m\u001b[0mn\u001b[0m\u001b[1;33m)\u001b[0m\u001b[1;33m:\u001b[0m\u001b[1;33m\u001b[0m\u001b[1;33m\u001b[0m\u001b[0m\n\u001b[0;32m      5\u001b[0m         \u001b[0mn\u001b[0m\u001b[1;33m[\u001b[0m\u001b[1;33m:\u001b[0m\u001b[0mi\u001b[0m\u001b[1;33m]\u001b[0m \u001b[1;33m+=\u001b[0m \u001b[1;36m1\u001b[0m\u001b[1;33m\u001b[0m\u001b[1;33m\u001b[0m\u001b[0m\n",
      "\u001b[1;31mTypeError\u001b[0m: unsupported operand type(s) for -: 'list' and 'int'"
     ]
    }
   ],
   "source": [
    "#7-6.\n",
    "n = []\n",
    "for i in range(2*n-1):\n",
    "    if len(n) <= len(n):\n",
    "        n[:i] += 1\n",
    "    elif len(n) > len(n):\n",
    "        n[:i] -= 1\n",
    "    print(input(\"문자열을 입력하세요 : \",n))"
   ]
  },
  {
   "cell_type": "markdown",
   "metadata": {},
   "source": [
    "### 7-7\n",
    "fruit_list = ['banana','orange','kiwi','apple','melon']의 리스트가 존재한다.  \n",
    "```\n",
    "1) 이 fruit_list에서 가장 길이가 긴 문자열을 찾아서 출력하고 이 리스트에서 삭제하라. 이때 동일한 길이의 문자열이 있을 경우 이들을 모두 삭제하라.\n",
    "\n",
    "가장 길이가 긴 문자열 : banana, orange\n",
    "fruit_list = ['kiwi','apple','melon']\n",
    "\n",
    "2) 이 fruit_list와 for 제어문을 이용하여 다음과 같은 문장을 출력하여라.\n",
    "\n",
    "banana : 문자열의 길이 6\n",
    "orange : 문자열의 길이 6\n",
    "kiwi : 문자열의 길이 4\n",
    "apple : 문자열의 길이 5\n",
    "melon : 문자열의 길이 5\n",
    "```"
   ]
  },
  {
   "cell_type": "code",
   "execution_count": 5,
   "metadata": {},
   "outputs": [
    {
     "name": "stdout",
     "output_type": "stream",
     "text": [
      "가장 길이가 긴 문자열:  ['banana', 'orange']\n",
      "fruit_list = ['kiwi', 'apple', 'melon']\n"
     ]
    }
   ],
   "source": [
    "#7.7 1)\n",
    "fruit_list = ['banana', 'orange','kiwi', 'apple', 'melon']\n",
    "max_length = 0\n",
    "max_list=[]\n",
    "for i in fruit_list:\n",
    "    if max_length<=len(i):\n",
    "        max_length = len(i)\n",
    "        max_list.append(i)\n",
    "for i in max_list:\n",
    "    fruit_list.remove(i)\n",
    "print('가장 길이가 긴 문자열: ', max_list)\n",
    "print('fruit_list =', fruit_list)"
   ]
  },
  {
   "cell_type": "code",
   "execution_count": 80,
   "metadata": {},
   "outputs": [
    {
     "name": "stdout",
     "output_type": "stream",
     "text": [
      "banana  : 문자열의 길이 6\n",
      "orange  : 문자열의 길이 6\n",
      "kiwi  : 문자열의 길이 4\n",
      "apple  : 문자열의 길이 5\n",
      "melon  : 문자열의 길이 5\n"
     ]
    }
   ],
   "source": [
    "#7.7-2\n",
    "n = ['banana','orange','kiwi','apple','melon']\n",
    "# a = 0\n",
    "for i in range(-1,4):\n",
    "    i += 1\n",
    "    a = len(n[i])\n",
    "    print(n[i],\" : 문자열의 길이\",a)\n"
   ]
  },
  {
   "cell_type": "code",
   "execution_count": 6,
   "metadata": {},
   "outputs": [
    {
     "name": "stdout",
     "output_type": "stream",
     "text": [
      "banana : 문자열의 길이 6\n",
      "orange : 문자열의 길이 6\n",
      "kiwi : 문자열의 길이 4\n",
      "apple : 문자열의 길이 5\n",
      "melon : 문자열의 길이 5\n"
     ]
    }
   ],
   "source": [
    "#7.7 2)\n",
    "fruit_list = ['banana', 'orange', 'kiwi', 'apple', 'melon']\n",
    "for i in fruit_list:\n",
    "    print(i,\":\",\"문자열의 길이\",len(i))"
   ]
  },
  {
   "cell_type": "markdown",
   "metadata": {},
   "source": [
    "### 7-8\n",
    "사용자로부터 숫자 1보다 크고 10보다 작은 값 n을 입력으로 받아서 다음과 같이 뱀의 몸통처럼 증가하는 이차원 배열을 출력하는 뱀행렬을 생성하여라. 이 행렬의 특징은 n이 5일때 5x5크기의 2차원 배열을 생성하는데, 이때 홀수 번째 행이 숫자가 증가하는 방향이 될 경우 짝수 번째 행은 숫자가 감소하는 형태를 가지는 특징이 있다.  \n",
    "이 문제를 반드시 for 반복문과 리스트 슬라이싱을 사용하여 풀어보아라.\n",
    "```\n",
    "n을 입력하시오 : 5\n",
    "1 2 3 4 5\n",
    "10 9 8 7 6\n",
    "11 12 13 14 15\n",
    "20 19 18 17 16\n",
    "21 22 23 24 25\n",
    "```"
   ]
  },
  {
   "cell_type": "code",
   "execution_count": 9,
   "metadata": {},
   "outputs": [
    {
     "name": "stdout",
     "output_type": "stream",
     "text": [
      "[1, 2, 3, 4, 5]\n",
      "[10, 9, 8, 7, 6]\n",
      "[11, 12, 13, 14, 15]\n",
      "[20, 19, 18, 17, 16]\n",
      "[21, 22, 23, 24, 25]\n"
     ]
    }
   ],
   "source": [
    "#7.8\n",
    "num = eval(input(\"숫자를 입력하세요\"))\n",
    "numlist = list(range(1, num**2+1))\n",
    "a = []\n",
    "count=0\n",
    "for n in numlist:\n",
    "    a.append(n)\n",
    "    if len(a)==num:\n",
    "        count+=1\n",
    "        if count%2==0:\n",
    "            a.reverse()\n",
    "        print(a)\n",
    "        a=[]\n",
    "    \n"
   ]
  },
  {
   "cell_type": "markdown",
   "metadata": {},
   "source": [
    "### 7-9\n",
    "사용자로부터 두 문자열 A,B를 입력으로 받도록 하자. 그리고 A의 뒷부분과 B의 앞부분을 가장 길게 일치시켜 둘을 겹치게 만든 새로운 문자열 C를 만드는 프로그램을 작성하시오. 만약 A의 뒷부분과 B의 앞부분이 다르면 B를 A뒤에 바로 붙여야 한다. 다음 예시를 참고하여라. 이를 위하여 C = overlap(A,B)와 같이 A,B를 인자로 받아 C를 반환하는 함수 overlap()을 구현하여라.\n",
    "```\n",
    "문자열 A                   문자열 B                       출력될 문자열 C\n",
    "commu          |            mummy            |              commummy\n",
    "boxok          |            xbox             |              boxokxbox\n",
    "deter          |            detery           |              detery\n",
    "waycom         |            ycomget          |              waycomget\n",
    "ttttt          |            ttttt            |              ttttt\n",
    "```"
   ]
  },
  {
   "cell_type": "code",
   "execution_count": 10,
   "metadata": {},
   "outputs": [
    {
     "data": {
      "text/plain": [
       "'abcdefg'"
      ]
     },
     "execution_count": 10,
     "metadata": {},
     "output_type": "execute_result"
    }
   ],
   "source": [
    "#7.9\n",
    "def overlab (a,b):\n",
    "    for i in range(len(b)):\n",
    "        for j in range(len(a)):\n",
    "            if b[i] == a[j]:\n",
    "                aa = a[j:]\n",
    "                bb = b[:len(aa)]\n",
    "                if aa == bb:\n",
    "                    #return (aa, bb)\n",
    "                    return (a+b[len(bb):])\n",
    "                else:\n",
    "                    aa = aa[1:]\n",
    "                    overlab (aa, bb)\n",
    "    return (a+b)\n",
    "s1 = input('첫번째 문자열을 입력하세요')\n",
    "s2 = input('두번째 문자열을 입력하세요')\n",
    "overlab(s1, s2)"
   ]
  },
  {
   "cell_type": "code",
   "execution_count": null,
   "metadata": {},
   "outputs": [],
   "source": []
  }
 ],
 "metadata": {
  "interpreter": {
   "hash": "8fac594bfae6525c0c41b4041d2d72effa188cc8ead05f81b1fab2bb098927fb"
  },
  "kernelspec": {
   "display_name": "Python 3.8.3 ('base')",
   "language": "python",
   "name": "python3"
  },
  "language_info": {
   "codemirror_mode": {
    "name": "ipython",
    "version": 3
   },
   "file_extension": ".py",
   "mimetype": "text/x-python",
   "name": "python",
   "nbconvert_exporter": "python",
   "pygments_lexer": "ipython3",
   "version": "3.8.3"
  },
  "orig_nbformat": 4
 },
 "nbformat": 4,
 "nbformat_minor": 2
}
