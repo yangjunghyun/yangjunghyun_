{
 "cells": [
  {
   "cell_type": "markdown",
   "metadata": {},
   "source": [
    "# for문"
   ]
  },
  {
   "cell_type": "code",
   "execution_count": 1,
   "metadata": {},
   "outputs": [
    {
     "name": "stdout",
     "output_type": "stream",
     "text": [
      "one\n",
      "two\n",
      "three\n"
     ]
    }
   ],
   "source": [
    "test_list = ['one','two','three']\n",
    "for i in test_list:\n",
    "    print(i)"
   ]
  },
  {
   "cell_type": "code",
   "execution_count": 2,
   "metadata": {},
   "outputs": [
    {
     "name": "stdout",
     "output_type": "stream",
     "text": [
      "3\n",
      "7\n",
      "11\n"
     ]
    }
   ],
   "source": [
    "a = [(1,2),(3,4),(5,6)]\n",
    "for (first, last) in a:\n",
    "    print(first + last)"
   ]
  },
  {
   "cell_type": "code",
   "execution_count": 12,
   "metadata": {},
   "outputs": [
    {
     "name": "stdout",
     "output_type": "stream",
     "text": [
      "307\n",
      "61.4\n"
     ]
    }
   ],
   "source": [
    "sum = 0\n",
    "marks = [90,25,67,45,80]\n",
    "number = 0\n",
    "for i in marks:\n",
    "    sum += i\n",
    "    mean = sum / len(marks)\n",
    "print(sum)\n",
    "print(mean)"
   ]
  },
  {
   "cell_type": "code",
   "execution_count": 13,
   "metadata": {},
   "outputs": [
    {
     "name": "stdout",
     "output_type": "stream",
     "text": [
      "307\n",
      "평균은 61.4 입니다.\n"
     ]
    }
   ],
   "source": [
    "sum = 0\n",
    "marks = [90,25,67,45,80]\n",
    "number = 0\n",
    "for i in marks:\n",
    "    sum += i\n",
    "print(sum)\n",
    "print(\"평균은\",sum/len(marks),\"입니다.\")"
   ]
  },
  {
   "cell_type": "code",
   "execution_count": 23,
   "metadata": {},
   "outputs": [
    {
     "name": "stdout",
     "output_type": "stream",
     "text": [
      "1번 학생은 90점 합격입니다.\n",
      "2번 학생은 25점 불합격입니다.\n",
      "3번 학생은 67점 합격입니다.\n",
      "4번 학생은 45점 불합격입니다.\n",
      "5번 학생은 80점 합격입니다.\n",
      "반 평균은 61.4 입니다.\n"
     ]
    }
   ],
   "source": [
    "sum = 0\n",
    "number = 0\n",
    "marks = [90,25,67,45,80]\n",
    "for i in marks:\n",
    "    sum += i\n",
    "    number += 1\n",
    "    if i >= 60:\n",
    "        print(\"%d번 학생은 %d점 합격입니다.\" % (number,i))\n",
    "    else:\n",
    "        print(\"%d번 학생은 %d점 불합격입니다.\" % (number,i))\n",
    "print(\"반 평균은\",sum/len(marks),\"입니다.\")"
   ]
  },
  {
   "cell_type": "markdown",
   "metadata": {},
   "source": [
    "### continue"
   ]
  },
  {
   "cell_type": "code",
   "execution_count": null,
   "metadata": {},
   "outputs": [],
   "source": []
  },
  {
   "cell_type": "markdown",
   "metadata": {},
   "source": [
    "### for문과 함께 자주 사용하는 range 함수"
   ]
  },
  {
   "cell_type": "code",
   "execution_count": 30,
   "metadata": {},
   "outputs": [
    {
     "name": "stdout",
     "output_type": "stream",
     "text": [
      "5050\n"
     ]
    }
   ],
   "source": [
    "add = 0\n",
    "for i in range(1,101):\n",
    "    add += i\n",
    "print(add)"
   ]
  },
  {
   "cell_type": "code",
   "execution_count": 32,
   "metadata": {},
   "outputs": [
    {
     "name": "stdout",
     "output_type": "stream",
     "text": [
      "2 4 6 8 10 12 14 16 18 \n",
      "3 6 9 12 15 18 21 24 27 \n",
      "4 8 12 16 20 24 28 32 36 \n",
      "5 10 15 20 25 30 35 40 45 \n",
      "6 12 18 24 30 36 42 48 54 \n",
      "7 14 21 28 35 42 49 56 63 \n",
      "8 16 24 32 40 48 56 64 72 \n",
      "9 18 27 36 45 54 63 72 81 \n"
     ]
    }
   ],
   "source": [
    "for dan in range(2,10):\n",
    "    for i in range(1,10):\n",
    "        print(dan * i, end = \" \")\n",
    "    print('')"
   ]
  },
  {
   "cell_type": "markdown",
   "metadata": {},
   "source": [
    "### 리스트 내포 사용하기"
   ]
  },
  {
   "cell_type": "code",
   "execution_count": 33,
   "metadata": {},
   "outputs": [
    {
     "name": "stdout",
     "output_type": "stream",
     "text": [
      "[3, 6, 9, 12]\n"
     ]
    }
   ],
   "source": [
    "a = [1,2,3,4]\n",
    "result = []\n",
    "for num in a:\n",
    "    result.append(num*3)\n",
    "print(result)"
   ]
  },
  {
   "cell_type": "code",
   "execution_count": 34,
   "metadata": {},
   "outputs": [
    {
     "name": "stdout",
     "output_type": "stream",
     "text": [
      "[3, 6, 9, 12]\n"
     ]
    }
   ],
   "source": [
    "a = [1,2,3,4]\n",
    "result = [num*3 for num in a] #반복문 자체를 리스트로 묶음, 실행문이 for문 앞으로 옴\n",
    "print(result)"
   ]
  },
  {
   "cell_type": "code",
   "execution_count": 38,
   "metadata": {},
   "outputs": [
    {
     "name": "stdout",
     "output_type": "stream",
     "text": [
      "[6, 12]\n"
     ]
    }
   ],
   "source": [
    "#for문 안에 if문\n",
    "a = [1,2,3,4]\n",
    "result = [num * 3 for num in a if num % 2 ==0]\n",
    "print(result)"
   ]
  },
  {
   "cell_type": "code",
   "execution_count": 42,
   "metadata": {},
   "outputs": [
    {
     "name": "stdout",
     "output_type": "stream",
     "text": [
      "[6, 12]\n"
     ]
    }
   ],
   "source": [
    "################\n",
    "####같은코드####\n",
    "result = []\n",
    "for num in a:\n",
    "    if num % 2 ==0:\n",
    "        result.append(num*3)\n",
    "print(result)\n",
    "################"
   ]
  },
  {
   "cell_type": "code",
   "execution_count": 46,
   "metadata": {},
   "outputs": [
    {
     "name": "stdout",
     "output_type": "stream",
     "text": [
      "*\n",
      "**\n",
      "***\n",
      "****\n",
      "*****\n"
     ]
    }
   ],
   "source": [
    "#while문 별 만들기\n",
    "i = 0\n",
    "while True:\n",
    "    i += 1\n",
    "    if i > 5: break\n",
    "    print(\"*\"*i)"
   ]
  },
  {
   "cell_type": "code",
   "execution_count": 47,
   "metadata": {},
   "outputs": [
    {
     "name": "stdout",
     "output_type": "stream",
     "text": [
      "*\n",
      "**\n",
      "***\n",
      "****\n",
      "*****\n"
     ]
    }
   ],
   "source": [
    "#for문 별 만들기\n",
    "i = 0\n",
    "for i in range(5):\n",
    "    i += 1\n",
    "    print(\"*\"*i)"
   ]
  },
  {
   "cell_type": "code",
   "execution_count": 50,
   "metadata": {},
   "outputs": [
    {
     "name": "stdout",
     "output_type": "stream",
     "text": [
      "*\n",
      "**\n",
      "***\n",
      "****\n",
      "*****\n"
     ]
    }
   ],
   "source": [
    "##교수님 코드\n",
    "for j in range(1,6):\n",
    "    for i in range(j):\n",
    "        print(\"*\",end=\"\")\n",
    "    print()"
   ]
  },
  {
   "cell_type": "code",
   "execution_count": 52,
   "metadata": {},
   "outputs": [
    {
     "name": "stdout",
     "output_type": "stream",
     "text": [
      "*****\n",
      "****\n",
      "***\n",
      "**\n",
      "*\n"
     ]
    }
   ],
   "source": [
    "#별 거꾸로 만들기\n",
    "for j in [5,4,3,2,1]:\n",
    "    for i in range(j):\n",
    "        print(\"*\",end=\"\")\n",
    "    print()"
   ]
  },
  {
   "cell_type": "code",
   "execution_count": 53,
   "metadata": {},
   "outputs": [
    {
     "name": "stdout",
     "output_type": "stream",
     "text": [
      "*\n",
      "**\n",
      "***\n",
      "****\n",
      "*****\n",
      "******\n",
      "*****\n",
      "******\n",
      "*******\n",
      "********\n"
     ]
    }
   ],
   "source": [
    "# #역삼각형 만들기\n",
    "# for i in range(10):\n",
    "#     if i <= 5:\n",
    "#         i += 1\n",
    "#         print(\"*\"*i)\n",
    "#     else:\n",
    "#         i -= 1\n",
    "#         print(\"*\"*i)"
   ]
  },
  {
   "cell_type": "code",
   "execution_count": null,
   "metadata": {},
   "outputs": [],
   "source": [
    "###연습문제\n",
    "#1+(1+2)+(1+2+3)+...+(1+...+100)\n",
    "#1\n",
    "sum = 0\n",
    "for i in range(1,101):\n",
    "    for j in range(1, i+1):\n",
    "        sum += j\n",
    "print(sum)"
   ]
  },
  {
   "cell_type": "code",
   "execution_count": 225,
   "metadata": {},
   "outputs": [
    {
     "name": "stdout",
     "output_type": "stream",
     "text": [
      "166650\n"
     ]
    }
   ],
   "source": [
    "#2x + 4y = 10의 해를 구하시오. x,y는 정수이며, 범위는 [0,10]이다.\n"
   ]
  },
  {
   "cell_type": "code",
   "execution_count": 126,
   "metadata": {},
   "outputs": [],
   "source": [
    "#2x + 4y = 10의 해를 구하시오. x,y는 정수이며, 범위는 [0,10]이다.\n"
   ]
  },
  {
   "cell_type": "code",
   "execution_count": null,
   "metadata": {},
   "outputs": [],
   "source": []
  },
  {
   "cell_type": "markdown",
   "metadata": {},
   "source": [
    "# 함수"
   ]
  },
  {
   "cell_type": "code",
   "execution_count": 233,
   "metadata": {},
   "outputs": [],
   "source": [
    "def f(x):\n",
    "    a = 2*x + 3\n",
    "    return a"
   ]
  },
  {
   "cell_type": "code",
   "execution_count": 235,
   "metadata": {},
   "outputs": [
    {
     "data": {
      "text/plain": [
       "9"
      ]
     },
     "execution_count": 235,
     "metadata": {},
     "output_type": "execute_result"
    }
   ],
   "source": [
    "f(3)"
   ]
  },
  {
   "cell_type": "code",
   "execution_count": 236,
   "metadata": {},
   "outputs": [],
   "source": [
    "def print2(x):\n",
    "    a = 2*x + 3\n",
    "    return a"
   ]
  },
  {
   "cell_type": "code",
   "execution_count": 237,
   "metadata": {},
   "outputs": [
    {
     "data": {
      "text/plain": [
       "9"
      ]
     },
     "execution_count": 237,
     "metadata": {},
     "output_type": "execute_result"
    }
   ],
   "source": [
    "print2(3)"
   ]
  },
  {
   "cell_type": "code",
   "execution_count": 238,
   "metadata": {},
   "outputs": [
    {
     "name": "stdout",
     "output_type": "stream",
     "text": [
      "3\n",
      "5\n",
      "7\n",
      "9\n",
      "11\n",
      "13\n",
      "15\n",
      "17\n",
      "19\n",
      "21\n"
     ]
    }
   ],
   "source": [
    "for x in range(0,10):\n",
    "    print(f(x))"
   ]
  },
  {
   "cell_type": "code",
   "execution_count": null,
   "metadata": {},
   "outputs": [],
   "source": [
    "### 연습문제\n",
    "sum = 0\n",
    "for i in range(1,10):\n",
    "    sum += 1\n",
    "    "
   ]
  },
  {
   "cell_type": "code",
   "execution_count": 243,
   "metadata": {},
   "outputs": [],
   "source": [
    "def adidas(n):\n",
    "    sum = 0\n",
    "    for i in range(1,n):\n",
    "        sum += i\n",
    "    return sum"
   ]
  },
  {
   "cell_type": "code",
   "execution_count": 244,
   "metadata": {},
   "outputs": [
    {
     "name": "stdout",
     "output_type": "stream",
     "text": [
      "171700\n"
     ]
    }
   ],
   "source": [
    "a = 0\n",
    "for n in range(2,102):\n",
    "    a += adidas(n)\n",
    "print(a)    "
   ]
  },
  {
   "cell_type": "code",
   "execution_count": null,
   "metadata": {},
   "outputs": [],
   "source": []
  }
 ],
 "metadata": {
  "kernelspec": {
   "display_name": "Python 3",
   "language": "python",
   "name": "python3"
  },
  "language_info": {
   "codemirror_mode": {
    "name": "ipython",
    "version": 3
   },
   "file_extension": ".py",
   "mimetype": "text/x-python",
   "name": "python",
   "nbconvert_exporter": "python",
   "pygments_lexer": "ipython3",
   "version": "3.8.3"
  }
 },
 "nbformat": 4,
 "nbformat_minor": 4
}
