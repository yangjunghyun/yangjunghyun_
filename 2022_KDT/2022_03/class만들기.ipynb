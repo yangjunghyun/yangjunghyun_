{
 "cells": [
  {
   "cell_type": "markdown",
   "metadata": {},
   "source": [
    "### 세탁기 class"
   ]
  },
  {
   "cell_type": "code",
   "execution_count": 1,
   "metadata": {},
   "outputs": [],
   "source": [
    "class Washer:\n",
    "    def __init__(self, size, maker): #생성자 #method\n",
    "        self.size = size #속성\n",
    "        self.maker = maker\n",
    "    def washing(self):\n",
    "        detergent()\n",
    "        print(\"{} 세탁기가 {}킬로의 빨래를 한다.\".format (self.maker,self.size))\n",
    "def detergent():\n",
    "        print(\"세제 투압\")\n"
   ]
  },
  {
   "cell_type": "code",
   "execution_count": 2,
   "metadata": {},
   "outputs": [],
   "source": [
    "class LGWasher(Washer):\n",
    "    def __init__(self,size,maker,name):\n",
    "        super().__init__(size,maker) \n",
    "        self.name=name\n",
    "    def info(self):\n",
    "        print(\"사이즈 :\",self.size)\n",
    "        print(\"제조사 :\",self.maker)\n",
    "        print(\"제품명 :\",self.name)"
   ]
  },
  {
   "cell_type": "code",
   "execution_count": 3,
   "metadata": {},
   "outputs": [],
   "source": [
    "lgTromm = LGWasher(10, \"LG\", \"트롬\")"
   ]
  },
  {
   "cell_type": "code",
   "execution_count": 4,
   "metadata": {},
   "outputs": [
    {
     "name": "stdout",
     "output_type": "stream",
     "text": [
      "세제 투압\n",
      "LG 세탁기가 10킬로의 빨래를 한다.\n",
      "사이즈 : 10\n",
      "제조사 : LG\n",
      "제품명 : 트롬\n"
     ]
    }
   ],
   "source": [
    "lgTromm.washing()\n",
    "lgTromm.info()"
   ]
  },
  {
   "cell_type": "code",
   "execution_count": 5,
   "metadata": {},
   "outputs": [
    {
     "name": "stdout",
     "output_type": "stream",
     "text": [
      "세제 투압\n",
      "LG 세탁기가 10킬로의 빨래를 한다.\n"
     ]
    }
   ],
   "source": [
    "lg = Washer(10,\"LG\")\n",
    "lg.washing()"
   ]
  },
  {
   "cell_type": "code",
   "execution_count": 6,
   "metadata": {},
   "outputs": [
    {
     "name": "stdout",
     "output_type": "stream",
     "text": [
      "세제 투압\n",
      "Samsung 세탁기가 20킬로의 빨래를 한다.\n"
     ]
    }
   ],
   "source": [
    "samsung = Washer(20,\"Samsung\")\n",
    "samsung.washing()"
   ]
  },
  {
   "cell_type": "code",
   "execution_count": 7,
   "metadata": {},
   "outputs": [
    {
     "data": {
      "text/plain": [
       "['k', 'digital']"
      ]
     },
     "execution_count": 7,
     "metadata": {},
     "output_type": "execute_result"
    }
   ],
   "source": [
    "b = \"k-digital\"\n",
    "b.split('-')"
   ]
  },
  {
   "cell_type": "code",
   "execution_count": null,
   "metadata": {},
   "outputs": [],
   "source": []
  }
 ],
 "metadata": {
  "interpreter": {
   "hash": "8fac594bfae6525c0c41b4041d2d72effa188cc8ead05f81b1fab2bb098927fb"
  },
  "kernelspec": {
   "display_name": "Python 3.8.3 ('base')",
   "language": "python",
   "name": "python3"
  },
  "language_info": {
   "codemirror_mode": {
    "name": "ipython",
    "version": 3
   },
   "file_extension": ".py",
   "mimetype": "text/x-python",
   "name": "python",
   "nbconvert_exporter": "python",
   "pygments_lexer": "ipython3",
   "version": "3.8.3"
  },
  "orig_nbformat": 4
 },
 "nbformat": 4,
 "nbformat_minor": 2
}
