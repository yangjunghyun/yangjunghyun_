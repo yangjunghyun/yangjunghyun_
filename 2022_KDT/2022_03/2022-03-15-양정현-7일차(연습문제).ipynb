{
 "cells": [
  {
   "cell_type": "markdown",
   "metadata": {},
   "source": [
    "### 입력문 input()과 문자열함수"
   ]
  },
  {
   "cell_type": "code",
   "execution_count": 3,
   "metadata": {},
   "outputs": [
    {
     "name": "stdout",
     "output_type": "stream",
     "text": [
      "2\n",
      "3\n",
      "6\n"
     ]
    }
   ],
   "source": [
    "#1\n",
    "a = int(input())\n",
    "b = int(input())\n",
    "print(a*b)"
   ]
  },
  {
   "cell_type": "code",
   "execution_count": 8,
   "metadata": {},
   "outputs": [
    {
     "name": "stdout",
     "output_type": "stream",
     "text": [
      "2055\n",
      "년도를 입력하세요 : 2055\n",
      "2055 년 지수의 나이는  58 세 입니다.\n"
     ]
    }
   ],
   "source": [
    "#2\n",
    "year = int(input())\n",
    "age = year - 1997\n",
    "\n",
    "print(\"년도를 입력하세요 :\",year)\n",
    "print(year,\"년 지수의 나이는 \",int(age),\"세 입니다.\")"
   ]
  },
  {
   "cell_type": "code",
   "execution_count": null,
   "metadata": {},
   "outputs": [],
   "source": [
    "#3-1\n",
    "a,b = input(\"두 수를 입력하세요 : \").split()\n",
    "c = int(a)+int(b)\n",
    "print(\"입력한 두 수의 합은? \",c)"
   ]
  },
  {
   "cell_type": "code",
   "execution_count": 86,
   "metadata": {},
   "outputs": [
    {
     "name": "stdout",
     "output_type": "stream",
     "text": [
      "두 수를 입력하세요 : 13 56\n",
      "입력한 두 수의 합은?  69\n"
     ]
    }
   ],
   "source": [
    "#3-2\n",
    "a = \"13 56\"\n",
    "b = input(\"두 수를 입력하세요 : \").split()\n",
    "print(\"입력한 두 수의 합은? \",int(b[0])+int(b[1]))"
   ]
  },
  {
   "cell_type": "code",
   "execution_count": 87,
   "metadata": {},
   "outputs": [
    {
     "name": "stdout",
     "output_type": "stream",
     "text": [
      "두 수를 입력하세요 : 15 59\n"
     ]
    },
    {
     "data": {
      "text/plain": [
       "74"
      ]
     },
     "execution_count": 87,
     "metadata": {},
     "output_type": "execute_result"
    }
   ],
   "source": [
    "#교수님 코드\n",
    "a = input(\"두 수를 입력하세요 : \")\n",
    "b = a.split()\n",
    "int(b[0])+int(b[1])"
   ]
  },
  {
   "cell_type": "code",
   "execution_count": 85,
   "metadata": {},
   "outputs": [
    {
     "name": "stdout",
     "output_type": "stream",
     "text": [
      "네 수를 입력하세요 : 1 3 5 7\n",
      "평균 :  4.0\n",
      "분산 :  5.0\n"
     ]
    }
   ],
   "source": [
    "#4\n",
    "a = input(\"네 수를 입력하세요 : \").split()\n",
    "\n",
    "# m = (a + b + c + d)/4\n",
    "# v = ((a-m)**2 + (b-m)**2 + (c-m)**2 + (d-m)**2)/ 4\n",
    "\n",
    "m = (int(a[0])+int(a[1])+int(a[2])+int(a[3]))/4\n",
    "v = ((int(a[0])-m)**2+(int(a[1])-m)**2+(int(a[2])-m)**2+(int(a[3])-m)**2)/4\n",
    "\n",
    "print(\"평균 : \",m)\n",
    "print(\"분산 : \",v )\n"
   ]
  },
  {
   "cell_type": "markdown",
   "metadata": {},
   "source": [
    "### list"
   ]
  },
  {
   "cell_type": "code",
   "execution_count": 1,
   "metadata": {},
   "outputs": [],
   "source": [
    "#1"
   ]
  },
  {
   "cell_type": "code",
   "execution_count": 10,
   "metadata": {},
   "outputs": [
    {
     "data": {
      "text/plain": [
       "426.3"
      ]
     },
     "execution_count": 10,
     "metadata": {},
     "output_type": "execute_result"
    }
   ],
   "source": [
    "#2\n",
    "numbers = [12.26,5,426.3,0.221]\n",
    "len(numbers)"
   ]
  },
  {
   "cell_type": "code",
   "execution_count": 11,
   "metadata": {},
   "outputs": [
    {
     "data": {
      "text/plain": [
       "426.3"
      ]
     },
     "execution_count": 11,
     "metadata": {},
     "output_type": "execute_result"
    }
   ],
   "source": [
    "max(numbers)"
   ]
  },
  {
   "cell_type": "code",
   "execution_count": 12,
   "metadata": {},
   "outputs": [
    {
     "data": {
      "text/plain": [
       "0.221"
      ]
     },
     "execution_count": 12,
     "metadata": {},
     "output_type": "execute_result"
    }
   ],
   "source": [
    "min(numbers)"
   ]
  },
  {
   "cell_type": "code",
   "execution_count": 13,
   "metadata": {},
   "outputs": [
    {
     "data": {
      "text/plain": [
       "443.781"
      ]
     },
     "execution_count": 13,
     "metadata": {},
     "output_type": "execute_result"
    }
   ],
   "source": [
    "sum(numbers)"
   ]
  },
  {
   "cell_type": "code",
   "execution_count": 14,
   "metadata": {},
   "outputs": [
    {
     "data": {
      "text/plain": [
       "[0.221, 5, 12.26, 426.3]"
      ]
     },
     "execution_count": 14,
     "metadata": {},
     "output_type": "execute_result"
    }
   ],
   "source": [
    "sorted(numbers)"
   ]
  },
  {
   "cell_type": "code",
   "execution_count": 15,
   "metadata": {},
   "outputs": [
    {
     "name": "stdout",
     "output_type": "stream",
     "text": [
      "['Julio', 'Kane', 'Kaka', 'Messi']\n",
      "KaneMessi\n",
      "['Julio', 'Kane', 'Kaka', 'Messi']\n",
      "['Henry']\n",
      "['Kane', 'Kaka', 'Ronaldo', 'Henry']\n"
     ]
    }
   ],
   "source": [
    "#3\n",
    "friends = ['Julio','Kane','Kaka','Messi']\n",
    "legends = ['Ronaldo','Henry','Beckham']\n",
    "\n",
    "print(friends)\n",
    "\n",
    "sub = friends[1] + friends[3]\n",
    "print(sub)\n",
    "\n",
    "print(friends[0:4])\n",
    "print(legends[1:2])\n",
    "print(friends[1:3] + legends[0:2])"
   ]
  },
  {
   "cell_type": "code",
   "execution_count": 16,
   "metadata": {},
   "outputs": [
    {
     "name": "stdout",
     "output_type": "stream",
     "text": [
      "[[1, 2], 'samsung', 2.5, 'A']\n",
      "[1, 2]\n",
      "m\n",
      "['samsung', 2.5]\n",
      "[[1, 2], 'samsung']\n"
     ]
    }
   ],
   "source": [
    "#4\n",
    "myList = [[1,2],'samsung',2.5,'A']\n",
    "print(myList)\n",
    "print(myList[0])\n",
    "print(myList[1][2])\n",
    "print(myList[1:3])\n",
    "print(myList[:2])"
   ]
  },
  {
   "cell_type": "code",
   "execution_count": 24,
   "metadata": {},
   "outputs": [
    {
     "name": "stdout",
     "output_type": "stream",
     "text": [
      "[2016, 2017, 2018]\n",
      "[9930616, 9857426, 9838892]\n"
     ]
    }
   ],
   "source": [
    "#5\n",
    "year = [2011,2012,2013,2014,2015,2016,2017,2018]\n",
    "population = [10249679,10195318,10143645,10103233,10022181,9930616,9857426,9838892]\n",
    "\n",
    "print(year[5:8])\n",
    "print(population[5:8])"
   ]
  },
  {
   "cell_type": "code",
   "execution_count": 29,
   "metadata": {},
   "outputs": [
    {
     "name": "stdout",
     "output_type": "stream",
     "text": [
      "(75, -10, 32, -15, 76, 2)\n"
     ]
    }
   ],
   "source": [
    "n = -32,75,97,-10,9,32,4,-15,0,76,14,2\n",
    "print(n[1::2])"
   ]
  },
  {
   "cell_type": "code",
   "execution_count": 73,
   "metadata": {},
   "outputs": [
    {
     "name": "stdout",
     "output_type": "stream",
     "text": [
      "1 2 3 4 5 6 7 8 9 10\n"
     ]
    },
    {
     "data": {
      "text/plain": [
       "('1', '2', '3', '4', '5')"
      ]
     },
     "execution_count": 73,
     "metadata": {},
     "output_type": "execute_result"
    }
   ],
   "source": [
    "#6\n",
    "a = input()\n",
    "b = a.split()\n",
    "tuple(b[0:5])"
   ]
  },
  {
   "cell_type": "code",
   "execution_count": 75,
   "metadata": {},
   "outputs": [
    {
     "name": "stdout",
     "output_type": "stream",
     "text": [
      "oven bat pony total leak wreck curl crop space navy loss knee\n"
     ]
    },
    {
     "data": {
      "text/plain": [
       "('oven', 'bat', 'pony', 'total', 'leak', 'wreck', 'curl')"
      ]
     },
     "execution_count": 75,
     "metadata": {},
     "output_type": "execute_result"
    }
   ],
   "source": [
    "#\n",
    "a = input()\n",
    "b = a.split()\n",
    "tuple(b[0:7])"
   ]
  }
 ],
 "metadata": {
  "kernelspec": {
   "display_name": "Python 3",
   "language": "python",
   "name": "python3"
  },
  "language_info": {
   "codemirror_mode": {
    "name": "ipython",
    "version": 3
   },
   "file_extension": ".py",
   "mimetype": "text/x-python",
   "name": "python",
   "nbconvert_exporter": "python",
   "pygments_lexer": "ipython3",
   "version": "3.8.3"
  }
 },
 "nbformat": 4,
 "nbformat_minor": 4
}
