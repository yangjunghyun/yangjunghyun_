{
 "cells": [
  {
   "cell_type": "markdown",
   "metadata": {},
   "source": [
    "### 10일차 연습문제"
   ]
  },
  {
   "cell_type": "markdown",
   "metadata": {},
   "source": [
    "### 1번"
   ]
  },
  {
   "cell_type": "code",
   "execution_count": 2,
   "metadata": {},
   "outputs": [
    {
     "name": "stdout",
     "output_type": "stream",
     "text": [
      "Enter the number : 7\n"
     ]
    },
    {
     "data": {
      "text/plain": [
       "'*******'"
      ]
     },
     "execution_count": 2,
     "metadata": {},
     "output_type": "execute_result"
    }
   ],
   "source": [
    "#1.\n",
    "def starprint(n):\n",
    "    return n * \"*\"\n",
    "n = int(input())\n",
    "print(\"Enter the number :\",n)\n",
    "starprint(n)"
   ]
  },
  {
   "cell_type": "code",
   "execution_count": 4,
   "metadata": {},
   "outputs": [
    {
     "name": "stdout",
     "output_type": "stream",
     "text": [
      "*******\n"
     ]
    }
   ],
   "source": [
    "### 교수님 코드1\n",
    "def starprint(n):\n",
    "    print('*'*n)\n",
    "starprint(7)"
   ]
  },
  {
   "cell_type": "code",
   "execution_count": 6,
   "metadata": {},
   "outputs": [
    {
     "name": "stdout",
     "output_type": "stream",
     "text": [
      "*******"
     ]
    }
   ],
   "source": [
    "### 교수님 코드2\n",
    "def starprint(n):\n",
    "    for i in range(n):\n",
    "        print('*',end=\"\")\n",
    "starprint(7)"
   ]
  },
  {
   "cell_type": "markdown",
   "metadata": {},
   "source": [
    "### 2번"
   ]
  },
  {
   "cell_type": "code",
   "execution_count": 8,
   "metadata": {},
   "outputs": [
    {
     "name": "stdout",
     "output_type": "stream",
     "text": [
      "[11, 3, 28]\n"
     ]
    }
   ],
   "source": [
    "#2.\n",
    "def operator(a,b):\n",
    "    return [a+b,a-b,a*b]\n",
    "\n",
    "print(operator(7,4))"
   ]
  },
  {
   "cell_type": "code",
   "execution_count": 7,
   "metadata": {},
   "outputs": [
    {
     "data": {
      "text/plain": [
       "[11, 3, 28]"
      ]
     },
     "execution_count": 7,
     "metadata": {},
     "output_type": "execute_result"
    }
   ],
   "source": [
    "### 교수님 코드\n",
    "def operator(a,b):\n",
    "    return [a+b,a-b,a*b]\n",
    "operator(7,4)"
   ]
  },
  {
   "cell_type": "markdown",
   "metadata": {},
   "source": [
    "### 3번 return?\n",
    "```\n",
    "아래의 기준에 따라, 학생의 점수를 입력받아 학점을 리턴하는 grade(score)란 함수를 작성하시오.\n",
    "\n",
    "\n",
    "90 점 이상 ~ 100 점 이하 : A\n",
    "80 점 이상 ~ 90 점 미만 : B\n",
    "70 점 이상 ~ 80 점 미만 : C\n",
    "60 점 이상 ~ 70 점 미만 : D\n",
    "60 점 미만 : E\n",
    "```"
   ]
  },
  {
   "cell_type": "code",
   "execution_count": 31,
   "metadata": {},
   "outputs": [],
   "source": [
    "#3.\n",
    "def grade(score):\n",
    "    if 90 <= score <= 100:\n",
    "        print(\"A\")\n",
    "    elif 80 <= score < 90:\n",
    "        print(\"B\")\n",
    "    elif 70 <= score < 80:\n",
    "        print(\"C\")\n",
    "    elif 60 <= score < 70:\n",
    "        print(\"D\")\n",
    "    else:\n",
    "        print(\"E\")"
   ]
  },
  {
   "cell_type": "code",
   "execution_count": 37,
   "metadata": {},
   "outputs": [
    {
     "name": "stdout",
     "output_type": "stream",
     "text": [
      "B\n"
     ]
    }
   ],
   "source": [
    "grade(84)"
   ]
  },
  {
   "cell_type": "code",
   "execution_count": null,
   "metadata": {},
   "outputs": [],
   "source": [
    "### 교수님 코드\n",
    "#def grade(n):\n",
    "#    g = \n",
    "#    if n >= 90 and a <= 100:\n",
    "#        n = 'a'\n",
    "#    elif n"
   ]
  },
  {
   "cell_type": "markdown",
   "metadata": {},
   "source": [
    "### 4번"
   ]
  },
  {
   "cell_type": "code",
   "execution_count": 178,
   "metadata": {},
   "outputs": [
    {
     "name": "stdout",
     "output_type": "stream",
     "text": [
      "Enter the radius :  5\n",
      "The surface is 78.5\n"
     ]
    }
   ],
   "source": [
    "#4.\n",
    "def surf(r):\n",
    "    return r * r * 3.14 \n",
    "\n",
    "r = int(input())\n",
    "print(\"Enter the radius : \",r)\n",
    "print(\"The surface is\", surf(r))"
   ]
  },
  {
   "cell_type": "code",
   "execution_count": null,
   "metadata": {},
   "outputs": [],
   "source": [
    "### 교수님 코드\n",
    "def surf(r):\n",
    "    return 3.14 * r **2\n",
    "surf(5)"
   ]
  },
  {
   "cell_type": "markdown",
   "metadata": {},
   "source": [
    "### 5번\n",
    "```\n",
    "자연수 n을 입력 받아 1부터 n-1까지의 각각의 수들을 5로 나눈 나머지들의 합을 리턴하는 함수 fun(n)을 작성하시오.\n",
    "```"
   ]
  },
  {
   "cell_type": "code",
   "execution_count": 38,
   "metadata": {},
   "outputs": [],
   "source": [
    "#5.\n",
    "def fun(n):\n",
    "    sum = 0\n",
    "    for n in range(1,n):\n",
    "        sum += n % 5\n",
    "    return sum"
   ]
  },
  {
   "cell_type": "code",
   "execution_count": 39,
   "metadata": {},
   "outputs": [
    {
     "data": {
      "text/plain": [
       "13"
      ]
     },
     "execution_count": 39,
     "metadata": {},
     "output_type": "execute_result"
    }
   ],
   "source": [
    "fun(8)"
   ]
  },
  {
   "cell_type": "code",
   "execution_count": 3,
   "metadata": {},
   "outputs": [],
   "source": [
    "### 교수님 코드\n",
    "def fun(n):\n",
    "    sum = 0\n",
    "    for i in range(1,n):\n",
    "        sum += i % 5\n",
    "    return sum"
   ]
  },
  {
   "cell_type": "code",
   "execution_count": 2,
   "metadata": {},
   "outputs": [
    {
     "data": {
      "text/plain": [
       "13"
      ]
     },
     "execution_count": 2,
     "metadata": {},
     "output_type": "execute_result"
    }
   ],
   "source": [
    "fun(8)"
   ]
  },
  {
   "cell_type": "markdown",
   "metadata": {},
   "source": [
    "### 6번 정수입력?\n",
    "```\n",
    "최소한 함수 1개를 정의하여, 정수를 입력받아 입력받은 숫자를 거꾸로 뒤집은 수를 출력하는 프로그램을 작성하시오.\n",
    "```"
   ]
  },
  {
   "cell_type": "code",
   "execution_count": 4,
   "metadata": {},
   "outputs": [
    {
     "name": "stdout",
     "output_type": "stream",
     "text": [
      "Enter the number :  72451\n"
     ]
    },
    {
     "data": {
      "text/plain": [
       "'15427'"
      ]
     },
     "execution_count": 4,
     "metadata": {},
     "output_type": "execute_result"
    }
   ],
   "source": [
    "#6.\n",
    "n = input()\n",
    "def rev(n):\n",
    "    return n[::-1]\n",
    "# n = int(input())\n",
    "print(\"Enter the number : \", n)\n",
    "rev(n)"
   ]
  },
  {
   "cell_type": "code",
   "execution_count": 5,
   "metadata": {},
   "outputs": [
    {
     "data": {
      "text/plain": [
       "'15427'"
      ]
     },
     "execution_count": 5,
     "metadata": {},
     "output_type": "execute_result"
    }
   ],
   "source": [
    "### 교수님 코드\n",
    "def rev(n):\n",
    "    n2 = ''\n",
    "    n = str(n)\n",
    "    l = len(n)\n",
    "    for i in range(l-1,-1,-1):\n",
    "        n2 = n2+n[i]\n",
    "    return n2\n",
    "rev(72451)"
   ]
  },
  {
   "cell_type": "code",
   "execution_count": 6,
   "metadata": {},
   "outputs": [
    {
     "data": {
      "text/plain": [
       "['1', '5', '4', '2', '7']"
      ]
     },
     "execution_count": 6,
     "metadata": {},
     "output_type": "execute_result"
    }
   ],
   "source": [
    "### 교수님 코드\n",
    "def rev(n):\n",
    "    n = str(n)\n",
    "    n = list(n)\n",
    "    n.reverse()\n",
    "    return n\n",
    "rev(72451)"
   ]
  },
  {
   "cell_type": "markdown",
   "metadata": {},
   "source": [
    "### 7번\n",
    "```\n",
    "아래의 조건을 만족하면서, 100000보다 작은 자연수 중 3 또는 5의 배수를 모두 더한 합을 출력하는 프로그램을 작성하시오.\n",
    "```"
   ]
  },
  {
   "cell_type": "markdown",
   "metadata": {},
   "source": [
    "1. 3의 배수를 판정하는 함수 ismulThree(n)과 5의 배수를 판정하는 함수 ismulFive(n)을 정의하여 사용한다.  \n",
    "2. 전체 코드의 줄은 15줄을 넘지 않는다."
   ]
  },
  {
   "cell_type": "code",
   "execution_count": 32,
   "metadata": {},
   "outputs": [
    {
     "name": "stdout",
     "output_type": "stream",
     "text": [
      "333316665\n"
     ]
    }
   ],
   "source": [
    "#7.\n",
    "def ismulThree(n):\n",
    "    return n % 3 == 0\n",
    "def ismulFive(n):\n",
    "    return n % 5 == 0\n",
    "sum = 0\n",
    "for n in range(1,100001):\n",
    "    n += 1\n",
    "    if ismulThree(n) and ismulFive(n) == True:\n",
    "        sum += n\n",
    "print(sum)"
   ]
  },
  {
   "cell_type": "code",
   "execution_count": 10,
   "metadata": {},
   "outputs": [
    {
     "name": "stdout",
     "output_type": "stream",
     "text": [
      "2333316668\n"
     ]
    }
   ],
   "source": [
    "### 교수님 코드\n",
    "def ismulThree(n):\n",
    "    if n % 3 == 0:\n",
    "        return n\n",
    "def ismulFive(n):\n",
    "    if n % 5 == 0:\n",
    "        return n\n",
    "sum = 0\n",
    "for i in range(100000):\n",
    "    if ismulThree(i):\n",
    "        sum = sum + i\n",
    "    if ismulFive(i):\n",
    "        sum = sum + i\n",
    "    if ismulThree(i) and ismulFive(i):\n",
    "        sum = sum - i\n",
    "print(sum)\n",
    "\n",
    "### 답 : 2333316668"
   ]
  },
  {
   "cell_type": "markdown",
   "metadata": {},
   "source": [
    "### 8번\n",
    "```\n",
    "어떤 수 n이 입력되면 n의 각 자릿수의 합이 한 자리가 될 때까지 계산하여 출력하는 프로그램을 작성하시오.\n",
    "\n",
    "ex. 12345678 -> 1+2+3+4+5+6+7 = 28 -> 2+8 = 10 -> 1+0 = 1 "
   ]
  },
  {
   "cell_type": "code",
   "execution_count": 13,
   "metadata": {},
   "outputs": [],
   "source": [
    "### 교수님 코드\n",
    "def func(n):\n",
    "    while n >= 10:\n",
    "        sum = 0\n",
    "        s = str(n)\n",
    "        for i in s:\n",
    "            sum += int(i)\n",
    "        n = sum\n",
    "        print(n)"
   ]
  },
  {
   "cell_type": "code",
   "execution_count": 14,
   "metadata": {},
   "outputs": [
    {
     "name": "stdout",
     "output_type": "stream",
     "text": [
      "28\n",
      "10\n",
      "1\n"
     ]
    }
   ],
   "source": [
    "func(1234567)"
   ]
  },
  {
   "cell_type": "markdown",
   "metadata": {},
   "source": [
    "### 9번\n",
    "```\n",
    "swap(i,j)함수는 list의 i와 j번째 값을 교환해주는 함수이다. 아래 빈칸을 채워 swqp(a,b)함수를 완성하시오.\n",
    "\n",
    "list = [5,1,7,2,6,3]\n",
    "def swap(i,j):\n",
    "<A>\n",
    "\n",
    "i,j = 3,5\n",
    "swap(i,j)\n",
    "print(list) # [5,1,7,3,6,2] 출력\n",
    "```"
   ]
  },
  {
   "cell_type": "code",
   "execution_count": 134,
   "metadata": {},
   "outputs": [],
   "source": [
    "list = [5,1,7,2,6,3]\n",
    "def swap(i,j):\n",
    "    result = list[i],list[j] = list[j],list[i]\n",
    "    return result"
   ]
  },
  {
   "cell_type": "code",
   "execution_count": 135,
   "metadata": {},
   "outputs": [
    {
     "name": "stdout",
     "output_type": "stream",
     "text": [
      "[5, 1, 7, 3, 6, 2]\n"
     ]
    }
   ],
   "source": [
    "i,j = 3,5\n",
    "swap(i,j)\n",
    "print(list)"
   ]
  },
  {
   "cell_type": "code",
   "execution_count": null,
   "metadata": {},
   "outputs": [],
   "source": [
    "### 교수님 코드\n",
    "# list = [5,1,7,2,6,3]\n",
    "# def swap(i,j):\n",
    "#     n = 0\n",
    "#     list[i] = list[j]\n",
    "#     list[j] = list[i]\n",
    "#     return list\n",
    "# swap(i,j)"
   ]
  },
  {
   "cell_type": "markdown",
   "metadata": {},
   "source": [
    "### 10번\n",
    "```\n",
    "wordlist(string)함수는 문장을 입력받아서 각 알파벳을 대문자로 바꾼 후, 문장을 이루는 각 단어를 저장한 리스트를 반환하는 함수이다.\n",
    "wordlist(string)함수를 작성하시오.\n",
    "\n",
    "<code>\n",
    "def wordlist(string):\n",
    "<A>\n",
    "\n",
    "string = input(\"Enter the sentence : \")\n",
    "print(wordlist(string))\n",
    "\n",
    "<result>\n",
    "Enter the sentence : This is my favorite fruit\n",
    "['THIS','IS','MY','FAVORITE','FRUIT']\n",
    "```"
   ]
  },
  {
   "cell_type": "code",
   "execution_count": 166,
   "metadata": {},
   "outputs": [],
   "source": [
    "def wordlist(string):\n",
    "    return  string.split()\n",
    "# string = input(\"Enter the sentence : \")\n",
    "# print(wordlist(string))"
   ]
  },
  {
   "cell_type": "code",
   "execution_count": 167,
   "metadata": {},
   "outputs": [
    {
     "name": "stdout",
     "output_type": "stream",
     "text": [
      "['This', 'is', 'my', 'favorite', 'fruit']\n"
     ]
    }
   ],
   "source": [
    "string = input(\"Enter the sentence : \")\n",
    "print(wordlist(string))"
   ]
  },
  {
   "cell_type": "code",
   "execution_count": 15,
   "metadata": {},
   "outputs": [
    {
     "data": {
      "text/plain": [
       "['THIS', 'IS', 'MY', 'FAVORITE', 'FRUIT']"
      ]
     },
     "execution_count": 15,
     "metadata": {},
     "output_type": "execute_result"
    }
   ],
   "source": [
    "### 교수님 코드\n",
    "def wordlist(string):\n",
    "    n = string.upper()\n",
    "    return n.split()\n",
    "wordlist(\"This is my favorite fruit\")"
   ]
  },
  {
   "cell_type": "code",
   "execution_count": null,
   "metadata": {},
   "outputs": [],
   "source": []
  }
 ],
 "metadata": {
  "interpreter": {
   "hash": "8fac594bfae6525c0c41b4041d2d72effa188cc8ead05f81b1fab2bb098927fb"
  },
  "kernelspec": {
   "display_name": "Python 3.8.3 ('base')",
   "language": "python",
   "name": "python3"
  },
  "language_info": {
   "codemirror_mode": {
    "name": "ipython",
    "version": 3
   },
   "file_extension": ".py",
   "mimetype": "text/x-python",
   "name": "python",
   "nbconvert_exporter": "python",
   "pygments_lexer": "ipython3",
   "version": "3.8.3"
  },
  "orig_nbformat": 4
 },
 "nbformat": 4,
 "nbformat_minor": 2
}
