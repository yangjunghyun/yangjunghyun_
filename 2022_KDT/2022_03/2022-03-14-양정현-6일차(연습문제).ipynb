{
 "cells": [
  {
   "cell_type": "markdown",
   "metadata": {},
   "source": [
    "# 연습문제"
   ]
  },
  {
   "cell_type": "markdown",
   "metadata": {},
   "source": [
    "- ### 산술연산"
   ]
  },
  {
   "cell_type": "code",
   "execution_count": 78,
   "metadata": {
    "scrolled": true
   },
   "outputs": [
    {
     "name": "stdout",
     "output_type": "stream",
     "text": [
      "12\n",
      "7\n"
     ]
    }
   ],
   "source": [
    "length = float(input())\n",
    "floor = 0.247*length+4.159\n",
    "print(int(floor))"
   ]
  },
  {
   "cell_type": "code",
   "execution_count": 67,
   "metadata": {},
   "outputs": [
    {
     "data": {
      "text/plain": [
       "7"
      ]
     },
     "execution_count": 67,
     "metadata": {},
     "output_type": "execute_result"
    }
   ],
   "source": [
    "int(floor) #정수로 바꾸어줌."
   ]
  },
  {
   "cell_type": "code",
   "execution_count": 74,
   "metadata": {},
   "outputs": [
    {
     "data": {
      "text/plain": [
       "72.5"
      ]
     },
     "execution_count": 74,
     "metadata": {},
     "output_type": "execute_result"
    }
   ],
   "source": [
    "korean = 90\n",
    "english = 80\n",
    "math = 70\n",
    "science = 50\n",
    "mean = (korean + english + math + science) / 4\n",
    "mean"
   ]
  },
  {
   "cell_type": "markdown",
   "metadata": {},
   "source": [
    "- ### 문자열"
   ]
  },
  {
   "cell_type": "code",
   "execution_count": 61,
   "metadata": {},
   "outputs": [
    {
     "name": "stdout",
     "output_type": "stream",
     "text": [
      "****************************************\n",
      "내 이름은Tom이다\n",
      "내 이름은 Tom이다\n",
      "안녕 내 이름은 Tom이다\n",
      "****************************************\n"
     ]
    }
   ],
   "source": [
    "#1\n",
    "print(\"*\"*40)\n",
    "print(\"내 이름은\" + \"Tom이다\")\n",
    "\n",
    "first = \"내 이름은\"\n",
    "second = \" Tom이다\"\n",
    "string = first + second\n",
    "print(string)\n",
    "\n",
    "A = \"안\"\n",
    "B = \"녕\"\n",
    "print(A + B + \" \" + first + second)\n",
    "print(\"*\"*40)"
   ]
  },
  {
   "cell_type": "code",
   "execution_count": 62,
   "metadata": {},
   "outputs": [
    {
     "name": "stdout",
     "output_type": "stream",
     "text": [
      "이름은 Chan\n",
      "나이는 18\n",
      "키는 182.5\n",
      "국가는 China\n"
     ]
    }
   ],
   "source": [
    "#2\n",
    "name = \"Chan\"\n",
    "age = 18\n",
    "height = 182.5\n",
    "nation = 'China'\n",
    "\n",
    "print('이름은',name)\n",
    "print('나이는',age)\n",
    "print('키는',height)\n",
    "print('국가는',nation)"
   ]
  },
  {
   "cell_type": "code",
   "execution_count": 101,
   "metadata": {},
   "outputs": [
    {
     "name": "stdout",
     "output_type": "stream",
     "text": [
      "문자열에서 \n",
      "을 쓰면 줄바꿈이 되고, \t를 사용하면 탭 공백이 넣어 진다\n",
      "문자열에서 '를 쓰려면 문자열을 큰 따옴표로 선언하거나 '와 \"를 쓰면 된다.\n",
      "마찬가지로 작은 따옴표 내에서 \"는 그냥 출력 된다\n"
     ]
    }
   ],
   "source": [
    "#3\n",
    "text_1 = \"문자열에서 \\n을 쓰면 줄바꿈이 되고, \\t를 사용하면 탭 공백이 넣어 진다\"\n",
    "text_2 = \"문자열에서 '를 쓰려면 문자열을 큰 따옴표로 선언하거나 \\'와 \\\"를 쓰면 된다.\"\n",
    "text_3 = '마찬가지로 작은 따옴표 내에서 \"는 그냥 출력 된다'\n",
    "\n",
    "print(text_1)\n",
    "print(text_2)\n",
    "print(text_3)"
   ]
  },
  {
   "cell_type": "code",
   "execution_count": 71,
   "metadata": {},
   "outputs": [
    {
     "name": "stdout",
     "output_type": "stream",
     "text": [
      "가나\n",
      "다라\n",
      "마바사\t아\n",
      "자차카\n",
      "타\n",
      "파하\n"
     ]
    }
   ],
   "source": [
    "#4\n",
    "text_1 = \"가나\\n다라\\n마바사\\t아\"\n",
    "text_2 = \"자차카\"\n",
    "text_3 = \"타\\n파하\"\n",
    "\n",
    "print(text_1)\n",
    "print(text_2)\n",
    "print(text_3)"
   ]
  },
  {
   "cell_type": "markdown",
   "metadata": {},
   "source": [
    "- ### 인덱싱과 슬라이싱"
   ]
  },
  {
   "cell_type": "code",
   "execution_count": 90,
   "metadata": {},
   "outputs": [
    {
     "name": "stdout",
     "output_type": "stream",
     "text": [
      "P\n",
      "Y\n",
      "N\n",
      "N\n",
      "H\n",
      "P\n"
     ]
    }
   ],
   "source": [
    "#5\n",
    "string = \"PYTHON\"\n",
    "\n",
    "print(string[0])\n",
    "print(string[1])\n",
    "print(string[5])\n",
    "\n",
    "print(string[-1])\n",
    "print(string[-3])\n",
    "print(string[-6])"
   ]
  },
  {
   "cell_type": "code",
   "execution_count": 92,
   "metadata": {},
   "outputs": [
    {
     "name": "stdout",
     "output_type": "stream",
     "text": [
      "OO\n",
      "NIGHT\n",
      "GH\n",
      "OD\n"
     ]
    }
   ],
   "source": [
    "#6\n",
    "mystr = \"GOOD NIGHT\"\n",
    "\n",
    "print(mystr[1:3])\n",
    "print(mystr[5:10])\n",
    "print(mystr[7:9])\n",
    "print(mystr[2:4])"
   ]
  },
  {
   "cell_type": "code",
   "execution_count": 93,
   "metadata": {},
   "outputs": [
    {
     "name": "stdout",
     "output_type": "stream",
     "text": [
      "*****정방향*****\n",
      "PY\n",
      "O\n",
      "*****역방향*****\n",
      "HO\n",
      "P\n"
     ]
    }
   ],
   "source": [
    "#7\n",
    "string = \"PYTHON\"\n",
    "\n",
    "print(\"*\"*5+\"정방향\"+\"*\"*5)\n",
    "print(string[0:2])\n",
    "print(string[4:5])\n",
    "\n",
    "print(\"*\"*5+\"역방향\"+\"*\"*5)\n",
    "print(string[-3:-1])\n",
    "print(string[-6:-5])"
   ]
  },
  {
   "cell_type": "code",
   "execution_count": 131,
   "metadata": {},
   "outputs": [
    {
     "name": "stdout",
     "output_type": "stream",
     "text": [
      "O\n",
      "G\n",
      "N\n",
      "O\n"
     ]
    }
   ],
   "source": [
    "#8\n",
    "mystr = \"ORANGE\"\n",
    "\n",
    "print(mystr[0])\n",
    "print(mystr[4])\n",
    "print(mystr[-3])\n",
    "print(mystr[-6])"
   ]
  },
  {
   "cell_type": "markdown",
   "metadata": {},
   "source": [
    "- ### 따라하며 배우는 파이썬과 데이터 과학"
   ]
  },
  {
   "cell_type": "code",
   "execution_count": 132,
   "metadata": {},
   "outputs": [
    {
     "data": {
      "text/plain": [
       "24.1358024691358"
      ]
     },
     "execution_count": 132,
     "metadata": {},
     "output_type": "execute_result"
    }
   ],
   "source": [
    "# 48p\n",
    "height = 1.80\n",
    "weight = 78.2\n",
    "bmi = weight / height**2\n",
    "bmi"
   ]
  },
  {
   "cell_type": "code",
   "execution_count": 134,
   "metadata": {},
   "outputs": [
    {
     "name": "stdout",
     "output_type": "stream",
     "text": [
      "피자 면적은 314.0\n",
      "피자 면적은 1256.0\n",
      "피자 면적은 2826.0\n"
     ]
    }
   ],
   "source": [
    "# 50p\n",
    "radius = 10\n",
    "area = 3.14 * radius**2\n",
    "print('피자 면적은', area)\n",
    "\n",
    "#도전문제 2.2\n",
    "#1.\n",
    "radius = 20\n",
    "area = 3.14 * radius**2\n",
    "print('피자 면적은', area)\n",
    "#2.\n",
    "radius = 30\n",
    "area = 3.14 * radius**2\n",
    "print('피자 면적은', area)"
   ]
  },
  {
   "cell_type": "code",
   "execution_count": null,
   "metadata": {},
   "outputs": [],
   "source": []
  },
  {
   "cell_type": "code",
   "execution_count": null,
   "metadata": {},
   "outputs": [],
   "source": []
  }
 ],
 "metadata": {
  "kernelspec": {
   "display_name": "Python 3",
   "language": "python",
   "name": "python3"
  },
  "language_info": {
   "codemirror_mode": {
    "name": "ipython",
    "version": 3
   },
   "file_extension": ".py",
   "mimetype": "text/x-python",
   "name": "python",
   "nbconvert_exporter": "python",
   "pygments_lexer": "ipython3",
   "version": "3.8.3"
  }
 },
 "nbformat": 4,
 "nbformat_minor": 4
}
