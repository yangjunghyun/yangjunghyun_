{
 "cells": [
  {
   "cell_type": "code",
   "execution_count": null,
   "metadata": {},
   "outputs": [],
   "source": [
    "#20번 반복되는 미로 만들기\n",
    "import turtle\n",
    "t = turtle.Turtle()\n",
    "t.shape('turtle')\n",
    "t.reset()\n",
    "t.speed(0)\n",
    "t.left(90)\n",
    "for i in range(20):\n",
    "    n = 10\n",
    "    t.forward(i*n)\n",
    "    t.right(90)"
   ]
  },
  {
   "cell_type": "code",
   "execution_count": 1,
   "metadata": {},
   "outputs": [],
   "source": [
    "import turtle\n",
    "t = turtle.Turtle()\n",
    "t.shape('turtle')\n",
    "t.reset()\n",
    "t.speed(0)\n",
    "t.forward(10)\n",
    "t.right(90)\n",
    "t.forward(20)\n",
    "t.right(90)\n",
    "t.forward(30)\n",
    "t.right(90)\n",
    "t.forward(40)\n",
    "t.right(90)\n",
    "t.forward(50)\n",
    "t.right(90)\n",
    "t.forward(60)\n",
    "t.right(90)\n",
    "t.forward(70)\n",
    "t.right(90)\n",
    "t.forward(80)\n",
    "t.right(90)\n",
    "t.forward(90)\n",
    "t.right(90)\n",
    "t.forward(100)\n",
    "t.right(90)\n",
    "t.forward(110)\n",
    "t.right(90)\n",
    "t.forward(120)\n",
    "t.right(90)\n",
    "t.forward(130)\n",
    "t.right(90)\n",
    "t.forward(140)\n",
    "t.right(90)\n",
    "t.forward(150)\n",
    "t.right(90)\n",
    "t.forward(160)\n",
    "t.right(90)\n",
    "t.forward(170)\n",
    "t.right(90)\n",
    "t.forward(180)\n",
    "t.right(90)\n",
    "t.forward(190)\n",
    "t.right(90)\n",
    "t.forward(200)\n",
    "t.right(90)"
   ]
  },
  {
   "cell_type": "code",
   "execution_count": null,
   "metadata": {},
   "outputs": [],
   "source": []
  }
 ],
 "metadata": {
  "kernelspec": {
   "display_name": "Python 3",
   "language": "python",
   "name": "python3"
  },
  "language_info": {
   "codemirror_mode": {
    "name": "ipython",
    "version": 3
   },
   "file_extension": ".py",
   "mimetype": "text/x-python",
   "name": "python",
   "nbconvert_exporter": "python",
   "pygments_lexer": "ipython3",
   "version": "3.8.3"
  }
 },
 "nbformat": 4,
 "nbformat_minor": 4
}
