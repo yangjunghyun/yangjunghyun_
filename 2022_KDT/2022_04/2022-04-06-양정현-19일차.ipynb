{
 "cells": [
  {
   "cell_type": "code",
   "execution_count": 2,
   "metadata": {},
   "outputs": [],
   "source": [
    "import os"
   ]
  },
  {
   "cell_type": "code",
   "execution_count": 1,
   "metadata": {},
   "outputs": [
    {
     "name": "stdout",
     "output_type": "stream",
     "text": [
      "<_csv.reader object at 0x000001B36C6433A0>\n"
     ]
    }
   ],
   "source": [
    "# import csv\n",
    "# f = open('대전_주민등록현황.csv','r')\n",
    "# data = csv.reader(f, delimiter=',')\n",
    "# print(data)\n",
    "# f.close()"
   ]
  },
  {
   "cell_type": "code",
   "execution_count": 3,
   "metadata": {},
   "outputs": [],
   "source": [
    "# f = open('대전_주민등록현황.csv','r')\n",
    "# data = csv.reader(f,delimiter=',')"
   ]
  },
  {
   "cell_type": "code",
   "execution_count": 4,
   "metadata": {},
   "outputs": [
    {
     "data": {
      "text/plain": [
       "<_csv.reader at 0x1b36d110d60>"
      ]
     },
     "execution_count": 4,
     "metadata": {},
     "output_type": "execute_result"
    }
   ],
   "source": [
    "# new = csv.reader(f)\n",
    "# new"
   ]
  },
  {
   "cell_type": "code",
   "execution_count": 6,
   "metadata": {},
   "outputs": [],
   "source": [
    "#a"
   ]
  },
  {
   "cell_type": "markdown",
   "metadata": {},
   "source": [
    "# CSV 데이터"
   ]
  },
  {
   "cell_type": "code",
   "execution_count": 14,
   "metadata": {},
   "outputs": [],
   "source": [
    "f = open('a.csv','r')"
   ]
  },
  {
   "cell_type": "code",
   "execution_count": 15,
   "metadata": {},
   "outputs": [
    {
     "data": {
      "text/plain": [
       "<_csv.reader at 0x1b36d110d00>"
      ]
     },
     "execution_count": 15,
     "metadata": {},
     "output_type": "execute_result"
    }
   ],
   "source": [
    "new = csv.reader(f)\n",
    "new"
   ]
  },
  {
   "cell_type": "code",
   "execution_count": 16,
   "metadata": {},
   "outputs": [
    {
     "name": "stdout",
     "output_type": "stream",
     "text": [
      "['국어', '영어', '수학']\n",
      "['90', '80', '100']\n"
     ]
    }
   ],
   "source": [
    "for i in new:\n",
    "    print(i)"
   ]
  },
  {
   "cell_type": "code",
   "execution_count": 17,
   "metadata": {},
   "outputs": [
    {
     "data": {
      "text/plain": [
       "[]"
      ]
     },
     "execution_count": 17,
     "metadata": {},
     "output_type": "execute_result"
    }
   ],
   "source": [
    "a_list = []\n",
    "for i in new:\n",
    "    print(i)\n",
    "    a_list.append(i)\n",
    "\n",
    "a_list"
   ]
  },
  {
   "cell_type": "code",
   "execution_count": 19,
   "metadata": {},
   "outputs": [
    {
     "name": "stdout",
     "output_type": "stream",
     "text": [
      "['국어', '영어', '수학']\n",
      "['90', '80', '100']\n"
     ]
    },
    {
     "data": {
      "text/plain": [
       "[['국어', '영어', '수학'], ['90', '80', '100']]"
      ]
     },
     "execution_count": 19,
     "metadata": {},
     "output_type": "execute_result"
    }
   ],
   "source": [
    "f.seek(0)\n",
    "for i in new:\n",
    "    print(i)\n",
    "    a_list.append(i)\n",
    "a_list"
   ]
  },
  {
   "cell_type": "code",
   "execution_count": 20,
   "metadata": {},
   "outputs": [],
   "source": [
    "def opencsv(filename):\n",
    "    f = open(filename,'r')\n",
    "    reader = csv.reader(f)\n",
    "    output = []\n",
    "    for i in reader:\n",
    "        output.append(i)\n",
    "    return output"
   ]
  },
  {
   "cell_type": "code",
   "execution_count": 21,
   "metadata": {},
   "outputs": [
    {
     "data": {
      "text/plain": [
       "[['이름', '국어', '영어', '수학'],\n",
       " ['a', '90', '80', '100'],\n",
       " ['b', '80', '90', '90'],\n",
       " ['c', '100', '80', '60']]"
      ]
     },
     "execution_count": 21,
     "metadata": {},
     "output_type": "execute_result"
    }
   ],
   "source": [
    "opencsv('example2.csv')"
   ]
  },
  {
   "cell_type": "code",
   "execution_count": 30,
   "metadata": {},
   "outputs": [],
   "source": [
    "a = [['구','전체','내국인','외국인'],\n",
    "['관악구','519864','502089','17775'],\n",
    "['강남구','547602','542495','5104'],\n",
    "['송파구','686181','679247','6934'],\n",
    "['강동구','428547','424235','4312']]"
   ]
  },
  {
   "cell_type": "code",
   "execution_count": 26,
   "metadata": {},
   "outputs": [],
   "source": [
    "f = open('abc.csv','w',newline='')\n",
    "csvobject = csv.writer(f, delimiter = ',')\n",
    "csvobject.writerows(a)\n",
    "f.close()"
   ]
  },
  {
   "cell_type": "code",
   "execution_count": 32,
   "metadata": {},
   "outputs": [],
   "source": [
    "def writecsv(filename, the_list):\n",
    "    with open(filename, 'w', newline = '') as f:\n",
    "        a = csv.writer(f,delimiter = ',')\n",
    "        a.writerows(the_list)"
   ]
  },
  {
   "cell_type": "code",
   "execution_count": 33,
   "metadata": {},
   "outputs": [],
   "source": [
    "writecsv('abc.csv',a)"
   ]
  },
  {
   "cell_type": "code",
   "execution_count": 1,
   "metadata": {},
   "outputs": [],
   "source": [
    "import usecsv\n",
    "a = [['물리','화학','생물'], [70,99,100]]\n",
    "usecsv.writecsv('test.csv',a)"
   ]
  },
  {
   "cell_type": "markdown",
   "metadata": {},
   "source": [
    "### csv파일 안의 문자를 숫자로 전환하기"
   ]
  },
  {
   "cell_type": "code",
   "execution_count": 8,
   "metadata": {},
   "outputs": [
    {
     "name": "stdout",
     "output_type": "stream",
     "text": [
      "['Gu', 'Korean', 'Foreigner', 'Senior']\n",
      "['Total', '9,740,398', '285,529', '1,468,146']\n",
      "['Jongrogu', '151,767', '11,093', '27,394']\n",
      "['Jongru', '126,409', '10,254', '23,025']\n",
      "['Yongsangu', '228,830', '16,159', '38,531']\n"
     ]
    }
   ],
   "source": [
    "import os, re\n",
    "import usecsv\n",
    "total = usecsv.opencsv('popSeoul.csv')\n",
    "for i in total [:5]:\n",
    "    print(i)"
   ]
  },
  {
   "cell_type": "code",
   "execution_count": 6,
   "metadata": {},
   "outputs": [
    {
     "name": "stdout",
     "output_type": "stream",
     "text": [
      "['Total', 9740398, 285529, 1468146]\n",
      "['Jongrogu', 151767, 11093, 27394]\n",
      "['Jongru', 126409, 10254, 23025]\n",
      "['Yongsangu', 228830, 16159, 38531]\n",
      "['Seongdonggu', 303158, 8132, 43662]\n",
      "['Kwangjingu', 352692, 15645, 47347]\n",
      "['Dongdaemoongu', 346551, 17228, 58764]\n",
      "['Jungranggu', 398812, 4964, 64449]\n",
      "['Seongbukgu', 441590, 12524, 70204]\n",
      "['Gangbukgu', 314090, 3785, 59808]\n",
      "['Dobonggu', 335280, 2314, 58070]\n",
      "['Nowonggu', 535282, 4547, 79968]\n",
      "['Eunpyonggu', 481663, 4496, 79957]\n",
      "['Seodaemungu', 310069, 14020, 51708]\n",
      "['Mapogu', 373629, 11976, 51961]\n",
      "['Yangcheongu', 459849, 4082, 60487]\n",
      "['Gangseogu', 593708, 6532, 82937]\n",
      "['Gurogu', 406748, 33102, 64952]\n",
      "['Guemcheongu', 233371, 19497, 37191]\n",
      "['Youngdeungpogu', 368402, 34076, 57350]\n",
      "['Dongjakgu', 397618, 12869, 61607]\n",
      "['Kwanakgu', 502117, 17836, 74518]\n",
      "['Seoucheogu', 431027, 4231, 56455]\n",
      "['Gangnamgu', 544028, 5015, 70029]\n",
      "['Songpagu', 677489, 6849, 86062]\n",
      "['Gangdonggu', 426219, 4303, 61710]\n"
     ]
    }
   ],
   "source": [
    "### 문자형 자료를 숫자형으로 바꾸기\n",
    "#float()함수로 바로 바꾸기\n",
    "for row in total[1:]:\n",
    "    # row[1] = int(row[1].replace(',',''))\n",
    "    # row[2] = int(row[2].replace(',',''))\n",
    "    # row[3] = int(row[3].replace(',',''))\n",
    "    \n",
    "    for i in range(1,4):\n",
    "        row[i] = int(row[i].replace(',',''))\n",
    "    print(row)"
   ]
  },
  {
   "cell_type": "code",
   "execution_count": 12,
   "metadata": {},
   "outputs": [
    {
     "data": {
      "text/plain": [
       "['Jongrogu', 151767.0, 11093.0, 27394.0]"
      ]
     },
     "execution_count": 12,
     "metadata": {},
     "output_type": "execute_result"
    }
   ],
   "source": [
    "import re\n",
    "i = total[2]\n",
    "i\n",
    "\n",
    "k = []\n",
    "for j in i:\n",
    "    if re.search('\\d',j):\n",
    "        k.append(float(re.sub(',','',j)))\n",
    "    else:\n",
    "        k.append(j)\n",
    "k"
   ]
  },
  {
   "cell_type": "code",
   "execution_count": 14,
   "metadata": {},
   "outputs": [
    {
     "data": {
      "text/plain": [
       "['123강남', 151.767, 11.093, 27394.0]"
      ]
     },
     "execution_count": 14,
     "metadata": {},
     "output_type": "execute_result"
    }
   ],
   "source": [
    "### 문자와 숫자가 섞인 원소 골라내기\n",
    "p = ['123강남','151.767','11.093','27,394']\n",
    "k = []\n",
    "for j in p:\n",
    "    if re.search('[a-zA-Z가-힣!]',j):\n",
    "        k.append(j)\n",
    "    else:\n",
    "        k.append(float(re.sub(',','',j)))\n",
    "k\n",
    "        "
   ]
  },
  {
   "cell_type": "code",
   "execution_count": 22,
   "metadata": {},
   "outputs": [
    {
     "data": {
      "text/plain": [
       "['123강남', 151.767, 11.093, 27394.0]"
      ]
     },
     "execution_count": 22,
     "metadata": {},
     "output_type": "execute_result"
    }
   ],
   "source": [
    "### 문자와 숫자가 섞인 원소 골라내기\n",
    "i = ['123!!','151.767','11.093','27,394','','!!!$%']\n",
    "for j in i:\n",
    "    try:\n",
    "        i[i.index(j)] = float(re.sub(',','',j))\n",
    "    except:\n",
    "        pass\n",
    "k\n",
    "        "
   ]
  },
  {
   "cell_type": "code",
   "execution_count": 3,
   "metadata": {},
   "outputs": [],
   "source": [
    "def switch(listName):\n",
    "    for i in listName:\n",
    "        for j in i:\n",
    "            try:\n",
    "                i[i.index(j)] = float(re.sub(',','',j))\n",
    "            except:\n",
    "                pass\n",
    "    return listName"
   ]
  },
  {
   "cell_type": "code",
   "execution_count": 30,
   "metadata": {},
   "outputs": [],
   "source": [
    "# def switch(listName):\n",
    "#     for row in listName:\n",
    "#         for item in row:\n",
    "#             try:\n",
    "#                 row[row.index(item)] = float(re.sub(',','',item))\n",
    "#             except:\n",
    "#                 pass\n",
    "#     return listName"
   ]
  },
  {
   "cell_type": "code",
   "execution_count": 27,
   "metadata": {},
   "outputs": [
    {
     "data": {
      "text/plain": [
       "5"
      ]
     },
     "execution_count": 27,
     "metadata": {},
     "output_type": "execute_result"
    }
   ],
   "source": [
    "row = [1,2,3,4,5]\n",
    "row[row.index(5)]"
   ]
  },
  {
   "cell_type": "code",
   "execution_count": 5,
   "metadata": {},
   "outputs": [
    {
     "data": {
      "text/plain": [
       "['123!!', '151.767', '11.093', '27,394', '', '!!!$%']"
      ]
     },
     "execution_count": 5,
     "metadata": {},
     "output_type": "execute_result"
    }
   ],
   "source": [
    "i = ['123!!','151.767','11.093','27,394','','!!!$%']\n",
    "switch(i)\n"
   ]
  },
  {
   "cell_type": "code",
   "execution_count": 9,
   "metadata": {},
   "outputs": [
    {
     "data": {
      "text/plain": [
       "[['123!!', 151.767, 11.093, 27394.0, '', '!!!$%']]"
      ]
     },
     "execution_count": 9,
     "metadata": {},
     "output_type": "execute_result"
    }
   ],
   "source": [
    "i = [['123!!','151.767','11.093','27,394','','!!!$%']]\n",
    "usecsv.switch(i)"
   ]
  },
  {
   "cell_type": "markdown",
   "metadata": {},
   "source": [
    "# csv파일 데이터 분석하기"
   ]
  },
  {
   "cell_type": "code",
   "execution_count": 10,
   "metadata": {},
   "outputs": [
    {
     "name": "stdout",
     "output_type": "stream",
     "text": [
      "[['Gu', 'Korean', 'Foreigner', 'Senior'], ['Total', 9740398.0, 285529.0, 1468146.0], ['Jongrogu', 151767.0, 11093.0, 27394.0], ['Jongru', 126409.0, 10254.0, 23025.0]]\n"
     ]
    }
   ],
   "source": [
    "import os, re, usecsv\n",
    "total = usecsv.opencsv('popSeoul.csv')\n",
    "newPop = usecsv.switch(total)\n",
    "print(newPop[:4])"
   ]
  },
  {
   "cell_type": "code",
   "execution_count": 12,
   "metadata": {},
   "outputs": [
    {
     "data": {
      "text/plain": [
       "['Total', 9740398.0, 285529.0, 1468146.0]"
      ]
     },
     "execution_count": 12,
     "metadata": {},
     "output_type": "execute_result"
    }
   ],
   "source": [
    "i = newPop[1]\n",
    "i"
   ]
  },
  {
   "cell_type": "code",
   "execution_count": 13,
   "metadata": {},
   "outputs": [
    {
     "data": {
      "text/plain": [
       "2.847906233508383"
      ]
     },
     "execution_count": 13,
     "metadata": {},
     "output_type": "execute_result"
    }
   ],
   "source": [
    "i[2] / (i[1] + i[2]) * 100"
   ]
  },
  {
   "cell_type": "code",
   "execution_count": 14,
   "metadata": {},
   "outputs": [
    {
     "data": {
      "text/plain": [
       "2.8"
      ]
     },
     "execution_count": 14,
     "metadata": {},
     "output_type": "execute_result"
    }
   ],
   "source": [
    "foreign = round(i[2] / (i[1] + i[2]) * 100,1)\n",
    "foreign"
   ]
  },
  {
   "cell_type": "code",
   "execution_count": 15,
   "metadata": {},
   "outputs": [
    {
     "name": "stdout",
     "output_type": "stream",
     "text": [
      "Total 2.8\n",
      "Jongrogu 6.8\n",
      "Jongru 7.5\n",
      "Yongsangu 6.6\n",
      "Seongdonggu 2.6\n",
      "Kwangjingu 4.2\n",
      "Dongdaemoongu 4.7\n",
      "Jungranggu 1.2\n",
      "Seongbukgu 2.8\n",
      "Gangbukgu 1.2\n",
      "Dobonggu 0.7\n",
      "Nowonggu 0.8\n",
      "Eunpyonggu 0.9\n",
      "Seodaemungu 4.3\n",
      "Mapogu 3.1\n",
      "Yangcheongu 0.9\n",
      "Gangseogu 1.1\n",
      "Gurogu 7.5\n",
      "Guemcheongu 7.7\n",
      "Youngdeungpogu 8.5\n",
      "Dongjakgu 3.1\n",
      "Kwanakgu 3.4\n",
      "Seoucheogu 1.0\n",
      "Gangnamgu 0.9\n",
      "Songpagu 1.0\n",
      "Gangdonggu 1.0\n"
     ]
    }
   ],
   "source": [
    "for i in newPop:\n",
    "    foreign = 0\n",
    "    try:\n",
    "        foreign = round(i[2] / (i[1] + i[2]) * 100,1)\n",
    "        print(i[0], foreign)\n",
    "    except:\n",
    "        pass"
   ]
  },
  {
   "cell_type": "code",
   "execution_count": 16,
   "metadata": {},
   "outputs": [],
   "source": [
    "new = [['구','한국인','외국인','외국인 비율(%)']]"
   ]
  },
  {
   "cell_type": "code",
   "execution_count": 17,
   "metadata": {},
   "outputs": [
    {
     "data": {
      "text/plain": [
       "['Gangdonggu', 426219.0, 4303.0, 61710.0]"
      ]
     },
     "execution_count": 17,
     "metadata": {},
     "output_type": "execute_result"
    }
   ],
   "source": [
    "i"
   ]
  },
  {
   "cell_type": "code",
   "execution_count": 19,
   "metadata": {},
   "outputs": [
    {
     "data": {
      "text/plain": [
       "[['구', '한국인', '외국인', '외국인 비율(%)'], ['Gangdonggu', 426219.0, 4303.0, 1.0]]"
      ]
     },
     "execution_count": 19,
     "metadata": {},
     "output_type": "execute_result"
    }
   ],
   "source": [
    "new.append([i[0],i[1],i[2],foreign])\n",
    "new"
   ]
  },
  {
   "cell_type": "code",
   "execution_count": 24,
   "metadata": {},
   "outputs": [
    {
     "name": "stdout",
     "output_type": "stream",
     "text": [
      "unsupported operand type(s) for /: 'str' and 'str'\n"
     ]
    }
   ],
   "source": [
    "#교수님코드\n",
    "newList = []\n",
    "newList.append(newPop[0])\n",
    "for i in newPop:\n",
    "    foreign = 0\n",
    "    try:\n",
    "        foreign = round(i[2] / (i[1] + i[2]) * 100,1)\n",
    "\n",
    "    except Exception as e:\n",
    "        print(e)\n",
    "    if foreign > 3:\n",
    "        newList.append(i)\n",
    "usecsv.writecsv('foreignover3.csv',newList)"
   ]
  },
  {
   "cell_type": "code",
   "execution_count": 25,
   "metadata": {},
   "outputs": [],
   "source": [
    "new = [['구','한국인','외국인','외국인 비율(%)']]\n",
    "for i in newPop:\n",
    "    foreign = 0\n",
    "    try:\n",
    "        foreign = round(i[2] / (i[1] + i[2]) * 100,1)\n",
    "        if foreign > 3:\n",
    "            new.append([i[0],i[1],i[2],foreign])\n",
    "    except:\n",
    "        pass\n",
    "usecsv.writecsv('newPop.csv',new)"
   ]
  },
  {
   "cell_type": "markdown",
   "metadata": {},
   "source": [
    "# apt_202203.csv"
   ]
  },
  {
   "cell_type": "code",
   "execution_count": 29,
   "metadata": {},
   "outputs": [
    {
     "data": {
      "text/plain": [
       "[['시군구',\n",
       "  '번지',\n",
       "  '본번',\n",
       "  '부번',\n",
       "  '단지명',\n",
       "  '전용면적(㎡)',\n",
       "  '계약년월',\n",
       "  '계약일',\n",
       "  '거래금액(만원)',\n",
       "  '층',\n",
       "  '건축년도',\n",
       "  '도로명',\n",
       "  '해제사유발생일',\n",
       "  '거래유형',\n",
       "  '중개사소재지'],\n",
       " ['강원도 강릉시 견소동',\n",
       "  202.0,\n",
       "  202.0,\n",
       "  0.0,\n",
       "  '송정한신',\n",
       "  59.8,\n",
       "  202203.0,\n",
       "  7.0,\n",
       "  18000.0,\n",
       "  3.0,\n",
       "  1997.0,\n",
       "  '경강로2539번길 8',\n",
       "  '',\n",
       "  '중개거래',\n",
       "  '강원 강릉시'],\n",
       " ['강원도 강릉시 견소동',\n",
       "  202.0,\n",
       "  202.0,\n",
       "  0.0,\n",
       "  '송정한신',\n",
       "  59.8,\n",
       "  202203.0,\n",
       "  8.0,\n",
       "  21000.0,\n",
       "  8.0,\n",
       "  1997.0,\n",
       "  '경강로2539번길 8',\n",
       "  '',\n",
       "  '중개거래',\n",
       "  '강원 강릉시']]"
      ]
     },
     "execution_count": 29,
     "metadata": {},
     "output_type": "execute_result"
    }
   ],
   "source": [
    "import usecsv\n",
    "\n",
    "# apt = usecsv.opencsv('apt_202203.csv')\n",
    "# apt = usecsv.switch(apt)\n",
    "\n",
    "apt = usecsv.switch(usecsv.opencsv('apt_202203.csv'))\n",
    "apt[:3]"
   ]
  },
  {
   "cell_type": "code",
   "execution_count": 30,
   "metadata": {},
   "outputs": [
    {
     "data": {
      "text/plain": [
       "23900"
      ]
     },
     "execution_count": 30,
     "metadata": {},
     "output_type": "execute_result"
    }
   ],
   "source": [
    "len(apt)"
   ]
  },
  {
   "cell_type": "code",
   "execution_count": 36,
   "metadata": {},
   "outputs": [
    {
     "name": "stdout",
     "output_type": "stream",
     "text": [
      "시군구\n",
      "강원도 강릉시 견소동\n",
      "강원도 강릉시 견소동\n",
      "강원도 강릉시 견소동\n",
      "강원도 강릉시 견소동\n",
      "강원도 강릉시 견소동\n"
     ]
    }
   ],
   "source": [
    "for i in apt[:6]:\n",
    "    print(i[0])"
   ]
  },
  {
   "cell_type": "code",
   "execution_count": 37,
   "metadata": {},
   "outputs": [
    {
     "name": "stdout",
     "output_type": "stream",
     "text": [
      "시군구 단지명 전용면적(㎡) 거래금액(만원)\n",
      "강원도 강릉시 견소동 송정한신 59.8 18000.0\n",
      "강원도 강릉시 견소동 송정한신 59.8 21000.0\n",
      "강원도 강릉시 견소동 송정한신 84.945 25500.0\n",
      "강원도 강릉시 견소동 송정해변신도브래뉴아파트 84.99 33500.0\n",
      "강원도 강릉시 견소동 송정해변신도브래뉴아파트 59.99 27000.0\n"
     ]
    }
   ],
   "source": [
    "for i in apt[:6]:\n",
    "    print(i[0],i[4],i[5],i[-7])"
   ]
  },
  {
   "cell_type": "code",
   "execution_count": 44,
   "metadata": {},
   "outputs": [
    {
     "name": "stdout",
     "output_type": "stream",
     "text": [
      "'>' not supported between instances of 'str' and 'int'\n",
      "대전광역시 대덕구 법동 영진로얄 84.88 26700.0\n",
      "대전광역시 대덕구 비래동 화인빌 81.389 13000.0\n",
      "대전광역시 대덕구 신탄진동 새여울라이프 101.67 20000.0\n",
      "대전광역시 대덕구 오정동 영진로얄맨션 84.28 16900.0\n",
      "대전광역시 대덕구 오정동 한남 84.97 18800.0\n",
      "대전광역시 대덕구 읍내동 현대 84.96 24500.0\n",
      "대전광역시 동구 가양동 한울 84.8698 27000.0\n",
      "대전광역시 동구 대성동 서미가아파트 84.959 20000.0\n",
      "대전광역시 동구 판암동 방주아파트 84.93 26000.0\n",
      "대전광역시 서구 가수원동 은아1단지 84.9 29500.0\n",
      "대전광역시 서구 갈마동 갈마 84.68 27500.0\n",
      "대전광역시 서구 갈마동 한국도로공사조합아파트 84.9 20088.0\n",
      "대전광역시 서구 내동 롯데 84.99 29800.0\n",
      "대전광역시 서구 월평동 월평타운 84.895 25000.0\n",
      "대전광역시 서구 정림동 강변들금성백조 84.81 27000.0\n",
      "대전광역시 서구 정림동 우성 84.935 30000.0\n",
      "대전광역시 유성구 대정동 드리움1단지 84.65 30000.0\n",
      "대전광역시 유성구 봉명동 노블레스3 84.61 24000.0\n",
      "대전광역시 유성구 송강동 송강그린 84.996 30000.0\n",
      "대전광역시 유성구 송강동 청솔신호 84.44 25300.0\n",
      "대전광역시 유성구 송강동 청솔태영 84.44 24700.0\n",
      "대전광역시 유성구 지족동 가나파로스빌2차 84.14 27500.0\n",
      "대전광역시 중구 문화동 동양맨션마동 84.9 17000.0\n",
      "대전광역시 중구 오류동 쉐리움 83.27 21000.0\n",
      "대전광역시 중구 유천동 당대마을 82.169 17500.0\n",
      "대전광역시 중구 유천동 동양맨션 84.97 17700.0\n"
     ]
    }
   ],
   "source": [
    "for i in apt:\n",
    "    try:\n",
    "        if i[5] > 80 and i[-7] <= 30000 and re.match('대전',i[0]):\n",
    "            print(i[0],i[4],i[5],i[-7])\n",
    "    except Exception as e: \n",
    "        print(e)"
   ]
  },
  {
   "cell_type": "code",
   "execution_count": 45,
   "metadata": {},
   "outputs": [
    {
     "name": "stdout",
     "output_type": "stream",
     "text": [
      "'>' not supported between instances of 'str' and 'int'\n"
     ]
    }
   ],
   "source": [
    "new_list = []\n",
    "new_list.append([apt[0][0], apt[0][4],apt[0][5],apt[0][-7]])\n",
    "for i in apt:\n",
    "    try:\n",
    "        if i[5] > 80 and i[-7] <= 30000 and re.match('대전',i[0]):\n",
    "            new_list.append([i[0],i[4],i[5],i[-7]])\n",
    "    except Exception as e:\n",
    "        print(e)\n",
    "usecsv.writecsv('over80_lower3000.csv',new_list)"
   ]
  },
  {
   "cell_type": "code",
   "execution_count": null,
   "metadata": {},
   "outputs": [],
   "source": []
  }
 ],
 "metadata": {
  "interpreter": {
   "hash": "8fac594bfae6525c0c41b4041d2d72effa188cc8ead05f81b1fab2bb098927fb"
  },
  "kernelspec": {
   "display_name": "Python 3.8.3 ('base')",
   "language": "python",
   "name": "python3"
  },
  "language_info": {
   "codemirror_mode": {
    "name": "ipython",
    "version": 3
   },
   "file_extension": ".py",
   "mimetype": "text/x-python",
   "name": "python",
   "nbconvert_exporter": "python",
   "pygments_lexer": "ipython3",
   "version": "3.8.3"
  },
  "orig_nbformat": 4
 },
 "nbformat": 4,
 "nbformat_minor": 2
}
