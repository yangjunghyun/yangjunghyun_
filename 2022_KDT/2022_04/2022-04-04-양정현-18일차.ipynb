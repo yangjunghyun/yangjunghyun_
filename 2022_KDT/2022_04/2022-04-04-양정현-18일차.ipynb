{
 "cells": [
  {
   "cell_type": "code",
   "execution_count": 13,
   "metadata": {},
   "outputs": [
    {
     "name": "stdout",
     "output_type": "stream",
     "text": [
      "2 x 1 = 2\n",
      "2 x 2 = 4\n",
      "2 x 3 = 6\n",
      "2 x 4 = 8\n",
      "2 x 5 = 10\n",
      "2 x 6 = 12\n",
      "2 x 7 = 14\n",
      "2 x 8 = 16\n",
      "2 x 9 = 18\n",
      "2 x 10 = 20\n",
      "2 x 11 = 22\n",
      "2 x 12 = 24\n",
      "2 x 13 = 26\n",
      "2 x 14 = 28\n",
      "2 x 15 = 30\n",
      "2 x 16 = 32\n",
      "2 x 17 = 34\n",
      "2 x 18 = 36\n",
      "2 x 19 = 38\n",
      "3 x 1 = 3\n",
      "3 x 2 = 6\n",
      "3 x 3 = 9\n",
      "3 x 4 = 12\n",
      "3 x 5 = 15\n",
      "3 x 6 = 18\n",
      "3 x 7 = 21\n",
      "3 x 8 = 24\n",
      "3 x 9 = 27\n",
      "3 x 10 = 30\n",
      "3 x 11 = 33\n",
      "3 x 12 = 36\n",
      "3 x 13 = 39\n",
      "3 x 14 = 42\n",
      "3 x 15 = 45\n",
      "3 x 16 = 48\n",
      "3 x 17 = 51\n",
      "3 x 18 = 54\n",
      "3 x 19 = 57\n",
      "4 x 1 = 4\n",
      "4 x 2 = 8\n",
      "4 x 3 = 12\n",
      "4 x 4 = 16\n",
      "4 x 5 = 20\n",
      "4 x 6 = 24\n",
      "4 x 7 = 28\n",
      "4 x 8 = 32\n",
      "4 x 9 = 36\n",
      "4 x 10 = 40\n",
      "4 x 11 = 44\n",
      "4 x 12 = 48\n",
      "4 x 13 = 52\n",
      "4 x 14 = 56\n",
      "4 x 15 = 60\n",
      "4 x 16 = 64\n",
      "4 x 17 = 68\n",
      "4 x 18 = 72\n",
      "4 x 19 = 76\n",
      "5 x 1 = 5\n",
      "5 x 2 = 10\n",
      "5 x 3 = 15\n",
      "5 x 4 = 20\n",
      "5 x 5 = 25\n",
      "5 x 6 = 30\n",
      "5 x 7 = 35\n",
      "5 x 8 = 40\n",
      "5 x 9 = 45\n",
      "5 x 10 = 50\n",
      "5 x 11 = 55\n",
      "5 x 12 = 60\n",
      "5 x 13 = 65\n",
      "5 x 14 = 70\n",
      "5 x 15 = 75\n",
      "5 x 16 = 80\n",
      "5 x 17 = 85\n",
      "5 x 18 = 90\n",
      "5 x 19 = 95\n",
      "6 x 1 = 6\n",
      "6 x 2 = 12\n",
      "6 x 3 = 18\n",
      "6 x 4 = 24\n",
      "6 x 5 = 30\n",
      "6 x 6 = 36\n",
      "6 x 7 = 42\n",
      "6 x 8 = 48\n",
      "6 x 9 = 54\n",
      "6 x 10 = 60\n",
      "6 x 11 = 66\n",
      "6 x 12 = 72\n",
      "6 x 13 = 78\n",
      "6 x 14 = 84\n",
      "6 x 15 = 90\n",
      "6 x 16 = 96\n",
      "6 x 17 = 102\n",
      "6 x 18 = 108\n",
      "6 x 19 = 114\n",
      "7 x 1 = 7\n",
      "7 x 2 = 14\n",
      "7 x 3 = 21\n",
      "7 x 4 = 28\n",
      "7 x 5 = 35\n",
      "7 x 6 = 42\n",
      "7 x 7 = 49\n",
      "7 x 8 = 56\n",
      "7 x 9 = 63\n",
      "7 x 10 = 70\n",
      "7 x 11 = 77\n",
      "7 x 12 = 84\n",
      "7 x 13 = 91\n",
      "7 x 14 = 98\n",
      "7 x 15 = 105\n",
      "7 x 16 = 112\n",
      "7 x 17 = 119\n",
      "7 x 18 = 126\n",
      "7 x 19 = 133\n",
      "8 x 1 = 8\n",
      "8 x 2 = 16\n",
      "8 x 3 = 24\n",
      "8 x 4 = 32\n",
      "8 x 5 = 40\n",
      "8 x 6 = 48\n",
      "8 x 7 = 56\n",
      "8 x 8 = 64\n",
      "8 x 9 = 72\n",
      "8 x 10 = 80\n",
      "8 x 11 = 88\n",
      "8 x 12 = 96\n",
      "8 x 13 = 104\n",
      "8 x 14 = 112\n",
      "8 x 15 = 120\n",
      "8 x 16 = 128\n",
      "8 x 17 = 136\n",
      "8 x 18 = 144\n",
      "8 x 19 = 152\n",
      "9 x 1 = 9\n",
      "9 x 2 = 18\n",
      "9 x 3 = 27\n",
      "9 x 4 = 36\n",
      "9 x 5 = 45\n",
      "9 x 6 = 54\n",
      "9 x 7 = 63\n",
      "9 x 8 = 72\n",
      "9 x 9 = 81\n",
      "9 x 10 = 90\n",
      "9 x 11 = 99\n",
      "9 x 12 = 108\n",
      "9 x 13 = 117\n",
      "9 x 14 = 126\n",
      "9 x 15 = 135\n",
      "9 x 16 = 144\n",
      "9 x 17 = 153\n",
      "9 x 18 = 162\n",
      "9 x 19 = 171\n",
      "10 x 1 = 10\n",
      "10 x 2 = 20\n",
      "10 x 3 = 30\n",
      "10 x 4 = 40\n",
      "10 x 5 = 50\n",
      "10 x 6 = 60\n",
      "10 x 7 = 70\n",
      "10 x 8 = 80\n",
      "10 x 9 = 90\n",
      "10 x 10 = 100\n",
      "10 x 11 = 110\n",
      "10 x 12 = 120\n",
      "10 x 13 = 130\n",
      "10 x 14 = 140\n",
      "10 x 15 = 150\n",
      "10 x 16 = 160\n",
      "10 x 17 = 170\n",
      "10 x 18 = 180\n",
      "10 x 19 = 190\n",
      "11 x 1 = 11\n",
      "11 x 2 = 22\n",
      "11 x 3 = 33\n",
      "11 x 4 = 44\n",
      "11 x 5 = 55\n",
      "11 x 6 = 66\n",
      "11 x 7 = 77\n",
      "11 x 8 = 88\n",
      "11 x 9 = 99\n",
      "11 x 10 = 110\n",
      "11 x 11 = 121\n",
      "11 x 12 = 132\n",
      "11 x 13 = 143\n",
      "11 x 14 = 154\n",
      "11 x 15 = 165\n",
      "11 x 16 = 176\n",
      "11 x 17 = 187\n",
      "11 x 18 = 198\n",
      "11 x 19 = 209\n",
      "12 x 1 = 12\n",
      "12 x 2 = 24\n",
      "12 x 3 = 36\n",
      "12 x 4 = 48\n",
      "12 x 5 = 60\n",
      "12 x 6 = 72\n",
      "12 x 7 = 84\n",
      "12 x 8 = 96\n",
      "12 x 9 = 108\n",
      "12 x 10 = 120\n",
      "12 x 11 = 132\n",
      "12 x 12 = 144\n",
      "12 x 13 = 156\n",
      "12 x 14 = 168\n",
      "12 x 15 = 180\n",
      "12 x 16 = 192\n",
      "12 x 17 = 204\n",
      "12 x 18 = 216\n",
      "12 x 19 = 228\n",
      "13 x 1 = 13\n",
      "13 x 2 = 26\n",
      "13 x 3 = 39\n",
      "13 x 4 = 52\n",
      "13 x 5 = 65\n",
      "13 x 6 = 78\n",
      "13 x 7 = 91\n",
      "13 x 8 = 104\n",
      "13 x 9 = 117\n",
      "13 x 10 = 130\n",
      "13 x 11 = 143\n",
      "13 x 12 = 156\n",
      "13 x 13 = 169\n",
      "13 x 14 = 182\n",
      "13 x 15 = 195\n",
      "13 x 16 = 208\n",
      "13 x 17 = 221\n",
      "13 x 18 = 234\n",
      "13 x 19 = 247\n",
      "14 x 1 = 14\n",
      "14 x 2 = 28\n",
      "14 x 3 = 42\n",
      "14 x 4 = 56\n",
      "14 x 5 = 70\n",
      "14 x 6 = 84\n",
      "14 x 7 = 98\n",
      "14 x 8 = 112\n",
      "14 x 9 = 126\n",
      "14 x 10 = 140\n",
      "14 x 11 = 154\n",
      "14 x 12 = 168\n",
      "14 x 13 = 182\n",
      "14 x 14 = 196\n",
      "14 x 15 = 210\n",
      "14 x 16 = 224\n",
      "14 x 17 = 238\n",
      "14 x 18 = 252\n",
      "14 x 19 = 266\n",
      "15 x 1 = 15\n",
      "15 x 2 = 30\n",
      "15 x 3 = 45\n",
      "15 x 4 = 60\n",
      "15 x 5 = 75\n",
      "15 x 6 = 90\n",
      "15 x 7 = 105\n",
      "15 x 8 = 120\n",
      "15 x 9 = 135\n",
      "15 x 10 = 150\n",
      "15 x 11 = 165\n",
      "15 x 12 = 180\n",
      "15 x 13 = 195\n",
      "15 x 14 = 210\n",
      "15 x 15 = 225\n",
      "15 x 16 = 240\n",
      "15 x 17 = 255\n",
      "15 x 18 = 270\n",
      "15 x 19 = 285\n",
      "16 x 1 = 16\n",
      "16 x 2 = 32\n",
      "16 x 3 = 48\n",
      "16 x 4 = 64\n",
      "16 x 5 = 80\n",
      "16 x 6 = 96\n",
      "16 x 7 = 112\n",
      "16 x 8 = 128\n",
      "16 x 9 = 144\n",
      "16 x 10 = 160\n",
      "16 x 11 = 176\n",
      "16 x 12 = 192\n",
      "16 x 13 = 208\n",
      "16 x 14 = 224\n",
      "16 x 15 = 240\n",
      "16 x 16 = 256\n",
      "16 x 17 = 272\n",
      "16 x 18 = 288\n",
      "16 x 19 = 304\n",
      "17 x 1 = 17\n",
      "17 x 2 = 34\n",
      "17 x 3 = 51\n",
      "17 x 4 = 68\n",
      "17 x 5 = 85\n",
      "17 x 6 = 102\n",
      "17 x 7 = 119\n",
      "17 x 8 = 136\n",
      "17 x 9 = 153\n",
      "17 x 10 = 170\n",
      "17 x 11 = 187\n",
      "17 x 12 = 204\n",
      "17 x 13 = 221\n",
      "17 x 14 = 238\n",
      "17 x 15 = 255\n",
      "17 x 16 = 272\n",
      "17 x 17 = 289\n",
      "17 x 18 = 306\n",
      "17 x 19 = 323\n",
      "18 x 1 = 18\n",
      "18 x 2 = 36\n",
      "18 x 3 = 54\n",
      "18 x 4 = 72\n",
      "18 x 5 = 90\n",
      "18 x 6 = 108\n",
      "18 x 7 = 126\n",
      "18 x 8 = 144\n",
      "18 x 9 = 162\n",
      "18 x 10 = 180\n",
      "18 x 11 = 198\n",
      "18 x 12 = 216\n",
      "18 x 13 = 234\n",
      "18 x 14 = 252\n",
      "18 x 15 = 270\n",
      "18 x 16 = 288\n",
      "18 x 17 = 306\n",
      "18 x 18 = 324\n",
      "18 x 19 = 342\n",
      "19 x 1 = 19\n",
      "19 x 2 = 38\n",
      "19 x 3 = 57\n",
      "19 x 4 = 76\n",
      "19 x 5 = 95\n",
      "19 x 6 = 114\n",
      "19 x 7 = 133\n",
      "19 x 8 = 152\n",
      "19 x 9 = 171\n",
      "19 x 10 = 190\n",
      "19 x 11 = 209\n",
      "19 x 12 = 228\n",
      "19 x 13 = 247\n",
      "19 x 14 = 266\n",
      "19 x 15 = 285\n",
      "19 x 16 = 304\n",
      "19 x 17 = 323\n",
      "19 x 18 = 342\n",
      "19 x 19 = 361\n"
     ]
    }
   ],
   "source": [
    "for i in range(2,20):\n",
    "    for j in range(1,20):\n",
    "        print(i,\"x\",j,\"=\",i*j)"
   ]
  },
  {
   "cell_type": "code",
   "execution_count": 14,
   "metadata": {},
   "outputs": [
    {
     "data": {
      "text/plain": [
       "7272.7"
      ]
     },
     "execution_count": 14,
     "metadata": {},
     "output_type": "execute_result"
    }
   ],
   "source": [
    "round(8000/1.1,1)"
   ]
  },
  {
   "cell_type": "code",
   "execution_count": 15,
   "metadata": {},
   "outputs": [
    {
     "data": {
      "text/plain": [
       "727"
      ]
     },
     "execution_count": 15,
     "metadata": {},
     "output_type": "execute_result"
    }
   ],
   "source": [
    "round(8000*(1/11))"
   ]
  },
  {
   "cell_type": "code",
   "execution_count": 17,
   "metadata": {},
   "outputs": [
    {
     "data": {
      "text/plain": [
       "36"
      ]
     },
     "execution_count": 17,
     "metadata": {},
     "output_type": "execute_result"
    }
   ],
   "source": [
    "y = lambda x :3 *x\n",
    "y(12)"
   ]
  },
  {
   "cell_type": "code",
   "execution_count": 18,
   "metadata": {},
   "outputs": [
    {
     "data": {
      "text/plain": [
       "5"
      ]
     },
     "execution_count": 18,
     "metadata": {},
     "output_type": "execute_result"
    }
   ],
   "source": [
    "add = lambda a,b : a+b\n",
    "add(2,3)"
   ]
  },
  {
   "cell_type": "code",
   "execution_count": 24,
   "metadata": {},
   "outputs": [],
   "source": [
    "littlePrince = '''여섯 살 적에 나는 '체험한 이야기'라는 제목의, 원시림에 관한 책에서 기막힌 그림 하나를 본 적이 잇다. 맹수를 집어삼키고 있는 보아뱀 그림이었다. 위의 그림은 그것을 옮겨 그린 것이다. 그 책에는 이렇게 씌어 있었다. '보아뱀은 먹이를 씹지도 않고 통째로 집어삼민다. 그러고는 꼼짝도 하지 못하고 여섯달동안 몇 달 동안 잠을 자면서 그것을 소화시킨다.'''"
   ]
  },
  {
   "cell_type": "code",
   "execution_count": 25,
   "metadata": {},
   "outputs": [
    {
     "data": {
      "text/plain": [
       "'여섯 살 적에 나는'"
      ]
     },
     "execution_count": 25,
     "metadata": {},
     "output_type": "execute_result"
    }
   ],
   "source": [
    "littlePrince[:10]"
   ]
  },
  {
   "cell_type": "code",
   "execution_count": null,
   "metadata": {},
   "outputs": [],
   "source": [
    "# def calculator(a,b):\n",
    "#     return a+b, a-b,"
   ]
  },
  {
   "cell_type": "code",
   "execution_count": 28,
   "metadata": {},
   "outputs": [
    {
     "name": "stdout",
     "output_type": "stream",
     "text": [
      "44.0 만 원입니다\n"
     ]
    }
   ],
   "source": [
    "price = [23,40,67]\n",
    "\n",
    "def service_price():\n",
    "    service = input('서비스 종류를 입력하세요, a/b/c:')\n",
    "    valueAdded = input('부가세를 포함합니까? y/n:')\n",
    "    if valueAdded == 'y':\n",
    "        if service == 'a':\n",
    "            result = 23 * 1.1\n",
    "        if service == 'b':\n",
    "            result = 40 * 1.1\n",
    "        if service == 'c':\n",
    "            result = 67 * 1.1\n",
    "    if valueAdded == 'n':\n",
    "        if service == 'a':\n",
    "            result = 23\n",
    "        if service == 'b':\n",
    "            result = 40\n",
    "        if service == 'c':\n",
    "            result = 67\n",
    "    print(round(result,1), '만 원입니다')\n",
    "service_price()"
   ]
  },
  {
   "cell_type": "code",
   "execution_count": 29,
   "metadata": {},
   "outputs": [
    {
     "data": {
      "text/plain": [
       "'c:\\\\Users\\\\User\\\\Documents\\\\2022 KDT'"
      ]
     },
     "execution_count": 29,
     "metadata": {},
     "output_type": "execute_result"
    }
   ],
   "source": [
    "import os\n",
    "os.getcwd()"
   ]
  },
  {
   "cell_type": "code",
   "execution_count": 32,
   "metadata": {},
   "outputs": [],
   "source": [
    "f = open('a.txt','w')\n",
    "f.write('abc')\n",
    "f.close()"
   ]
  },
  {
   "cell_type": "code",
   "execution_count": 35,
   "metadata": {},
   "outputs": [],
   "source": [
    "with open('a.txt','a') as f:\n",
    "    f.write('efg')"
   ]
  },
  {
   "cell_type": "code",
   "execution_count": 37,
   "metadata": {},
   "outputs": [
    {
     "name": "stdout",
     "output_type": "stream",
     "text": [
      "abcefg\n"
     ]
    }
   ],
   "source": [
    "with open('a.txt','r') as f:\n",
    "    a = f.read()\n",
    "print(a)"
   ]
  },
  {
   "cell_type": "code",
   "execution_count": 38,
   "metadata": {},
   "outputs": [],
   "source": [
    "import os, re\n",
    "f = open('한글파일.txt','w')\n",
    "f.write('파이썬생활프로그래밍')\n",
    "f.close()"
   ]
  },
  {
   "cell_type": "code",
   "execution_count": null,
   "metadata": {},
   "outputs": [],
   "source": [
    "# f = open('한글파일.txt','r',encoding = 'utf-8')"
   ]
  },
  {
   "cell_type": "markdown",
   "metadata": {},
   "source": [
    "# 정규표현식"
   ]
  },
  {
   "cell_type": "code",
   "execution_count": 39,
   "metadata": {},
   "outputs": [],
   "source": [
    "import re\n",
    "example = '이동민 교수님은 다음과 같이 설명했습니다(이동민, 2019). 그런데 다른 교수님은 이 문제에 대해서 다른 견해를 가지고 있었습니다(최재영, 2019). 또 다른 견해도 있었습니다(Lion, 2018)'"
   ]
  },
  {
   "cell_type": "code",
   "execution_count": 44,
   "metadata": {},
   "outputs": [],
   "source": [
    "result = re.findall(r'\\([A-Za-z가-힣]+, \\d+\\)', example)"
   ]
  },
  {
   "cell_type": "code",
   "execution_count": 45,
   "metadata": {},
   "outputs": [
    {
     "data": {
      "text/plain": [
       "['(이동민, 2019)', '(최재영, 2019)', '(Lion, 2018)']"
      ]
     },
     "execution_count": 45,
     "metadata": {},
     "output_type": "execute_result"
    }
   ],
   "source": [
    "result"
   ]
  },
  {
   "cell_type": "code",
   "execution_count": 50,
   "metadata": {},
   "outputs": [
    {
     "data": {
      "text/plain": [
       "'life'"
      ]
     },
     "execution_count": 50,
     "metadata": {},
     "output_type": "execute_result"
    }
   ],
   "source": [
    "pattern = r'life'\n",
    "script = 'life'\n",
    "re.match(pattern,script).group()"
   ]
  },
  {
   "cell_type": "code",
   "execution_count": 51,
   "metadata": {},
   "outputs": [],
   "source": [
    "def refinder(pattern, script):\n",
    "    if re.match(pattern, script):\n",
    "        print(\"Match!\")\n",
    "    else:\n",
    "        print(\"Not a match!\")"
   ]
  },
  {
   "cell_type": "code",
   "execution_count": 57,
   "metadata": {},
   "outputs": [
    {
     "name": "stdout",
     "output_type": "stream",
     "text": [
      "Match!\n"
     ]
    }
   ],
   "source": [
    "pattern = r'Life'\n",
    "script = 'Life is so cool'\n",
    "refinder(pattern,script)"
   ]
  },
  {
   "cell_type": "code",
   "execution_count": 62,
   "metadata": {},
   "outputs": [
    {
     "name": "stdout",
     "output_type": "stream",
     "text": [
      "Not a match!\n"
     ]
    }
   ],
   "source": [
    "pattern = r'life'\n",
    "script = 'Life is so cool'\n",
    "refinder(pattern,script)"
   ]
  },
  {
   "cell_type": "code",
   "execution_count": 64,
   "metadata": {},
   "outputs": [
    {
     "data": {
      "text/plain": [
       "['511223', '521012']"
      ]
     },
     "execution_count": 64,
     "metadata": {},
     "output_type": "execute_result"
    }
   ],
   "source": [
    "number = 'My number is 511223-1****** and yours is 521012-2******'\n",
    "re.findall('\\d{6}', number)"
   ]
  },
  {
   "cell_type": "code",
   "execution_count": 65,
   "metadata": {},
   "outputs": [],
   "source": [
    "example1 = '저는 91년에 태어났습니다. 97년에는 IMF가 있었습니다. 지금은 2020년입니다.'"
   ]
  },
  {
   "cell_type": "code",
   "execution_count": 74,
   "metadata": {},
   "outputs": [
    {
     "data": {
      "text/plain": [
       "['91년', '97년', '2020년']"
      ]
     },
     "execution_count": 74,
     "metadata": {},
     "output_type": "execute_result"
    }
   ],
   "source": [
    "re.findall(r'\\d.+?년', example1)"
   ]
  },
  {
   "cell_type": "code",
   "execution_count": 75,
   "metadata": {},
   "outputs": [
    {
     "data": {
      "text/plain": [
       "['(이동민, 2019). 그런데 다른 교수님은 이 문제에 대해서 다른 견해를 가지고 있었습니다(최재영, 2019). 또 다른 견해도 있었습니다(Lion, 2018)']"
      ]
     },
     "execution_count": 75,
     "metadata": {},
     "output_type": "execute_result"
    }
   ],
   "source": [
    "example = '이동민 교수님은 다음과 같이 설명했습니다(이동민, 2019). 그런데 다른 교수님은 이 문제에 대해서 다른 견해를 가지고 있었습니다(최재영, 2019). 또 다른 견해도 있었습니다(Lion, 2018)'\n",
    "result = re.findall(r'\\(.+\\)', example)\n",
    "result"
   ]
  },
  {
   "cell_type": "code",
   "execution_count": 76,
   "metadata": {},
   "outputs": [
    {
     "data": {
      "text/plain": [
       "['I love a lovely dog, really',\n",
       " ' I am not telling a lie',\n",
       " ' What a pretty dog',\n",
       " ' I love this dog',\n",
       " '']"
      ]
     },
     "execution_count": 76,
     "metadata": {},
     "output_type": "execute_result"
    }
   ],
   "source": [
    "sentence = 'I love a lovely dog, really. I am not telling a lie. What a pretty dog! I love this dog.'\n",
    "re.split(r'[.?!]', sentence)"
   ]
  },
  {
   "cell_type": "code",
   "execution_count": 77,
   "metadata": {},
   "outputs": [
    {
     "name": "stdout",
     "output_type": "stream",
     "text": [
      "['a', '3, b', '4, c', '5']\n"
     ]
    }
   ],
   "source": [
    "data = 'a:3, b:4, c:5'\n",
    "for i in re.split(r';',data):\n",
    "    print(re.split(r':',i))"
   ]
  },
  {
   "cell_type": "code",
   "execution_count": 78,
   "metadata": {},
   "outputs": [
    {
     "data": {
      "text/plain": [
       "'I love a lovely cat, really. I am not telling a lie. What a pretty cat! I love this cat.'"
      ]
     },
     "execution_count": 78,
     "metadata": {},
     "output_type": "execute_result"
    }
   ],
   "source": [
    "sentence = 'I love a lovely dog, really. I am not telling a lie. What a pretty dog! I love this dog.'\n",
    "re.sub(r'dog',r'cat',sentence)"
   ]
  },
  {
   "cell_type": "code",
   "execution_count": 79,
   "metadata": {},
   "outputs": [
    {
     "name": "stdout",
     "output_type": "stream",
     "text": [
      "I am home now. \n",
      "\n",
      "\n",
      "I am with my cat. \n",
      "\n",
      "\n"
     ]
    }
   ],
   "source": [
    "words = 'I am home now. \\n\\n\\nI am with my cat. \\n\\n'\n",
    "print(words)"
   ]
  },
  {
   "cell_type": "code",
   "execution_count": 80,
   "metadata": {},
   "outputs": [
    {
     "data": {
      "text/plain": [
       "'I am home now. I am with my cat. '"
      ]
     },
     "execution_count": 80,
     "metadata": {},
     "output_type": "execute_result"
    }
   ],
   "source": [
    "re.sub(r'\\n','',words)"
   ]
  },
  {
   "cell_type": "code",
   "execution_count": 83,
   "metadata": {},
   "outputs": [
    {
     "data": {
      "text/plain": [
       "['lovely', 'really']"
      ]
     },
     "execution_count": 83,
     "metadata": {},
     "output_type": "execute_result"
    }
   ],
   "source": [
    "re.findall(r'\\w+ly', sentence)"
   ]
  },
  {
   "cell_type": "markdown",
   "metadata": {},
   "source": [
    "# friends 대사 불러오기"
   ]
  },
  {
   "cell_type": "code",
   "execution_count": 87,
   "metadata": {},
   "outputs": [],
   "source": [
    "import os\n",
    "f = open('friends101.txt','r',encoding = 'utf-8')\n",
    "script101 = f.read()"
   ]
  },
  {
   "cell_type": "code",
   "execution_count": 88,
   "metadata": {},
   "outputs": [
    {
     "name": "stdout",
     "output_type": "stream",
     "text": [
      "The One Where Monica Gets a New Roommate (The Pilot-The Uncut Version)\n",
      "Written by: Marta Kauffman & \n"
     ]
    }
   ],
   "source": [
    "print(script101[:100])"
   ]
  },
  {
   "cell_type": "code",
   "execution_count": 89,
   "metadata": {},
   "outputs": [],
   "source": [
    "Line = re.findall(r'Monica:.+', script101)"
   ]
  },
  {
   "cell_type": "code",
   "execution_count": 90,
   "metadata": {},
   "outputs": [
    {
     "name": "stdout",
     "output_type": "stream",
     "text": [
      "[\"Monica: There's nothing to tell! He's just some guy I work with!\", \"Monica: Okay, everybody relax. This is not even a date. It's just two people going out to dinner and- not having sex.\", \"Monica: And they weren't looking at you before?!\"]\n"
     ]
    }
   ],
   "source": [
    "print(Line[:3])"
   ]
  },
  {
   "cell_type": "code",
   "execution_count": 93,
   "metadata": {},
   "outputs": [
    {
     "name": "stdout",
     "output_type": "stream",
     "text": [
      "Monica: There's nothing to tell! He's just some guy I work with!\n",
      "Monica: Okay, everybody relax. This is not even a date. It's just two people going out to dinner and- not having sex.\n",
      "Monica: And they weren't looking at you before?!\n"
     ]
    }
   ],
   "source": [
    "for item in Line[:3]:\n",
    "    print(item)"
   ]
  },
  {
   "cell_type": "code",
   "execution_count": 94,
   "metadata": {},
   "outputs": [],
   "source": [
    "f = open('monica.txt','w',encoding = 'utf-8')"
   ]
  },
  {
   "cell_type": "code",
   "execution_count": 95,
   "metadata": {},
   "outputs": [],
   "source": [
    "monica = ''"
   ]
  },
  {
   "cell_type": "code",
   "execution_count": 97,
   "metadata": {},
   "outputs": [],
   "source": [
    "for i in Line:\n",
    "    monica += i\n",
    "f.write(monica)\n",
    "f.close()"
   ]
  },
  {
   "cell_type": "code",
   "execution_count": 98,
   "metadata": {},
   "outputs": [],
   "source": [
    "char = re.compile(r'[A-Z][a-z]+:')"
   ]
  },
  {
   "cell_type": "code",
   "execution_count": 99,
   "metadata": {},
   "outputs": [
    {
     "data": {
      "text/plain": [
       "['Note:',\n",
       " 'Scene:',\n",
       " 'Monica:',\n",
       " 'Joey:',\n",
       " 'Chandler:',\n",
       " 'Phoebe:',\n",
       " 'Phoebe:',\n",
       " 'Monica:',\n",
       " 'Chandler:',\n",
       " 'Chandler:',\n",
       " 'All:',\n",
       " 'Chandler:',\n",
       " 'Joey:',\n",
       " 'Chandler:',\n",
       " 'Joey:',\n",
       " 'Phoebe:',\n",
       " 'Chandler:',\n",
       " 'Monica:',\n",
       " 'Chandler:',\n",
       " 'Ross:',\n",
       " 'Joey:',\n",
       " 'Monica:',\n",
       " 'Ross:',\n",
       " 'Chandler:',\n",
       " 'Monica:',\n",
       " 'Joey:',\n",
       " 'Monica:',\n",
       " 'Ross:',\n",
       " 'Phoebe:',\n",
       " 'Ross:',\n",
       " 'Phoebe:',\n",
       " 'Ross:',\n",
       " 'Monica:',\n",
       " 'Ross:',\n",
       " 'Joey:',\n",
       " 'Ross:',\n",
       " 'Chandler:',\n",
       " 'Ross:',\n",
       " 'Monica:',\n",
       " 'Ross:',\n",
       " 'Joey:',\n",
       " 'Joey:',\n",
       " 'Ross:',\n",
       " 'Chandler:',\n",
       " 'Monica:',\n",
       " 'Rachel:',\n",
       " 'Waitress:',\n",
       " 'Monica:',\n",
       " 'Rachel:',\n",
       " 'Ross:',\n",
       " 'Monica:',\n",
       " 'Rachel:',\n",
       " 'Monica:',\n",
       " 'Rachel:',\n",
       " 'Scene:',\n",
       " 'Monica:',\n",
       " 'Chandler:',\n",
       " 'Ross:',\n",
       " 'Rachel:',\n",
       " 'Phoebe:',\n",
       " 'Chandler:',\n",
       " 'Joey:',\n",
       " 'Joey:',\n",
       " 'Rachel:',\n",
       " 'Ross:',\n",
       " 'Rachel:',\n",
       " 'Monica:',\n",
       " 'Rachel:',\n",
       " 'Monica:',\n",
       " 'Phoebe:',\n",
       " 'Rachel:',\n",
       " 'Phoebe:',\n",
       " 'Monica:',\n",
       " 'Joey:',\n",
       " 'Monica:',\n",
       " 'Joey:',\n",
       " 'Chandler:',\n",
       " 'Paul:',\n",
       " 'Monica:',\n",
       " 'Joey:',\n",
       " 'Ross:',\n",
       " 'Monica:',\n",
       " 'Joey:',\n",
       " 'Ross:',\n",
       " 'Monica:',\n",
       " 'Chandler:',\n",
       " 'Monica:',\n",
       " 'Rachel:',\n",
       " 'Monica:',\n",
       " 'Ross:',\n",
       " 'Monica:',\n",
       " 'Ross:',\n",
       " 'Phoebe:',\n",
       " 'Monica:',\n",
       " 'All:',\n",
       " 'Chandler:',\n",
       " 'Monica:',\n",
       " 'Ross:',\n",
       " 'Monica:',\n",
       " 'Phoebe:',\n",
       " 'Joey:',\n",
       " 'Paul:',\n",
       " 'Joey:',\n",
       " 'Monica:',\n",
       " 'Ross:',\n",
       " 'Rachel:',\n",
       " 'Ross:',\n",
       " 'Chandler:',\n",
       " 'Rachel:',\n",
       " 'Ross:',\n",
       " 'Joey:',\n",
       " 'Phoebe:',\n",
       " 'Scene:',\n",
       " 'Phoebe:',\n",
       " 'Scene:',\n",
       " 'Ross:',\n",
       " 'Joey:',\n",
       " 'Chandler:',\n",
       " 'Joey:',\n",
       " 'Chandler:',\n",
       " 'Joey:',\n",
       " 'Chandler:',\n",
       " 'Joey:',\n",
       " 'Chandler:',\n",
       " 'Ross:',\n",
       " 'Joey:',\n",
       " 'Chandler:',\n",
       " 'Joey:',\n",
       " 'Ross:',\n",
       " 'Chandler:',\n",
       " 'Joey:',\n",
       " 'Chandler:',\n",
       " 'Scene:',\n",
       " 'Monica:',\n",
       " 'Paul:',\n",
       " 'Monica:',\n",
       " 'Paul:',\n",
       " 'Monica:',\n",
       " 'Paul:',\n",
       " 'Monica:',\n",
       " 'Paul:',\n",
       " 'Monica:',\n",
       " 'Scene:',\n",
       " 'Rachel:',\n",
       " 'Scene:',\n",
       " 'Ross:',\n",
       " 'Joey:',\n",
       " 'Chandler:',\n",
       " 'Ross:',\n",
       " 'Chandler:',\n",
       " 'Ross:',\n",
       " 'Joey:',\n",
       " 'Ross:',\n",
       " 'Chandler:',\n",
       " 'Scene:',\n",
       " 'Paul:',\n",
       " 'Monica:',\n",
       " 'Paul:',\n",
       " 'Monica:',\n",
       " 'Paul:',\n",
       " 'Monica:',\n",
       " 'Paul:',\n",
       " 'Monica:',\n",
       " 'Paul:',\n",
       " 'Monica:',\n",
       " 'Paul:',\n",
       " 'Monica:',\n",
       " 'Paul:',\n",
       " 'Monica:',\n",
       " 'Scene:',\n",
       " 'Rachel:',\n",
       " 'Scene:',\n",
       " 'Ross:',\n",
       " 'Joey:',\n",
       " 'Chandler:',\n",
       " 'Joey:',\n",
       " 'Ross:',\n",
       " 'Scene:',\n",
       " 'Rachel:',\n",
       " 'Chandler:',\n",
       " 'Joey:',\n",
       " 'Rachel:',\n",
       " 'Chandler:',\n",
       " 'Joey:',\n",
       " 'Monica:',\n",
       " 'All:',\n",
       " 'Paul:',\n",
       " 'Joey:',\n",
       " 'Rachel:',\n",
       " 'Chandler:',\n",
       " 'Paul:',\n",
       " 'Monica:',\n",
       " 'Paul:',\n",
       " 'Monica:',\n",
       " 'Paul:',\n",
       " 'Joey:',\n",
       " 'Monica:',\n",
       " 'All:',\n",
       " 'Chandler:',\n",
       " 'Rachel:',\n",
       " 'Monica:',\n",
       " 'Joey:',\n",
       " 'Rachel:',\n",
       " 'Joey:',\n",
       " 'Monica:',\n",
       " 'Joey:',\n",
       " 'Chandler:',\n",
       " 'Joey:',\n",
       " 'Chandler:',\n",
       " 'Joey:',\n",
       " 'Monica:',\n",
       " 'Rachel:',\n",
       " 'Monica:',\n",
       " 'Rachel:',\n",
       " 'Monica:',\n",
       " 'Rachel:',\n",
       " 'Monica:',\n",
       " 'Rachel:',\n",
       " 'Monica:',\n",
       " 'Rachel:',\n",
       " 'Monica:',\n",
       " 'Rachel:',\n",
       " 'Scene:',\n",
       " 'Frannie:',\n",
       " 'Monica:',\n",
       " 'Frannie:',\n",
       " 'Monica:',\n",
       " 'Frannie:',\n",
       " 'Monica:',\n",
       " 'Frannie:',\n",
       " 'Monica:',\n",
       " 'Frannie:',\n",
       " 'Scene:',\n",
       " 'Joey:',\n",
       " 'Monica:',\n",
       " 'Ross:',\n",
       " 'Monica:',\n",
       " 'Phoebe:',\n",
       " 'Monica:',\n",
       " 'Phoebe:',\n",
       " 'Monica:',\n",
       " 'Joey:',\n",
       " 'Rachel:',\n",
       " 'Ross:',\n",
       " 'Rachel:',\n",
       " 'Chandler:',\n",
       " 'Rachel:',\n",
       " 'Chandler:',\n",
       " 'Rachel:',\n",
       " 'Monica:',\n",
       " 'Rachel:',\n",
       " 'Monica:',\n",
       " 'Rachel:',\n",
       " 'Scene:',\n",
       " 'Rachel:',\n",
       " 'Monica:',\n",
       " 'Rachel:',\n",
       " 'Phoebe:',\n",
       " 'Rachel:',\n",
       " 'Phoebe:',\n",
       " 'Ross:',\n",
       " 'Monica:',\n",
       " 'Rachel:',\n",
       " 'Monica:',\n",
       " 'Rachel:',\n",
       " 'Ross:',\n",
       " 'Ross:',\n",
       " 'All:',\n",
       " 'Rachel:',\n",
       " 'Monica:',\n",
       " 'All:',\n",
       " 'Chandler:',\n",
       " 'Monica:',\n",
       " 'Monica:',\n",
       " 'Ross:',\n",
       " 'Monica:',\n",
       " 'Ross:',\n",
       " 'Rachel:',\n",
       " 'Monica:',\n",
       " 'Rachel:',\n",
       " 'Ross:',\n",
       " 'Rachel:',\n",
       " 'Ross:',\n",
       " 'Rachel:',\n",
       " 'Ross:',\n",
       " 'Rachel:',\n",
       " 'Ross:',\n",
       " 'Rachel:',\n",
       " 'Ross:',\n",
       " 'Rachel:',\n",
       " 'Ross:',\n",
       " 'Rachel:',\n",
       " 'Ross:',\n",
       " 'Rachel:',\n",
       " 'Ross:',\n",
       " 'Monica:',\n",
       " 'Ross:',\n",
       " 'Scene:',\n",
       " 'Joey:',\n",
       " 'Phoebe:',\n",
       " 'Monica:',\n",
       " 'Phoebe:',\n",
       " 'Monica:',\n",
       " 'Phoebe:',\n",
       " 'All:',\n",
       " 'Monica:',\n",
       " 'Joey:',\n",
       " 'Ross:',\n",
       " 'Rachel:',\n",
       " 'Chandler:',\n",
       " 'Rachel:',\n",
       " 'All:',\n",
       " 'Chandler:',\n",
       " 'Customer:',\n",
       " 'Rachel:',\n",
       " 'Chandler:']"
      ]
     },
     "execution_count": 99,
     "metadata": {},
     "output_type": "execute_result"
    }
   ],
   "source": [
    "re.findall(char, script101)"
   ]
  },
  {
   "cell_type": "code",
   "execution_count": 100,
   "metadata": {},
   "outputs": [
    {
     "data": {
      "text/plain": [
       "{'All:',\n",
       " 'Chandler:',\n",
       " 'Customer:',\n",
       " 'Frannie:',\n",
       " 'Joey:',\n",
       " 'Monica:',\n",
       " 'Note:',\n",
       " 'Paul:',\n",
       " 'Phoebe:',\n",
       " 'Rachel:',\n",
       " 'Ross:',\n",
       " 'Scene:',\n",
       " 'Waitress:'}"
      ]
     },
     "execution_count": 100,
     "metadata": {},
     "output_type": "execute_result"
    }
   ],
   "source": [
    "set(re.findall(char, script101))"
   ]
  },
  {
   "cell_type": "code",
   "execution_count": 104,
   "metadata": {},
   "outputs": [
    {
     "data": {
      "text/plain": [
       "['Note',\n",
       " 'Phoebe',\n",
       " 'Ross',\n",
       " 'Monica',\n",
       " 'Customer',\n",
       " 'Frannie',\n",
       " 'Paul',\n",
       " 'Waitress',\n",
       " 'Joey',\n",
       " 'Scene',\n",
       " 'Rachel',\n",
       " 'All',\n",
       " 'Chandler']"
      ]
     },
     "execution_count": 104,
     "metadata": {},
     "output_type": "execute_result"
    }
   ],
   "source": [
    "y = set(re.findall(char, script101))\n",
    "z = list(y)\n",
    "character = []\n",
    "for i in z:\n",
    "    character += [i[:-1]]\n",
    "character"
   ]
  },
  {
   "cell_type": "code",
   "execution_count": 105,
   "metadata": {},
   "outputs": [
    {
     "data": {
      "text/plain": [
       "['Note',\n",
       " 'Phoebe',\n",
       " 'Ross',\n",
       " 'Monica',\n",
       " 'Customer',\n",
       " 'Frannie',\n",
       " 'Paul',\n",
       " 'Waitress',\n",
       " 'Joey',\n",
       " 'Scene',\n",
       " 'Rachel',\n",
       " 'All',\n",
       " 'Chandler']"
      ]
     },
     "execution_count": 105,
     "metadata": {},
     "output_type": "execute_result"
    }
   ],
   "source": [
    "character = [x[:-1] for x in list(set(re.findall(r'[A-Z][a-z]+:',script101)))]\n",
    "character"
   ]
  },
  {
   "cell_type": "code",
   "execution_count": 110,
   "metadata": {},
   "outputs": [
    {
     "data": {
      "text/plain": [
       "['(The Pilot-The Uncut Version)',\n",
       " '(Note: The previously unseen parts of this episode are shown in blue text.)',\n",
       " '(They all stare, bemused.)',\n",
       " '(mortified)',\n",
       " '(explaining to the others)',\n",
       " '(to Ross)',\n",
       " '(She starts to pluck at the air just in front of Ross.)',\n",
       " '(They all stare at him.)',\n",
       " '(Ross gestures his consent.)',\n",
       " '(Rachel enters in a wet wedding dress and starts to search the room.)',\n",
       " '(He extends his hand hopefully.)',\n",
       " '(pointing at Rachel) De-caff. (to All) Okay, everybody, this is Rachel, another Lincoln High survivor. (to Rachel)',\n",
       " \"(They go to hug but Ross's umbrella opens.  He sits back down defeated again.  A moment of silence follows as Rachel sits and the others expect her to explain.)\",\n",
       " \"(to the waitress that brought her coffee)Sweet 'n' Lo?- I realized that I was more turned on by this gravy boat than by Barry! And then I got really freaked out, and that's when it hit me: how much Barry looks like Mr. Potato Head. Y'know, I mean, I always knew looked familiar, but... Anyway, I just had to get out of there, and I started wondering 'Why am I doing this, and who am I doing this for?'. (to Monica)\",\n",
       " '(imitating the characters)',\n",
       " '(in a deep voice)',\n",
       " '(on phone)',\n",
       " '(The scene on TV has changed to show two women, one is holding her hair.)',\n",
       " '(She is pushed down the stairs and everyone cheers.)',\n",
       " '(sings) Raindrops on roses and rabbits and kittens, (Rachel and Monica turn to look at her.)',\n",
       " '(grins and walks to the kitchen and says to Chandler and Joey.)',\n",
       " '(comforting her)',\n",
       " '(The door buzzer sounds and Chandler gets it.)',\n",
       " '(over the intercom)',\n",
       " '(to Ross)',\n",
       " '(choked voice)',\n",
       " '(horrified)',\n",
       " '(normal voice)',\n",
       " \"(Chandler doesn't know.)\",\n",
       " \"(There's a knock on the door and it's Paul.)\",\n",
       " '(They are all lined up next to the door.)',\n",
       " '(Shows Paul in)',\n",
       " '(Monica goes to change.)',\n",
       " '(yelling from the bedroom)',\n",
       " '(thinks)',\n",
       " '(deadpan)',\n",
       " '(singing) Love is sweet as summer showers, love is a wondrous work of art, but your love oh your love, your love...is like a giant pigeon...crapping on my heart.  La-la-la-la-la- (some guy gives her some change and to that guy) Thank you. (sings)',\n",
       " '(squatting and reading the instructions)',\n",
       " '(Joey and Chandler are finishing assembling the bookcase.)',\n",
       " '(picking up a leftover part)',\n",
       " '(Joey checks that Ross is not looking and dumps it in a plant.)',\n",
       " '(clutching a beer can and sniffing)',\n",
       " '(laughing)',\n",
       " \"(She stops talking and dials the phone.) Hi, machine cut me off again... anyway...look, look, I know that some girl is going to be incredibly lucky to become Mrs. Barry Finkel, but it isn't me, it's not me.  And not that I have any idea who me is right now, but you just have to give me a chance too... (The maching cuts her off again and she redials.)\",\n",
       " '(Chandler hits what he is working on with a hammer and it collapses.)',\n",
       " '(Monica takes a sip of her drink.)',\n",
       " '(spitting out her drink in shock)',\n",
       " '(pause)',\n",
       " '(scornful)',\n",
       " '(looks to Chandler)',\n",
       " '(Exits.)',\n",
       " '(He gazes out of the window.)',\n",
       " '(Joey and Chandler taste the coffee, grimace, and pour it into a plant pot.)',\n",
       " '(entering, to herself)',\n",
       " \"(entering from Monica's room)\",\n",
       " \"(Monica and Paul walk to the door and talk in a low voice so the others can't hear.  The others move Monica's table closer to the door so that they can.)\",\n",
       " '(They kiss) Thank you. (Exits)',\n",
       " '(They do so.)',\n",
       " '(Walks to the door and opens it to leave.)',\n",
       " '(Burst into song and dances out of the door.)',\n",
       " '(Starts after Chandler.)',\n",
       " '(Thinks)',\n",
       " '(Monica exits.)',\n",
       " '(sitting on the arm of the couch)',\n",
       " '(She starts massaging them.)',\n",
       " '(bursts out laughing again)',\n",
       " '(Monica pushes him off of the sofa as Rachel enters with a shopping bag.)',\n",
       " '(Pause)',\n",
       " '(Chandler slowly tries to hide the now dead plant from that morning when he and Joey poured their coffee into it.)',\n",
       " '(She cuts one of them and they cheer.)',\n",
       " '(as Rachel is cutting up her cards)',\n",
       " '(She finishes cutting them up and they all cheer.)',\n",
       " '(To Ross)',\n",
       " '(Monica smiles.)',\n",
       " \"(Monica stomps on Paul's watch and goes into her room.)\",\n",
       " '(They both reach for the last cookie)',\n",
       " '(They split it.)',\n",
       " '(Rachel goes into her room and Monica enters the living room as Ross is leaving.)',\n",
       " '(Ross exits and Monica has no idea what that means.)',\n",
       " '(sings)',\n",
       " '(sings)',\n",
       " '(to Phoebe)',\n",
       " '(walks up with a pot of coffee)',\n",
       " \"(Rachel sits down to hear Chandler's dream.)\",\n",
       " '(To Rachel)',\n",
       " \"(To another customer that's leaving.) Excuse me, could you give this to that guy over there? (Hands him the coffee pot.) Go ahead. (He does so.) Thank you. (To the gang.)\"]"
      ]
     },
     "execution_count": 110,
     "metadata": {},
     "output_type": "execute_result"
    }
   ],
   "source": [
    "pattern = r'\\([A-Za-z].+[a-z|\\.]\\)'\n",
    "re.findall(pattern, script101)"
   ]
  },
  {
   "cell_type": "code",
   "execution_count": 112,
   "metadata": {},
   "outputs": [
    {
     "data": {
      "text/plain": [
       "0"
      ]
     },
     "execution_count": 112,
     "metadata": {},
     "output_type": "execute_result"
    }
   ],
   "source": [
    "import os, re\n",
    "f = open('friends101.txt','r')\n",
    "f.read(100)\n",
    "f.seek(0)"
   ]
  },
  {
   "cell_type": "code",
   "execution_count": 113,
   "metadata": {},
   "outputs": [
    {
     "data": {
      "text/plain": [
       "['The One Where Monica Gets a New Roommate (The Pilot-The Uncut Version)\\n',\n",
       " 'Written by: Marta Kauffman & David Crane\\n',\n",
       " 'Transcribed by: guineapig\\n']"
      ]
     },
     "execution_count": 113,
     "metadata": {},
     "output_type": "execute_result"
    }
   ],
   "source": [
    "sentences = f.readlines()\n",
    "sentences[:3]"
   ]
  },
  {
   "cell_type": "code",
   "execution_count": 114,
   "metadata": {},
   "outputs": [
    {
     "name": "stdout",
     "output_type": "stream",
     "text": [
      "Monica: There's nothing to tell! He's just some guy I work with!\n",
      "\n",
      "Joey: C'mon, you're going out with the guy! There's gotta be something wrong with him!\n",
      "\n",
      "Chandler: All right Joey, be nice.  So does he have a hump? A hump and a hairpiece?\n",
      "\n",
      "Phoebe: Wait, does he eat chalk?\n",
      "\n",
      "Phoebe: Just, 'cause, I don't want her to go through what I went through with Carl- oh!\n",
      "\n"
     ]
    }
   ],
   "source": [
    "for i in sentences[:20]:\n",
    "    if re.match(r'[A-Z][a-z]+:',i):\n",
    "        print(i)"
   ]
  },
  {
   "cell_type": "code",
   "execution_count": 115,
   "metadata": {},
   "outputs": [
    {
     "data": {
      "text/plain": [
       "[\"Monica: There's nothing to tell! He's just some guy I work with!\\n\",\n",
       " \"Joey: C'mon, you're going out with the guy! There's gotta be something wrong with him!\\n\",\n",
       " 'Chandler: All right Joey, be nice.  So does he have a hump? A hump and a hairpiece?\\n',\n",
       " 'Phoebe: Wait, does he eat chalk?\\n',\n",
       " \"Phoebe: Just, 'cause, I don't want her to go through what I went through with Carl- oh!\\n\",\n",
       " \"Monica: Okay, everybody relax. This is not even a date. It's just two people going out to dinner and- not having sex.\\n\",\n",
       " 'Chandler: Sounds like a date to me.\\n',\n",
       " \"Chandler: Alright, so I'm back in high school, I'm standing in the middle of the cafeteria, and I realize I am totally naked.\\n\",\n",
       " 'All: Oh, yeah. Had that dream.\\n',\n",
       " \"Chandler: Then I look down, and I realize there's a phone... there.\\n\"]"
      ]
     },
     "execution_count": 115,
     "metadata": {},
     "output_type": "execute_result"
    }
   ],
   "source": [
    "lines = [i for i in sentences if re.match(r'[A-Z][a-z]+:', i)]\n",
    "lines[:10]"
   ]
  },
  {
   "cell_type": "code",
   "execution_count": 117,
   "metadata": {},
   "outputs": [],
   "source": [
    "would = [i for i in sentences if re.match(r'[A-Z][a-z]+:', i) and re.search('would',i)]"
   ]
  },
  {
   "cell_type": "code",
   "execution_count": 118,
   "metadata": {},
   "outputs": [
    {
     "data": {
      "text/plain": [
       "[\"Rachel: Ooh, I was kinda hoping that wouldn't be an issue... [Scene: Monica's Apartment, everyone is there and watching a Spanish Soap on TV and are trying to figure out what is going on.]\\n\",\n",
       " \"Chandler: I would have to say that is an 'L'-shaped bracket.\\n\",\n",
       " 'Monica: Why?! Why? Why, why would anybody do something like that?\\n',\n",
       " 'Rachel: You would be too if you found John and David boots on sale, fifty percent off!\\n',\n",
       " 'Ross: Oh. Listen, do you think- and try not to let my intense vulnerability become any kind of a factor here- but do you think it would be okay if I asked you out? Sometime? Maybe?\\n',\n",
       " \"Joey: Oh, you wouldn't know a great butt if it came up and bit ya.\\n\"]"
      ]
     },
     "execution_count": 118,
     "metadata": {},
     "output_type": "execute_result"
    }
   ],
   "source": [
    "would"
   ]
  },
  {
   "cell_type": "code",
   "execution_count": 120,
   "metadata": {},
   "outputs": [
    {
     "data": {
      "text/plain": [
       "['Ross: I told mom and dad last night, they seemed to take it pretty well.\\n',\n",
       " \"Paul: Well, ever-ev-... ever since she left me, um, I haven't been able to, uh, perform. (Monica takes a sip of her drink.) ...Sexually.\\n\",\n",
       " 'Joey: I will not take this abuse. (Walks to the door and opens it to leave.)\\n',\n",
       " \"Frannie: Are you kidding? I take credit for Paul. Y'know before me, there was no snap in his turtle for two years.\\n\"]"
      ]
     },
     "execution_count": 120,
     "metadata": {},
     "output_type": "execute_result"
    }
   ],
   "source": [
    "take = [i for i in sentences if re.match(r'[A-Z][a-z]+:', i) and re.search('take',i)]\n",
    "take"
   ]
  },
  {
   "cell_type": "markdown",
   "metadata": {},
   "source": [
    "# 과제\n",
    "monica 대사만 모아서 monica.txt파일로 저장했습니다.  \n",
    "character 리스트에 있는 모든 캐릭터 별로 캐릭터이름.txt파일들로 저장하세요."
   ]
  },
  {
   "cell_type": "code",
   "execution_count": 122,
   "metadata": {},
   "outputs": [
    {
     "data": {
      "text/plain": [
       "['Note',\n",
       " 'Phoebe',\n",
       " 'Ross',\n",
       " 'Monica',\n",
       " 'Customer',\n",
       " 'Frannie',\n",
       " 'Paul',\n",
       " 'Waitress',\n",
       " 'Joey',\n",
       " 'Scene',\n",
       " 'Rachel',\n",
       " 'All',\n",
       " 'Chandler']"
      ]
     },
     "execution_count": 122,
     "metadata": {},
     "output_type": "execute_result"
    }
   ],
   "source": [
    "character = [x[:-1] for x in list(set(re.findall(r'[A-Z][a-z]+:',script101)))]\n",
    "character"
   ]
  },
  {
   "cell_type": "code",
   "execution_count": 134,
   "metadata": {},
   "outputs": [],
   "source": [
    "for i in character:\n",
    "    Line = re.findall(r'i:.+', script101)\n",
    "    filename = i + \".txt\"\n",
    "    f = open(filename,'w',encoding = 'utf-8')\n",
    "    i = ''\n",
    "    for j in Line:\n",
    "        i += j\n",
    "    f.write(i)\n",
    "    f.close()"
   ]
  },
  {
   "cell_type": "code",
   "execution_count": null,
   "metadata": {},
   "outputs": [],
   "source": [
    "# Line = re.findall(r'Monica:.+', script101)\n",
    "# f = open('monica.txt','w',encoding = 'utf-8')\n",
    "# monica = ''\n",
    "# for j in Line:\n",
    "#     monica += j\n",
    "# f.write(monica)\n",
    "# f.close()"
   ]
  },
  {
   "cell_type": "code",
   "execution_count": null,
   "metadata": {},
   "outputs": [],
   "source": []
  }
 ],
 "metadata": {
  "interpreter": {
   "hash": "8fac594bfae6525c0c41b4041d2d72effa188cc8ead05f81b1fab2bb098927fb"
  },
  "kernelspec": {
   "display_name": "Python 3.8.3 ('base')",
   "language": "python",
   "name": "python3"
  },
  "language_info": {
   "codemirror_mode": {
    "name": "ipython",
    "version": 3
   },
   "file_extension": ".py",
   "mimetype": "text/x-python",
   "name": "python",
   "nbconvert_exporter": "python",
   "pygments_lexer": "ipython3",
   "version": "3.8.3"
  },
  "orig_nbformat": 4
 },
 "nbformat": 4,
 "nbformat_minor": 2
}
