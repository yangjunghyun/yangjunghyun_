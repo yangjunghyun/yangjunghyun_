{
 "cells": [
  {
   "cell_type": "markdown",
   "metadata": {},
   "source": [
    "# 머신러닝\n",
    "\n",
    "```\n",
    "지도학습 : 분류 / 회귀\n",
    "비지도 학습 : 군집화/연관성 분석\n",
    "```"
   ]
  },
  {
   "cell_type": "markdown",
   "metadata": {},
   "source": [
    "### 지도학습 - 분류분석 - kNN\n",
    "- k-NN 알고리즘에서 k-NN은 k-최근접 이웃k-Nearest Neightbor의 약자로 특징 공간에 분포하는 데이터에 대하여 k개의 가장 가까운 이웃을 살펴보고 다수결 방식으로 데이터의 레이블을 할당 하는 분류방식  \n",
    "- k-NN 알고리즘은 특정 공간에 있는 모든 데이터에 대한 정보가 필요\n",
    "- 데이터 인스턴스, 클래스, 특징의 요소들의 개수가 많다면, 많은 메모리 공간과 계산 시간이 필요하다는 단점\n",
    "- 알고리즘이 매우 단순하고 직관적이며, 사전학습이나 특별한 준비 시간이 필요 없다는 점은 장점"
   ]
  },
  {
   "cell_type": "code",
   "execution_count": 1,
   "metadata": {},
   "outputs": [
    {
     "data": {
      "image/png": "[encoded data removed]",
      "text/plain": [
       "<Figure size 432x288 with 1 Axes>"
      ]
     },
     "metadata": {
      "needs_background": "light"
     },
     "output_type": "display_data"
    }
   ],
   "source": [
    "import matplotlib.pyplot as plt\n",
    "import numpy as np\n",
    "\n",
    "dach_length = [77,78,85,83,73,77,73,80]\n",
    "dach_height = [25,28,29,30,21,22,17,35]\n",
    "\n",
    "samo_length = [75,77,86,86,79,83,83,88]\n",
    "samo_height = [56,57,50,53,60,53,49,61]\n",
    "\n",
    "plt.scatter(dach_length, dach_height, c = \"red\", label = \"Dachshund\")\n",
    "plt.scatter(samo_length, samo_height, c = \"blue\", marker = '^', label = \"Samoyed\")\n",
    "\n",
    "plt.xlabel(\"Length\")\n",
    "plt.xlabel(\"Height\")\n",
    "plt.title(\"Dog size\")\n",
    "plt.legend(loc = \"upper left\")\n",
    "\n",
    "plt.show()"
   ]
  },
  {
   "cell_type": "code",
   "execution_count": 2,
   "metadata": {},
   "outputs": [
    {
     "name": "stdout",
     "output_type": "stream",
     "text": [
      "데이터 [[79, 35]] , 판정 결과:  Dachshund\n"
     ]
    }
   ],
   "source": [
    "import numpy as np\n",
    "from sklearn.neighbors import KNeighborsClassifier\n",
    "from sklearn import metrics\n",
    "\n",
    "dach_length = [77,78,85,83,73,77,73,80]\n",
    "dach_height = [25,28,29,30,21,22,17,35]\n",
    "\n",
    "samo_length = [75,77,86,86,79,83,83,88]\n",
    "samo_height = [56,57,50,53,60,53,49,61]\n",
    "\n",
    "d_data = np.column_stack((dach_length, dach_height))\n",
    "d_label = np.zeros(len(d_data)) #닥스훈트는 0으로 레이블링\n",
    "s_data = np.column_stack((samo_length, samo_height))\n",
    "s_label = np.ones(len(s_data)) #사모예드는 1로 레이블링\n",
    "\n",
    "newdata = [[79,35]]\n",
    "\n",
    "dogs = np.concatenate((d_data, s_data)) #axis=0\n",
    "labels = np.concatenate((d_label, s_label))\n",
    "\n",
    "dog_classes = {0:'Dachshund', 1:'Samoyed'}\n",
    "\n",
    "k = 3 #k를 3으로 두고 KNN 분류기를 만들어보자\n",
    "knn = KNeighborsClassifier(n_neighbors= k)\n",
    "knn.fit(dogs,labels)\n",
    "y_pred = knn.predict(newdata)\n",
    "print('데이터',newdata,', 판정 결과: ', dog_classes[y_pred[0]])"
   ]
  },
  {
   "cell_type": "code",
   "execution_count": 3,
   "metadata": {},
   "outputs": [
    {
     "data": {
      "image/png": "[encoded data removed]",
      "text/plain": [
       "<Figure size 432x288 with 1 Axes>"
      ]
     },
     "metadata": {
      "needs_background": "light"
     },
     "output_type": "display_data"
    }
   ],
   "source": [
    "### 도전문제 5.1\n",
    "dach_length = [77,78,85,83,73,77,73,80]\n",
    "dach_height = [25,28,29,30,21,22,17,35]\n",
    "\n",
    "samo_length = [75,77,86,86,79,83,83,88]\n",
    "samo_height = [56,57,50,53,60,53,49,61]\n",
    "\n",
    "newdata_length = [82]\n",
    "newdata_height = [40]\n",
    "\n",
    "plt.scatter(dach_length, dach_height, c = \"red\", label = \"Dachshund\")\n",
    "plt.scatter(samo_length, samo_height, c = \"blue\", marker = '^', label = \"Samoyed\")\n",
    "plt.scatter(newdata_length,newdata_height, c = \"green\",label = \"new Data\")\n",
    "plt.xlabel(\"Length\")\n",
    "plt.xlabel(\"Height\")\n",
    "plt.title(\"Dog size\")\n",
    "plt.legend(loc = \"upper left\")\n",
    "\n",
    "plt.show()"
   ]
  },
  {
   "cell_type": "code",
   "execution_count": 4,
   "metadata": {},
   "outputs": [
    {
     "name": "stdout",
     "output_type": "stream",
     "text": [
      "k = 1 일때  판정 결과:  Dachshund\n",
      "k = 5 일때  판정 결과:  Dachshund\n",
      "k = 9 일때  판정 결과:  Dachshund\n"
     ]
    }
   ],
   "source": [
    "d_data = np.column_stack((dach_length, dach_height))\n",
    "d_label = np.zeros(len(d_data)) #닥스훈트는 0으로 레이블링\n",
    "s_data = np.column_stack((samo_length, samo_height))\n",
    "s_label = np.ones(len(s_data)) #사모예드는 1로 레이블링\n",
    "\n",
    "newdata = [[82,40]]\n",
    "\n",
    "dogs = np.concatenate((d_data, s_data)) #axis=0\n",
    "labels = np.concatenate((d_label, s_label))\n",
    "\n",
    "dog_classes = {0:'Dachshund', 1:'Samoyed'}\n",
    "\n",
    "a = [1,5,9]\n",
    "for i in range(len(a)):\n",
    "    k = a[i]\n",
    "    knn.fit(dogs,labels)\n",
    "    y_pred = knn.predict(newdata)\n",
    "    print('k =', k, '일때  판정 결과: ', dog_classes[y_pred[0]])"
   ]
  },
  {
   "cell_type": "markdown",
   "metadata": {},
   "source": [
    "### iris"
   ]
  },
  {
   "cell_type": "code",
   "execution_count": 5,
   "metadata": {},
   "outputs": [
    {
     "data": {
      "text/html": [
       "<div>\n",
       "<style scoped>\n",
       "    .dataframe tbody tr th:only-of-type {\n",
       "        vertical-align: middle;\n",
       "    }\n",
       "\n",
       "    .dataframe tbody tr th {\n",
       "        vertical-align: top;\n",
       "    }\n",
       "\n",
       "    .dataframe thead th {\n",
       "        text-align: right;\n",
       "    }\n",
       "</style>\n",
       "<table border=\"1\" class=\"dataframe\">\n",
       "  <thead>\n",
       "    <tr style=\"text-align: right;\">\n",
       "      <th></th>\n",
       "      <th>sepal length (cm)</th>\n",
       "      <th>sepal width (cm)</th>\n",
       "      <th>petal length (cm)</th>\n",
       "      <th>petal width (cm)</th>\n",
       "      <th>target</th>\n",
       "    </tr>\n",
       "  </thead>\n",
       "  <tbody>\n",
       "    <tr>\n",
       "      <th>0</th>\n",
       "      <td>5.1</td>\n",
       "      <td>3.5</td>\n",
       "      <td>1.4</td>\n",
       "      <td>0.2</td>\n",
       "      <td>0</td>\n",
       "    </tr>\n",
       "    <tr>\n",
       "      <th>1</th>\n",
       "      <td>4.9</td>\n",
       "      <td>3.0</td>\n",
       "      <td>1.4</td>\n",
       "      <td>0.2</td>\n",
       "      <td>0</td>\n",
       "    </tr>\n",
       "    <tr>\n",
       "      <th>2</th>\n",
       "      <td>4.7</td>\n",
       "      <td>3.2</td>\n",
       "      <td>1.3</td>\n",
       "      <td>0.2</td>\n",
       "      <td>0</td>\n",
       "    </tr>\n",
       "    <tr>\n",
       "      <th>3</th>\n",
       "      <td>4.6</td>\n",
       "      <td>3.1</td>\n",
       "      <td>1.5</td>\n",
       "      <td>0.2</td>\n",
       "      <td>0</td>\n",
       "    </tr>\n",
       "    <tr>\n",
       "      <th>4</th>\n",
       "      <td>5.0</td>\n",
       "      <td>3.6</td>\n",
       "      <td>1.4</td>\n",
       "      <td>0.2</td>\n",
       "      <td>0</td>\n",
       "    </tr>\n",
       "  </tbody>\n",
       "</table>\n",
       "</div>"
      ],
      "text/plain": [
       "   sepal length (cm)  sepal width (cm)  petal length (cm)  petal width (cm)  \\\n",
       "0                5.1               3.5                1.4               0.2   \n",
       "1                4.9               3.0                1.4               0.2   \n",
       "2                4.7               3.2                1.3               0.2   \n",
       "3                4.6               3.1                1.5               0.2   \n",
       "4                5.0               3.6                1.4               0.2   \n",
       "\n",
       "   target  \n",
       "0       0  \n",
       "1       0  \n",
       "2       0  \n",
       "3       0  \n",
       "4       0  "
      ]
     },
     "execution_count": 5,
     "metadata": {},
     "output_type": "execute_result"
    }
   ],
   "source": [
    "from sklearn.datasets import load_iris\n",
    "\n",
    "iris = load_iris()\n",
    "\n",
    "import pandas as pd\n",
    "\n",
    "iris_df = pd.DataFrame(iris.data, columns = iris.feature_names)\n",
    "iris_df['target'] = pd.Series(iris.target)\n",
    "iris_df.head()"
   ]
  },
  {
   "cell_type": "code",
   "execution_count": 6,
   "metadata": {},
   "outputs": [
    {
     "data": {
      "text/html": [
       "<div>\n",
       "<style scoped>\n",
       "    .dataframe tbody tr th:only-of-type {\n",
       "        vertical-align: middle;\n",
       "    }\n",
       "\n",
       "    .dataframe tbody tr th {\n",
       "        vertical-align: top;\n",
       "    }\n",
       "\n",
       "    .dataframe thead th {\n",
       "        text-align: right;\n",
       "    }\n",
       "</style>\n",
       "<table border=\"1\" class=\"dataframe\">\n",
       "  <thead>\n",
       "    <tr style=\"text-align: right;\">\n",
       "      <th></th>\n",
       "      <th>sepal length (cm)</th>\n",
       "      <th>sepal width (cm)</th>\n",
       "      <th>petal length (cm)</th>\n",
       "      <th>petal width (cm)</th>\n",
       "      <th>target</th>\n",
       "    </tr>\n",
       "  </thead>\n",
       "  <tbody>\n",
       "    <tr>\n",
       "      <th>count</th>\n",
       "      <td>150.000000</td>\n",
       "      <td>150.000000</td>\n",
       "      <td>150.000000</td>\n",
       "      <td>150.000000</td>\n",
       "      <td>150.000000</td>\n",
       "    </tr>\n",
       "    <tr>\n",
       "      <th>mean</th>\n",
       "      <td>5.843333</td>\n",
       "      <td>3.057333</td>\n",
       "      <td>3.758000</td>\n",
       "      <td>1.199333</td>\n",
       "      <td>1.000000</td>\n",
       "    </tr>\n",
       "    <tr>\n",
       "      <th>std</th>\n",
       "      <td>0.828066</td>\n",
       "      <td>0.435866</td>\n",
       "      <td>1.765298</td>\n",
       "      <td>0.762238</td>\n",
       "      <td>0.819232</td>\n",
       "    </tr>\n",
       "    <tr>\n",
       "      <th>min</th>\n",
       "      <td>4.300000</td>\n",
       "      <td>2.000000</td>\n",
       "      <td>1.000000</td>\n",
       "      <td>0.100000</td>\n",
       "      <td>0.000000</td>\n",
       "    </tr>\n",
       "    <tr>\n",
       "      <th>25%</th>\n",
       "      <td>5.100000</td>\n",
       "      <td>2.800000</td>\n",
       "      <td>1.600000</td>\n",
       "      <td>0.300000</td>\n",
       "      <td>0.000000</td>\n",
       "    </tr>\n",
       "    <tr>\n",
       "      <th>50%</th>\n",
       "      <td>5.800000</td>\n",
       "      <td>3.000000</td>\n",
       "      <td>4.350000</td>\n",
       "      <td>1.300000</td>\n",
       "      <td>1.000000</td>\n",
       "    </tr>\n",
       "    <tr>\n",
       "      <th>75%</th>\n",
       "      <td>6.400000</td>\n",
       "      <td>3.300000</td>\n",
       "      <td>5.100000</td>\n",
       "      <td>1.800000</td>\n",
       "      <td>2.000000</td>\n",
       "    </tr>\n",
       "    <tr>\n",
       "      <th>max</th>\n",
       "      <td>7.900000</td>\n",
       "      <td>4.400000</td>\n",
       "      <td>6.900000</td>\n",
       "      <td>2.500000</td>\n",
       "      <td>2.000000</td>\n",
       "    </tr>\n",
       "  </tbody>\n",
       "</table>\n",
       "</div>"
      ],
      "text/plain": [
       "       sepal length (cm)  sepal width (cm)  petal length (cm)  \\\n",
       "count         150.000000        150.000000         150.000000   \n",
       "mean            5.843333          3.057333           3.758000   \n",
       "std             0.828066          0.435866           1.765298   \n",
       "min             4.300000          2.000000           1.000000   \n",
       "25%             5.100000          2.800000           1.600000   \n",
       "50%             5.800000          3.000000           4.350000   \n",
       "75%             6.400000          3.300000           5.100000   \n",
       "max             7.900000          4.400000           6.900000   \n",
       "\n",
       "       petal width (cm)      target  \n",
       "count        150.000000  150.000000  \n",
       "mean           1.199333    1.000000  \n",
       "std            0.762238    0.819232  \n",
       "min            0.100000    0.000000  \n",
       "25%            0.300000    0.000000  \n",
       "50%            1.300000    1.000000  \n",
       "75%            1.800000    2.000000  \n",
       "max            2.500000    2.000000  "
      ]
     },
     "execution_count": 6,
     "metadata": {},
     "output_type": "execute_result"
    }
   ],
   "source": [
    "iris_df.describe()"
   ]
  },
  {
   "cell_type": "code",
   "execution_count": 7,
   "metadata": {},
   "outputs": [
    {
     "data": {
      "text/plain": [
       "0    50\n",
       "1    50\n",
       "2    50\n",
       "Name: target, dtype: int64"
      ]
     },
     "execution_count": 7,
     "metadata": {},
     "output_type": "execute_result"
    }
   ],
   "source": [
    "iris_df['target'].value_counts()"
   ]
  },
  {
   "cell_type": "code",
   "execution_count": 8,
   "metadata": {},
   "outputs": [
    {
     "name": "stdout",
     "output_type": "stream",
     "text": [
      "n_neighbors가 3일때 정확도: 0.956\n"
     ]
    }
   ],
   "source": [
    "# X와 y를 훈련 데이터와 검증데이터로 구분하여 k-NN 알고리즘을 적용시키고 정확도를 측정\n",
    "X = iris_df.iloc[:,:4]\n",
    "y = iris_df.iloc[:,-1]\n",
    "\n",
    "from sklearn.model_selection import train_test_split\n",
    "from sklearn.neighbors import KNeighborsClassifier\n",
    "from sklearn import metrics\n",
    "\n",
    "def iris_knn(X,y,k):\n",
    "    X_train,X_test,y_train,y_test = train_test_split(X,y,test_size=0.3)\n",
    "    knn = KNeighborsClassifier(n_neighbors= k)\n",
    "    knn.fit(X_train, y_train)\n",
    "    y_pred = knn.predict(X_test)\n",
    "    return metrics.accuracy_score(y_test,y_pred)\n",
    "\n",
    "k = 3\n",
    "scores = iris_knn(X,y,k)\n",
    "print('n_neighbors가 {0:d}일때 정확도: {1:.3f}'.format(k,scores))"
   ]
  },
  {
   "cell_type": "code",
   "execution_count": 12,
   "metadata": {},
   "outputs": [
    {
     "name": "stdout",
     "output_type": "stream",
     "text": [
      "n_neighbors가 1일때 정확도: 0.889\n",
      "n_neighbors가 5일때 정확도: 0.978\n",
      "n_neighbors가 10일때 정확도: 0.933\n",
      "n_neighbors가 20일때 정확도: 0.978\n",
      "n_neighbors가 30일때 정확도: 0.978\n"
     ]
    }
   ],
   "source": [
    "### 도전문제 5.2\n",
    "# n_neighbors가 1,5,10,20,30일 때의 정확도를 각각 다음 같이 출력하여라.\n",
    "b = [1,5,10,20,30]\n",
    "for i in range(len(b)):\n",
    "    k = b[i]\n",
    "    scores = iris_knn(X,y,k)\n",
    "    print('n_neighbors가 {0:d}일때 정확도: {1:.3f}'.format(k,scores))"
   ]
  },
  {
   "cell_type": "code",
   "execution_count": 21,
   "metadata": {},
   "outputs": [
    {
     "name": "stdout",
     "output_type": "stream",
     "text": [
      "[4, 2, 1.3, 0.4] 특성을 가지는 품종 : setosa\n",
      "[4, 3, 3.2, 2.2] 특성을 가지는 품종 : versicolor\n",
      "n_neighbors가 3일때 정확도: 0.960\n"
     ]
    }
   ],
   "source": [
    "### 새로운 꽃에 대해서 모델을 적용하고 분류해보기\n",
    "from sklearn.datasets import load_iris\n",
    "from sklearn.neighbors import KNeighborsClassifier\n",
    "\n",
    "iris = load_iris()\n",
    "k = 3\n",
    "knn = KNeighborsClassifier(n_neighbors = k)\n",
    "knn.fit(iris.data, iris.target)\n",
    "\n",
    "classes = {0:'setosa', 1:'versicolor', 2:'virginica'}\n",
    "\n",
    "# 새로운 데이터를 제시해보자.\n",
    "X = [[4,2,1.3,0.4],[4,3,3.2,2.2]]\n",
    "y = knn.predict(X)\n",
    "\n",
    "print('{} 특성을 가지는 품종 : {}'.format(X[0], classes[y[0]]))\n",
    "print('{} 특성을 가지는 품종 : {}'.format(X[1], classes[y[1]]))\n",
    "\n",
    "y_pred_all = knn.predict(iris.data)\n",
    "scores = metrics.accuracy_score(iris.target,y_pred_all)\n",
    "print('n_neighbors가 {0:d}일때 정확도: {1:.3f}'.format(k, scores))"
   ]
  },
  {
   "cell_type": "code",
   "execution_count": 23,
   "metadata": {},
   "outputs": [
    {
     "data": {
      "text/plain": [
       "(array([[50.,  0.,  0.],\n",
       "        [ 0., 47.,  3.],\n",
       "        [ 0.,  3., 47.]]),\n",
       " array([0.        , 0.66666667, 1.33333333, 2.        ]),\n",
       " array([0.        , 0.66666667, 1.33333333, 2.        ]),\n",
       " <matplotlib.collections.QuadMesh at 0x244d79f36d0>)"
      ]
     },
     "execution_count": 23,
     "metadata": {},
     "output_type": "execute_result"
    },
    {
     "data": {
      "image/png": "[encoded data removed]",
      "text/plain": [
       "<Figure size 432x288 with 1 Axes>"
      ]
     },
     "metadata": {
      "needs_background": "light"
     },
     "output_type": "display_data"
    }
   ],
   "source": [
    "import matplotlib.pyplot as plt\n",
    "plt.hist2d(iris.target, y_pred_all, bins=(3,3), cmap = plt.cm.jet)"
   ]
  },
  {
   "cell_type": "markdown",
   "metadata": {},
   "source": [
    "### 혼동행렬 confusion matrix"
   ]
  },
  {
   "cell_type": "code",
   "execution_count": 22,
   "metadata": {},
   "outputs": [
    {
     "data": {
      "text/plain": [
       "array([[50,  0,  0],\n",
       "       [ 0, 47,  3],\n",
       "       [ 0,  3, 47]], dtype=int64)"
      ]
     },
     "execution_count": 22,
     "metadata": {},
     "output_type": "execute_result"
    }
   ],
   "source": [
    "from sklearn.metrics import confusion_matrix\n",
    "\n",
    "conf_mat = confusion_matrix(iris.target, y_pred_all)\n",
    "conf_mat"
   ]
  },
  {
   "cell_type": "code",
   "execution_count": 26,
   "metadata": {},
   "outputs": [],
   "source": [
    "## 표집 편향과 성능 측정을 위한 평가지표\n",
    "def classifier_A(length, height): #입력값에 관계없이 'Samoyed'를 반환\n",
    "    return 'Samoyed'"
   ]
  },
  {
   "cell_type": "markdown",
   "metadata": {},
   "source": [
    "### 정밀도와 재현도"
   ]
  },
  {
   "cell_type": "code",
   "execution_count": 27,
   "metadata": {},
   "outputs": [
    {
     "data": {
      "text/plain": [
       "array([0, 0, 0, 0, 0, 0, 0, 0, 0, 0, 1, 1, 1, 1, 1, 1, 1, 1, 1, 1])"
      ]
     },
     "execution_count": 27,
     "metadata": {},
     "output_type": "execute_result"
    }
   ],
   "source": [
    "target = np.array([0]* 10 + [1] * 10)\n",
    "target # 10개의 0(Negative), 10개의 1(Positive)를 가짐"
   ]
  },
  {
   "cell_type": "code",
   "execution_count": 28,
   "metadata": {},
   "outputs": [
    {
     "data": {
      "text/plain": [
       "array([0, 0, 0, 0, 0, 1, 1, 1, 0, 0, 1, 1, 1, 1, 1, 1, 0, 0, 1, 1])"
      ]
     },
     "execution_count": 28,
     "metadata": {},
     "output_type": "execute_result"
    }
   ],
   "source": [
    "pred = np.array([0,0,0,0,0,1,1,1,0,0,1,1,1,1,1,1,0,0,1,1])\n",
    "pred"
   ]
  },
  {
   "cell_type": "code",
   "execution_count": 29,
   "metadata": {},
   "outputs": [
    {
     "data": {
      "text/plain": [
       "array([[7, 3],\n",
       "       [2, 8]], dtype=int64)"
      ]
     },
     "execution_count": 29,
     "metadata": {},
     "output_type": "execute_result"
    }
   ],
   "source": [
    "# 목표값과 예측값을 혼동행렬로 표시\n",
    "from sklearn.metrics import confusion_matrix\n",
    "confusion_matrix(target, pred) #혼동행렬 만들기"
   ]
  },
  {
   "cell_type": "code",
   "execution_count": 31,
   "metadata": {},
   "outputs": [
    {
     "name": "stdout",
     "output_type": "stream",
     "text": [
      "정밀도 :  0.7272727272727273\n",
      "재현율 :  0.8\n",
      "정확도 :  0.75\n",
      "F1 점수 :  0.761904761904762\n"
     ]
    }
   ],
   "source": [
    "# F1점수\n",
    "from sklearn.metrics import precision_score, recall_score\n",
    "print(\"정밀도 : \", precision_score(target, pred))\n",
    "print(\"재현율 : \", recall_score(target, pred))\n",
    "\n",
    "from sklearn.metrics import accuracy_score, f1_score\n",
    "print(\"정확도 : \", accuracy_score(target, pred))\n",
    "print(\"F1 점수 : \", f1_score(target, pred))"
   ]
  },
  {
   "cell_type": "code",
   "execution_count": 32,
   "metadata": {},
   "outputs": [
    {
     "name": "stdout",
     "output_type": "stream",
     "text": [
      "정밀도 :  0.99\n",
      "재현율 :  1.0\n",
      "정확도 :  0.99\n",
      "F1 점수 :  0.9949748743718593\n"
     ]
    }
   ],
   "source": [
    "### 도전문제 5.3\n",
    "# 입력데이터가 10,000개이고, 이 중 9,900개가 사모예드, 100개가 닥스훈트라 하자. \n",
    "# classifier_A로 분류했을 때, 정밀도, 재현도, 정확도, F1 점수를 계산하라.\n",
    "\n",
    "target1 = np.array([1]*9900 + [0]*100)\n",
    "predict1 = np.array([1]*10000)\n",
    "\n",
    "#혼동행렬 만들기\n",
    "from sklearn.metrics import confusion_matrix\n",
    "confusion_matrix(target1, predict1)\n",
    "\n",
    "from sklearn.metrics import precision_score, recall_score\n",
    "from sklearn.metrics import accuracy_score, f1_score\n",
    "\n",
    "print(\"정밀도 : \", precision_score(target1, predict1))\n",
    "print(\"재현율 : \", recall_score(target1, predict1))\n",
    "print(\"정확도 : \", accuracy_score(target1, predict1))\n",
    "print(\"F1 점수 : \", f1_score(target1, predict1))\n"
   ]
  },
  {
   "cell_type": "code",
   "execution_count": null,
   "metadata": {},
   "outputs": [],
   "source": []
  }
 ],
 "metadata": {
  "interpreter": {
   "hash": "f08154012ddadd8e950e6e9e035c7a7b32c136e7647e9b7c77e02eb723a8bedb"
  },
  "kernelspec": {
   "display_name": "Python 3.8.3 ('base')",
   "language": "python",
   "name": "python3"
  },
  "language_info": {
   "codemirror_mode": {
    "name": "ipython",
    "version": 3
   },
   "file_extension": ".py",
   "mimetype": "text/x-python",
   "name": "python",
   "nbconvert_exporter": "python",
   "pygments_lexer": "ipython3",
   "version": "3.8.3"
  },
  "orig_nbformat": 4
 },
 "nbformat": 4,
 "nbformat_minor": 2
}
